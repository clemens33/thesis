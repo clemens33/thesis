{
 "cells": [
  {
   "cell_type": "markdown",
   "source": [
    "### UCI Forest Type Dataset\n",
    "\n",
    "- https://archive.ics.uci.edu/ml/datasets/covertype\n",
    "- to verify if the results in the original paper can be reproduced\n",
    "- used the same parameters as the tf v1 original implementation - https://github.com/google-research/google-research/tree/master/tabnet"
   ],
   "metadata": {
    "collapsed": false,
    "pycharm": {
     "name": "#%% md\n"
    }
   }
  },
  {
   "cell_type": "code",
   "execution_count": 2,
   "metadata": {
    "collapsed": true
   },
   "outputs": [],
   "source": [
    "from pytorch_lightning import Trainer\n",
    "from pytorch_lightning.callbacks import LearningRateMonitor\n",
    "from pytorch_lightning import seed_everything\n",
    "\n",
    "from datasets import CovTypeDataModule\n",
    "from tabnet_lightning import TabNetClassifier"
   ]
  },
  {
   "cell_type": "code",
   "execution_count": 3,
   "outputs": [
    {
     "name": "stderr",
     "output_type": "stream",
     "text": [
      "Global seed set to 1\n"
     ]
    }
   ],
   "source": [
    "seed_everything(1)\n",
    "#path = \"~/Nextcloud/projects/thesis/\" # adjust path for data caching and logging\n",
    "path = \"../../../\" # adjust path for data caching and logging"
   ],
   "metadata": {
    "collapsed": false,
    "pycharm": {
     "name": "#%%\n"
    }
   }
  },
  {
   "cell_type": "code",
   "execution_count": 4,
   "outputs": [],
   "source": [
    "dm = CovTypeDataModule(\n",
    "    batch_size=16384,\n",
    "    num_workers=8,\n",
    "    cache_dir=path + \"data/uci/covtype/\",\n",
    "    seed=0,  # use same seed / random state as tabnet original implementation\n",
    ")\n",
    "\n",
    "dm.prepare_data()\n",
    "dm.setup()"
   ],
   "metadata": {
    "collapsed": false,
    "pycharm": {
     "name": "#%%\n"
    }
   }
  },
  {
   "cell_type": "code",
   "execution_count": 5,
   "outputs": [
    {
     "name": "stderr",
     "output_type": "stream",
     "text": [
      "/home/ck/anaconda3/envs/thesis/lib/python3.8/site-packages/torchmetrics/utilities/prints.py:36: UserWarning: Metric `AUROC` will save all targets and predictions in buffer. For large datasets this may lead to large memory footprint.\n",
      "  warnings.warn(*args, **kwargs)\n"
     ]
    }
   ],
   "source": [
    "classifier = TabNetClassifier(\n",
    "    input_size=CovTypeDataModule.NUM_FEATURES,\n",
    "    feature_size=128,\n",
    "    decision_size=64,\n",
    "    num_classes=CovTypeDataModule.NUM_LABELS,\n",
    "    nr_layers=2,\n",
    "    nr_shared_layers=2,\n",
    "    nr_steps=5,\n",
    "    gamma=1.5,\n",
    "\n",
    "    # pytorch batch norm uses 1 - momentum (e.g. 0.3 pytorch is the same as tf 0.7)\n",
    "    momentum=0.3,\n",
    "    virtual_batch_size=512,\n",
    "\n",
    "    lambda_sparse=0.0001,\n",
    "\n",
    "    # define embeddings for categorical variables - otherwise raw value is used\n",
    "    # categorical_indices=list(range(len(CovTypeDataModule.NUMERICAL_COLUMNS), CovTypeDataModule.NUM_FEATURES, 1)),\n",
    "    # categorical_size=[2] * len(CovTypeDataModule.BINARY_COLUMNS),\n",
    "    # embedding_dims=[1] * len(CovTypeDataModule.BINARY_COLUMNS),\n",
    "\n",
    "    lr=0.02,\n",
    "    optimizer=\"adam\",\n",
    "    scheduler=\"exponential_decay\",\n",
    "    scheduler_params={\"decay_step\": 500, \"decay_rate\": 0.95},\n",
    "\n",
    "    #optimizer=\"adamw\",\n",
    "    #optimizer_params={\"weight_decay\": 0.0001},\n",
    "    #scheduler=\"linear_with_warmup\",\n",
    "    #scheduler_params={\"warmup_steps\": 0.1},\n",
    ")"
   ],
   "metadata": {
    "collapsed": false,
    "pycharm": {
     "name": "#%%\n"
    }
   }
  },
  {
   "cell_type": "code",
   "execution_count": 6,
   "outputs": [
    {
     "name": "stderr",
     "output_type": "stream",
     "text": [
      "GPU available: True, used: True\n",
      "TPU available: False, using: 0 TPU cores\n"
     ]
    }
   ],
   "source": [
    "lr_monitor = LearningRateMonitor(logging_interval=\"step\")\n",
    "trainer = Trainer(default_root_dir=path + \"logs/covtype/\",\n",
    "\n",
    "                  gpus=1,\n",
    "                  # accelerator=\"none\",\n",
    "\n",
    "                  max_steps=2000,\n",
    "\n",
    "                  fast_dev_run=False,\n",
    "                  deterministic=True,\n",
    "\n",
    "                  gradient_clip_algorithm=\"value\",\n",
    "                  gradient_clip_val=2000,\n",
    "\n",
    "                  callbacks=[lr_monitor])"
   ],
   "metadata": {
    "collapsed": false,
    "pycharm": {
     "name": "#%%\n"
    }
   }
  },
  {
   "cell_type": "code",
   "execution_count": 7,
   "outputs": [
    {
     "name": "stderr",
     "output_type": "stream",
     "text": [
      "LOCAL_RANK: 0 - CUDA_VISIBLE_DEVICES: [0,1]\n",
      "\n",
      "  | Name          | Type             | Params\n",
      "---------------------------------------------------\n",
      "0 | encoder       | TabNet           | 470 K \n",
      "1 | classifier    | Linear           | 455   \n",
      "2 | loss_fn       | CrossEntropyLoss | 0     \n",
      "3 | train_metrics | MetricCollection | 0     \n",
      "4 | val_metrics   | MetricCollection | 0     \n",
      "5 | test_metrics  | MetricCollection | 0     \n",
      "---------------------------------------------------\n",
      "470 K     Trainable params\n",
      "0         Non-trainable params\n",
      "470 K     Total params\n",
      "1.882     Total estimated model params size (MB)\n",
      "/home/ck/anaconda3/envs/thesis/lib/python3.8/site-packages/pytorch_lightning/utilities/distributed.py:68: UserWarning: Detected KeyboardInterrupt, attempting graceful shutdown...\n",
      "  warnings.warn(*args, **kwargs)\n"
     ]
    },
    {
     "data": {
      "text/plain": "Validation sanity check: 0it [00:00, ?it/s]",
      "application/vnd.jupyter.widget-view+json": {
       "version_major": 2,
       "version_minor": 0,
       "model_id": "3a1b33ab06ca425284f48081a45437c8"
      }
     },
     "metadata": {},
     "output_type": "display_data"
    },
    {
     "data": {
      "text/plain": "Training: 0it [00:00, ?it/s]",
      "application/vnd.jupyter.widget-view+json": {
       "version_major": 2,
       "version_minor": 0,
       "model_id": "deffe5f3ebfa4256974a11cad9a93908"
      }
     },
     "metadata": {},
     "output_type": "display_data"
    },
    {
     "data": {
      "text/plain": "Validating: 0it [00:00, ?it/s]",
      "application/vnd.jupyter.widget-view+json": {
       "version_major": 2,
       "version_minor": 0,
       "model_id": "089d5f5424bd4c858b0e4b79c312c46d"
      }
     },
     "metadata": {},
     "output_type": "display_data"
    },
    {
     "ename": "AttributeError",
     "evalue": "'CovTypeDataModule' object has no attribute 'has_teardown_None'",
     "output_type": "error",
     "traceback": [
      "\u001B[0;31m---------------------------------------------------------------------------\u001B[0m",
      "\u001B[0;31mAttributeError\u001B[0m                            Traceback (most recent call last)",
      "\u001B[0;32m<ipython-input-7-26f6e1b9e926>\u001B[0m in \u001B[0;36m<module>\u001B[0;34m\u001B[0m\n\u001B[0;32m----> 1\u001B[0;31m \u001B[0mtrainer\u001B[0m\u001B[0;34m.\u001B[0m\u001B[0mfit\u001B[0m\u001B[0;34m(\u001B[0m\u001B[0mclassifier\u001B[0m\u001B[0;34m,\u001B[0m \u001B[0mdm\u001B[0m\u001B[0;34m)\u001B[0m\u001B[0;34m\u001B[0m\u001B[0;34m\u001B[0m\u001B[0m\n\u001B[0m\u001B[1;32m      2\u001B[0m \u001B[0;34m\u001B[0m\u001B[0m\n",
      "\u001B[0;32m~/anaconda3/envs/thesis/lib/python3.8/site-packages/pytorch_lightning/trainer/trainer.py\u001B[0m in \u001B[0;36mfit\u001B[0;34m(self, model, train_dataloader, val_dataloaders, datamodule)\u001B[0m\n\u001B[1;32m    499\u001B[0m \u001B[0;34m\u001B[0m\u001B[0m\n\u001B[1;32m    500\u001B[0m         \u001B[0;31m# teardown\u001B[0m\u001B[0;34m\u001B[0m\u001B[0;34m\u001B[0m\u001B[0;34m\u001B[0m\u001B[0m\n\u001B[0;32m--> 501\u001B[0;31m         \u001B[0mself\u001B[0m\u001B[0;34m.\u001B[0m\u001B[0mcall_teardown_hook\u001B[0m\u001B[0;34m(\u001B[0m\u001B[0mmodel\u001B[0m\u001B[0;34m)\u001B[0m\u001B[0;34m\u001B[0m\u001B[0;34m\u001B[0m\u001B[0m\n\u001B[0m\u001B[1;32m    502\u001B[0m \u001B[0;34m\u001B[0m\u001B[0m\n\u001B[1;32m    503\u001B[0m         \u001B[0;32mif\u001B[0m \u001B[0mself\u001B[0m\u001B[0;34m.\u001B[0m\u001B[0mstate\u001B[0m \u001B[0;34m!=\u001B[0m \u001B[0mTrainerState\u001B[0m\u001B[0;34m.\u001B[0m\u001B[0mINTERRUPTED\u001B[0m\u001B[0;34m:\u001B[0m\u001B[0;34m\u001B[0m\u001B[0;34m\u001B[0m\u001B[0m\n",
      "\u001B[0;32m~/anaconda3/envs/thesis/lib/python3.8/site-packages/pytorch_lightning/trainer/trainer.py\u001B[0m in \u001B[0;36mcall_teardown_hook\u001B[0;34m(self, model)\u001B[0m\n\u001B[1;32m   1111\u001B[0m \u001B[0;34m\u001B[0m\u001B[0m\n\u001B[1;32m   1112\u001B[0m         \u001B[0;32mif\u001B[0m \u001B[0mself\u001B[0m\u001B[0;34m.\u001B[0m\u001B[0mdatamodule\u001B[0m \u001B[0;32mis\u001B[0m \u001B[0;32mnot\u001B[0m \u001B[0;32mNone\u001B[0m\u001B[0;34m:\u001B[0m\u001B[0;34m\u001B[0m\u001B[0;34m\u001B[0m\u001B[0m\n\u001B[0;32m-> 1113\u001B[0;31m             \u001B[0mcalled\u001B[0m \u001B[0;34m=\u001B[0m \u001B[0mgetattr\u001B[0m\u001B[0;34m(\u001B[0m\u001B[0mself\u001B[0m\u001B[0;34m.\u001B[0m\u001B[0mdatamodule\u001B[0m\u001B[0;34m,\u001B[0m \u001B[0;34mf'has_teardown_{state}'\u001B[0m\u001B[0;34m)\u001B[0m\u001B[0;34m\u001B[0m\u001B[0;34m\u001B[0m\u001B[0m\n\u001B[0m\u001B[1;32m   1114\u001B[0m             \u001B[0;32mif\u001B[0m \u001B[0;32mnot\u001B[0m \u001B[0mcalled\u001B[0m\u001B[0;34m:\u001B[0m\u001B[0;34m\u001B[0m\u001B[0;34m\u001B[0m\u001B[0m\n\u001B[1;32m   1115\u001B[0m                 \u001B[0mself\u001B[0m\u001B[0;34m.\u001B[0m\u001B[0mdatamodule\u001B[0m\u001B[0;34m.\u001B[0m\u001B[0mteardown\u001B[0m\u001B[0;34m(\u001B[0m\u001B[0mstage\u001B[0m\u001B[0;34m=\u001B[0m\u001B[0mstate\u001B[0m\u001B[0;34m)\u001B[0m\u001B[0;34m\u001B[0m\u001B[0;34m\u001B[0m\u001B[0m\n",
      "\u001B[0;31mAttributeError\u001B[0m: 'CovTypeDataModule' object has no attribute 'has_teardown_None'"
     ]
    }
   ],
   "source": [
    "trainer.fit(classifier, dm)"
   ],
   "metadata": {
    "collapsed": false,
    "pycharm": {
     "name": "#%%\n"
    }
   }
  },
  {
   "cell_type": "code",
   "execution_count": 19,
   "outputs": [
    {
     "name": "stderr",
     "output_type": "stream",
     "text": [
      "LOCAL_RANK: 0 - CUDA_VISIBLE_DEVICES: [0,1]\n"
     ]
    },
    {
     "data": {
      "text/plain": "Testing: 0it [00:00, ?it/s]",
      "application/vnd.jupyter.widget-view+json": {
       "version_major": 2,
       "version_minor": 0,
       "model_id": "741dbba7498148cbada491680b888e30"
      }
     },
     "metadata": {},
     "output_type": "display_data"
    },
    {
     "name": "stdout",
     "output_type": "stream",
     "text": [
      "--------------------------------------------------------------------------------\n",
      "DATALOADER:0 TEST RESULTS\n",
      "{'test/AUROC': 0.9930207133293152,\n",
      " 'test/Accuracy': 0.9102346897125244,\n",
      " 'test/loss': 0.2228771448135376}\n",
      "--------------------------------------------------------------------------------\n"
     ]
    },
    {
     "data": {
      "text/plain": "[{'test/loss': 0.2228771448135376,\n  'test/Accuracy': 0.9102346897125244,\n  'test/AUROC': 0.9930207133293152}]"
     },
     "execution_count": 19,
     "metadata": {},
     "output_type": "execute_result"
    }
   ],
   "source": [
    "trainer.test(classifier, datamodule=dm)\n"
   ],
   "metadata": {
    "collapsed": false,
    "pycharm": {
     "name": "#%%\n"
    }
   }
  }
 ],
 "metadata": {
  "kernelspec": {
   "display_name": "Python 3",
   "language": "python",
   "name": "python3"
  },
  "language_info": {
   "codemirror_mode": {
    "name": "ipython",
    "version": 2
   },
   "file_extension": ".py",
   "mimetype": "text/x-python",
   "name": "python",
   "nbconvert_exporter": "python",
   "pygments_lexer": "ipython2",
   "version": "2.7.6"
  }
 },
 "nbformat": 4,
 "nbformat_minor": 0
}