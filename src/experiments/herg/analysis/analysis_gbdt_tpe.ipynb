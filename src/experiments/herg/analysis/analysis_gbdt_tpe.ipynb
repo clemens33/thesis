{
 "cells": [
  {
   "cell_type": "code",
   "execution_count": 1,
   "metadata": {
    "pycharm": {
     "name": "#%%\n"
    }
   },
   "outputs": [
    {
     "data": {
      "text/plain": [
       "DataTransformerRegistry.enable('default')"
      ]
     },
     "execution_count": 1,
     "metadata": {},
     "output_type": "execute_result"
    }
   ],
   "source": [
    "import os\n",
    "import mlflow\n",
    "import matplotlib.pyplot as plt\n",
    "import altair as alt\n",
    "import numpy as np\n",
    "import pandas as pd\n",
    "\n",
    "%matplotlib inline\n",
    "\n",
    "#alt.renderers.enable(\"html\")\n",
    "alt.data_transformers.disable_max_rows()"
   ]
  },
  {
   "cell_type": "code",
   "execution_count": 2,
   "metadata": {
    "pycharm": {
     "name": "#%%\n"
    }
   },
   "outputs": [],
   "source": [
    "tracking_uri = os.getenv(\"TRACKING_URI\", default=\"http://localhost:5000\")\n",
    "mlflow.set_tracking_uri(tracking_uri)"
   ]
  },
  {
   "cell_type": "markdown",
   "metadata": {},
   "source": [
    "## Experiment Parameter-Search Gradient Boosting Decision Tree (XGBoost)\n",
    "\n",
    "- Single random seed for model training for all models\n",
    "- Single random seed for random split for all models\n",
    "- Per run/model calculate atomic attribution using various methods (e.g. feature importances, SHAP)\n",
    "- Single target objective (first)\n",
    "- Hyperparameter search using optuna tpe sampler (Tree-structured Parzen Estimator - https://optuna.readthedocs.io/en/stable/reference/generated/optuna.samplers.TPESampler.html)"
   ]
  },
  {
   "cell_type": "code",
   "execution_count": 3,
   "metadata": {
    "pycharm": {
     "name": "#%%\n"
    }
   },
   "outputs": [],
   "source": [
    "experiment_name = \"herg_gbdt_opttpe1\"\n",
    "exp = mlflow.get_experiment_by_name(experiment_name)\n",
    "\n",
    "runs = mlflow.search_runs(experiment_ids=exp.experiment_id)"
   ]
  },
  {
   "cell_type": "code",
   "execution_count": null,
   "metadata": {
    "pycharm": {
     "name": "#%%\n"
    }
   },
   "outputs": [],
   "source": [
    "#runs.iloc[1:].describe().T"
   ]
  },
  {
   "cell_type": "code",
   "execution_count": null,
   "metadata": {
    "pycharm": {
     "name": "#%%\n"
    }
   },
   "outputs": [],
   "source": [
    "#runs.iloc[1:].corr()"
   ]
  },
  {
   "cell_type": "markdown",
   "metadata": {},
   "source": [
    "### Search space"
   ]
  },
  {
   "cell_type": "code",
   "execution_count": 4,
   "metadata": {
    "pycharm": {
     "name": "#%%\n"
    }
   },
   "outputs": [
    {
     "name": "stdout",
     "output_type": "stream",
     "text": [
      "{'name': 'max_depth', 'type': 'choice', 'values': [None, 4, 8, 12, 16, 20, 24, 28, 32, 36]}\n",
      "{'name': 'subsample', 'type': 'choice', 'values': [0.6, 0.8, 1.0]}\n",
      "{'name': 'min_child_weight', 'type': 'choice', 'values': [1, 5, 10]}\n",
      "{'name': 'gamma', 'type': 'choice', 'values': [0.5, 1, 1.5, 2, 5]}\n",
      "{'name': 'learning_rate', 'type': 'choice', 'values': [0.3, 0.1, 0.05, 0.01]}\n",
      "{'name': 'max_delta_step', 'type': 'choice', 'values': [0, 0.1, 1, 10]}\n",
      "{'name': 'n_estimators', 'type': 'choice', 'values': [10, 50, 100, 200, 500]}\n",
      "{'name': 'colsample_bytree', 'type': 'choice', 'values': [0.6, 0.8, 1.0]}\n"
     ]
    }
   ],
   "source": [
    "search_space = [c for c in runs.columns if \"search_space/\" in c]\n",
    "for r in runs[search_space].iloc[0].head(n=99):\n",
    "    print(r)"
   ]
  },
  {
   "cell_type": "markdown",
   "metadata": {},
   "source": [
    "### Other + default parameters"
   ]
  },
  {
   "cell_type": "code",
   "execution_count": 5,
   "metadata": {
    "pycharm": {
     "name": "#%%\n"
    }
   },
   "outputs": [
    {
     "name": "stdout",
     "output_type": "stream",
     "text": [
      "batch_size: 9999\n",
      "standardize: False\n",
      "track_metrics: ...value too long for mlflow - not inserted\n",
      "pruner_name: None\n",
      "tracking_uri: http://localhost:5000\n",
      "sampler_name: tpe\n",
      "gbdt_kwargs: {'n_estimators': 100, 'learning_rate': 0.3, 'gamma': 0.0, 'max_depth': 6, 'min_child_weight': 1, 'max_delta_step': 0, 'colsample_bytree': 0.3}\n",
      "patience: 20\n",
      "cache_dir: ../../../data/herg/\n",
      "run_name: tpe\n",
      "split_size: (0.6, 0.2, 0.2)\n",
      "attribution_kwargs: ...value too long for mlflow - not inserted\n",
      "split_type: random\n",
      "trials: 30\n",
      "seed: 23801851\n",
      "num_workers: 0\n",
      "featurizer_kwargs: {'fold': 1024, 'radius': 3, 'return_count': True, 'use_chirality': True, 'use_features': True}\n",
      "experiment_name: herg_gbdt_opttpe1\n",
      "featurizer_mp_context: fork\n",
      "use_labels: ['active_g10']\n",
      "split_seed: 2208715393\n",
      "featurizer_name: combined\n",
      "minimize: False\n",
      "objective_name: val/AUROC\n",
      "featurizer_chunksize: 100\n"
     ]
    }
   ],
   "source": [
    "params = [c for c in runs.columns if \"search_space\" not in c and \"params.args\" in c]\n",
    "for p, v in zip(params, runs[params].iloc[0].head(n=99)):\n",
    "    print(f\"{p.replace('params.args/', '')}: {v}\")"
   ]
  },
  {
   "cell_type": "markdown",
   "metadata": {},
   "source": [
    "### Best parameters\n",
    "- Found within this scenario"
   ]
  },
  {
   "cell_type": "code",
   "execution_count": 6,
   "metadata": {
    "pycharm": {
     "name": "#%%\n"
    }
   },
   "outputs": [
    {
     "name": "stdout",
     "output_type": "stream",
     "text": [
      "params.best/max_depth: 24\n",
      "params.best/n_estimators: 200\n",
      "params.best/learning_rate: 0.1\n",
      "params.best/subsample: 1.0\n",
      "params.best/min_child_weight: 1\n",
      "params.best/colsample_bytree: 0.6\n",
      "params.best/max_delta_step: 10\n",
      "params.best/gamma: 2\n"
     ]
    }
   ],
   "source": [
    "params = [c for c in runs.columns if c and \"params.best\" in c]\n",
    "for p, v in zip(params, runs[params].iloc[0].head(n=99)):\n",
    "    print(f\"{p.replace('params.args/', '')}: {v}\")"
   ]
  },
  {
   "cell_type": "markdown",
   "metadata": {},
   "source": [
    "### Metrics\n",
    "- Include metrics for atomic attribution/weights\n",
    "    - Values were calculated using active hergophores on all rows for which herg activity was predicted as negative\n",
    "    - Threshold was calculated per individual model using threshold moving"
   ]
  },
  {
   "cell_type": "code",
   "execution_count": 7,
   "metadata": {
    "pycharm": {
     "name": "#%%\n"
    }
   },
   "outputs": [
    {
     "data": {
      "text/html": [
       "<div>\n",
       "<style scoped>\n",
       "    .dataframe tbody tr th:only-of-type {\n",
       "        vertical-align: middle;\n",
       "    }\n",
       "\n",
       "    .dataframe tbody tr th {\n",
       "        vertical-align: top;\n",
       "    }\n",
       "\n",
       "    .dataframe thead th {\n",
       "        text-align: right;\n",
       "    }\n",
       "</style>\n",
       "<table border=\"1\" class=\"dataframe\">\n",
       "  <thead>\n",
       "    <tr style=\"text-align: right;\">\n",
       "      <th></th>\n",
       "      <th>count</th>\n",
       "      <th>mean</th>\n",
       "      <th>std</th>\n",
       "      <th>min</th>\n",
       "      <th>25%</th>\n",
       "      <th>50%</th>\n",
       "      <th>75%</th>\n",
       "      <th>max</th>\n",
       "    </tr>\n",
       "  </thead>\n",
       "  <tbody>\n",
       "    <tr>\n",
       "      <th>AUROC</th>\n",
       "      <td>30.0</td>\n",
       "      <td>0.876159</td>\n",
       "      <td>0.032728</td>\n",
       "      <td>0.795935</td>\n",
       "      <td>0.853728</td>\n",
       "      <td>0.892334</td>\n",
       "      <td>0.899286</td>\n",
       "      <td>0.906218</td>\n",
       "    </tr>\n",
       "    <tr>\n",
       "      <th>shap</th>\n",
       "      <td>30.0</td>\n",
       "      <td>0.601373</td>\n",
       "      <td>0.018245</td>\n",
       "      <td>0.562026</td>\n",
       "      <td>0.589346</td>\n",
       "      <td>0.597426</td>\n",
       "      <td>0.616004</td>\n",
       "      <td>0.637615</td>\n",
       "    </tr>\n",
       "    <tr>\n",
       "      <th>feature_importances</th>\n",
       "      <td>30.0</td>\n",
       "      <td>0.463824</td>\n",
       "      <td>0.061023</td>\n",
       "      <td>0.399148</td>\n",
       "      <td>0.419927</td>\n",
       "      <td>0.436490</td>\n",
       "      <td>0.481979</td>\n",
       "      <td>0.598467</td>\n",
       "    </tr>\n",
       "  </tbody>\n",
       "</table>\n",
       "</div>"
      ],
      "text/plain": [
       "                     count      mean       std       min       25%       50%  \\\n",
       "AUROC                 30.0  0.876159  0.032728  0.795935  0.853728  0.892334   \n",
       "shap                  30.0  0.601373  0.018245  0.562026  0.589346  0.597426   \n",
       "feature_importances   30.0  0.463824  0.061023  0.399148  0.419927  0.436490   \n",
       "\n",
       "                          75%       max  \n",
       "AUROC                0.899286  0.906218  \n",
       "shap                 0.616004  0.637615  \n",
       "feature_importances  0.481979  0.598467  "
      ]
     },
     "execution_count": 7,
     "metadata": {},
     "output_type": "execute_result"
    }
   ],
   "source": [
    "metrics_names = [\n",
    "    \"metrics.test/AUROC\",\n",
    "    \"metrics.test/loss\",\n",
    "    \"metrics.test/mean/avg_score_pred_inactive/feature_importances\"\n",
    "    \"metrics.test/mean/avg_score_pred_inactive/shap\",\n",
    "]\n",
    "metrics_columns = [c for c in runs.columns if any(c in m for m in metrics_names)]\n",
    "metrics = runs[metrics_columns].iloc[1:]\n",
    "\n",
    "metrics.columns = [c.split(\"/\")[-1] for c in metrics.columns]\n",
    "metrics.describe().T.sort_values(by=\"mean\", ascending=False)"
   ]
  },
  {
   "cell_type": "markdown",
   "metadata": {},
   "source": [
    "#### Correlation\n",
    "\n",
    "- Correlation between various metrics"
   ]
  },
  {
   "cell_type": "code",
   "execution_count": 8,
   "metadata": {
    "pycharm": {
     "name": "#%%\n"
    }
   },
   "outputs": [
    {
     "data": {
      "text/html": [
       "<div>\n",
       "<style scoped>\n",
       "    .dataframe tbody tr th:only-of-type {\n",
       "        vertical-align: middle;\n",
       "    }\n",
       "\n",
       "    .dataframe tbody tr th {\n",
       "        vertical-align: top;\n",
       "    }\n",
       "\n",
       "    .dataframe thead th {\n",
       "        text-align: right;\n",
       "    }\n",
       "</style>\n",
       "<table border=\"1\" class=\"dataframe\">\n",
       "  <thead>\n",
       "    <tr style=\"text-align: right;\">\n",
       "      <th></th>\n",
       "      <th>feature_importances</th>\n",
       "      <th>AUROC</th>\n",
       "      <th>shap</th>\n",
       "    </tr>\n",
       "  </thead>\n",
       "  <tbody>\n",
       "    <tr>\n",
       "      <th>feature_importances</th>\n",
       "      <td>1.000000</td>\n",
       "      <td>-0.903591</td>\n",
       "      <td>0.667743</td>\n",
       "    </tr>\n",
       "    <tr>\n",
       "      <th>AUROC</th>\n",
       "      <td>-0.903591</td>\n",
       "      <td>1.000000</td>\n",
       "      <td>-0.732635</td>\n",
       "    </tr>\n",
       "    <tr>\n",
       "      <th>shap</th>\n",
       "      <td>0.667743</td>\n",
       "      <td>-0.732635</td>\n",
       "      <td>1.000000</td>\n",
       "    </tr>\n",
       "  </tbody>\n",
       "</table>\n",
       "</div>"
      ],
      "text/plain": [
       "                     feature_importances     AUROC      shap\n",
       "feature_importances             1.000000 -0.903591  0.667743\n",
       "AUROC                          -0.903591  1.000000 -0.732635\n",
       "shap                            0.667743 -0.732635  1.000000"
      ]
     },
     "execution_count": 8,
     "metadata": {},
     "output_type": "execute_result"
    }
   ],
   "source": [
    "metrics.corr(method=\"pearson\")"
   ]
  },
  {
   "cell_type": "code",
   "execution_count": 9,
   "metadata": {
    "pycharm": {
     "name": "#%%\n"
    }
   },
   "outputs": [
    {
     "data": {
      "text/html": [
       "\n",
       "<div id=\"altair-viz-a181a9954ee14f3cba39574848b63b54\"></div>\n",
       "<script type=\"text/javascript\">\n",
       "  (function(spec, embedOpt){\n",
       "    let outputDiv = document.currentScript.previousElementSibling;\n",
       "    if (outputDiv.id !== \"altair-viz-a181a9954ee14f3cba39574848b63b54\") {\n",
       "      outputDiv = document.getElementById(\"altair-viz-a181a9954ee14f3cba39574848b63b54\");\n",
       "    }\n",
       "    const paths = {\n",
       "      \"vega\": \"https://cdn.jsdelivr.net/npm//vega@5?noext\",\n",
       "      \"vega-lib\": \"https://cdn.jsdelivr.net/npm//vega-lib?noext\",\n",
       "      \"vega-lite\": \"https://cdn.jsdelivr.net/npm//vega-lite@4.8.1?noext\",\n",
       "      \"vega-embed\": \"https://cdn.jsdelivr.net/npm//vega-embed@6?noext\",\n",
       "    };\n",
       "\n",
       "    function loadScript(lib) {\n",
       "      return new Promise(function(resolve, reject) {\n",
       "        var s = document.createElement('script');\n",
       "        s.src = paths[lib];\n",
       "        s.async = true;\n",
       "        s.onload = () => resolve(paths[lib]);\n",
       "        s.onerror = () => reject(`Error loading script: ${paths[lib]}`);\n",
       "        document.getElementsByTagName(\"head\")[0].appendChild(s);\n",
       "      });\n",
       "    }\n",
       "\n",
       "    function showError(err) {\n",
       "      outputDiv.innerHTML = `<div class=\"error\" style=\"color:red;\">${err}</div>`;\n",
       "      throw err;\n",
       "    }\n",
       "\n",
       "    function displayChart(vegaEmbed) {\n",
       "      vegaEmbed(outputDiv, spec, embedOpt)\n",
       "        .catch(err => showError(`Javascript Error: ${err.message}<br>This usually means there's a typo in your chart specification. See the javascript console for the full traceback.`));\n",
       "    }\n",
       "\n",
       "    if(typeof define === \"function\" && define.amd) {\n",
       "      requirejs.config({paths});\n",
       "      require([\"vega-embed\"], displayChart, err => showError(`Error loading script: ${err.message}`));\n",
       "    } else if (typeof vegaEmbed === \"function\") {\n",
       "      displayChart(vegaEmbed);\n",
       "    } else {\n",
       "      loadScript(\"vega\")\n",
       "        .then(() => loadScript(\"vega-lite\"))\n",
       "        .then(() => loadScript(\"vega-embed\"))\n",
       "        .catch(showError)\n",
       "        .then(() => displayChart(vegaEmbed));\n",
       "    }\n",
       "  })({\"config\": {\"view\": {\"continuousWidth\": 400, \"continuousHeight\": 300}}, \"layer\": [{\"mark\": \"point\", \"encoding\": {\"x\": {\"type\": \"quantitative\", \"field\": \"AUROC\", \"scale\": {\"zero\": false}}, \"y\": {\"type\": \"quantitative\", \"field\": \"feature_importances\", \"scale\": {\"zero\": false}}}}, {\"mark\": \"line\", \"encoding\": {\"x\": {\"type\": \"quantitative\", \"field\": \"AUROC\", \"scale\": {\"zero\": false}}, \"y\": {\"type\": \"quantitative\", \"field\": \"feature_importances\", \"scale\": {\"zero\": false}}}, \"transform\": [{\"on\": \"AUROC\", \"regression\": \"feature_importances\"}]}], \"data\": {\"name\": \"data-f55be1d3512cee189c8eddc82b9fc4ce\"}, \"$schema\": \"https://vega.github.io/schema/vega-lite/v4.8.1.json\", \"datasets\": {\"data-f55be1d3512cee189c8eddc82b9fc4ce\": [{\"feature_importances\": 0.5389140788015322, \"AUROC\": 0.8339329361915588, \"shap\": 0.6170509548974478}, {\"feature_importances\": 0.4329948726931213, \"AUROC\": 0.8911172151565552, \"shap\": 0.5874049626981621}, {\"feature_importances\": 0.434792795429687, \"AUROC\": 0.8627009987831116, \"shap\": 0.6137528366706164}, {\"feature_importances\": 0.413438391586573, \"AUROC\": 0.9047797322273254, \"shap\": 0.5983912364410652}, {\"feature_importances\": 0.4177082070155369, \"AUROC\": 0.8964669108390808, \"shap\": 0.6072369199894536}, {\"feature_importances\": 0.41312807530780554, \"AUROC\": 0.9062177538871765, \"shap\": 0.584910112310025}, {\"feature_importances\": 0.41312807530780554, \"AUROC\": 0.9062177538871765, \"shap\": 0.584910112310025}, {\"feature_importances\": 0.4661760671054466, \"AUROC\": 0.8935515880584717, \"shap\": 0.6044719463248581}, {\"feature_importances\": 0.3991477212682125, \"AUROC\": 0.9032467603683472, \"shap\": 0.5935248565916142}, {\"feature_importances\": 0.4661760671054466, \"AUROC\": 0.8935515880584717, \"shap\": 0.6044719463248581}, {\"feature_importances\": 0.42485344425629945, \"AUROC\": 0.8996409177780151, \"shap\": 0.5976430157895735}, {\"feature_importances\": 0.41312807530780554, \"AUROC\": 0.9062177538871765, \"shap\": 0.584910112310025}, {\"feature_importances\": 0.5681918689158131, \"AUROC\": 0.8486245274543762, \"shap\": 0.6167540379407443}, {\"feature_importances\": 0.44835633048749324, \"AUROC\": 0.9018592834472656, \"shap\": 0.5972092508606999}, {\"feature_importances\": 0.451687479432502, \"AUROC\": 0.8646912574768066, \"shap\": 0.6278553117347139}, {\"feature_importances\": 0.44662013030576275, \"AUROC\": 0.8957635164260864, \"shap\": 0.6000959049562914}, {\"feature_importances\": 0.4102484474459861, \"AUROC\": 0.8891735672950745, \"shap\": 0.5836758072908206}, {\"feature_importances\": 0.4277424564652742, \"AUROC\": 0.8982225060462952, \"shap\": 0.589345597895164}, {\"feature_importances\": 0.4277424564652742, \"AUROC\": 0.8982225060462952, \"shap\": 0.589345597895164}, {\"feature_importances\": 0.43818656684927804, \"AUROC\": 0.861936092376709, \"shap\": 0.6263515761265325}, {\"feature_importances\": 0.41938587366147956, \"AUROC\": 0.9044475555419922, \"shap\": 0.5905138817543463}, {\"feature_importances\": 0.5984673886767086, \"AUROC\": 0.7959352731704712, \"shap\": 0.6375232151380759}, {\"feature_importances\": 0.5479900750590387, \"AUROC\": 0.8509919047355652, \"shap\": 0.584340072012025}, {\"feature_importances\": 0.4277424564652742, \"AUROC\": 0.8982225060462952, \"shap\": 0.589345597895164}, {\"feature_importances\": 0.5831529877019992, \"AUROC\": 0.8293585777282715, \"shap\": 0.6293169940421437}, {\"feature_importances\": 0.42155235454453727, \"AUROC\": 0.8828355669975281, \"shap\": 0.5620255716350984}, {\"feature_importances\": 0.48724700587681663, \"AUROC\": 0.8444854021072388, \"shap\": 0.5934789136455837}, {\"feature_importances\": 0.5821257364562104, \"AUROC\": 0.7976073026657104, \"shap\": 0.6376153569610797}, {\"feature_importances\": 0.45579525010197103, \"AUROC\": 0.8908194303512573, \"shap\": 0.5906685580760712}, {\"feature_importances\": 0.5389140788015322, \"AUROC\": 0.8339329361915588, \"shap\": 0.6170509548974478}]}}, {\"mode\": \"vega-lite\"});\n",
       "</script>"
      ],
      "text/plain": [
       "alt.LayerChart(...)"
      ]
     },
     "execution_count": 9,
     "metadata": {},
     "output_type": "execute_result"
    }
   ],
   "source": [
    "x = \"AUROC\"\n",
    "y = \"feature_importances\"\n",
    "\n",
    "chart = alt.Chart(metrics).mark_point().encode(\n",
    "    x=alt.X(x, scale=alt.Scale(zero=False)),\n",
    "    y=alt.Y(y, scale=alt.Scale(zero=False))\n",
    ")\n",
    "\n",
    "chart = chart + chart.transform_regression(x, y).mark_line()\n",
    "#chart.show()\n",
    "chart\n"
   ]
  },
  {
   "cell_type": "code",
   "execution_count": 10,
   "metadata": {
    "pycharm": {
     "name": "#%%\n"
    }
   },
   "outputs": [
    {
     "data": {
      "text/html": [
       "\n",
       "<div id=\"altair-viz-d484445ca447432c989767b314fac341\"></div>\n",
       "<script type=\"text/javascript\">\n",
       "  (function(spec, embedOpt){\n",
       "    let outputDiv = document.currentScript.previousElementSibling;\n",
       "    if (outputDiv.id !== \"altair-viz-d484445ca447432c989767b314fac341\") {\n",
       "      outputDiv = document.getElementById(\"altair-viz-d484445ca447432c989767b314fac341\");\n",
       "    }\n",
       "    const paths = {\n",
       "      \"vega\": \"https://cdn.jsdelivr.net/npm//vega@5?noext\",\n",
       "      \"vega-lib\": \"https://cdn.jsdelivr.net/npm//vega-lib?noext\",\n",
       "      \"vega-lite\": \"https://cdn.jsdelivr.net/npm//vega-lite@4.8.1?noext\",\n",
       "      \"vega-embed\": \"https://cdn.jsdelivr.net/npm//vega-embed@6?noext\",\n",
       "    };\n",
       "\n",
       "    function loadScript(lib) {\n",
       "      return new Promise(function(resolve, reject) {\n",
       "        var s = document.createElement('script');\n",
       "        s.src = paths[lib];\n",
       "        s.async = true;\n",
       "        s.onload = () => resolve(paths[lib]);\n",
       "        s.onerror = () => reject(`Error loading script: ${paths[lib]}`);\n",
       "        document.getElementsByTagName(\"head\")[0].appendChild(s);\n",
       "      });\n",
       "    }\n",
       "\n",
       "    function showError(err) {\n",
       "      outputDiv.innerHTML = `<div class=\"error\" style=\"color:red;\">${err}</div>`;\n",
       "      throw err;\n",
       "    }\n",
       "\n",
       "    function displayChart(vegaEmbed) {\n",
       "      vegaEmbed(outputDiv, spec, embedOpt)\n",
       "        .catch(err => showError(`Javascript Error: ${err.message}<br>This usually means there's a typo in your chart specification. See the javascript console for the full traceback.`));\n",
       "    }\n",
       "\n",
       "    if(typeof define === \"function\" && define.amd) {\n",
       "      requirejs.config({paths});\n",
       "      require([\"vega-embed\"], displayChart, err => showError(`Error loading script: ${err.message}`));\n",
       "    } else if (typeof vegaEmbed === \"function\") {\n",
       "      displayChart(vegaEmbed);\n",
       "    } else {\n",
       "      loadScript(\"vega\")\n",
       "        .then(() => loadScript(\"vega-lite\"))\n",
       "        .then(() => loadScript(\"vega-embed\"))\n",
       "        .catch(showError)\n",
       "        .then(() => displayChart(vegaEmbed));\n",
       "    }\n",
       "  })({\"config\": {\"view\": {\"continuousWidth\": 400, \"continuousHeight\": 300}}, \"layer\": [{\"mark\": \"point\", \"encoding\": {\"x\": {\"type\": \"quantitative\", \"field\": \"AUROC\", \"scale\": {\"zero\": false}}, \"y\": {\"type\": \"quantitative\", \"field\": \"shap\", \"scale\": {\"zero\": false}}}}, {\"mark\": \"line\", \"encoding\": {\"x\": {\"type\": \"quantitative\", \"field\": \"AUROC\", \"scale\": {\"zero\": false}}, \"y\": {\"type\": \"quantitative\", \"field\": \"shap\", \"scale\": {\"zero\": false}}}, \"transform\": [{\"on\": \"AUROC\", \"regression\": \"shap\"}]}], \"data\": {\"name\": \"data-f55be1d3512cee189c8eddc82b9fc4ce\"}, \"$schema\": \"https://vega.github.io/schema/vega-lite/v4.8.1.json\", \"datasets\": {\"data-f55be1d3512cee189c8eddc82b9fc4ce\": [{\"feature_importances\": 0.5389140788015322, \"AUROC\": 0.8339329361915588, \"shap\": 0.6170509548974478}, {\"feature_importances\": 0.4329948726931213, \"AUROC\": 0.8911172151565552, \"shap\": 0.5874049626981621}, {\"feature_importances\": 0.434792795429687, \"AUROC\": 0.8627009987831116, \"shap\": 0.6137528366706164}, {\"feature_importances\": 0.413438391586573, \"AUROC\": 0.9047797322273254, \"shap\": 0.5983912364410652}, {\"feature_importances\": 0.4177082070155369, \"AUROC\": 0.8964669108390808, \"shap\": 0.6072369199894536}, {\"feature_importances\": 0.41312807530780554, \"AUROC\": 0.9062177538871765, \"shap\": 0.584910112310025}, {\"feature_importances\": 0.41312807530780554, \"AUROC\": 0.9062177538871765, \"shap\": 0.584910112310025}, {\"feature_importances\": 0.4661760671054466, \"AUROC\": 0.8935515880584717, \"shap\": 0.6044719463248581}, {\"feature_importances\": 0.3991477212682125, \"AUROC\": 0.9032467603683472, \"shap\": 0.5935248565916142}, {\"feature_importances\": 0.4661760671054466, \"AUROC\": 0.8935515880584717, \"shap\": 0.6044719463248581}, {\"feature_importances\": 0.42485344425629945, \"AUROC\": 0.8996409177780151, \"shap\": 0.5976430157895735}, {\"feature_importances\": 0.41312807530780554, \"AUROC\": 0.9062177538871765, \"shap\": 0.584910112310025}, {\"feature_importances\": 0.5681918689158131, \"AUROC\": 0.8486245274543762, \"shap\": 0.6167540379407443}, {\"feature_importances\": 0.44835633048749324, \"AUROC\": 0.9018592834472656, \"shap\": 0.5972092508606999}, {\"feature_importances\": 0.451687479432502, \"AUROC\": 0.8646912574768066, \"shap\": 0.6278553117347139}, {\"feature_importances\": 0.44662013030576275, \"AUROC\": 0.8957635164260864, \"shap\": 0.6000959049562914}, {\"feature_importances\": 0.4102484474459861, \"AUROC\": 0.8891735672950745, \"shap\": 0.5836758072908206}, {\"feature_importances\": 0.4277424564652742, \"AUROC\": 0.8982225060462952, \"shap\": 0.589345597895164}, {\"feature_importances\": 0.4277424564652742, \"AUROC\": 0.8982225060462952, \"shap\": 0.589345597895164}, {\"feature_importances\": 0.43818656684927804, \"AUROC\": 0.861936092376709, \"shap\": 0.6263515761265325}, {\"feature_importances\": 0.41938587366147956, \"AUROC\": 0.9044475555419922, \"shap\": 0.5905138817543463}, {\"feature_importances\": 0.5984673886767086, \"AUROC\": 0.7959352731704712, \"shap\": 0.6375232151380759}, {\"feature_importances\": 0.5479900750590387, \"AUROC\": 0.8509919047355652, \"shap\": 0.584340072012025}, {\"feature_importances\": 0.4277424564652742, \"AUROC\": 0.8982225060462952, \"shap\": 0.589345597895164}, {\"feature_importances\": 0.5831529877019992, \"AUROC\": 0.8293585777282715, \"shap\": 0.6293169940421437}, {\"feature_importances\": 0.42155235454453727, \"AUROC\": 0.8828355669975281, \"shap\": 0.5620255716350984}, {\"feature_importances\": 0.48724700587681663, \"AUROC\": 0.8444854021072388, \"shap\": 0.5934789136455837}, {\"feature_importances\": 0.5821257364562104, \"AUROC\": 0.7976073026657104, \"shap\": 0.6376153569610797}, {\"feature_importances\": 0.45579525010197103, \"AUROC\": 0.8908194303512573, \"shap\": 0.5906685580760712}, {\"feature_importances\": 0.5389140788015322, \"AUROC\": 0.8339329361915588, \"shap\": 0.6170509548974478}]}}, {\"mode\": \"vega-lite\"});\n",
       "</script>"
      ],
      "text/plain": [
       "alt.LayerChart(...)"
      ]
     },
     "execution_count": 10,
     "metadata": {},
     "output_type": "execute_result"
    }
   ],
   "source": [
    "\n",
    "x = \"AUROC\"\n",
    "y = \"shap\"\n",
    "\n",
    "chart = alt.Chart(metrics).mark_point().encode(\n",
    "    x=alt.X(x, scale=alt.Scale(zero=False)),\n",
    "    y=alt.Y(y, scale=alt.Scale(zero=False))\n",
    ")\n",
    "\n",
    "chart = chart + chart.transform_regression(x, y).mark_line()\n",
    "#chart.show()\n",
    "chart"
   ]
  },
  {
   "cell_type": "markdown",
   "metadata": {},
   "source": [
    "## Experiment Best GBDT (kfold cross validated)\n",
    "\n",
    "- Using best parameters found (see above)\n",
    "    - Run 5-fold cross validation (was run 4 times)\n",
    "    - Results/metrics were calculated using the mean of all individual runs (4 * 5 = 20 runs)\n",
    "    - Per 5-fold cross validation (4 times) the seed for model training and splitting was chosen randomly"
   ]
  },
  {
   "cell_type": "code",
   "execution_count": 14,
   "metadata": {
    "pycharm": {
     "name": "#%%\n"
    }
   },
   "outputs": [],
   "source": [
    "experiment_name = \"herg_gbdt_best_kfold\"\n",
    "exp = mlflow.get_experiment_by_name(experiment_name)\n",
    "\n",
    "query = \"tags.mlflow.runName != 'summary'\"\n",
    "runs = mlflow.search_runs(experiment_ids=exp.experiment_id, filter_string=query)"
   ]
  },
  {
   "cell_type": "markdown",
   "metadata": {},
   "source": [
    "### Seeds\n"
   ]
  },
  {
   "cell_type": "code",
   "execution_count": 15,
   "metadata": {
    "pycharm": {
     "name": "#%%\n"
    }
   },
   "outputs": [
    {
     "data": {
      "text/html": [
       "<div>\n",
       "<style scoped>\n",
       "    .dataframe tbody tr th:only-of-type {\n",
       "        vertical-align: middle;\n",
       "    }\n",
       "\n",
       "    .dataframe tbody tr th {\n",
       "        vertical-align: top;\n",
       "    }\n",
       "\n",
       "    .dataframe thead th {\n",
       "        text-align: right;\n",
       "    }\n",
       "</style>\n",
       "<table border=\"1\" class=\"dataframe\">\n",
       "  <thead>\n",
       "    <tr style=\"text-align: right;\">\n",
       "      <th></th>\n",
       "      <th>run_id</th>\n",
       "      <th>params.seed</th>\n",
       "      <th>params.split_seed</th>\n",
       "    </tr>\n",
       "  </thead>\n",
       "  <tbody>\n",
       "    <tr>\n",
       "      <th>0</th>\n",
       "      <td>7279eab9ddf1475982ff06882ed42268</td>\n",
       "      <td>3016751081</td>\n",
       "      <td>3016751081</td>\n",
       "    </tr>\n",
       "    <tr>\n",
       "      <th>1</th>\n",
       "      <td>7517a8a5577c48aca7a7307b5f62b6fa</td>\n",
       "      <td>3016751081</td>\n",
       "      <td>3016751081</td>\n",
       "    </tr>\n",
       "    <tr>\n",
       "      <th>2</th>\n",
       "      <td>c1fe5e6124ec4e36b609c2fd6ffa3b74</td>\n",
       "      <td>3016751081</td>\n",
       "      <td>3016751081</td>\n",
       "    </tr>\n",
       "    <tr>\n",
       "      <th>3</th>\n",
       "      <td>e6a53bdced454bfcbde1d333d0ef8728</td>\n",
       "      <td>3016751081</td>\n",
       "      <td>3016751081</td>\n",
       "    </tr>\n",
       "    <tr>\n",
       "      <th>4</th>\n",
       "      <td>1560758e84f145acaaec129ef0882929</td>\n",
       "      <td>3016751081</td>\n",
       "      <td>3016751081</td>\n",
       "    </tr>\n",
       "    <tr>\n",
       "      <th>5</th>\n",
       "      <td>c7300947941f4d8491c7cfb14b8c85f6</td>\n",
       "      <td>310272878</td>\n",
       "      <td>310272878</td>\n",
       "    </tr>\n",
       "    <tr>\n",
       "      <th>6</th>\n",
       "      <td>49b048599bd047898de8728461b93f59</td>\n",
       "      <td>310272878</td>\n",
       "      <td>310272878</td>\n",
       "    </tr>\n",
       "    <tr>\n",
       "      <th>7</th>\n",
       "      <td>79738e65d0724fa78213715389ad0fd8</td>\n",
       "      <td>310272878</td>\n",
       "      <td>310272878</td>\n",
       "    </tr>\n",
       "    <tr>\n",
       "      <th>8</th>\n",
       "      <td>ae6480667ace4684beee3d894d7b6769</td>\n",
       "      <td>310272878</td>\n",
       "      <td>310272878</td>\n",
       "    </tr>\n",
       "    <tr>\n",
       "      <th>9</th>\n",
       "      <td>f9272437aa214f958fceda8f83558120</td>\n",
       "      <td>310272878</td>\n",
       "      <td>310272878</td>\n",
       "    </tr>\n",
       "  </tbody>\n",
       "</table>\n",
       "</div>"
      ],
      "text/plain": [
       "                             run_id params.seed params.split_seed\n",
       "0  7279eab9ddf1475982ff06882ed42268  3016751081        3016751081\n",
       "1  7517a8a5577c48aca7a7307b5f62b6fa  3016751081        3016751081\n",
       "2  c1fe5e6124ec4e36b609c2fd6ffa3b74  3016751081        3016751081\n",
       "3  e6a53bdced454bfcbde1d333d0ef8728  3016751081        3016751081\n",
       "4  1560758e84f145acaaec129ef0882929  3016751081        3016751081\n",
       "5  c7300947941f4d8491c7cfb14b8c85f6   310272878         310272878\n",
       "6  49b048599bd047898de8728461b93f59   310272878         310272878\n",
       "7  79738e65d0724fa78213715389ad0fd8   310272878         310272878\n",
       "8  ae6480667ace4684beee3d894d7b6769   310272878         310272878\n",
       "9  f9272437aa214f958fceda8f83558120   310272878         310272878"
      ]
     },
     "execution_count": 15,
     "metadata": {},
     "output_type": "execute_result"
    }
   ],
   "source": [
    "runs[[\"run_id\", \"params.seed\", \"params.split_seed\"]].head(n=99)"
   ]
  },
  {
   "cell_type": "markdown",
   "metadata": {},
   "source": [
    "### Parameters"
   ]
  },
  {
   "cell_type": "code",
   "execution_count": 17,
   "metadata": {
    "pycharm": {
     "name": "#%%\n"
    }
   },
   "outputs": [
    {
     "name": "stdout",
     "output_type": "stream",
     "text": [
      "pos_label: 1\n",
      "train/threshold-t0: 0.5387276411056519\n",
      "gbdt_kwargs/verbosity: 1\n",
      "colsample_bylevel: None\n",
      "gbdt_fit_kwargs/early_stopping_rounds: 10\n",
      "gbdt_kwargs/gpu_id: None\n",
      "random_state: 3016751081\n",
      "scale_pos_weight: None\n",
      "use_label_encoder: True\n",
      "gpu_id: None\n",
      "reg_alpha: None\n",
      "learning_rate: 0.1\n",
      "gbdt_kwargs/n_jobs: 16\n",
      "missing: nan\n",
      "base_score: None\n",
      "min_child_weight: 1\n",
      "max_depth: 24\n",
      "smile1: c1ccccc1CNCC - active\n",
      "smile4: c1ccccc1Cc1ccccc1 - active\n",
      "seed: 3016751081\n",
      "featurizer_kwargs/radius: 3\n",
      "booster: None\n",
      "use_cache: True\n",
      "gbdt_fit_kwargs/eval_metric: logloss\n",
      "gamma: 2.0\n",
      "monotone_constraints: None\n",
      "standardize: True\n",
      "featurizer_kwargs/use_features: True\n",
      "n_estimators: 200\n",
      "smile2: c1ccccc1CCNC - active\n",
      "split_type: random_kfold\n",
      "gbdt_kwargs/max_delta_step: 10\n",
      "featurizer_n_jobs: 0\n",
      "split_size: (5, 4, 0)\n",
      "num_workers: 0\n",
      "reg_lambda: None\n",
      "importance_type: gain\n",
      "interaction_constraints: None\n",
      "gbdt_kwargs/random_state: 3016751081\n",
      "gbdt_kwargs/colsample_bytree: 0.6\n",
      "gbdt_kwargs/min_child_weight: 1\n",
      "featurizer_kwargs/use_chirality: True\n",
      "ignore_index: -100\n",
      "featurizer_kwargs/return_count: True\n",
      "input_size: 2017\n",
      "featurizer_kwargs/fold: 1024\n",
      "cache_dir: ../../../data/herg/\n",
      "colsample_bytree: 0.6\n",
      "gbdt_kwargs/objective: binary:logistic\n",
      "gbdt_kwargs/max_depth: 24\n",
      "featurizer_chunksize: 100\n",
      "split_seed: 3016751081\n",
      "tree_method: None\n",
      "featurizer_name: combined\n",
      "featurizer_mp_context: fork\n",
      "objective: binary:logistic\n",
      "gbdt_kwargs/n_estimators: 200\n",
      "gbdt_kwargs/subsample: 1.0\n",
      "subsample: 1.0\n",
      "gbdt_kwargs/gamma: 2.0\n",
      "gbdt_fit_kwargs/verbose: True\n",
      "num_parallel_tree: None\n",
      "max_delta_step: 10\n",
      "smile3: c1ccccc1CN2CCCCC2 - active\n",
      "validate_parameters: None\n",
      "verbosity: 1\n",
      "smile0: CCOc1ccccc1 - active\n",
      "num_targets: 1\n",
      "colsample_bynode: None\n",
      "gbdt_kwargs/learning_rate: 0.1\n",
      "batch_size: 9999\n",
      "n_jobs: 16\n",
      "num_classes: 2\n"
     ]
    }
   ],
   "source": [
    "params = [c for c in runs.columns if \"search_space\" not in c and \"params\" in c]\n",
    "for p, v in zip(params, runs[params].iloc[0].head(n=99)):\n",
    "    print(f\"{p.replace('params.', '')}: {v}\")"
   ]
  },
  {
   "cell_type": "markdown",
   "metadata": {},
   "source": [
    "### Metrics\n",
    "\n",
    "#### Performance on hERG dataset"
   ]
  },
  {
   "cell_type": "code",
   "execution_count": 18,
   "metadata": {
    "pycharm": {
     "name": "#%%\n"
    }
   },
   "outputs": [
    {
     "data": {
      "text/html": [
       "<div>\n",
       "<style scoped>\n",
       "    .dataframe tbody tr th:only-of-type {\n",
       "        vertical-align: middle;\n",
       "    }\n",
       "\n",
       "    .dataframe tbody tr th {\n",
       "        vertical-align: top;\n",
       "    }\n",
       "\n",
       "    .dataframe thead th {\n",
       "        text-align: right;\n",
       "    }\n",
       "</style>\n",
       "<table border=\"1\" class=\"dataframe\">\n",
       "  <thead>\n",
       "    <tr style=\"text-align: right;\">\n",
       "      <th></th>\n",
       "      <th>count</th>\n",
       "      <th>mean</th>\n",
       "      <th>std</th>\n",
       "      <th>min</th>\n",
       "      <th>25%</th>\n",
       "      <th>50%</th>\n",
       "      <th>75%</th>\n",
       "      <th>max</th>\n",
       "    </tr>\n",
       "  </thead>\n",
       "  <tbody>\n",
       "    <tr>\n",
       "      <th>AUROC</th>\n",
       "      <td>10.0</td>\n",
       "      <td>0.890406</td>\n",
       "      <td>0.009438</td>\n",
       "      <td>0.876794</td>\n",
       "      <td>0.885907</td>\n",
       "      <td>0.889606</td>\n",
       "      <td>0.898113</td>\n",
       "      <td>0.903912</td>\n",
       "    </tr>\n",
       "  </tbody>\n",
       "</table>\n",
       "</div>"
      ],
      "text/plain": [
       "       count      mean       std       min       25%       50%       75%  \\\n",
       "AUROC   10.0  0.890406  0.009438  0.876794  0.885907  0.889606  0.898113   \n",
       "\n",
       "            max  \n",
       "AUROC  0.903912  "
      ]
     },
     "execution_count": 18,
     "metadata": {},
     "output_type": "execute_result"
    }
   ],
   "source": [
    "metrics_names = [\n",
    "    \"metrics.test/AUROC\",\n",
    "]\n",
    "metrics_columns = [c for c in runs.columns if any(c in m for m in metrics_names)]\n",
    "metrics = runs[metrics_columns]\n",
    "\n",
    "metrics.columns = [c.split(\"/\")[-1] for c in metrics.columns]\n",
    "metrics.describe().T.sort_values(by=\"mean\", ascending=False)"
   ]
  },
  {
   "cell_type": "markdown",
   "metadata": {},
   "source": [
    "#### Active Hergophores on Inactive Model Predictions\n",
    "\n",
    "- Atomic attribution using various methods"
   ]
  },
  {
   "cell_type": "code",
   "execution_count": 20,
   "metadata": {
    "pycharm": {
     "name": "#%%\n"
    }
   },
   "outputs": [
    {
     "data": {
      "text/html": [
       "<div>\n",
       "<style scoped>\n",
       "    .dataframe tbody tr th:only-of-type {\n",
       "        vertical-align: middle;\n",
       "    }\n",
       "\n",
       "    .dataframe tbody tr th {\n",
       "        vertical-align: top;\n",
       "    }\n",
       "\n",
       "    .dataframe thead th {\n",
       "        text-align: right;\n",
       "    }\n",
       "</style>\n",
       "<table border=\"1\" class=\"dataframe\">\n",
       "  <thead>\n",
       "    <tr style=\"text-align: right;\">\n",
       "      <th></th>\n",
       "      <th>count</th>\n",
       "      <th>mean</th>\n",
       "      <th>std</th>\n",
       "      <th>min</th>\n",
       "      <th>25%</th>\n",
       "      <th>50%</th>\n",
       "      <th>75%</th>\n",
       "      <th>max</th>\n",
       "    </tr>\n",
       "  </thead>\n",
       "  <tbody>\n",
       "    <tr>\n",
       "      <th>shap</th>\n",
       "      <td>10.0</td>\n",
       "      <td>0.567570</td>\n",
       "      <td>0.010141</td>\n",
       "      <td>0.553274</td>\n",
       "      <td>0.559803</td>\n",
       "      <td>0.567131</td>\n",
       "      <td>0.573977</td>\n",
       "      <td>0.584852</td>\n",
       "    </tr>\n",
       "    <tr>\n",
       "      <th>feature_importances</th>\n",
       "      <td>9.0</td>\n",
       "      <td>0.426215</td>\n",
       "      <td>0.017189</td>\n",
       "      <td>0.398139</td>\n",
       "      <td>0.412130</td>\n",
       "      <td>0.431840</td>\n",
       "      <td>0.439016</td>\n",
       "      <td>0.447620</td>\n",
       "    </tr>\n",
       "  </tbody>\n",
       "</table>\n",
       "</div>"
      ],
      "text/plain": [
       "                     count      mean       std       min       25%       50%  \\\n",
       "shap                  10.0  0.567570  0.010141  0.553274  0.559803  0.567131   \n",
       "feature_importances    9.0  0.426215  0.017189  0.398139  0.412130  0.431840   \n",
       "\n",
       "                          75%       max  \n",
       "shap                 0.573977  0.584852  \n",
       "feature_importances  0.439016  0.447620  "
      ]
     },
     "execution_count": 20,
     "metadata": {},
     "output_type": "execute_result"
    }
   ],
   "source": [
    "metrics_names = [\n",
    "    \"metrics.test/mean/avg_score_pred_inactive/shap\",\n",
    "    \"metrics.test/mean/avg_score_pred_inactive/feature_importances\",\n",
    "]\n",
    "metrics_columns = [c for c in runs.columns if any(c in m for m in metrics_names)]\n",
    "metrics = runs[metrics_columns]\n",
    "\n",
    "metrics.columns = [c.split(\"/\")[-1] for c in metrics.columns]\n",
    "metrics.describe().T.sort_values(by=\"mean\", ascending=False)\n"
   ]
  },
  {
   "cell_type": "markdown",
   "metadata": {},
   "source": [
    "#### Active Hergophores on Active Model Predictions\n",
    "\n",
    "- Atomic attribution using various methods"
   ]
  },
  {
   "cell_type": "code",
   "execution_count": 22,
   "metadata": {
    "pycharm": {
     "name": "#%%\n"
    }
   },
   "outputs": [
    {
     "data": {
      "text/html": [
       "<div>\n",
       "<style scoped>\n",
       "    .dataframe tbody tr th:only-of-type {\n",
       "        vertical-align: middle;\n",
       "    }\n",
       "\n",
       "    .dataframe tbody tr th {\n",
       "        vertical-align: top;\n",
       "    }\n",
       "\n",
       "    .dataframe thead th {\n",
       "        text-align: right;\n",
       "    }\n",
       "</style>\n",
       "<table border=\"1\" class=\"dataframe\">\n",
       "  <thead>\n",
       "    <tr style=\"text-align: right;\">\n",
       "      <th></th>\n",
       "      <th>count</th>\n",
       "      <th>mean</th>\n",
       "      <th>std</th>\n",
       "      <th>min</th>\n",
       "      <th>25%</th>\n",
       "      <th>50%</th>\n",
       "      <th>75%</th>\n",
       "      <th>max</th>\n",
       "    </tr>\n",
       "  </thead>\n",
       "  <tbody>\n",
       "    <tr>\n",
       "      <th>shap</th>\n",
       "      <td>10.0</td>\n",
       "      <td>0.614614</td>\n",
       "      <td>0.012686</td>\n",
       "      <td>0.599142</td>\n",
       "      <td>0.602941</td>\n",
       "      <td>0.612316</td>\n",
       "      <td>0.624706</td>\n",
       "      <td>0.632554</td>\n",
       "    </tr>\n",
       "    <tr>\n",
       "      <th>feature_importances</th>\n",
       "      <td>9.0</td>\n",
       "      <td>0.472875</td>\n",
       "      <td>0.017103</td>\n",
       "      <td>0.431461</td>\n",
       "      <td>0.472509</td>\n",
       "      <td>0.477114</td>\n",
       "      <td>0.480586</td>\n",
       "      <td>0.489990</td>\n",
       "    </tr>\n",
       "  </tbody>\n",
       "</table>\n",
       "</div>"
      ],
      "text/plain": [
       "                     count      mean       std       min       25%       50%  \\\n",
       "shap                  10.0  0.614614  0.012686  0.599142  0.602941  0.612316   \n",
       "feature_importances    9.0  0.472875  0.017103  0.431461  0.472509  0.477114   \n",
       "\n",
       "                          75%       max  \n",
       "shap                 0.624706  0.632554  \n",
       "feature_importances  0.480586  0.489990  "
      ]
     },
     "execution_count": 22,
     "metadata": {},
     "output_type": "execute_result"
    }
   ],
   "source": [
    "metrics_names = [\n",
    "    \"metrics.test/mean/avg_score_pred_active/shap\",\n",
    "    \"metrics.test/mean/avg_score_pred_active/feature_importances\",\n",
    "]\n",
    "metrics_columns = [c for c in runs.columns if any(c in m for m in metrics_names)]\n",
    "metrics = runs[metrics_columns]\n",
    "\n",
    "metrics.columns = [c.split(\"/\")[-1] for c in metrics.columns]\n",
    "metrics.describe().T.sort_values(by=\"mean\", ascending=False)"
   ]
  },
  {
   "cell_type": "markdown",
   "metadata": {},
   "source": [
    "#### Correlations"
   ]
  },
  {
   "cell_type": "code",
   "execution_count": 23,
   "metadata": {
    "pycharm": {
     "name": "#%%\n"
    }
   },
   "outputs": [
    {
     "data": {
      "text/html": [
       "<div>\n",
       "<style scoped>\n",
       "    .dataframe tbody tr th:only-of-type {\n",
       "        vertical-align: middle;\n",
       "    }\n",
       "\n",
       "    .dataframe tbody tr th {\n",
       "        vertical-align: top;\n",
       "    }\n",
       "\n",
       "    .dataframe thead th {\n",
       "        text-align: right;\n",
       "    }\n",
       "</style>\n",
       "<table border=\"1\" class=\"dataframe\">\n",
       "  <thead>\n",
       "    <tr style=\"text-align: right;\">\n",
       "      <th></th>\n",
       "      <th>AUROC</th>\n",
       "      <th>shap</th>\n",
       "      <th>feature_importances</th>\n",
       "    </tr>\n",
       "  </thead>\n",
       "  <tbody>\n",
       "    <tr>\n",
       "      <th>AUROC</th>\n",
       "      <td>1.000000</td>\n",
       "      <td>-0.203103</td>\n",
       "      <td>0.316412</td>\n",
       "    </tr>\n",
       "    <tr>\n",
       "      <th>shap</th>\n",
       "      <td>-0.203103</td>\n",
       "      <td>1.000000</td>\n",
       "      <td>0.259320</td>\n",
       "    </tr>\n",
       "    <tr>\n",
       "      <th>feature_importances</th>\n",
       "      <td>0.316412</td>\n",
       "      <td>0.259320</td>\n",
       "      <td>1.000000</td>\n",
       "    </tr>\n",
       "  </tbody>\n",
       "</table>\n",
       "</div>"
      ],
      "text/plain": [
       "                        AUROC      shap  feature_importances\n",
       "AUROC                1.000000 -0.203103             0.316412\n",
       "shap                -0.203103  1.000000             0.259320\n",
       "feature_importances  0.316412  0.259320             1.000000"
      ]
     },
     "execution_count": 23,
     "metadata": {},
     "output_type": "execute_result"
    }
   ],
   "source": [
    "metrics_names = [\n",
    "    \"metrics.test/AUROC\",\n",
    "]\n",
    "\n",
    "metrics_names += [\n",
    "    \"metrics.test/mean/avg_score_pred_inactive/shap\",\n",
    "    \"metrics.test/mean/avg_score_pred_inactive/feature_importances\",\n",
    "]\n",
    "metrics_columns = [c for c in runs.columns if any(c in m for m in metrics_names)]\n",
    "metrics = runs[metrics_columns]\n",
    "\n",
    "metrics.columns = [c.split(\"/\")[-1] for c in metrics.columns]\n",
    "metrics.corr(method=\"pearson\")"
   ]
  }
 ],
 "metadata": {
  "kernelspec": {
   "display_name": "Python 3",
   "language": "python",
   "name": "python3"
  },
  "language_info": {
   "codemirror_mode": {
    "name": "ipython",
    "version": 3
   },
   "file_extension": ".py",
   "mimetype": "text/x-python",
   "name": "python",
   "nbconvert_exporter": "python",
   "pygments_lexer": "ipython3",
   "version": "3.8.8"
  }
 },
 "nbformat": 4,
 "nbformat_minor": 1
}