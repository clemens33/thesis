{
 "cells": [
  {
   "cell_type": "code",
   "execution_count": 1,
   "metadata": {},
   "outputs": [
    {
     "data": {
      "text/plain": [
       "DataTransformerRegistry.enable('default')"
      ]
     },
     "execution_count": 1,
     "metadata": {},
     "output_type": "execute_result"
    }
   ],
   "source": [
    "import os\n",
    "import mlflow\n",
    "import matplotlib.pyplot as plt\n",
    "import altair as alt\n",
    "import numpy as np\n",
    "import pandas as pd\n",
    "\n",
    "%matplotlib inline\n",
    "\n",
    "#alt.renderers.enable(\"html\")\n",
    "alt.data_transformers.disable_max_rows()"
   ]
  },
  {
   "cell_type": "code",
   "execution_count": 2,
   "metadata": {
    "pycharm": {
     "name": "#%%\n"
    }
   },
   "outputs": [],
   "source": [
    "tracking_uri = os.getenv(\"TRACKING_URI\", default=\"http://localhost:5000\")\n",
    "mlflow.set_tracking_uri(tracking_uri)"
   ]
  },
  {
   "cell_type": "markdown",
   "metadata": {
    "pycharm": {
     "name": "#%% md\n"
    }
   },
   "source": [
    "## Experiment Parameter-Search MLP\n",
    "\n",
    "- Single random seed for model training for all models\n",
    "- Single random seed for random split for all models\n",
    "- Per run/model calculate atomic attribution using various methods (e.g. integrated gradients and saliency)\n",
    "- Single target objective (first) using BCE-loss\n",
    "- Hyperparameter search using Optuna TPE [(Tree-structured Parzen Estimator)](https://optuna.readthedocs.io/en/stable/reference/generated/optuna.samplers.TPESampler.html)"
   ]
  },
  {
   "cell_type": "code",
   "execution_count": 3,
   "metadata": {
    "pycharm": {
     "name": "#%%\n"
    }
   },
   "outputs": [],
   "source": [
    "experiment_name = \"herg_mlp_opttpe1\"\n",
    "exp = mlflow.get_experiment_by_name(experiment_name)\n",
    "\n",
    "runs = mlflow.search_runs(experiment_ids=exp.experiment_id)"
   ]
  },
  {
   "cell_type": "code",
   "execution_count": 5,
   "metadata": {
    "pycharm": {
     "name": "#%%\n"
    }
   },
   "outputs": [],
   "source": [
    "#runs.iloc[1:].describe().T"
   ]
  },
  {
   "cell_type": "code",
   "execution_count": 6,
   "metadata": {
    "pycharm": {
     "name": "#%%\n"
    }
   },
   "outputs": [],
   "source": [
    "#runs.iloc[1:].corr()"
   ]
  },
  {
   "cell_type": "markdown",
   "metadata": {
    "pycharm": {
     "name": "#%% md\n"
    }
   },
   "source": [
    "### Search space"
   ]
  },
  {
   "cell_type": "code",
   "execution_count": 4,
   "metadata": {
    "pycharm": {
     "name": "#%%\n"
    }
   },
   "outputs": [
    {
     "name": "stdout",
     "output_type": "stream",
     "text": [
      "{'name': 'momentum', 'type': 'choice', 'values': [0.2, 0.1, 0.05, 0.01]}\n",
      "{'name': 'warmup_steps', 'type': 'choice', 'values': [0.01, 0.05, 0.1, 0.3]}\n",
      "{'name': 'weight_decay', 'type': 'choice', 'values': [0.0, 0.001, 0.0001]}\n",
      "{'name': 'dropout', 'type': 'choice', 'values': [0.0, 0.1, 0.01, 0.3]}\n",
      "{'name': 'nr_layer', 'type': 'choice', 'values': [1, 2, 3, 4, 5]}\n",
      "{'name': 'hidden_size', 'type': 'choice', 'values': [16, 32, 64, 128]}\n",
      "{'name': 'lr', 'type': 'choice', 'values': [0.02, 0.01, 0.05, 0.001]}\n",
      "{'name': 'batch_size', 'type': 'choice', 'values': [32, 64, 128, 256, 512]}\n"
     ]
    }
   ],
   "source": [
    "search_space = [c for c in runs.columns if \"search_space/\" in c]\n",
    "for r in runs[search_space].iloc[0].head(n=99):\n",
    "    print(r)"
   ]
  },
  {
   "cell_type": "markdown",
   "metadata": {
    "pycharm": {
     "name": "#%% md\n"
    }
   },
   "source": [
    "### Other + default parameters"
   ]
  },
  {
   "cell_type": "code",
   "execution_count": 5,
   "metadata": {
    "pycharm": {
     "name": "#%%\n"
    }
   },
   "outputs": [
    {
     "name": "stdout",
     "output_type": "stream",
     "text": [
      "experiment_name: herg_mlp_opttpe1\n",
      "pruner_name: None\n",
      "tracking_uri: http://localhost:5000\n",
      "standardize: False\n",
      "batch_size: 256\n",
      "minimize: False\n",
      "featurizer_kwargs: {'fold': 1024, 'radius': 3, 'return_count': True, 'use_chirality': True, 'use_features': True}\n",
      "patience_minimize: True\n",
      "trials: 30\n",
      "featurizer_name: combined\n",
      "run_name: mlp random\n",
      "normalize_input: True\n",
      "scheduler_params: {'warmup_steps': 0.1}\n",
      "scheduler: linear_with_warmup\n",
      "stochastic_weight_avg: False\n",
      "track_metrics: ...value too long for mlflow - not inserted\n",
      "lr: 0.01\n",
      "gradient_clip_val: 1.0\n",
      "optimizer_params: {'weight_decay': 0.001}\n",
      "seed: 3549156989\n",
      "split_seed: 4256484565\n",
      "dropout: 0.1\n",
      "checkpoint_objective: val/loss\n",
      "max_steps: 1000\n",
      "use_labels: ['active_g10']\n",
      "patience_objective: val/loss\n",
      "optimizer: adamw\n",
      "cache_dir: ../../../data/herg/\n",
      "featurizer_chunksize: 100\n",
      "objective_name: val/AUROC\n",
      "featurizer_mp_context: fork\n",
      "attribution_kwargs: ...value too long for mlflow - not inserted\n",
      "momentum: 0.01\n",
      "split_size: (0.6, 0.2, 0.2)\n",
      "batch_norm: True\n",
      "num_workers: 8\n",
      "sampler_name: tpe\n",
      "split_type: random\n",
      "checkpoint_minimize: True\n",
      "hidden_size: [32, 32, 32]\n",
      "patience: 10\n"
     ]
    }
   ],
   "source": [
    "params = [c for c in runs.columns if \"search_space\" not in c and \"params.args\" in c]\n",
    "for p, v in zip(params, runs[params].iloc[0].head(n=99)):\n",
    "    print(f\"{p.replace('params.args/', '')}: {v}\")"
   ]
  },
  {
   "cell_type": "markdown",
   "metadata": {
    "pycharm": {
     "name": "#%% md\n"
    }
   },
   "source": [
    "### Best parameters\n",
    "- Found within this scenario"
   ]
  },
  {
   "cell_type": "code",
   "execution_count": 6,
   "metadata": {
    "pycharm": {
     "name": "#%%\n"
    }
   },
   "outputs": [
    {
     "name": "stdout",
     "output_type": "stream",
     "text": [
      "params.best/lr: 0.001\n",
      "params.best/dropout: 0.0\n",
      "params.best/batch_size: 512\n",
      "params.best/warmup_steps: 0.1\n",
      "params.best/momentum: 0.1\n",
      "params.best/weight_decay: 0.0\n",
      "params.best/hidden_size: 128\n",
      "params.best/nr_layer: 3\n"
     ]
    }
   ],
   "source": [
    "params = [c for c in runs.columns if c and \"params.best\" in c]\n",
    "for p, v in zip(params, runs[params].iloc[0].head(n=99)):\n",
    "    print(f\"{p.replace('params.args/', '')}: {v}\")"
   ]
  },
  {
   "cell_type": "markdown",
   "metadata": {
    "pycharm": {
     "name": "#%% md\n"
    }
   },
   "source": [
    "### Metrics\n",
    "- Include metrics for atomic attribution/weights\n",
    "    - Values were calculated using active hergophores on all rows for which herg activity was predicted as negative\n",
    "    - Threshold was calculated per individual model using threshold moving"
   ]
  },
  {
   "cell_type": "code",
   "execution_count": 7,
   "metadata": {
    "pycharm": {
     "name": "#%%\n"
    }
   },
   "outputs": [
    {
     "data": {
      "text/html": [
       "<div>\n",
       "<style scoped>\n",
       "    .dataframe tbody tr th:only-of-type {\n",
       "        vertical-align: middle;\n",
       "    }\n",
       "\n",
       "    .dataframe tbody tr th {\n",
       "        vertical-align: top;\n",
       "    }\n",
       "\n",
       "    .dataframe thead th {\n",
       "        text-align: right;\n",
       "    }\n",
       "</style>\n",
       "<table border=\"1\" class=\"dataframe\">\n",
       "  <thead>\n",
       "    <tr style=\"text-align: right;\">\n",
       "      <th></th>\n",
       "      <th>count</th>\n",
       "      <th>mean</th>\n",
       "      <th>std</th>\n",
       "      <th>min</th>\n",
       "      <th>25%</th>\n",
       "      <th>50%</th>\n",
       "      <th>75%</th>\n",
       "      <th>max</th>\n",
       "    </tr>\n",
       "  </thead>\n",
       "  <tbody>\n",
       "    <tr>\n",
       "      <th>AUROC</th>\n",
       "      <td>30.0</td>\n",
       "      <td>0.877716</td>\n",
       "      <td>0.012250</td>\n",
       "      <td>0.838827</td>\n",
       "      <td>0.873341</td>\n",
       "      <td>0.880409</td>\n",
       "      <td>0.888573</td>\n",
       "      <td>0.891118</td>\n",
       "    </tr>\n",
       "    <tr>\n",
       "      <th>saliency</th>\n",
       "      <td>30.0</td>\n",
       "      <td>0.658981</td>\n",
       "      <td>0.019654</td>\n",
       "      <td>0.608037</td>\n",
       "      <td>0.651456</td>\n",
       "      <td>0.660824</td>\n",
       "      <td>0.667536</td>\n",
       "      <td>0.699535</td>\n",
       "    </tr>\n",
       "    <tr>\n",
       "      <th>saliency-absolute</th>\n",
       "      <td>30.0</td>\n",
       "      <td>0.422159</td>\n",
       "      <td>0.012136</td>\n",
       "      <td>0.404077</td>\n",
       "      <td>0.413293</td>\n",
       "      <td>0.422446</td>\n",
       "      <td>0.426975</td>\n",
       "      <td>0.453969</td>\n",
       "    </tr>\n",
       "    <tr>\n",
       "      <th>integrated_gradients</th>\n",
       "      <td>30.0</td>\n",
       "      <td>0.722171</td>\n",
       "      <td>0.007723</td>\n",
       "      <td>0.709545</td>\n",
       "      <td>0.717815</td>\n",
       "      <td>0.724016</td>\n",
       "      <td>0.724974</td>\n",
       "      <td>0.747357</td>\n",
       "    </tr>\n",
       "    <tr>\n",
       "      <th>loss</th>\n",
       "      <td>30.0</td>\n",
       "      <td>0.461241</td>\n",
       "      <td>0.044591</td>\n",
       "      <td>0.421659</td>\n",
       "      <td>0.428316</td>\n",
       "      <td>0.452726</td>\n",
       "      <td>0.478047</td>\n",
       "      <td>0.622914</td>\n",
       "    </tr>\n",
       "  </tbody>\n",
       "</table>\n",
       "</div>"
      ],
      "text/plain": [
       "                      count      mean       std       min       25%       50%  \\\n",
       "AUROC                  30.0  0.877716  0.012250  0.838827  0.873341  0.880409   \n",
       "saliency               30.0  0.658981  0.019654  0.608037  0.651456  0.660824   \n",
       "saliency-absolute      30.0  0.422159  0.012136  0.404077  0.413293  0.422446   \n",
       "integrated_gradients   30.0  0.722171  0.007723  0.709545  0.717815  0.724016   \n",
       "loss                   30.0  0.461241  0.044591  0.421659  0.428316  0.452726   \n",
       "\n",
       "                           75%       max  \n",
       "AUROC                 0.888573  0.891118  \n",
       "saliency              0.667536  0.699535  \n",
       "saliency-absolute     0.426975  0.453969  \n",
       "integrated_gradients  0.724974  0.747357  \n",
       "loss                  0.478047  0.622914  "
      ]
     },
     "execution_count": 7,
     "metadata": {},
     "output_type": "execute_result"
    }
   ],
   "source": [
    "metrics_names = [\n",
    "    \"metrics.test/AUROC\",\n",
    "    \"metrics.test/loss\",\n",
    "    \"metrics.test/mean/avg_score_pred_inactive/integrated_gradients\",\n",
    "    \"metrics.test/mean/avg_score_pred_inactive/saliency\",\n",
    "    \"metrics.test/mean/avg_score_pred_inactive/saliency-absolute\"\n",
    "]\n",
    "metrics_columns = [c for c in runs.columns if any(c in m for m in metrics_names)]\n",
    "metrics = runs[metrics_columns].iloc[1:]\n",
    "\n",
    "metrics.columns = [c.split(\"/\")[-1] for c in metrics.columns]\n",
    "metrics.describe().T"
   ]
  },
  {
   "cell_type": "markdown",
   "metadata": {
    "pycharm": {
     "name": "#%% md\n"
    }
   },
   "source": [
    "#### Correlation\n",
    "\n",
    "- Correlation between various metrics"
   ]
  },
  {
   "cell_type": "code",
   "execution_count": 8,
   "metadata": {
    "pycharm": {
     "name": "#%%\n"
    }
   },
   "outputs": [
    {
     "data": {
      "text/html": [
       "<div>\n",
       "<style scoped>\n",
       "    .dataframe tbody tr th:only-of-type {\n",
       "        vertical-align: middle;\n",
       "    }\n",
       "\n",
       "    .dataframe tbody tr th {\n",
       "        vertical-align: top;\n",
       "    }\n",
       "\n",
       "    .dataframe thead th {\n",
       "        text-align: right;\n",
       "    }\n",
       "</style>\n",
       "<table border=\"1\" class=\"dataframe\">\n",
       "  <thead>\n",
       "    <tr style=\"text-align: right;\">\n",
       "      <th></th>\n",
       "      <th>AUROC</th>\n",
       "      <th>saliency</th>\n",
       "      <th>saliency-absolute</th>\n",
       "      <th>integrated_gradients</th>\n",
       "      <th>loss</th>\n",
       "    </tr>\n",
       "  </thead>\n",
       "  <tbody>\n",
       "    <tr>\n",
       "      <th>AUROC</th>\n",
       "      <td>1.000000</td>\n",
       "      <td>-0.212326</td>\n",
       "      <td>-0.183777</td>\n",
       "      <td>0.022196</td>\n",
       "      <td>-0.807773</td>\n",
       "    </tr>\n",
       "    <tr>\n",
       "      <th>saliency</th>\n",
       "      <td>-0.212326</td>\n",
       "      <td>1.000000</td>\n",
       "      <td>0.527091</td>\n",
       "      <td>0.790705</td>\n",
       "      <td>0.326532</td>\n",
       "    </tr>\n",
       "    <tr>\n",
       "      <th>saliency-absolute</th>\n",
       "      <td>-0.183777</td>\n",
       "      <td>0.527091</td>\n",
       "      <td>1.000000</td>\n",
       "      <td>0.585800</td>\n",
       "      <td>0.061934</td>\n",
       "    </tr>\n",
       "    <tr>\n",
       "      <th>integrated_gradients</th>\n",
       "      <td>0.022196</td>\n",
       "      <td>0.790705</td>\n",
       "      <td>0.585800</td>\n",
       "      <td>1.000000</td>\n",
       "      <td>0.077498</td>\n",
       "    </tr>\n",
       "    <tr>\n",
       "      <th>loss</th>\n",
       "      <td>-0.807773</td>\n",
       "      <td>0.326532</td>\n",
       "      <td>0.061934</td>\n",
       "      <td>0.077498</td>\n",
       "      <td>1.000000</td>\n",
       "    </tr>\n",
       "  </tbody>\n",
       "</table>\n",
       "</div>"
      ],
      "text/plain": [
       "                         AUROC  saliency  saliency-absolute  \\\n",
       "AUROC                 1.000000 -0.212326          -0.183777   \n",
       "saliency             -0.212326  1.000000           0.527091   \n",
       "saliency-absolute    -0.183777  0.527091           1.000000   \n",
       "integrated_gradients  0.022196  0.790705           0.585800   \n",
       "loss                 -0.807773  0.326532           0.061934   \n",
       "\n",
       "                      integrated_gradients      loss  \n",
       "AUROC                             0.022196 -0.807773  \n",
       "saliency                          0.790705  0.326532  \n",
       "saliency-absolute                 0.585800  0.061934  \n",
       "integrated_gradients              1.000000  0.077498  \n",
       "loss                              0.077498  1.000000  "
      ]
     },
     "execution_count": 8,
     "metadata": {},
     "output_type": "execute_result"
    }
   ],
   "source": [
    "metrics.corr(method=\"pearson\")"
   ]
  },
  {
   "cell_type": "code",
   "execution_count": 10,
   "metadata": {
    "pycharm": {
     "name": "#%%\n"
    }
   },
   "outputs": [
    {
     "data": {
      "text/html": [
       "\n",
       "<div id=\"altair-viz-cff907c28e9f4208ad3ba52422e36222\"></div>\n",
       "<script type=\"text/javascript\">\n",
       "  (function(spec, embedOpt){\n",
       "    let outputDiv = document.currentScript.previousElementSibling;\n",
       "    if (outputDiv.id !== \"altair-viz-cff907c28e9f4208ad3ba52422e36222\") {\n",
       "      outputDiv = document.getElementById(\"altair-viz-cff907c28e9f4208ad3ba52422e36222\");\n",
       "    }\n",
       "    const paths = {\n",
       "      \"vega\": \"https://cdn.jsdelivr.net/npm//vega@5?noext\",\n",
       "      \"vega-lib\": \"https://cdn.jsdelivr.net/npm//vega-lib?noext\",\n",
       "      \"vega-lite\": \"https://cdn.jsdelivr.net/npm//vega-lite@4.8.1?noext\",\n",
       "      \"vega-embed\": \"https://cdn.jsdelivr.net/npm//vega-embed@6?noext\",\n",
       "    };\n",
       "\n",
       "    function loadScript(lib) {\n",
       "      return new Promise(function(resolve, reject) {\n",
       "        var s = document.createElement('script');\n",
       "        s.src = paths[lib];\n",
       "        s.async = true;\n",
       "        s.onload = () => resolve(paths[lib]);\n",
       "        s.onerror = () => reject(`Error loading script: ${paths[lib]}`);\n",
       "        document.getElementsByTagName(\"head\")[0].appendChild(s);\n",
       "      });\n",
       "    }\n",
       "\n",
       "    function showError(err) {\n",
       "      outputDiv.innerHTML = `<div class=\"error\" style=\"color:red;\">${err}</div>`;\n",
       "      throw err;\n",
       "    }\n",
       "\n",
       "    function displayChart(vegaEmbed) {\n",
       "      vegaEmbed(outputDiv, spec, embedOpt)\n",
       "        .catch(err => showError(`Javascript Error: ${err.message}<br>This usually means there's a typo in your chart specification. See the javascript console for the full traceback.`));\n",
       "    }\n",
       "\n",
       "    if(typeof define === \"function\" && define.amd) {\n",
       "      requirejs.config({paths});\n",
       "      require([\"vega-embed\"], displayChart, err => showError(`Error loading script: ${err.message}`));\n",
       "    } else if (typeof vegaEmbed === \"function\") {\n",
       "      displayChart(vegaEmbed);\n",
       "    } else {\n",
       "      loadScript(\"vega\")\n",
       "        .then(() => loadScript(\"vega-lite\"))\n",
       "        .then(() => loadScript(\"vega-embed\"))\n",
       "        .catch(showError)\n",
       "        .then(() => displayChart(vegaEmbed));\n",
       "    }\n",
       "  })({\"config\": {\"view\": {\"continuousWidth\": 400, \"continuousHeight\": 300}}, \"layer\": [{\"mark\": \"point\", \"encoding\": {\"x\": {\"type\": \"quantitative\", \"field\": \"AUROC\", \"scale\": {\"zero\": false}}, \"y\": {\"type\": \"quantitative\", \"field\": \"integrated_gradients\", \"scale\": {\"zero\": false}}}}, {\"mark\": \"line\", \"encoding\": {\"x\": {\"type\": \"quantitative\", \"field\": \"AUROC\", \"scale\": {\"zero\": false}}, \"y\": {\"type\": \"quantitative\", \"field\": \"integrated_gradients\", \"scale\": {\"zero\": false}}}, \"transform\": [{\"on\": \"AUROC\", \"regression\": \"integrated_gradients\"}]}], \"data\": {\"name\": \"data-d08ed4f97e13f80b723f3fa211e258b1\"}, \"$schema\": \"https://vega.github.io/schema/vega-lite/v4.8.1.json\", \"datasets\": {\"data-d08ed4f97e13f80b723f3fa211e258b1\": [{\"AUROC\": 0.8735201954841614, \"saliency\": 0.663199572921898, \"saliency-absolute\": 0.4403520448190458, \"integrated_gradients\": 0.7254122124553435, \"loss\": 0.46059566736221313}, {\"AUROC\": 0.8766705393791199, \"saliency\": 0.6292127078007258, \"saliency-absolute\": 0.4136842420223612, \"integrated_gradients\": 0.7176497640863194, \"loss\": 0.4810853898525238}, {\"AUROC\": 0.8388271927833557, \"saliency\": 0.6995350693766561, \"saliency-absolute\": 0.4173482533007077, \"integrated_gradients\": 0.7227571563726662, \"loss\": 0.6229137182235718}, {\"AUROC\": 0.8821408748626709, \"saliency\": 0.6526022036679443, \"saliency-absolute\": 0.41011500825135644, \"integrated_gradients\": 0.7236734309753239, \"loss\": 0.4866833984851837}, {\"AUROC\": 0.8742765188217163, \"saliency\": 0.6730221982643105, \"saliency-absolute\": 0.44073331637217167, \"integrated_gradients\": 0.7251951347678653, \"loss\": 0.45688650012016296}, {\"AUROC\": 0.8889890313148499, \"saliency\": 0.6675357846880992, \"saliency-absolute\": 0.42257948987728355, \"integrated_gradients\": 0.724358071935817, \"loss\": 0.4283161461353302}, {\"AUROC\": 0.8889890313148499, \"saliency\": 0.6675357846880992, \"saliency-absolute\": 0.42257948987728355, \"integrated_gradients\": 0.724358071935817, \"loss\": 0.4283161461353302}, {\"AUROC\": 0.8889890313148499, \"saliency\": 0.6675357846880992, \"saliency-absolute\": 0.42257948987728355, \"integrated_gradients\": 0.724358071935817, \"loss\": 0.4283161461353302}, {\"AUROC\": 0.8889890313148499, \"saliency\": 0.6675357846880992, \"saliency-absolute\": 0.42257948987728355, \"integrated_gradients\": 0.724358071935817, \"loss\": 0.4283161461353302}, {\"AUROC\": 0.8760572671890259, \"saliency\": 0.6357942919534206, \"saliency-absolute\": 0.4040772288379454, \"integrated_gradients\": 0.7095452468391891, \"loss\": 0.44680705666542053}, {\"AUROC\": 0.8870142698287964, \"saliency\": 0.655554181792561, \"saliency-absolute\": 0.4131631478667034, \"integrated_gradients\": 0.7208785073646707, \"loss\": 0.4273322522640228}, {\"AUROC\": 0.8582980036735535, \"saliency\": 0.6434131486901272, \"saliency-absolute\": 0.4389771115689792, \"integrated_gradients\": 0.7105057115495546, \"loss\": 0.5019362568855286}, {\"AUROC\": 0.8821408748626709, \"saliency\": 0.6526022036679443, \"saliency-absolute\": 0.41011500825135644, \"integrated_gradients\": 0.7236734309753239, \"loss\": 0.4866833984851837}, {\"AUROC\": 0.8911182284355164, \"saliency\": 0.6657391572704626, \"saliency-absolute\": 0.4210291430122643, \"integrated_gradients\": 0.7252326476411955, \"loss\": 0.42165929079055786}, {\"AUROC\": 0.8861395120620728, \"saliency\": 0.6402080926680914, \"saliency-absolute\": 0.41235934493813986, \"integrated_gradients\": 0.712791703864329, \"loss\": 0.4270090162754059}, {\"AUROC\": 0.8797681927680969, \"saliency\": 0.6554490739655698, \"saliency-absolute\": 0.41453167560222964, \"integrated_gradients\": 0.7134330983694027, \"loss\": 0.4610881507396698}, {\"AUROC\": 0.8889890313148499, \"saliency\": 0.6675357846880992, \"saliency-absolute\": 0.42257948987728355, \"integrated_gradients\": 0.724358071935817, \"loss\": 0.4283161461353302}, {\"AUROC\": 0.8889890313148499, \"saliency\": 0.6675357846880992, \"saliency-absolute\": 0.42257948987728355, \"integrated_gradients\": 0.724358071935817, \"loss\": 0.4283161461353302}, {\"AUROC\": 0.8889890313148499, \"saliency\": 0.6675357846880992, \"saliency-absolute\": 0.42257948987728355, \"integrated_gradients\": 0.724358071935817, \"loss\": 0.4283161461353302}, {\"AUROC\": 0.8704718351364136, \"saliency\": 0.6912896218592148, \"saliency-absolute\": 0.4223133139879188, \"integrated_gradients\": 0.7389834308276401, \"loss\": 0.49962759017944336}, {\"AUROC\": 0.8782604932785034, \"saliency\": 0.6584492277620205, \"saliency-absolute\": 0.4346781016283681, \"integrated_gradients\": 0.7222914379046717, \"loss\": 0.4485660493373871}, {\"AUROC\": 0.8825979232788086, \"saliency\": 0.629949860285721, \"saliency-absolute\": 0.42075988042081736, \"integrated_gradients\": 0.7147397710516985, \"loss\": 0.4362698197364807}, {\"AUROC\": 0.8732817769050598, \"saliency\": 0.6544299622487448, \"saliency-absolute\": 0.4304582676077187, \"integrated_gradients\": 0.7256448296300191, \"loss\": 0.45774996280670166}, {\"AUROC\": 0.8538569808006287, \"saliency\": 0.6557872058576211, \"saliency-absolute\": 0.4199843004462088, \"integrated_gradients\": 0.7189803650198754, \"loss\": 0.4848531186580658}, {\"AUROC\": 0.8707809448242188, \"saliency\": 0.6745025087191419, \"saliency-absolute\": 0.4284400005007908, \"integrated_gradients\": 0.7251797211551754, \"loss\": 0.5708353519439697}, {\"AUROC\": 0.8810490965843201, \"saliency\": 0.6080372310288986, \"saliency-absolute\": 0.4049400533490807, \"integrated_gradients\": 0.7128487745992788, \"loss\": 0.44639909267425537}, {\"AUROC\": 0.8614253997802734, \"saliency\": 0.6444627269111292, \"saliency-absolute\": 0.4061384852531731, \"integrated_gradients\": 0.7141256794331576, \"loss\": 0.4689320921897888}, {\"AUROC\": 0.8873250484466553, \"saliency\": 0.6510739996986562, \"saliency-absolute\": 0.4081892930762761, \"integrated_gradients\": 0.7183097138297135, \"loss\": 0.424426406621933}, {\"AUROC\": 0.8700295090675354, \"saliency\": 0.6991651719461431, \"saliency-absolute\": 0.4539691582311717, \"integrated_gradients\": 0.7473565520375602, \"loss\": 0.4600907266139984}, {\"AUROC\": 0.8735201954841614, \"saliency\": 0.663199572921898, \"saliency-absolute\": 0.4403520448190458, \"integrated_gradients\": 0.7254122124553435, \"loss\": 0.46059566736221313}]}}, {\"mode\": \"vega-lite\"});\n",
       "</script>"
      ],
      "text/plain": [
       "alt.LayerChart(...)"
      ]
     },
     "execution_count": 10,
     "metadata": {},
     "output_type": "execute_result"
    }
   ],
   "source": [
    "x = \"AUROC\"\n",
    "y = \"integrated_gradients\"\n",
    "\n",
    "chart = alt.Chart(metrics).mark_point().encode(\n",
    "    x=alt.X(x, scale=alt.Scale(zero=False)),\n",
    "    y=alt.Y(y, scale=alt.Scale(zero=False))\n",
    ")\n",
    "\n",
    "chart = chart + chart.transform_regression(x, y).mark_line()\n",
    "#chart.show()\n",
    "chart"
   ]
  },
  {
   "cell_type": "code",
   "execution_count": 12,
   "metadata": {
    "pycharm": {
     "name": "#%%\n"
    }
   },
   "outputs": [
    {
     "data": {
      "text/html": [
       "\n",
       "<div id=\"altair-viz-4a6e2ce993ed46b48d38a550ced45ace\"></div>\n",
       "<script type=\"text/javascript\">\n",
       "  (function(spec, embedOpt){\n",
       "    let outputDiv = document.currentScript.previousElementSibling;\n",
       "    if (outputDiv.id !== \"altair-viz-4a6e2ce993ed46b48d38a550ced45ace\") {\n",
       "      outputDiv = document.getElementById(\"altair-viz-4a6e2ce993ed46b48d38a550ced45ace\");\n",
       "    }\n",
       "    const paths = {\n",
       "      \"vega\": \"https://cdn.jsdelivr.net/npm//vega@5?noext\",\n",
       "      \"vega-lib\": \"https://cdn.jsdelivr.net/npm//vega-lib?noext\",\n",
       "      \"vega-lite\": \"https://cdn.jsdelivr.net/npm//vega-lite@4.8.1?noext\",\n",
       "      \"vega-embed\": \"https://cdn.jsdelivr.net/npm//vega-embed@6?noext\",\n",
       "    };\n",
       "\n",
       "    function loadScript(lib) {\n",
       "      return new Promise(function(resolve, reject) {\n",
       "        var s = document.createElement('script');\n",
       "        s.src = paths[lib];\n",
       "        s.async = true;\n",
       "        s.onload = () => resolve(paths[lib]);\n",
       "        s.onerror = () => reject(`Error loading script: ${paths[lib]}`);\n",
       "        document.getElementsByTagName(\"head\")[0].appendChild(s);\n",
       "      });\n",
       "    }\n",
       "\n",
       "    function showError(err) {\n",
       "      outputDiv.innerHTML = `<div class=\"error\" style=\"color:red;\">${err}</div>`;\n",
       "      throw err;\n",
       "    }\n",
       "\n",
       "    function displayChart(vegaEmbed) {\n",
       "      vegaEmbed(outputDiv, spec, embedOpt)\n",
       "        .catch(err => showError(`Javascript Error: ${err.message}<br>This usually means there's a typo in your chart specification. See the javascript console for the full traceback.`));\n",
       "    }\n",
       "\n",
       "    if(typeof define === \"function\" && define.amd) {\n",
       "      requirejs.config({paths});\n",
       "      require([\"vega-embed\"], displayChart, err => showError(`Error loading script: ${err.message}`));\n",
       "    } else if (typeof vegaEmbed === \"function\") {\n",
       "      displayChart(vegaEmbed);\n",
       "    } else {\n",
       "      loadScript(\"vega\")\n",
       "        .then(() => loadScript(\"vega-lite\"))\n",
       "        .then(() => loadScript(\"vega-embed\"))\n",
       "        .catch(showError)\n",
       "        .then(() => displayChart(vegaEmbed));\n",
       "    }\n",
       "  })({\"config\": {\"view\": {\"continuousWidth\": 400, \"continuousHeight\": 300}}, \"layer\": [{\"mark\": \"point\", \"encoding\": {\"x\": {\"type\": \"quantitative\", \"field\": \"AUROC\", \"scale\": {\"zero\": false}}, \"y\": {\"type\": \"quantitative\", \"field\": \"saliency\", \"scale\": {\"zero\": false}}}}, {\"mark\": \"line\", \"encoding\": {\"x\": {\"type\": \"quantitative\", \"field\": \"AUROC\", \"scale\": {\"zero\": false}}, \"y\": {\"type\": \"quantitative\", \"field\": \"saliency\", \"scale\": {\"zero\": false}}}, \"transform\": [{\"on\": \"AUROC\", \"regression\": \"saliency\"}]}], \"data\": {\"name\": \"data-d08ed4f97e13f80b723f3fa211e258b1\"}, \"$schema\": \"https://vega.github.io/schema/vega-lite/v4.8.1.json\", \"datasets\": {\"data-d08ed4f97e13f80b723f3fa211e258b1\": [{\"AUROC\": 0.8735201954841614, \"saliency\": 0.663199572921898, \"saliency-absolute\": 0.4403520448190458, \"integrated_gradients\": 0.7254122124553435, \"loss\": 0.46059566736221313}, {\"AUROC\": 0.8766705393791199, \"saliency\": 0.6292127078007258, \"saliency-absolute\": 0.4136842420223612, \"integrated_gradients\": 0.7176497640863194, \"loss\": 0.4810853898525238}, {\"AUROC\": 0.8388271927833557, \"saliency\": 0.6995350693766561, \"saliency-absolute\": 0.4173482533007077, \"integrated_gradients\": 0.7227571563726662, \"loss\": 0.6229137182235718}, {\"AUROC\": 0.8821408748626709, \"saliency\": 0.6526022036679443, \"saliency-absolute\": 0.41011500825135644, \"integrated_gradients\": 0.7236734309753239, \"loss\": 0.4866833984851837}, {\"AUROC\": 0.8742765188217163, \"saliency\": 0.6730221982643105, \"saliency-absolute\": 0.44073331637217167, \"integrated_gradients\": 0.7251951347678653, \"loss\": 0.45688650012016296}, {\"AUROC\": 0.8889890313148499, \"saliency\": 0.6675357846880992, \"saliency-absolute\": 0.42257948987728355, \"integrated_gradients\": 0.724358071935817, \"loss\": 0.4283161461353302}, {\"AUROC\": 0.8889890313148499, \"saliency\": 0.6675357846880992, \"saliency-absolute\": 0.42257948987728355, \"integrated_gradients\": 0.724358071935817, \"loss\": 0.4283161461353302}, {\"AUROC\": 0.8889890313148499, \"saliency\": 0.6675357846880992, \"saliency-absolute\": 0.42257948987728355, \"integrated_gradients\": 0.724358071935817, \"loss\": 0.4283161461353302}, {\"AUROC\": 0.8889890313148499, \"saliency\": 0.6675357846880992, \"saliency-absolute\": 0.42257948987728355, \"integrated_gradients\": 0.724358071935817, \"loss\": 0.4283161461353302}, {\"AUROC\": 0.8760572671890259, \"saliency\": 0.6357942919534206, \"saliency-absolute\": 0.4040772288379454, \"integrated_gradients\": 0.7095452468391891, \"loss\": 0.44680705666542053}, {\"AUROC\": 0.8870142698287964, \"saliency\": 0.655554181792561, \"saliency-absolute\": 0.4131631478667034, \"integrated_gradients\": 0.7208785073646707, \"loss\": 0.4273322522640228}, {\"AUROC\": 0.8582980036735535, \"saliency\": 0.6434131486901272, \"saliency-absolute\": 0.4389771115689792, \"integrated_gradients\": 0.7105057115495546, \"loss\": 0.5019362568855286}, {\"AUROC\": 0.8821408748626709, \"saliency\": 0.6526022036679443, \"saliency-absolute\": 0.41011500825135644, \"integrated_gradients\": 0.7236734309753239, \"loss\": 0.4866833984851837}, {\"AUROC\": 0.8911182284355164, \"saliency\": 0.6657391572704626, \"saliency-absolute\": 0.4210291430122643, \"integrated_gradients\": 0.7252326476411955, \"loss\": 0.42165929079055786}, {\"AUROC\": 0.8861395120620728, \"saliency\": 0.6402080926680914, \"saliency-absolute\": 0.41235934493813986, \"integrated_gradients\": 0.712791703864329, \"loss\": 0.4270090162754059}, {\"AUROC\": 0.8797681927680969, \"saliency\": 0.6554490739655698, \"saliency-absolute\": 0.41453167560222964, \"integrated_gradients\": 0.7134330983694027, \"loss\": 0.4610881507396698}, {\"AUROC\": 0.8889890313148499, \"saliency\": 0.6675357846880992, \"saliency-absolute\": 0.42257948987728355, \"integrated_gradients\": 0.724358071935817, \"loss\": 0.4283161461353302}, {\"AUROC\": 0.8889890313148499, \"saliency\": 0.6675357846880992, \"saliency-absolute\": 0.42257948987728355, \"integrated_gradients\": 0.724358071935817, \"loss\": 0.4283161461353302}, {\"AUROC\": 0.8889890313148499, \"saliency\": 0.6675357846880992, \"saliency-absolute\": 0.42257948987728355, \"integrated_gradients\": 0.724358071935817, \"loss\": 0.4283161461353302}, {\"AUROC\": 0.8704718351364136, \"saliency\": 0.6912896218592148, \"saliency-absolute\": 0.4223133139879188, \"integrated_gradients\": 0.7389834308276401, \"loss\": 0.49962759017944336}, {\"AUROC\": 0.8782604932785034, \"saliency\": 0.6584492277620205, \"saliency-absolute\": 0.4346781016283681, \"integrated_gradients\": 0.7222914379046717, \"loss\": 0.4485660493373871}, {\"AUROC\": 0.8825979232788086, \"saliency\": 0.629949860285721, \"saliency-absolute\": 0.42075988042081736, \"integrated_gradients\": 0.7147397710516985, \"loss\": 0.4362698197364807}, {\"AUROC\": 0.8732817769050598, \"saliency\": 0.6544299622487448, \"saliency-absolute\": 0.4304582676077187, \"integrated_gradients\": 0.7256448296300191, \"loss\": 0.45774996280670166}, {\"AUROC\": 0.8538569808006287, \"saliency\": 0.6557872058576211, \"saliency-absolute\": 0.4199843004462088, \"integrated_gradients\": 0.7189803650198754, \"loss\": 0.4848531186580658}, {\"AUROC\": 0.8707809448242188, \"saliency\": 0.6745025087191419, \"saliency-absolute\": 0.4284400005007908, \"integrated_gradients\": 0.7251797211551754, \"loss\": 0.5708353519439697}, {\"AUROC\": 0.8810490965843201, \"saliency\": 0.6080372310288986, \"saliency-absolute\": 0.4049400533490807, \"integrated_gradients\": 0.7128487745992788, \"loss\": 0.44639909267425537}, {\"AUROC\": 0.8614253997802734, \"saliency\": 0.6444627269111292, \"saliency-absolute\": 0.4061384852531731, \"integrated_gradients\": 0.7141256794331576, \"loss\": 0.4689320921897888}, {\"AUROC\": 0.8873250484466553, \"saliency\": 0.6510739996986562, \"saliency-absolute\": 0.4081892930762761, \"integrated_gradients\": 0.7183097138297135, \"loss\": 0.424426406621933}, {\"AUROC\": 0.8700295090675354, \"saliency\": 0.6991651719461431, \"saliency-absolute\": 0.4539691582311717, \"integrated_gradients\": 0.7473565520375602, \"loss\": 0.4600907266139984}, {\"AUROC\": 0.8735201954841614, \"saliency\": 0.663199572921898, \"saliency-absolute\": 0.4403520448190458, \"integrated_gradients\": 0.7254122124553435, \"loss\": 0.46059566736221313}]}}, {\"mode\": \"vega-lite\"});\n",
       "</script>"
      ],
      "text/plain": [
       "alt.LayerChart(...)"
      ]
     },
     "execution_count": 12,
     "metadata": {},
     "output_type": "execute_result"
    }
   ],
   "source": [
    "x = \"AUROC\"\n",
    "y = \"saliency\"\n",
    "\n",
    "chart = alt.Chart(metrics).mark_point().encode(\n",
    "    x=alt.X(x, scale=alt.Scale(zero=False)),\n",
    "    y=alt.Y(y, scale=alt.Scale(zero=False))\n",
    ")\n",
    "\n",
    "chart = chart + chart.transform_regression(x, y).mark_line()\n",
    "#hart.show()\n",
    "chart"
   ]
  },
  {
   "cell_type": "markdown",
   "metadata": {
    "pycharm": {
     "name": "#%% md\n"
    }
   },
   "source": [
    "## Experiment Best MLP (kfold cross validated)\n",
    "\n",
    "- Using best parameters found (see above)\n",
    "    - Run 5-fold cross validation (was run 4 times)\n",
    "    - Results/metrics were calculated using the mean of all individual runs (4 * 5 = 20 runs)\n",
    "    - Per 5-fold cross validation (4 times) the seed for model training and splitting was chosen randomly"
   ]
  },
  {
   "cell_type": "code",
   "execution_count": 8,
   "metadata": {
    "pycharm": {
     "name": "#%%\n"
    }
   },
   "outputs": [],
   "source": [
    "experiment_name = \"herg_mlp_best_kfold\"\n",
    "exp = mlflow.get_experiment_by_name(experiment_name)\n",
    "\n",
    "query = \"tags.mlflow.runName != 'summary'\"\n",
    "runs = mlflow.search_runs(experiment_ids=exp.experiment_id, filter_string=query)"
   ]
  },
  {
   "cell_type": "markdown",
   "metadata": {
    "pycharm": {
     "name": "#%% md\n"
    }
   },
   "source": [
    "### Seeds\n"
   ]
  },
  {
   "cell_type": "code",
   "execution_count": 20,
   "metadata": {
    "pycharm": {
     "name": "#%%\n"
    }
   },
   "outputs": [
    {
     "data": {
      "text/html": [
       "<div>\n",
       "<style scoped>\n",
       "    .dataframe tbody tr th:only-of-type {\n",
       "        vertical-align: middle;\n",
       "    }\n",
       "\n",
       "    .dataframe tbody tr th {\n",
       "        vertical-align: top;\n",
       "    }\n",
       "\n",
       "    .dataframe thead th {\n",
       "        text-align: right;\n",
       "    }\n",
       "</style>\n",
       "<table border=\"1\" class=\"dataframe\">\n",
       "  <thead>\n",
       "    <tr style=\"text-align: right;\">\n",
       "      <th></th>\n",
       "      <th>run_id</th>\n",
       "      <th>params.seed</th>\n",
       "      <th>params.split_seed</th>\n",
       "    </tr>\n",
       "  </thead>\n",
       "  <tbody>\n",
       "    <tr>\n",
       "      <th>0</th>\n",
       "      <td>6a6b7d0b0e95467cae36382ceb6960c4</td>\n",
       "      <td>3866560668</td>\n",
       "      <td>3866560668</td>\n",
       "    </tr>\n",
       "    <tr>\n",
       "      <th>1</th>\n",
       "      <td>848fe153a644432ca010c0237593d7cc</td>\n",
       "      <td>3866560668</td>\n",
       "      <td>3866560668</td>\n",
       "    </tr>\n",
       "    <tr>\n",
       "      <th>2</th>\n",
       "      <td>1cd9ac20d8e540359cc137f77f493adc</td>\n",
       "      <td>3866560668</td>\n",
       "      <td>3866560668</td>\n",
       "    </tr>\n",
       "    <tr>\n",
       "      <th>3</th>\n",
       "      <td>5a5ae9ecfc6d4b4ba85ef607b3e3f125</td>\n",
       "      <td>3866560668</td>\n",
       "      <td>3866560668</td>\n",
       "    </tr>\n",
       "    <tr>\n",
       "      <th>4</th>\n",
       "      <td>ba98cfaf590743548b1495b8f593f985</td>\n",
       "      <td>3866560668</td>\n",
       "      <td>3866560668</td>\n",
       "    </tr>\n",
       "    <tr>\n",
       "      <th>5</th>\n",
       "      <td>d0adfc6707b34a858262226855645f80</td>\n",
       "      <td>350281109</td>\n",
       "      <td>350281109</td>\n",
       "    </tr>\n",
       "    <tr>\n",
       "      <th>6</th>\n",
       "      <td>996d66d2ec5d4597b2e2b43cdf1f20cf</td>\n",
       "      <td>350281109</td>\n",
       "      <td>350281109</td>\n",
       "    </tr>\n",
       "    <tr>\n",
       "      <th>7</th>\n",
       "      <td>3c1bb8b6ce034011a786b272dd2f5ef0</td>\n",
       "      <td>350281109</td>\n",
       "      <td>350281109</td>\n",
       "    </tr>\n",
       "    <tr>\n",
       "      <th>8</th>\n",
       "      <td>4d74b5068e8742b7849083405a624e20</td>\n",
       "      <td>350281109</td>\n",
       "      <td>350281109</td>\n",
       "    </tr>\n",
       "    <tr>\n",
       "      <th>9</th>\n",
       "      <td>69e529ece08141dd88ce377f3b1d94ab</td>\n",
       "      <td>350281109</td>\n",
       "      <td>350281109</td>\n",
       "    </tr>\n",
       "    <tr>\n",
       "      <th>10</th>\n",
       "      <td>35a98930e140442aa60d2d2a59349f20</td>\n",
       "      <td>1493885053</td>\n",
       "      <td>1493885053</td>\n",
       "    </tr>\n",
       "    <tr>\n",
       "      <th>11</th>\n",
       "      <td>ab5b7648b9d04d9c84938178e374fa10</td>\n",
       "      <td>1493885053</td>\n",
       "      <td>1493885053</td>\n",
       "    </tr>\n",
       "    <tr>\n",
       "      <th>12</th>\n",
       "      <td>d949ebbc867e4c48b9f0f238f5b1a8a7</td>\n",
       "      <td>1493885053</td>\n",
       "      <td>1493885053</td>\n",
       "    </tr>\n",
       "    <tr>\n",
       "      <th>13</th>\n",
       "      <td>f75eedc75e3b4c1690d89c0723a99ec2</td>\n",
       "      <td>1493885053</td>\n",
       "      <td>1493885053</td>\n",
       "    </tr>\n",
       "    <tr>\n",
       "      <th>14</th>\n",
       "      <td>ff498ae9293146f6b9dd02e6e67735f4</td>\n",
       "      <td>1493885053</td>\n",
       "      <td>1493885053</td>\n",
       "    </tr>\n",
       "    <tr>\n",
       "      <th>15</th>\n",
       "      <td>f562ad5973c64dcabcfd4d6400a4b95b</td>\n",
       "      <td>920820180</td>\n",
       "      <td>920820180</td>\n",
       "    </tr>\n",
       "    <tr>\n",
       "      <th>16</th>\n",
       "      <td>8ef68d33cac8498eadbb2caf32a220df</td>\n",
       "      <td>920820180</td>\n",
       "      <td>920820180</td>\n",
       "    </tr>\n",
       "    <tr>\n",
       "      <th>17</th>\n",
       "      <td>c196bfd05d6442f69861ca8222829955</td>\n",
       "      <td>920820180</td>\n",
       "      <td>920820180</td>\n",
       "    </tr>\n",
       "    <tr>\n",
       "      <th>18</th>\n",
       "      <td>4fd9277432504411a6e48a6e39d3db07</td>\n",
       "      <td>920820180</td>\n",
       "      <td>920820180</td>\n",
       "    </tr>\n",
       "    <tr>\n",
       "      <th>19</th>\n",
       "      <td>7663b00d292f4400b7d2a54de2b006fa</td>\n",
       "      <td>920820180</td>\n",
       "      <td>920820180</td>\n",
       "    </tr>\n",
       "  </tbody>\n",
       "</table>\n",
       "</div>"
      ],
      "text/plain": [
       "                              run_id params.seed params.split_seed\n",
       "0   6a6b7d0b0e95467cae36382ceb6960c4  3866560668        3866560668\n",
       "1   848fe153a644432ca010c0237593d7cc  3866560668        3866560668\n",
       "2   1cd9ac20d8e540359cc137f77f493adc  3866560668        3866560668\n",
       "3   5a5ae9ecfc6d4b4ba85ef607b3e3f125  3866560668        3866560668\n",
       "4   ba98cfaf590743548b1495b8f593f985  3866560668        3866560668\n",
       "5   d0adfc6707b34a858262226855645f80   350281109         350281109\n",
       "6   996d66d2ec5d4597b2e2b43cdf1f20cf   350281109         350281109\n",
       "7   3c1bb8b6ce034011a786b272dd2f5ef0   350281109         350281109\n",
       "8   4d74b5068e8742b7849083405a624e20   350281109         350281109\n",
       "9   69e529ece08141dd88ce377f3b1d94ab   350281109         350281109\n",
       "10  35a98930e140442aa60d2d2a59349f20  1493885053        1493885053\n",
       "11  ab5b7648b9d04d9c84938178e374fa10  1493885053        1493885053\n",
       "12  d949ebbc867e4c48b9f0f238f5b1a8a7  1493885053        1493885053\n",
       "13  f75eedc75e3b4c1690d89c0723a99ec2  1493885053        1493885053\n",
       "14  ff498ae9293146f6b9dd02e6e67735f4  1493885053        1493885053\n",
       "15  f562ad5973c64dcabcfd4d6400a4b95b   920820180         920820180\n",
       "16  8ef68d33cac8498eadbb2caf32a220df   920820180         920820180\n",
       "17  c196bfd05d6442f69861ca8222829955   920820180         920820180\n",
       "18  4fd9277432504411a6e48a6e39d3db07   920820180         920820180\n",
       "19  7663b00d292f4400b7d2a54de2b006fa   920820180         920820180"
      ]
     },
     "execution_count": 20,
     "metadata": {},
     "output_type": "execute_result"
    }
   ],
   "source": [
    "runs[[\"run_id\", \"params.seed\", \"params.split_seed\"]].head(n=99)"
   ]
  },
  {
   "cell_type": "markdown",
   "metadata": {
    "pycharm": {
     "name": "#%% md\n"
    }
   },
   "source": [
    "### Parameters"
   ]
  },
  {
   "cell_type": "code",
   "execution_count": 21,
   "metadata": {
    "pycharm": {
     "name": "#%%\n"
    }
   },
   "outputs": [
    {
     "name": "stdout",
     "output_type": "stream",
     "text": [
      "smile1: c1ccccc1CNCC - active\n",
      "attribution_kwargs/data_types: ['test']\n",
      "featurizer_kwargs/use_chirality: True\n",
      "auto_scale_batch_size: False\n",
      "batch_norm: True\n",
      "fast_dev_run: False\n",
      "ignore_index: -100\n",
      "momentum: 0.1\n",
      "num_val_batches: []\n",
      "move_metrics_to_cpu: False\n",
      "batch_size: 512\n",
      "attribution_kwargs/label: active_g10\n",
      "split_size: (5, 4, 0)\n",
      "limit_predict_batches: 1.0\n",
      "gradient_clip_val: 1.0\n",
      "categorical_indices: None\n",
      "num_workers: 8\n",
      "patience: 10\n",
      "featurizer_mp_context: fork\n",
      "scheduler_params/warmup_steps: 0.1\n",
      "featurizer_kwargs/use_features: True\n",
      "log_every_n_steps: 50\n",
      "minimize: True\n",
      "split_seed: 3866560668\n",
      "num_gpus: 1\n",
      "overfit_batches: 0.0\n",
      "normalize_input: True\n",
      "num_classes: 2\n",
      "checkpoint_minimize: True\n",
      "standardize: False\n",
      "stochastic_weight_avg: False\n",
      "featurizer_kwargs/return_count: True\n",
      "hidden_size: [128, 128, 128]\n",
      "limit_test_batches: 1.0\n",
      "use_cache: True\n",
      "should_stop: False\n",
      "attribution_kwargs/label_idx: 0\n",
      "auto_lr_find: False\n",
      "max_steps: 1000\n",
      "attribution_kwargs/references: [('CCOc1ccccc1', 1), ('c1ccccc1CNCC', 1), ('c1ccccc1CCNC', 1), ('c1ccccc1CN2CCCCC2', 1), ('c1ccccc1Cc1ccccc1', 1)]\n",
      "accumulate_grad_batches: 1\n",
      "input_size: 2017\n",
      "val_check_interval: 0.5\n",
      "patience_objective: val/loss\n",
      "attribution_kwargs/threshold: 0.5517712235450745\n",
      "smile2: c1ccccc1CCNC - active\n",
      "objective_name: val/loss\n",
      "num_predict_batches: []\n",
      "featurizer_name: combined\n",
      "num_test_batches: []\n",
      "patience_minimize: True\n",
      "featurizer_kwargs/fold: 1024\n",
      "terminate_on_nan: True\n",
      "use_labels: ['active_g10']\n",
      "lr: 0.001\n",
      "verbose_evaluate: True\n",
      "cache_dir: ../../../data/herg/\n",
      "track_grad_norm: -1.0\n",
      "experiment_name: herg_mlp_best_kfold\n",
      "checkpoint_objective: val/loss\n",
      "check_val_every_n_epoch: 1\n",
      "embedding_dims: None\n",
      "reload_dataloaders_every_n_epochs: 0\n",
      "class_weights: None\n",
      "limit_train_batches: 1.0\n",
      "categorical_size: None\n",
      "flush_logs_every_n_steps: 100\n",
      "precision: 32\n",
      "featurizer_chunksize: 100\n",
      "trainable_parameters: 292225\n",
      "smile3: c1ccccc1CN2CCCCC2 - active\n",
      "seed: 3866560668\n",
      "tracking_uri: http://localhost:5000\n",
      "deterministic: True\n",
      "weights_summary: top\n",
      "smile4: c1ccccc1Cc1ccccc1 - active\n",
      "limit_val_batches: 1.0\n",
      "scheduler: linear_with_warmup\n",
      "num_sanity_val_batches: []\n",
      "prepare_data_per_node: True\n",
      "smile0: CCOc1ccccc1 - active\n",
      "optimizer: adamw\n",
      "optimizer_params/weight_decay: 0.0001\n",
      "train/threshold-t0: 0.5517712235450745\n",
      "featurizer_kwargs/radius: 3\n",
      "split_type: random_kfold\n",
      "dropout: 0.0\n",
      "featurizer_n_jobs: 8\n",
      "num_sanity_val_steps: inf\n",
      "run_name: mlp\n",
      "num_training_batches: 0\n"
     ]
    }
   ],
   "source": [
    "params = [c for c in runs.columns if \"search_space\" not in c and \"params\" in c]\n",
    "for p, v in zip(params, runs[params].iloc[0].head(n=99)):\n",
    "    print(f\"{p.replace('params.', '')}: {v}\")"
   ]
  },
  {
   "cell_type": "markdown",
   "metadata": {
    "pycharm": {
     "name": "#%% md\n"
    }
   },
   "source": [
    "### Metrics\n",
    "\n",
    "#### Performance on hERG dataset"
   ]
  },
  {
   "cell_type": "code",
   "execution_count": 12,
   "metadata": {
    "pycharm": {
     "name": "#%%\n"
    }
   },
   "outputs": [
    {
     "data": {
      "text/html": [
       "<div>\n",
       "<style scoped>\n",
       "    .dataframe tbody tr th:only-of-type {\n",
       "        vertical-align: middle;\n",
       "    }\n",
       "\n",
       "    .dataframe tbody tr th {\n",
       "        vertical-align: top;\n",
       "    }\n",
       "\n",
       "    .dataframe thead th {\n",
       "        text-align: right;\n",
       "    }\n",
       "</style>\n",
       "<table border=\"1\" class=\"dataframe\">\n",
       "  <thead>\n",
       "    <tr style=\"text-align: right;\">\n",
       "      <th></th>\n",
       "      <th>count</th>\n",
       "      <th>mean</th>\n",
       "      <th>std</th>\n",
       "      <th>min</th>\n",
       "      <th>25%</th>\n",
       "      <th>50%</th>\n",
       "      <th>75%</th>\n",
       "      <th>max</th>\n",
       "    </tr>\n",
       "  </thead>\n",
       "  <tbody>\n",
       "    <tr>\n",
       "      <th>loss</th>\n",
       "      <td>20.0</td>\n",
       "      <td>0.444532</td>\n",
       "      <td>0.017877</td>\n",
       "      <td>0.409000</td>\n",
       "      <td>0.434584</td>\n",
       "      <td>0.445971</td>\n",
       "      <td>0.457906</td>\n",
       "      <td>0.474792</td>\n",
       "    </tr>\n",
       "    <tr>\n",
       "      <th>AUROC</th>\n",
       "      <td>20.0</td>\n",
       "      <td>0.877790</td>\n",
       "      <td>0.010099</td>\n",
       "      <td>0.864952</td>\n",
       "      <td>0.870095</td>\n",
       "      <td>0.876105</td>\n",
       "      <td>0.883195</td>\n",
       "      <td>0.895859</td>\n",
       "    </tr>\n",
       "  </tbody>\n",
       "</table>\n",
       "</div>"
      ],
      "text/plain": [
       "       count      mean       std       min       25%       50%       75%  \\\n",
       "loss    20.0  0.444532  0.017877  0.409000  0.434584  0.445971  0.457906   \n",
       "AUROC   20.0  0.877790  0.010099  0.864952  0.870095  0.876105  0.883195   \n",
       "\n",
       "            max  \n",
       "loss   0.474792  \n",
       "AUROC  0.895859  "
      ]
     },
     "execution_count": 12,
     "metadata": {},
     "output_type": "execute_result"
    }
   ],
   "source": [
    "metrics_names = [\n",
    "    \"metrics.test/AUROC\",\n",
    "    \"metrics.test/loss\",\n",
    "]\n",
    "metrics_columns = [c for c in runs.columns if any(c in m for m in metrics_names)]\n",
    "metrics = runs[metrics_columns]\n",
    "\n",
    "metrics.columns = [c.split(\"/\")[-1] for c in metrics.columns]\n",
    "metrics.describe().T"
   ]
  },
  {
   "cell_type": "markdown",
   "metadata": {
    "pycharm": {
     "name": "#%% md\n"
    }
   },
   "source": [
    "#### Active Hergophores on Inactive Model Predictions\n",
    "\n",
    "- Atomic attribution using various methods"
   ]
  },
  {
   "cell_type": "code",
   "execution_count": 26,
   "metadata": {
    "pycharm": {
     "name": "#%%\n"
    }
   },
   "outputs": [
    {
     "data": {
      "text/html": [
       "<div>\n",
       "<style scoped>\n",
       "    .dataframe tbody tr th:only-of-type {\n",
       "        vertical-align: middle;\n",
       "    }\n",
       "\n",
       "    .dataframe tbody tr th {\n",
       "        vertical-align: top;\n",
       "    }\n",
       "\n",
       "    .dataframe thead th {\n",
       "        text-align: right;\n",
       "    }\n",
       "</style>\n",
       "<table border=\"1\" class=\"dataframe\">\n",
       "  <thead>\n",
       "    <tr style=\"text-align: right;\">\n",
       "      <th></th>\n",
       "      <th>count</th>\n",
       "      <th>mean</th>\n",
       "      <th>std</th>\n",
       "      <th>min</th>\n",
       "      <th>25%</th>\n",
       "      <th>50%</th>\n",
       "      <th>75%</th>\n",
       "      <th>max</th>\n",
       "    </tr>\n",
       "  </thead>\n",
       "  <tbody>\n",
       "    <tr>\n",
       "      <th>input_x_gradient</th>\n",
       "      <td>20.0</td>\n",
       "      <td>0.673656</td>\n",
       "      <td>0.015442</td>\n",
       "      <td>0.643420</td>\n",
       "      <td>0.666187</td>\n",
       "      <td>0.673315</td>\n",
       "      <td>0.686064</td>\n",
       "      <td>0.694500</td>\n",
       "    </tr>\n",
       "    <tr>\n",
       "      <th>occlusion</th>\n",
       "      <td>20.0</td>\n",
       "      <td>0.660455</td>\n",
       "      <td>0.029884</td>\n",
       "      <td>0.585352</td>\n",
       "      <td>0.646043</td>\n",
       "      <td>0.659704</td>\n",
       "      <td>0.686653</td>\n",
       "      <td>0.708293</td>\n",
       "    </tr>\n",
       "    <tr>\n",
       "      <th>shapley_value_sampling</th>\n",
       "      <td>20.0</td>\n",
       "      <td>0.703891</td>\n",
       "      <td>0.014118</td>\n",
       "      <td>0.671523</td>\n",
       "      <td>0.700048</td>\n",
       "      <td>0.707599</td>\n",
       "      <td>0.711563</td>\n",
       "      <td>0.721415</td>\n",
       "    </tr>\n",
       "    <tr>\n",
       "      <th>saliency</th>\n",
       "      <td>20.0</td>\n",
       "      <td>0.653187</td>\n",
       "      <td>0.022565</td>\n",
       "      <td>0.594370</td>\n",
       "      <td>0.639084</td>\n",
       "      <td>0.659191</td>\n",
       "      <td>0.667337</td>\n",
       "      <td>0.692389</td>\n",
       "    </tr>\n",
       "    <tr>\n",
       "      <th>integrated_gradients</th>\n",
       "      <td>20.0</td>\n",
       "      <td>0.685782</td>\n",
       "      <td>0.018095</td>\n",
       "      <td>0.652881</td>\n",
       "      <td>0.673012</td>\n",
       "      <td>0.689654</td>\n",
       "      <td>0.700345</td>\n",
       "      <td>0.711965</td>\n",
       "    </tr>\n",
       "    <tr>\n",
       "      <th>deeplift</th>\n",
       "      <td>20.0</td>\n",
       "      <td>0.686678</td>\n",
       "      <td>0.018304</td>\n",
       "      <td>0.650968</td>\n",
       "      <td>0.672346</td>\n",
       "      <td>0.690172</td>\n",
       "      <td>0.698949</td>\n",
       "      <td>0.713166</td>\n",
       "    </tr>\n",
       "    <tr>\n",
       "      <th>noise_tunnel_ig</th>\n",
       "      <td>20.0</td>\n",
       "      <td>0.674616</td>\n",
       "      <td>0.021600</td>\n",
       "      <td>0.618974</td>\n",
       "      <td>0.664155</td>\n",
       "      <td>0.674567</td>\n",
       "      <td>0.685350</td>\n",
       "      <td>0.712579</td>\n",
       "    </tr>\n",
       "    <tr>\n",
       "      <th>saliency-absolute</th>\n",
       "      <td>20.0</td>\n",
       "      <td>0.411718</td>\n",
       "      <td>0.015160</td>\n",
       "      <td>0.378439</td>\n",
       "      <td>0.404915</td>\n",
       "      <td>0.412747</td>\n",
       "      <td>0.424115</td>\n",
       "      <td>0.432723</td>\n",
       "    </tr>\n",
       "  </tbody>\n",
       "</table>\n",
       "</div>"
      ],
      "text/plain": [
       "                        count      mean       std       min       25%  \\\n",
       "input_x_gradient         20.0  0.673656  0.015442  0.643420  0.666187   \n",
       "occlusion                20.0  0.660455  0.029884  0.585352  0.646043   \n",
       "shapley_value_sampling   20.0  0.703891  0.014118  0.671523  0.700048   \n",
       "saliency                 20.0  0.653187  0.022565  0.594370  0.639084   \n",
       "integrated_gradients     20.0  0.685782  0.018095  0.652881  0.673012   \n",
       "deeplift                 20.0  0.686678  0.018304  0.650968  0.672346   \n",
       "noise_tunnel_ig          20.0  0.674616  0.021600  0.618974  0.664155   \n",
       "saliency-absolute        20.0  0.411718  0.015160  0.378439  0.404915   \n",
       "\n",
       "                             50%       75%       max  \n",
       "input_x_gradient        0.673315  0.686064  0.694500  \n",
       "occlusion               0.659704  0.686653  0.708293  \n",
       "shapley_value_sampling  0.707599  0.711563  0.721415  \n",
       "saliency                0.659191  0.667337  0.692389  \n",
       "integrated_gradients    0.689654  0.700345  0.711965  \n",
       "deeplift                0.690172  0.698949  0.713166  \n",
       "noise_tunnel_ig         0.674567  0.685350  0.712579  \n",
       "saliency-absolute       0.412747  0.424115  0.432723  "
      ]
     },
     "execution_count": 26,
     "metadata": {},
     "output_type": "execute_result"
    }
   ],
   "source": [
    "metrics_names = [\n",
    "    \"metrics.test/mean/avg_score_pred_inactive/integrated_gradients\",\n",
    "    \"metrics.test/mean/avg_score_pred_inactive/saliency\",\n",
    "    \"metrics.test/mean/avg_score_pred_inactive/saliency-absolute\",\n",
    "    \"metrics.test/mean/avg_score_pred_inactive/input_x_gradient\",\n",
    "    \"metrics.test/mean/avg_score_pred_inactive/occlusion\",\n",
    "    \"metrics.test/mean/avg_score_pred_inactive/deeplift\",\n",
    "    \"metrics.test/mean/avg_score_pred_inactive/shapley_value_sampling\",\n",
    "    \"metrics.test/mean/avg_score_pred_inactive/noise_tunnel_ig\",\n",
    "]\n",
    "metrics_columns = [c for c in runs.columns if any(c in m for m in metrics_names)]\n",
    "metrics = runs[metrics_columns]\n",
    "\n",
    "metrics.columns = [c.split(\"/\")[-1] for c in metrics.columns]\n",
    "metrics.describe().T\n"
   ]
  },
  {
   "cell_type": "markdown",
   "metadata": {},
   "source": [
    "#### Active Hergophores on Active Model Predictions\n",
    "\n",
    "- Atomic attribution using various methods"
   ]
  },
  {
   "cell_type": "code",
   "execution_count": 27,
   "metadata": {
    "pycharm": {
     "name": "#%%\n"
    }
   },
   "outputs": [
    {
     "data": {
      "text/html": [
       "<div>\n",
       "<style scoped>\n",
       "    .dataframe tbody tr th:only-of-type {\n",
       "        vertical-align: middle;\n",
       "    }\n",
       "\n",
       "    .dataframe tbody tr th {\n",
       "        vertical-align: top;\n",
       "    }\n",
       "\n",
       "    .dataframe thead th {\n",
       "        text-align: right;\n",
       "    }\n",
       "</style>\n",
       "<table border=\"1\" class=\"dataframe\">\n",
       "  <thead>\n",
       "    <tr style=\"text-align: right;\">\n",
       "      <th></th>\n",
       "      <th>count</th>\n",
       "      <th>mean</th>\n",
       "      <th>std</th>\n",
       "      <th>min</th>\n",
       "      <th>25%</th>\n",
       "      <th>50%</th>\n",
       "      <th>75%</th>\n",
       "      <th>max</th>\n",
       "    </tr>\n",
       "  </thead>\n",
       "  <tbody>\n",
       "    <tr>\n",
       "      <th>deeplift</th>\n",
       "      <td>20.0</td>\n",
       "      <td>0.661436</td>\n",
       "      <td>0.019808</td>\n",
       "      <td>0.604043</td>\n",
       "      <td>0.654186</td>\n",
       "      <td>0.666387</td>\n",
       "      <td>0.674754</td>\n",
       "      <td>0.682743</td>\n",
       "    </tr>\n",
       "    <tr>\n",
       "      <th>shapley_value_sampling</th>\n",
       "      <td>20.0</td>\n",
       "      <td>0.678407</td>\n",
       "      <td>0.012596</td>\n",
       "      <td>0.649541</td>\n",
       "      <td>0.673545</td>\n",
       "      <td>0.681229</td>\n",
       "      <td>0.688067</td>\n",
       "      <td>0.693171</td>\n",
       "    </tr>\n",
       "    <tr>\n",
       "      <th>saliency-absolute</th>\n",
       "      <td>20.0</td>\n",
       "      <td>0.443144</td>\n",
       "      <td>0.016747</td>\n",
       "      <td>0.407788</td>\n",
       "      <td>0.432806</td>\n",
       "      <td>0.444909</td>\n",
       "      <td>0.451740</td>\n",
       "      <td>0.473916</td>\n",
       "    </tr>\n",
       "    <tr>\n",
       "      <th>noise_tunnel_ig</th>\n",
       "      <td>20.0</td>\n",
       "      <td>0.656777</td>\n",
       "      <td>0.017179</td>\n",
       "      <td>0.611564</td>\n",
       "      <td>0.651692</td>\n",
       "      <td>0.659322</td>\n",
       "      <td>0.665696</td>\n",
       "      <td>0.686385</td>\n",
       "    </tr>\n",
       "    <tr>\n",
       "      <th>saliency</th>\n",
       "      <td>20.0</td>\n",
       "      <td>0.610513</td>\n",
       "      <td>0.024430</td>\n",
       "      <td>0.563042</td>\n",
       "      <td>0.594073</td>\n",
       "      <td>0.614535</td>\n",
       "      <td>0.623000</td>\n",
       "      <td>0.659853</td>\n",
       "    </tr>\n",
       "    <tr>\n",
       "      <th>input_x_gradient</th>\n",
       "      <td>20.0</td>\n",
       "      <td>0.649452</td>\n",
       "      <td>0.013040</td>\n",
       "      <td>0.627294</td>\n",
       "      <td>0.642662</td>\n",
       "      <td>0.649568</td>\n",
       "      <td>0.654752</td>\n",
       "      <td>0.678476</td>\n",
       "    </tr>\n",
       "    <tr>\n",
       "      <th>integrated_gradients</th>\n",
       "      <td>20.0</td>\n",
       "      <td>0.662230</td>\n",
       "      <td>0.017332</td>\n",
       "      <td>0.612838</td>\n",
       "      <td>0.654511</td>\n",
       "      <td>0.668836</td>\n",
       "      <td>0.674633</td>\n",
       "      <td>0.681135</td>\n",
       "    </tr>\n",
       "    <tr>\n",
       "      <th>occlusion</th>\n",
       "      <td>20.0</td>\n",
       "      <td>0.661626</td>\n",
       "      <td>0.016927</td>\n",
       "      <td>0.629488</td>\n",
       "      <td>0.650606</td>\n",
       "      <td>0.668766</td>\n",
       "      <td>0.672189</td>\n",
       "      <td>0.684617</td>\n",
       "    </tr>\n",
       "  </tbody>\n",
       "</table>\n",
       "</div>"
      ],
      "text/plain": [
       "                        count      mean       std       min       25%  \\\n",
       "deeplift                 20.0  0.661436  0.019808  0.604043  0.654186   \n",
       "shapley_value_sampling   20.0  0.678407  0.012596  0.649541  0.673545   \n",
       "saliency-absolute        20.0  0.443144  0.016747  0.407788  0.432806   \n",
       "noise_tunnel_ig          20.0  0.656777  0.017179  0.611564  0.651692   \n",
       "saliency                 20.0  0.610513  0.024430  0.563042  0.594073   \n",
       "input_x_gradient         20.0  0.649452  0.013040  0.627294  0.642662   \n",
       "integrated_gradients     20.0  0.662230  0.017332  0.612838  0.654511   \n",
       "occlusion                20.0  0.661626  0.016927  0.629488  0.650606   \n",
       "\n",
       "                             50%       75%       max  \n",
       "deeplift                0.666387  0.674754  0.682743  \n",
       "shapley_value_sampling  0.681229  0.688067  0.693171  \n",
       "saliency-absolute       0.444909  0.451740  0.473916  \n",
       "noise_tunnel_ig         0.659322  0.665696  0.686385  \n",
       "saliency                0.614535  0.623000  0.659853  \n",
       "input_x_gradient        0.649568  0.654752  0.678476  \n",
       "integrated_gradients    0.668836  0.674633  0.681135  \n",
       "occlusion               0.668766  0.672189  0.684617  "
      ]
     },
     "execution_count": 27,
     "metadata": {},
     "output_type": "execute_result"
    }
   ],
   "source": [
    "metrics_names = [\n",
    "    \"metrics.test/mean/avg_score_pred_active\",\n",
    "    \"metrics.test/mean/avg_score_pred_active/integrated_gradients\",\n",
    "    \"metrics.test/mean/avg_score_pred_active/saliency\",\n",
    "    \"metrics.test/mean/avg_score_pred_active/saliency-absolute\",\n",
    "    \"metrics.test/mean/avg_score_pred_active/input_x_gradient\",\n",
    "    \"metrics.test/mean/avg_score_pred_active/occlusion\",\n",
    "    \"metrics.test/mean/avg_score_pred_active/deeplift\",\n",
    "    \"metrics.test/mean/avg_score_pred_active/shapley_value_sampling\",\n",
    "    \"metrics.test/mean/avg_score_pred_active/noise_tunnel_ig\",\n",
    "]\n",
    "metrics_columns = [c for c in runs.columns if any(c in m for m in metrics_names)]\n",
    "metrics = runs[metrics_columns]\n",
    "\n",
    "metrics.columns = [c.split(\"/\")[-1] for c in metrics.columns]\n",
    "metrics.describe().T"
   ]
  },
  {
   "cell_type": "markdown",
   "metadata": {
    "pycharm": {
     "name": "#%% md\n"
    }
   },
   "source": [
    "#### Correlations"
   ]
  },
  {
   "cell_type": "code",
   "execution_count": 29,
   "metadata": {
    "pycharm": {
     "name": "#%%\n"
    }
   },
   "outputs": [
    {
     "data": {
      "text/html": [
       "<div>\n",
       "<style scoped>\n",
       "    .dataframe tbody tr th:only-of-type {\n",
       "        vertical-align: middle;\n",
       "    }\n",
       "\n",
       "    .dataframe tbody tr th {\n",
       "        vertical-align: top;\n",
       "    }\n",
       "\n",
       "    .dataframe thead th {\n",
       "        text-align: right;\n",
       "    }\n",
       "</style>\n",
       "<table border=\"1\" class=\"dataframe\">\n",
       "  <thead>\n",
       "    <tr style=\"text-align: right;\">\n",
       "      <th></th>\n",
       "      <th>input_x_gradient</th>\n",
       "      <th>occlusion</th>\n",
       "      <th>shapley_value_sampling</th>\n",
       "      <th>loss</th>\n",
       "      <th>saliency</th>\n",
       "      <th>integrated_gradients</th>\n",
       "      <th>AUROC</th>\n",
       "      <th>deeplift</th>\n",
       "      <th>noise_tunnel_ig</th>\n",
       "      <th>saliency-absolute</th>\n",
       "    </tr>\n",
       "  </thead>\n",
       "  <tbody>\n",
       "    <tr>\n",
       "      <th>input_x_gradient</th>\n",
       "      <td>1.000000</td>\n",
       "      <td>0.736982</td>\n",
       "      <td>0.684457</td>\n",
       "      <td>0.173471</td>\n",
       "      <td>0.795202</td>\n",
       "      <td>0.850723</td>\n",
       "      <td>-0.240127</td>\n",
       "      <td>0.828172</td>\n",
       "      <td>0.254193</td>\n",
       "      <td>0.360526</td>\n",
       "    </tr>\n",
       "    <tr>\n",
       "      <th>occlusion</th>\n",
       "      <td>0.736982</td>\n",
       "      <td>1.000000</td>\n",
       "      <td>0.611553</td>\n",
       "      <td>0.039430</td>\n",
       "      <td>0.699862</td>\n",
       "      <td>0.705018</td>\n",
       "      <td>-0.087137</td>\n",
       "      <td>0.720586</td>\n",
       "      <td>0.416553</td>\n",
       "      <td>0.421077</td>\n",
       "    </tr>\n",
       "    <tr>\n",
       "      <th>shapley_value_sampling</th>\n",
       "      <td>0.684457</td>\n",
       "      <td>0.611553</td>\n",
       "      <td>1.000000</td>\n",
       "      <td>-0.228910</td>\n",
       "      <td>0.726744</td>\n",
       "      <td>0.498122</td>\n",
       "      <td>0.182691</td>\n",
       "      <td>0.479755</td>\n",
       "      <td>0.413949</td>\n",
       "      <td>0.228049</td>\n",
       "    </tr>\n",
       "    <tr>\n",
       "      <th>loss</th>\n",
       "      <td>0.173471</td>\n",
       "      <td>0.039430</td>\n",
       "      <td>-0.228910</td>\n",
       "      <td>1.000000</td>\n",
       "      <td>-0.165068</td>\n",
       "      <td>0.272456</td>\n",
       "      <td>-0.970184</td>\n",
       "      <td>0.269424</td>\n",
       "      <td>-0.152226</td>\n",
       "      <td>0.048935</td>\n",
       "    </tr>\n",
       "    <tr>\n",
       "      <th>saliency</th>\n",
       "      <td>0.795202</td>\n",
       "      <td>0.699862</td>\n",
       "      <td>0.726744</td>\n",
       "      <td>-0.165068</td>\n",
       "      <td>1.000000</td>\n",
       "      <td>0.548351</td>\n",
       "      <td>0.087724</td>\n",
       "      <td>0.518943</td>\n",
       "      <td>0.152148</td>\n",
       "      <td>0.517768</td>\n",
       "    </tr>\n",
       "    <tr>\n",
       "      <th>integrated_gradients</th>\n",
       "      <td>0.850723</td>\n",
       "      <td>0.705018</td>\n",
       "      <td>0.498122</td>\n",
       "      <td>0.272456</td>\n",
       "      <td>0.548351</td>\n",
       "      <td>1.000000</td>\n",
       "      <td>-0.318141</td>\n",
       "      <td>0.981481</td>\n",
       "      <td>0.268290</td>\n",
       "      <td>0.367018</td>\n",
       "    </tr>\n",
       "    <tr>\n",
       "      <th>AUROC</th>\n",
       "      <td>-0.240127</td>\n",
       "      <td>-0.087137</td>\n",
       "      <td>0.182691</td>\n",
       "      <td>-0.970184</td>\n",
       "      <td>0.087724</td>\n",
       "      <td>-0.318141</td>\n",
       "      <td>1.000000</td>\n",
       "      <td>-0.337791</td>\n",
       "      <td>0.129198</td>\n",
       "      <td>-0.038397</td>\n",
       "    </tr>\n",
       "    <tr>\n",
       "      <th>deeplift</th>\n",
       "      <td>0.828172</td>\n",
       "      <td>0.720586</td>\n",
       "      <td>0.479755</td>\n",
       "      <td>0.269424</td>\n",
       "      <td>0.518943</td>\n",
       "      <td>0.981481</td>\n",
       "      <td>-0.337791</td>\n",
       "      <td>1.000000</td>\n",
       "      <td>0.256552</td>\n",
       "      <td>0.292950</td>\n",
       "    </tr>\n",
       "    <tr>\n",
       "      <th>noise_tunnel_ig</th>\n",
       "      <td>0.254193</td>\n",
       "      <td>0.416553</td>\n",
       "      <td>0.413949</td>\n",
       "      <td>-0.152226</td>\n",
       "      <td>0.152148</td>\n",
       "      <td>0.268290</td>\n",
       "      <td>0.129198</td>\n",
       "      <td>0.256552</td>\n",
       "      <td>1.000000</td>\n",
       "      <td>-0.302355</td>\n",
       "    </tr>\n",
       "    <tr>\n",
       "      <th>saliency-absolute</th>\n",
       "      <td>0.360526</td>\n",
       "      <td>0.421077</td>\n",
       "      <td>0.228049</td>\n",
       "      <td>0.048935</td>\n",
       "      <td>0.517768</td>\n",
       "      <td>0.367018</td>\n",
       "      <td>-0.038397</td>\n",
       "      <td>0.292950</td>\n",
       "      <td>-0.302355</td>\n",
       "      <td>1.000000</td>\n",
       "    </tr>\n",
       "  </tbody>\n",
       "</table>\n",
       "</div>"
      ],
      "text/plain": [
       "                        input_x_gradient  occlusion  shapley_value_sampling  \\\n",
       "input_x_gradient                1.000000   0.736982                0.684457   \n",
       "occlusion                       0.736982   1.000000                0.611553   \n",
       "shapley_value_sampling          0.684457   0.611553                1.000000   \n",
       "loss                            0.173471   0.039430               -0.228910   \n",
       "saliency                        0.795202   0.699862                0.726744   \n",
       "integrated_gradients            0.850723   0.705018                0.498122   \n",
       "AUROC                          -0.240127  -0.087137                0.182691   \n",
       "deeplift                        0.828172   0.720586                0.479755   \n",
       "noise_tunnel_ig                 0.254193   0.416553                0.413949   \n",
       "saliency-absolute               0.360526   0.421077                0.228049   \n",
       "\n",
       "                            loss  saliency  integrated_gradients     AUROC  \\\n",
       "input_x_gradient        0.173471  0.795202              0.850723 -0.240127   \n",
       "occlusion               0.039430  0.699862              0.705018 -0.087137   \n",
       "shapley_value_sampling -0.228910  0.726744              0.498122  0.182691   \n",
       "loss                    1.000000 -0.165068              0.272456 -0.970184   \n",
       "saliency               -0.165068  1.000000              0.548351  0.087724   \n",
       "integrated_gradients    0.272456  0.548351              1.000000 -0.318141   \n",
       "AUROC                  -0.970184  0.087724             -0.318141  1.000000   \n",
       "deeplift                0.269424  0.518943              0.981481 -0.337791   \n",
       "noise_tunnel_ig        -0.152226  0.152148              0.268290  0.129198   \n",
       "saliency-absolute       0.048935  0.517768              0.367018 -0.038397   \n",
       "\n",
       "                        deeplift  noise_tunnel_ig  saliency-absolute  \n",
       "input_x_gradient        0.828172         0.254193           0.360526  \n",
       "occlusion               0.720586         0.416553           0.421077  \n",
       "shapley_value_sampling  0.479755         0.413949           0.228049  \n",
       "loss                    0.269424        -0.152226           0.048935  \n",
       "saliency                0.518943         0.152148           0.517768  \n",
       "integrated_gradients    0.981481         0.268290           0.367018  \n",
       "AUROC                  -0.337791         0.129198          -0.038397  \n",
       "deeplift                1.000000         0.256552           0.292950  \n",
       "noise_tunnel_ig         0.256552         1.000000          -0.302355  \n",
       "saliency-absolute       0.292950        -0.302355           1.000000  "
      ]
     },
     "execution_count": 29,
     "metadata": {},
     "output_type": "execute_result"
    }
   ],
   "source": [
    "metrics_names = [\n",
    "    \"metrics.test/AUROC\",\n",
    "    \"metrics.test/loss\",\n",
    "]\n",
    "\n",
    "metrics_names += [\n",
    "    \"metrics.test/mean/avg_score_pred_inactive/integrated_gradients\",\n",
    "    \"metrics.test/mean/avg_score_pred_inactive/saliency\",\n",
    "    \"metrics.test/mean/avg_score_pred_inactive/saliency-absolute\",\n",
    "    \"metrics.test/mean/avg_score_pred_inactive/input_x_gradient\",\n",
    "    \"metrics.test/mean/avg_score_pred_inactive/occlusion\",\n",
    "    \"metrics.test/mean/avg_score_pred_inactive/deeplift\",\n",
    "    \"metrics.test/mean/avg_score_pred_inactive/shapley_value_sampling\",\n",
    "    \"metrics.test/mean/avg_score_pred_inactive/noise_tunnel_ig\",\n",
    "]\n",
    "metrics_columns = [c for c in runs.columns if any(c in m for m in metrics_names)]\n",
    "metrics = runs[metrics_columns]\n",
    "\n",
    "metrics.columns = [c.split(\"/\")[-1] for c in metrics.columns]\n",
    "metrics.corr(method=\"pearson\").order"
   ]
  }
 ],
 "metadata": {
  "kernelspec": {
   "display_name": "Python 3",
   "language": "python",
   "name": "python3"
  },
  "language_info": {
   "codemirror_mode": {
    "name": "ipython",
    "version": 3
   },
   "file_extension": ".py",
   "mimetype": "text/x-python",
   "name": "python",
   "nbconvert_exporter": "python",
   "pygments_lexer": "ipython3",
   "version": "3.8.8"
  }
 },
 "nbformat": 4,
 "nbformat_minor": 1
}
