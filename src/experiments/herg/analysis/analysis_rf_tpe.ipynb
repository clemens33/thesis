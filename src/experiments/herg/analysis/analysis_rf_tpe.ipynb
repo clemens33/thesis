{
 "cells": [
  {
   "cell_type": "code",
   "execution_count": 2,
   "outputs": [
    {
     "data": {
      "text/plain": "DataTransformerRegistry.enable('default')"
     },
     "execution_count": 2,
     "metadata": {},
     "output_type": "execute_result"
    }
   ],
   "source": [
    "import os\n",
    "import mlflow\n",
    "import matplotlib.pyplot as plt\n",
    "import altair as alt\n",
    "import numpy as np\n",
    "import pandas as pd\n",
    "\n",
    "%matplotlib inline\n",
    "\n",
    "#alt.renderers.enable(\"html\")\n",
    "alt.data_transformers.disable_max_rows()"
   ],
   "metadata": {
    "collapsed": false,
    "pycharm": {
     "name": "#%%\n"
    }
   }
  },
  {
   "cell_type": "code",
   "execution_count": 3,
   "outputs": [],
   "source": [
    "tracking_uri = os.getenv(\"TRACKING_URI\", default=\"http://localhost:5000\")\n",
    "mlflow.set_tracking_uri(tracking_uri)"
   ],
   "metadata": {
    "collapsed": false,
    "pycharm": {
     "name": "#%%\n"
    }
   }
  },
  {
   "cell_type": "markdown",
   "source": [
    "## Experiment Parameter-Search Random Forest\n",
    "\n",
    "- Single random seed for model training for all models\n",
    "- Single random seed for random split for all models\n",
    "- Per run/model calculate atomic attribution using various methods (e.g. treeinterpreter, global impurity feature importance for rf etc.)\n",
    "- Single target objective (first)\n",
    "- Hyperparameter search using optuna tpe sampler (Tree-structured Parzen Estimator - https://optuna.readthedocs.io/en/stable/reference/generated/optuna.samplers.TPESampler.html)"
   ],
   "metadata": {
    "collapsed": false
   }
  },
  {
   "cell_type": "code",
   "execution_count": 4,
   "outputs": [],
   "source": [
    "experiment_name = \"herg_rf_opttpe1\"\n",
    "exp = mlflow.get_experiment_by_name(experiment_name)\n",
    "\n",
    "runs = mlflow.search_runs(experiment_ids=exp.experiment_id)"
   ],
   "metadata": {
    "collapsed": false,
    "pycharm": {
     "name": "#%%\n"
    }
   }
  },
  {
   "cell_type": "code",
   "execution_count": null,
   "outputs": [],
   "source": [
    "#runs.iloc[1:].describe().T"
   ],
   "metadata": {
    "collapsed": false,
    "pycharm": {
     "name": "#%%\n"
    }
   }
  },
  {
   "cell_type": "code",
   "execution_count": null,
   "outputs": [],
   "source": [
    "#runs.iloc[1:].corr()"
   ],
   "metadata": {
    "collapsed": false,
    "pycharm": {
     "name": "#%%\n"
    }
   }
  },
  {
   "cell_type": "markdown",
   "source": [
    "### Search space"
   ],
   "metadata": {
    "collapsed": false
   }
  },
  {
   "cell_type": "code",
   "execution_count": 5,
   "outputs": [
    {
     "name": "stdout",
     "output_type": "stream",
     "text": [
      "{'name': 'bootstrap', 'type': 'choice', 'values': [True, False]}\n",
      "{'name': 'max_depth', 'type': 'choice', 'values': [None, 10, 20, 30, 40, 50, 60, 70]}\n",
      "{'name': 'criterion', 'type': 'choice', 'values': ['gini', 'entropy']}\n",
      "{'name': 'min_samples_leaf', 'type': 'choice', 'values': [1, 2, 4]}\n",
      "{'name': 'n_estimators', 'type': 'choice', 'values': [10, 50, 100, 200, 500]}\n",
      "{'name': 'min_samples_split', 'type': 'choice', 'values': [2, 5, 10]}\n",
      "{'name': 'max_features', 'type': 'choice', 'values': ['auto', 'sqrt']}\n"
     ]
    }
   ],
   "source": [
    "search_space = [c for c in runs.columns if \"search_space/\" in c]\n",
    "for r in runs[search_space].iloc[0].head(n=99):\n",
    "    print(r)"
   ],
   "metadata": {
    "collapsed": false,
    "pycharm": {
     "name": "#%%\n"
    }
   }
  },
  {
   "cell_type": "markdown",
   "source": [
    "### Other + default parameters"
   ],
   "metadata": {
    "collapsed": false
   }
  },
  {
   "cell_type": "code",
   "execution_count": 6,
   "outputs": [
    {
     "name": "stdout",
     "output_type": "stream",
     "text": [
      "sampler_name: tpe\n",
      "seed: 63259467\n",
      "minimize: False\n",
      "pruner_name: None\n",
      "featurizer_kwargs: {'fold': 1024, 'radius': 3, 'return_count': True, 'use_chirality': True, 'use_features': True}\n",
      "rf_kwargs: {'n_estimators': 100}\n",
      "tracking_uri: http://localhost:5000\n",
      "experiment_name: herg_rf_opttpe1\n",
      "num_workers: 0\n",
      "featurizer_mp_context: fork\n",
      "split_seed: 3131724718\n",
      "objective_name: val/AUROC\n",
      "trials: 30\n",
      "cache_dir: ../../../data/herg/\n",
      "batch_size: 9999\n",
      "featurizer_name: combined\n",
      "use_labels: ['active_g10']\n",
      "split_size: (0.6, 0.2, 0.2)\n",
      "split_type: random\n",
      "track_metrics: ...value too long for mlflow - not inserted\n",
      "featurizer_chunksize: 100\n",
      "run_name: tpe\n",
      "standardize: False\n",
      "attribution_kwargs: ...value too long for mlflow - not inserted\n"
     ]
    }
   ],
   "source": [
    "params = [c for c in runs.columns if \"search_space\" not in c and \"params.args\" in c]\n",
    "for p, v in zip(params, runs[params].iloc[0].head(n=99)):\n",
    "    print(f\"{p.replace('params.args/', '')}: {v}\")"
   ],
   "metadata": {
    "collapsed": false,
    "pycharm": {
     "name": "#%%\n"
    }
   }
  },
  {
   "cell_type": "markdown",
   "source": [
    "### Best parameters\n",
    "- Found within this scenario"
   ],
   "metadata": {
    "collapsed": false
   }
  },
  {
   "cell_type": "code",
   "execution_count": 7,
   "outputs": [
    {
     "name": "stdout",
     "output_type": "stream",
     "text": [
      "params.best/min_samples_leaf: 2\n",
      "params.best/max_depth: 40\n",
      "params.best/n_estimators: 200\n",
      "params.best/criterion: entropy\n",
      "params.best/bootstrap: False\n",
      "params.best/min_samples_split: 5\n",
      "params.best/max_features: sqrt\n"
     ]
    }
   ],
   "source": [
    "params = [c for c in runs.columns if c and \"params.best\" in c]\n",
    "for p, v in zip(params, runs[params].iloc[0].head(n=99)):\n",
    "    print(f\"{p.replace('params.args/', '')}: {v}\")"
   ],
   "metadata": {
    "collapsed": false,
    "pycharm": {
     "name": "#%%\n"
    }
   }
  },
  {
   "cell_type": "markdown",
   "source": [
    "### Metrics\n",
    "- Include metrics for atomic attribution/weights\n",
    "    - Values were calculated using active hergophores on all rows for which herg activity was predicted as negative\n",
    "    - Threshold was calculated per individual model using threshold moving"
   ],
   "metadata": {
    "collapsed": false
   }
  },
  {
   "cell_type": "code",
   "execution_count": 8,
   "outputs": [
    {
     "data": {
      "text/plain": "                 count      mean       std       min       25%       50%  \\\nimpurity          30.0  0.725644  0.016265  0.683424  0.716270  0.733917   \nAUROC             30.0  0.887216  0.008119  0.858842  0.887875  0.889633   \ntreeinterpreter   30.0  0.398638  0.016282  0.359400  0.390116  0.396086   \n\n                      75%       max  \nimpurity         0.734860  0.747149  \nAUROC            0.892412  0.892761  \ntreeinterpreter  0.401469  0.440163  ",
      "text/html": "<div>\n<style scoped>\n    .dataframe tbody tr th:only-of-type {\n        vertical-align: middle;\n    }\n\n    .dataframe tbody tr th {\n        vertical-align: top;\n    }\n\n    .dataframe thead th {\n        text-align: right;\n    }\n</style>\n<table border=\"1\" class=\"dataframe\">\n  <thead>\n    <tr style=\"text-align: right;\">\n      <th></th>\n      <th>count</th>\n      <th>mean</th>\n      <th>std</th>\n      <th>min</th>\n      <th>25%</th>\n      <th>50%</th>\n      <th>75%</th>\n      <th>max</th>\n    </tr>\n  </thead>\n  <tbody>\n    <tr>\n      <th>impurity</th>\n      <td>30.0</td>\n      <td>0.725644</td>\n      <td>0.016265</td>\n      <td>0.683424</td>\n      <td>0.716270</td>\n      <td>0.733917</td>\n      <td>0.734860</td>\n      <td>0.747149</td>\n    </tr>\n    <tr>\n      <th>AUROC</th>\n      <td>30.0</td>\n      <td>0.887216</td>\n      <td>0.008119</td>\n      <td>0.858842</td>\n      <td>0.887875</td>\n      <td>0.889633</td>\n      <td>0.892412</td>\n      <td>0.892761</td>\n    </tr>\n    <tr>\n      <th>treeinterpreter</th>\n      <td>30.0</td>\n      <td>0.398638</td>\n      <td>0.016282</td>\n      <td>0.359400</td>\n      <td>0.390116</td>\n      <td>0.396086</td>\n      <td>0.401469</td>\n      <td>0.440163</td>\n    </tr>\n  </tbody>\n</table>\n</div>"
     },
     "execution_count": 8,
     "metadata": {},
     "output_type": "execute_result"
    }
   ],
   "source": [
    "metrics_names = [\n",
    "    \"metrics.test/AUROC\",\n",
    "    \"metrics.test/loss\",\n",
    "    \"metrics.test/mean/avg_score_pred_inactive/impurity\"\n",
    "    \"metrics.test/mean/avg_score_pred_inactive/treeinterpreter\",\n",
    "]\n",
    "metrics_columns = [c for c in runs.columns if any(c in m for m in metrics_names)]\n",
    "metrics = runs[metrics_columns].iloc[1:]\n",
    "\n",
    "metrics.columns = [c.split(\"/\")[-1] for c in metrics.columns]\n",
    "metrics.describe().T"
   ],
   "metadata": {
    "collapsed": false,
    "pycharm": {
     "name": "#%%\n"
    }
   }
  },
  {
   "cell_type": "markdown",
   "source": [
    "#### Correlation\n",
    "\n",
    "- Correlation between various metrics"
   ],
   "metadata": {
    "collapsed": false
   }
  },
  {
   "cell_type": "code",
   "execution_count": 9,
   "outputs": [
    {
     "data": {
      "text/plain": "                 impurity     AUROC  treeinterpreter\nimpurity         1.000000  0.683556        -0.151315\nAUROC            0.683556  1.000000        -0.223517\ntreeinterpreter -0.151315 -0.223517         1.000000",
      "text/html": "<div>\n<style scoped>\n    .dataframe tbody tr th:only-of-type {\n        vertical-align: middle;\n    }\n\n    .dataframe tbody tr th {\n        vertical-align: top;\n    }\n\n    .dataframe thead th {\n        text-align: right;\n    }\n</style>\n<table border=\"1\" class=\"dataframe\">\n  <thead>\n    <tr style=\"text-align: right;\">\n      <th></th>\n      <th>impurity</th>\n      <th>AUROC</th>\n      <th>treeinterpreter</th>\n    </tr>\n  </thead>\n  <tbody>\n    <tr>\n      <th>impurity</th>\n      <td>1.000000</td>\n      <td>0.683556</td>\n      <td>-0.151315</td>\n    </tr>\n    <tr>\n      <th>AUROC</th>\n      <td>0.683556</td>\n      <td>1.000000</td>\n      <td>-0.223517</td>\n    </tr>\n    <tr>\n      <th>treeinterpreter</th>\n      <td>-0.151315</td>\n      <td>-0.223517</td>\n      <td>1.000000</td>\n    </tr>\n  </tbody>\n</table>\n</div>"
     },
     "execution_count": 9,
     "metadata": {},
     "output_type": "execute_result"
    }
   ],
   "source": [
    "metrics.corr(method=\"pearson\")"
   ],
   "metadata": {
    "collapsed": false,
    "pycharm": {
     "name": "#%%\n"
    }
   }
  },
  {
   "cell_type": "code",
   "execution_count": 10,
   "outputs": [
    {
     "name": "stdout",
     "output_type": "stream",
     "text": [
      "Displaying chart at http://localhost:21820/\n"
     ]
    }
   ],
   "source": [
    "x = \"AUROC\"\n",
    "y = \"impurity\"\n",
    "\n",
    "chart = alt.Chart(metrics).mark_point().encode(\n",
    "    x=alt.X(x, scale=alt.Scale(zero=False)),\n",
    "    y=alt.Y(y, scale=alt.Scale(zero=False))\n",
    ")\n",
    "\n",
    "chart = chart + chart.transform_regression(x, y).mark_line()\n",
    "chart.show()\n"
   ],
   "metadata": {
    "collapsed": false,
    "pycharm": {
     "name": "#%%\n"
    }
   }
  },
  {
   "cell_type": "code",
   "execution_count": null,
   "outputs": [],
   "source": [],
   "metadata": {
    "collapsed": false,
    "pycharm": {
     "name": "#%%\n"
    }
   }
  },
  {
   "cell_type": "markdown",
   "source": [
    "## Experiment Best RF (kfold cross validated)\n",
    "\n",
    "- Using best parameters found (see above)\n",
    "    - Run 5-fold cross validation (was run 4 times)\n",
    "    - Results/metrics were calculated using the mean of all individual runs (4 * 5 = 20 runs)\n",
    "    - Per 5-fold cross validation (4 times) the seed for model training and splitting was chosen randomly"
   ],
   "metadata": {
    "collapsed": false
   }
  },
  {
   "cell_type": "code",
   "execution_count": 11,
   "outputs": [],
   "source": [
    "experiment_name = \"herg_rf_best_kfold\"\n",
    "exp = mlflow.get_experiment_by_name(experiment_name)\n",
    "\n",
    "query = \"tags.mlflow.runName != 'summary'\"\n",
    "runs = mlflow.search_runs(experiment_ids=exp.experiment_id, filter_string=query)"
   ],
   "metadata": {
    "collapsed": false,
    "pycharm": {
     "name": "#%%\n"
    }
   }
  },
  {
   "cell_type": "markdown",
   "source": [
    "### Seeds\n"
   ],
   "metadata": {
    "collapsed": false
   }
  },
  {
   "cell_type": "code",
   "execution_count": 12,
   "outputs": [
    {
     "data": {
      "text/plain": "                              run_id params.seed params.split_seed\n0   46d70c678c0049a084daa24f014862ec   166806334         166806334\n1   c895e7c45d49417bae414cfc004a9f9c   166806334         166806334\n2   6fef517d4ec443fe8f7d1adf775aca40   166806334         166806334\n3   9a85521df4c34bc0a691b83f8877869d   166806334         166806334\n4   b45a06c046a64c9591be78f5c498a53c  3369474970        3369474970\n5   5c80aafa8c134b1f8d937a5e6041bb1b  3369474970        3369474970\n6   37dccf6ad8824c5982e4c32b69b2427d  3369474970        3369474970\n7   319f95721a1b40ab99d305db2e8560ec  3369474970        3369474970\n8   73a8a3c35f21424d85101d02aab49cd3  3369474970        3369474970\n9   89117b8a259743b99c7d60ce78524f14  1531702888        1531702888\n10  c23233a4e68e47d5965aae5a8ef1ba4d  1531702888        1531702888\n11  95ecb965d4474e61a607f36078f826a7  1531702888        1531702888\n12  ff3a7d58afc44c8090ca8f35be2cfa54  1531702888        1531702888\n13  5545e14ce2c24811ab340743aa6089ad  1531702888        1531702888\n14  d3afba57b4ed4c07a4d88819bee281c5  4114145051        4114145051\n15  9366e21620274a958b33f88cf1e4f4a4  4114145051        4114145051\n16  a112b5d8927f4ae998554e857c7a1b44  4114145051        4114145051\n17  7e6a2ad8be1743e6ba86373a414a7c46  4114145051        4114145051\n18  e57b75db97b24fe592610378ef4b68e6  4114145051        4114145051",
      "text/html": "<div>\n<style scoped>\n    .dataframe tbody tr th:only-of-type {\n        vertical-align: middle;\n    }\n\n    .dataframe tbody tr th {\n        vertical-align: top;\n    }\n\n    .dataframe thead th {\n        text-align: right;\n    }\n</style>\n<table border=\"1\" class=\"dataframe\">\n  <thead>\n    <tr style=\"text-align: right;\">\n      <th></th>\n      <th>run_id</th>\n      <th>params.seed</th>\n      <th>params.split_seed</th>\n    </tr>\n  </thead>\n  <tbody>\n    <tr>\n      <th>0</th>\n      <td>46d70c678c0049a084daa24f014862ec</td>\n      <td>166806334</td>\n      <td>166806334</td>\n    </tr>\n    <tr>\n      <th>1</th>\n      <td>c895e7c45d49417bae414cfc004a9f9c</td>\n      <td>166806334</td>\n      <td>166806334</td>\n    </tr>\n    <tr>\n      <th>2</th>\n      <td>6fef517d4ec443fe8f7d1adf775aca40</td>\n      <td>166806334</td>\n      <td>166806334</td>\n    </tr>\n    <tr>\n      <th>3</th>\n      <td>9a85521df4c34bc0a691b83f8877869d</td>\n      <td>166806334</td>\n      <td>166806334</td>\n    </tr>\n    <tr>\n      <th>4</th>\n      <td>b45a06c046a64c9591be78f5c498a53c</td>\n      <td>3369474970</td>\n      <td>3369474970</td>\n    </tr>\n    <tr>\n      <th>5</th>\n      <td>5c80aafa8c134b1f8d937a5e6041bb1b</td>\n      <td>3369474970</td>\n      <td>3369474970</td>\n    </tr>\n    <tr>\n      <th>6</th>\n      <td>37dccf6ad8824c5982e4c32b69b2427d</td>\n      <td>3369474970</td>\n      <td>3369474970</td>\n    </tr>\n    <tr>\n      <th>7</th>\n      <td>319f95721a1b40ab99d305db2e8560ec</td>\n      <td>3369474970</td>\n      <td>3369474970</td>\n    </tr>\n    <tr>\n      <th>8</th>\n      <td>73a8a3c35f21424d85101d02aab49cd3</td>\n      <td>3369474970</td>\n      <td>3369474970</td>\n    </tr>\n    <tr>\n      <th>9</th>\n      <td>89117b8a259743b99c7d60ce78524f14</td>\n      <td>1531702888</td>\n      <td>1531702888</td>\n    </tr>\n    <tr>\n      <th>10</th>\n      <td>c23233a4e68e47d5965aae5a8ef1ba4d</td>\n      <td>1531702888</td>\n      <td>1531702888</td>\n    </tr>\n    <tr>\n      <th>11</th>\n      <td>95ecb965d4474e61a607f36078f826a7</td>\n      <td>1531702888</td>\n      <td>1531702888</td>\n    </tr>\n    <tr>\n      <th>12</th>\n      <td>ff3a7d58afc44c8090ca8f35be2cfa54</td>\n      <td>1531702888</td>\n      <td>1531702888</td>\n    </tr>\n    <tr>\n      <th>13</th>\n      <td>5545e14ce2c24811ab340743aa6089ad</td>\n      <td>1531702888</td>\n      <td>1531702888</td>\n    </tr>\n    <tr>\n      <th>14</th>\n      <td>d3afba57b4ed4c07a4d88819bee281c5</td>\n      <td>4114145051</td>\n      <td>4114145051</td>\n    </tr>\n    <tr>\n      <th>15</th>\n      <td>9366e21620274a958b33f88cf1e4f4a4</td>\n      <td>4114145051</td>\n      <td>4114145051</td>\n    </tr>\n    <tr>\n      <th>16</th>\n      <td>a112b5d8927f4ae998554e857c7a1b44</td>\n      <td>4114145051</td>\n      <td>4114145051</td>\n    </tr>\n    <tr>\n      <th>17</th>\n      <td>7e6a2ad8be1743e6ba86373a414a7c46</td>\n      <td>4114145051</td>\n      <td>4114145051</td>\n    </tr>\n    <tr>\n      <th>18</th>\n      <td>e57b75db97b24fe592610378ef4b68e6</td>\n      <td>4114145051</td>\n      <td>4114145051</td>\n    </tr>\n  </tbody>\n</table>\n</div>"
     },
     "execution_count": 12,
     "metadata": {},
     "output_type": "execute_result"
    }
   ],
   "source": [
    "runs[[\"run_id\", \"params.seed\", \"params.split_seed\"]].head(n=99)"
   ],
   "metadata": {
    "collapsed": false,
    "pycharm": {
     "name": "#%%\n"
    }
   }
  },
  {
   "cell_type": "markdown",
   "source": [
    "### Parameters"
   ],
   "metadata": {
    "collapsed": false
   }
  },
  {
   "cell_type": "code",
   "execution_count": 13,
   "outputs": [
    {
     "name": "stdout",
     "output_type": "stream",
     "text": [
      "rf_kwargs/n_estimators: 200\n",
      "min_samples_split: 5\n",
      "featurizer_kwargs/return_count: True\n",
      "random_state: 166806334\n",
      "featurizer_kwargs/radius: 3\n",
      "featurizer_name: combined\n",
      "min_samples_leaf: 2\n",
      "standardize: True\n",
      "max_leaf_nodes: None\n",
      "oob_score: False\n",
      "rf_kwargs/criterion: entropy\n",
      "split_size: (5, 3, 4)\n",
      "min_impurity_decrease: 0.0\n",
      "rf_kwargs/min_samples_split: 5\n",
      "num_workers: 0\n",
      "verbose: 1\n",
      "cache_dir: ../../../data/herg/\n",
      "warm_start: False\n",
      "n_jobs: 16\n",
      "featurizer_chunksize: 100\n",
      "split_type: random_kfold\n",
      "rf_kwargs/min_samples_leaf: 2\n",
      "criterion: entropy\n",
      "max_depth: 40\n",
      "num_classes: 2\n",
      "rf_kwargs/max_depth: 40\n",
      "seed: 166806334\n",
      "featurizer_kwargs/use_features: True\n",
      "num_targets: 1\n",
      "ignore_index: -100\n",
      "pos_label: 1\n",
      "featurizer_mp_context: fork\n",
      "ccp_alpha: 0.0\n",
      "objective: binary\n",
      "smile3: c1ccccc1CN2CCCCC2 - active\n",
      "batch_size: 9999\n",
      "featurizer_n_jobs: 0\n",
      "train/threshold-t0: 0.5100021958351135\n",
      "min_weight_fraction_leaf: 0.0\n",
      "class_weight: None\n",
      "bootstrap: False\n",
      "input_size: 2017\n",
      "featurizer_kwargs/use_chirality: True\n",
      "featurizer_kwargs/fold: 1024\n",
      "max_samples: None\n",
      "min_impurity_split: None\n",
      "n_estimators: 200\n",
      "rf_kwargs/bootstrap: False\n",
      "smile0: CCOc1ccccc1 - active\n",
      "max_features: sqrt\n",
      "smile1: c1ccccc1CNCC - active\n",
      "use_cache: True\n",
      "smile2: c1ccccc1CCNC - active\n",
      "rf_kwargs/max_features: sqrt\n",
      "smile4: c1ccccc1Cc1ccccc1 - active\n",
      "split_seed: 166806334\n"
     ]
    }
   ],
   "source": [
    "params = [c for c in runs.columns if \"search_space\" not in c and \"params\" in c]\n",
    "for p, v in zip(params, runs[params].iloc[0].head(n=99)):\n",
    "    print(f\"{p.replace('params.', '')}: {v}\")"
   ],
   "metadata": {
    "collapsed": false,
    "pycharm": {
     "name": "#%%\n"
    }
   }
  },
  {
   "cell_type": "markdown",
   "source": [
    "### Metrics\n",
    "\n",
    "#### Performance on hERG dataset"
   ],
   "metadata": {
    "collapsed": false
   }
  },
  {
   "cell_type": "code",
   "execution_count": 14,
   "outputs": [
    {
     "data": {
      "text/plain": "       count      mean       std       min       25%       50%       75%  \\\nAUROC   19.0  0.895086  0.008642  0.879861  0.891096  0.894983  0.898915   \n\n            max  \nAUROC  0.915833  ",
      "text/html": "<div>\n<style scoped>\n    .dataframe tbody tr th:only-of-type {\n        vertical-align: middle;\n    }\n\n    .dataframe tbody tr th {\n        vertical-align: top;\n    }\n\n    .dataframe thead th {\n        text-align: right;\n    }\n</style>\n<table border=\"1\" class=\"dataframe\">\n  <thead>\n    <tr style=\"text-align: right;\">\n      <th></th>\n      <th>count</th>\n      <th>mean</th>\n      <th>std</th>\n      <th>min</th>\n      <th>25%</th>\n      <th>50%</th>\n      <th>75%</th>\n      <th>max</th>\n    </tr>\n  </thead>\n  <tbody>\n    <tr>\n      <th>AUROC</th>\n      <td>19.0</td>\n      <td>0.895086</td>\n      <td>0.008642</td>\n      <td>0.879861</td>\n      <td>0.891096</td>\n      <td>0.894983</td>\n      <td>0.898915</td>\n      <td>0.915833</td>\n    </tr>\n  </tbody>\n</table>\n</div>"
     },
     "execution_count": 14,
     "metadata": {},
     "output_type": "execute_result"
    }
   ],
   "source": [
    "metrics_names = [\n",
    "    \"metrics.test/AUROC\",\n",
    "]\n",
    "metrics_columns = [c for c in runs.columns if any(c in m for m in metrics_names)]\n",
    "metrics = runs[metrics_columns]\n",
    "\n",
    "metrics.columns = [c.split(\"/\")[-1] for c in metrics.columns]\n",
    "metrics.describe().T"
   ],
   "metadata": {
    "collapsed": false,
    "pycharm": {
     "name": "#%%\n"
    }
   }
  },
  {
   "cell_type": "markdown",
   "source": [
    "#### Active Hergophores on Inactive Model Predictions\n",
    "\n",
    "- Atomic attribution using various methods"
   ],
   "metadata": {
    "collapsed": false
   }
  },
  {
   "cell_type": "code",
   "execution_count": 15,
   "outputs": [
    {
     "data": {
      "text/plain": "                        count      mean       std       min       25%  \\\nimpurity                 19.0  0.733920  0.008957  0.717656  0.729059   \nocclusion                19.0  0.557309  0.016893  0.514387  0.548241   \ntreeinterpreter          19.0  0.382229  0.010059  0.361666  0.377456   \ninput_x_impurity         18.0  0.396073  0.007987  0.379610  0.393050   \nshapley_value_sampling    5.0  0.584729  0.013353  0.564401  0.577842   \n\n                             50%       75%       max  \nimpurity                0.735102  0.736916  0.750730  \nocclusion               0.561287  0.567281  0.580939  \ntreeinterpreter         0.382633  0.386903  0.405098  \ninput_x_impurity        0.396889  0.398525  0.415246  \nshapley_value_sampling  0.591943  0.594215  0.595243  ",
      "text/html": "<div>\n<style scoped>\n    .dataframe tbody tr th:only-of-type {\n        vertical-align: middle;\n    }\n\n    .dataframe tbody tr th {\n        vertical-align: top;\n    }\n\n    .dataframe thead th {\n        text-align: right;\n    }\n</style>\n<table border=\"1\" class=\"dataframe\">\n  <thead>\n    <tr style=\"text-align: right;\">\n      <th></th>\n      <th>count</th>\n      <th>mean</th>\n      <th>std</th>\n      <th>min</th>\n      <th>25%</th>\n      <th>50%</th>\n      <th>75%</th>\n      <th>max</th>\n    </tr>\n  </thead>\n  <tbody>\n    <tr>\n      <th>impurity</th>\n      <td>19.0</td>\n      <td>0.733920</td>\n      <td>0.008957</td>\n      <td>0.717656</td>\n      <td>0.729059</td>\n      <td>0.735102</td>\n      <td>0.736916</td>\n      <td>0.750730</td>\n    </tr>\n    <tr>\n      <th>occlusion</th>\n      <td>19.0</td>\n      <td>0.557309</td>\n      <td>0.016893</td>\n      <td>0.514387</td>\n      <td>0.548241</td>\n      <td>0.561287</td>\n      <td>0.567281</td>\n      <td>0.580939</td>\n    </tr>\n    <tr>\n      <th>treeinterpreter</th>\n      <td>19.0</td>\n      <td>0.382229</td>\n      <td>0.010059</td>\n      <td>0.361666</td>\n      <td>0.377456</td>\n      <td>0.382633</td>\n      <td>0.386903</td>\n      <td>0.405098</td>\n    </tr>\n    <tr>\n      <th>input_x_impurity</th>\n      <td>18.0</td>\n      <td>0.396073</td>\n      <td>0.007987</td>\n      <td>0.379610</td>\n      <td>0.393050</td>\n      <td>0.396889</td>\n      <td>0.398525</td>\n      <td>0.415246</td>\n    </tr>\n    <tr>\n      <th>shapley_value_sampling</th>\n      <td>5.0</td>\n      <td>0.584729</td>\n      <td>0.013353</td>\n      <td>0.564401</td>\n      <td>0.577842</td>\n      <td>0.591943</td>\n      <td>0.594215</td>\n      <td>0.595243</td>\n    </tr>\n  </tbody>\n</table>\n</div>"
     },
     "execution_count": 15,
     "metadata": {},
     "output_type": "execute_result"
    }
   ],
   "source": [
    "metrics_names = [\n",
    "    \"metrics.test/mean/avg_score_pred_inactive/impurity\",\n",
    "    \"metrics.test/mean/avg_score_pred_inactive/input_x_impurity\",\n",
    "    \"metrics.test/mean/avg_score_pred_inactive/occlusion\",\n",
    "    \"metrics.test/mean/avg_score_pred_inactive/shapley_value_sampling\",\n",
    "    \"metrics.test/mean/avg_score_pred_inactive/treeinterpreter\",\n",
    "]\n",
    "metrics_columns = [c for c in runs.columns if any(c in m for m in metrics_names)]\n",
    "metrics = runs[metrics_columns]\n",
    "\n",
    "metrics.columns = [c.split(\"/\")[-1] for c in metrics.columns]\n",
    "metrics.describe().T\n"
   ],
   "metadata": {
    "collapsed": false,
    "pycharm": {
     "name": "#%%\n"
    }
   }
  },
  {
   "cell_type": "markdown",
   "source": [
    "#### Active Hergophores on Active Model Predictions\n",
    "\n",
    "- Atomic attribution using various methods"
   ],
   "metadata": {
    "collapsed": false
   }
  },
  {
   "cell_type": "code",
   "execution_count": 16,
   "outputs": [
    {
     "data": {
      "text/plain": "                        count      mean       std       min       25%  \\\nimpurity                 19.0  0.714435  0.007176  0.699044  0.710904   \ntreeinterpreter          19.0  0.626461  0.008753  0.608478  0.622153   \nocclusion                19.0  0.551661  0.012019  0.529969  0.543278   \ninput_x_impurity         18.0  0.456979  0.010248  0.437521  0.450890   \nshapley_value_sampling    5.0  0.597837  0.020107  0.568877  0.588296   \n\n                             50%       75%       max  \nimpurity                0.716910  0.720044  0.723036  \ntreeinterpreter         0.626114  0.632793  0.641714  \nocclusion               0.553491  0.560669  0.572107  \ninput_x_impurity        0.459747  0.463809  0.472306  \nshapley_value_sampling  0.599880  0.613007  0.619126  ",
      "text/html": "<div>\n<style scoped>\n    .dataframe tbody tr th:only-of-type {\n        vertical-align: middle;\n    }\n\n    .dataframe tbody tr th {\n        vertical-align: top;\n    }\n\n    .dataframe thead th {\n        text-align: right;\n    }\n</style>\n<table border=\"1\" class=\"dataframe\">\n  <thead>\n    <tr style=\"text-align: right;\">\n      <th></th>\n      <th>count</th>\n      <th>mean</th>\n      <th>std</th>\n      <th>min</th>\n      <th>25%</th>\n      <th>50%</th>\n      <th>75%</th>\n      <th>max</th>\n    </tr>\n  </thead>\n  <tbody>\n    <tr>\n      <th>impurity</th>\n      <td>19.0</td>\n      <td>0.714435</td>\n      <td>0.007176</td>\n      <td>0.699044</td>\n      <td>0.710904</td>\n      <td>0.716910</td>\n      <td>0.720044</td>\n      <td>0.723036</td>\n    </tr>\n    <tr>\n      <th>treeinterpreter</th>\n      <td>19.0</td>\n      <td>0.626461</td>\n      <td>0.008753</td>\n      <td>0.608478</td>\n      <td>0.622153</td>\n      <td>0.626114</td>\n      <td>0.632793</td>\n      <td>0.641714</td>\n    </tr>\n    <tr>\n      <th>occlusion</th>\n      <td>19.0</td>\n      <td>0.551661</td>\n      <td>0.012019</td>\n      <td>0.529969</td>\n      <td>0.543278</td>\n      <td>0.553491</td>\n      <td>0.560669</td>\n      <td>0.572107</td>\n    </tr>\n    <tr>\n      <th>input_x_impurity</th>\n      <td>18.0</td>\n      <td>0.456979</td>\n      <td>0.010248</td>\n      <td>0.437521</td>\n      <td>0.450890</td>\n      <td>0.459747</td>\n      <td>0.463809</td>\n      <td>0.472306</td>\n    </tr>\n    <tr>\n      <th>shapley_value_sampling</th>\n      <td>5.0</td>\n      <td>0.597837</td>\n      <td>0.020107</td>\n      <td>0.568877</td>\n      <td>0.588296</td>\n      <td>0.599880</td>\n      <td>0.613007</td>\n      <td>0.619126</td>\n    </tr>\n  </tbody>\n</table>\n</div>"
     },
     "execution_count": 16,
     "metadata": {},
     "output_type": "execute_result"
    }
   ],
   "source": [
    "metrics_names = [\n",
    "    \"metrics.test/mean/avg_score_pred_active/impurity\",\n",
    "    \"metrics.test/mean/avg_score_pred_active/input_x_impurity\",\n",
    "    \"metrics.test/mean/avg_score_pred_active/occlusion\",\n",
    "    \"metrics.test/mean/avg_score_pred_active/shapley_value_sampling\",\n",
    "    \"metrics.test/mean/avg_score_pred_active/treeinterpreter\",\n",
    "]\n",
    "metrics_columns = [c for c in runs.columns if any(c in m for m in metrics_names)]\n",
    "metrics = runs[metrics_columns]\n",
    "\n",
    "metrics.columns = [c.split(\"/\")[-1] for c in metrics.columns]\n",
    "metrics.describe().T"
   ],
   "metadata": {
    "collapsed": false,
    "pycharm": {
     "name": "#%%\n"
    }
   }
  },
  {
   "cell_type": "markdown",
   "source": [
    "#### Correlations"
   ],
   "metadata": {
    "collapsed": false
   }
  },
  {
   "cell_type": "code",
   "execution_count": 17,
   "outputs": [
    {
     "data": {
      "text/plain": "                        impurity     AUROC  occlusion  treeinterpreter  \\\nimpurity                1.000000  0.147867   0.088665        -0.336767   \nAUROC                   0.147867  1.000000  -0.289093         0.320219   \nocclusion               0.088665 -0.289093   1.000000        -0.678268   \ntreeinterpreter        -0.336767  0.320219  -0.678268         1.000000   \ninput_x_impurity       -0.147420 -0.144370   0.050595         0.023114   \nshapley_value_sampling  0.128604 -0.525221   0.754203        -0.774499   \n\n                        input_x_impurity  shapley_value_sampling  \nimpurity                       -0.147420                0.128604  \nAUROC                          -0.144370               -0.525221  \nocclusion                       0.050595                0.754203  \ntreeinterpreter                 0.023114               -0.774499  \ninput_x_impurity                1.000000               -0.604746  \nshapley_value_sampling         -0.604746                1.000000  ",
      "text/html": "<div>\n<style scoped>\n    .dataframe tbody tr th:only-of-type {\n        vertical-align: middle;\n    }\n\n    .dataframe tbody tr th {\n        vertical-align: top;\n    }\n\n    .dataframe thead th {\n        text-align: right;\n    }\n</style>\n<table border=\"1\" class=\"dataframe\">\n  <thead>\n    <tr style=\"text-align: right;\">\n      <th></th>\n      <th>impurity</th>\n      <th>AUROC</th>\n      <th>occlusion</th>\n      <th>treeinterpreter</th>\n      <th>input_x_impurity</th>\n      <th>shapley_value_sampling</th>\n    </tr>\n  </thead>\n  <tbody>\n    <tr>\n      <th>impurity</th>\n      <td>1.000000</td>\n      <td>0.147867</td>\n      <td>0.088665</td>\n      <td>-0.336767</td>\n      <td>-0.147420</td>\n      <td>0.128604</td>\n    </tr>\n    <tr>\n      <th>AUROC</th>\n      <td>0.147867</td>\n      <td>1.000000</td>\n      <td>-0.289093</td>\n      <td>0.320219</td>\n      <td>-0.144370</td>\n      <td>-0.525221</td>\n    </tr>\n    <tr>\n      <th>occlusion</th>\n      <td>0.088665</td>\n      <td>-0.289093</td>\n      <td>1.000000</td>\n      <td>-0.678268</td>\n      <td>0.050595</td>\n      <td>0.754203</td>\n    </tr>\n    <tr>\n      <th>treeinterpreter</th>\n      <td>-0.336767</td>\n      <td>0.320219</td>\n      <td>-0.678268</td>\n      <td>1.000000</td>\n      <td>0.023114</td>\n      <td>-0.774499</td>\n    </tr>\n    <tr>\n      <th>input_x_impurity</th>\n      <td>-0.147420</td>\n      <td>-0.144370</td>\n      <td>0.050595</td>\n      <td>0.023114</td>\n      <td>1.000000</td>\n      <td>-0.604746</td>\n    </tr>\n    <tr>\n      <th>shapley_value_sampling</th>\n      <td>0.128604</td>\n      <td>-0.525221</td>\n      <td>0.754203</td>\n      <td>-0.774499</td>\n      <td>-0.604746</td>\n      <td>1.000000</td>\n    </tr>\n  </tbody>\n</table>\n</div>"
     },
     "execution_count": 17,
     "metadata": {},
     "output_type": "execute_result"
    }
   ],
   "source": [
    "metrics_names = [\n",
    "    \"metrics.test/AUROC\",\n",
    "]\n",
    "\n",
    "metrics_names += [\n",
    "    \"metrics.test/mean/avg_score_pred_inactive/impurity\",\n",
    "    \"metrics.test/mean/avg_score_pred_inactive/input_x_impurity\",\n",
    "    \"metrics.test/mean/avg_score_pred_inactive/occlusion\",\n",
    "    \"metrics.test/mean/avg_score_pred_inactive/shapley_value_sampling\",\n",
    "    \"metrics.test/mean/avg_score_pred_inactive/treeinterpreter\",\n",
    "]\n",
    "metrics_columns = [c for c in runs.columns if any(c in m for m in metrics_names)]\n",
    "metrics = runs[metrics_columns]\n",
    "\n",
    "metrics.columns = [c.split(\"/\")[-1] for c in metrics.columns]\n",
    "metrics.corr(method=\"pearson\")"
   ],
   "metadata": {
    "collapsed": false,
    "pycharm": {
     "name": "#%%\n"
    }
   }
  }
 ],
 "metadata": {
  "kernelspec": {
   "display_name": "Python 3",
   "language": "python",
   "name": "python3"
  },
  "language_info": {
   "codemirror_mode": {
    "name": "ipython",
    "version": 2
   },
   "file_extension": ".py",
   "mimetype": "text/x-python",
   "name": "python",
   "nbconvert_exporter": "python",
   "pygments_lexer": "ipython2",
   "version": "2.7.6"
  }
 },
 "nbformat": 4,
 "nbformat_minor": 0
}