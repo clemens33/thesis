{
 "cells": [
  {
   "cell_type": "code",
   "execution_count": 1,
   "metadata": {
    "pycharm": {
     "name": "#%%\n"
    }
   },
   "outputs": [
    {
     "data": {
      "text/plain": [
       "DataTransformerRegistry.enable('default')"
      ]
     },
     "execution_count": 1,
     "metadata": {},
     "output_type": "execute_result"
    }
   ],
   "source": [
    "import os\n",
    "import mlflow\n",
    "import matplotlib.pyplot as plt\n",
    "import altair as alt\n",
    "import numpy as np\n",
    "import pandas as pd\n",
    "\n",
    "%matplotlib inline\n",
    "\n",
    "#alt.renderers.enable(\"html\")\n",
    "alt.data_transformers.disable_max_rows()"
   ]
  },
  {
   "cell_type": "code",
   "execution_count": 2,
   "metadata": {
    "pycharm": {
     "name": "#%%\n"
    }
   },
   "outputs": [],
   "source": [
    "tracking_uri = os.getenv(\"TRACKING_URI\", default=\"http://localhost:5000\")\n",
    "mlflow.set_tracking_uri(tracking_uri)"
   ]
  },
  {
   "cell_type": "markdown",
   "metadata": {},
   "source": [
    "## Experiment Parameter-Search Random Forest\n",
    "\n",
    "- Single random seed for model training for all models\n",
    "- Single random seed for random split for all models\n",
    "- Per run/model calculate atomic attribution using various methods (e.g. treeinterpreter, global impurity feature importance for rf etc.)\n",
    "- Single target objective (first)\n",
    "- Hyperparameter search using optuna tpe sampler (Tree-structured Parzen Estimator - https://optuna.readthedocs.io/en/stable/reference/generated/optuna.samplers.TPESampler.html)"
   ]
  },
  {
   "cell_type": "code",
   "execution_count": 3,
   "metadata": {
    "pycharm": {
     "name": "#%%\n"
    }
   },
   "outputs": [],
   "source": [
    "experiment_name = \"herg_rf_opttpe1\"\n",
    "exp = mlflow.get_experiment_by_name(experiment_name)\n",
    "\n",
    "runs = mlflow.search_runs(experiment_ids=exp.experiment_id)"
   ]
  },
  {
   "cell_type": "code",
   "execution_count": null,
   "metadata": {
    "pycharm": {
     "name": "#%%\n"
    }
   },
   "outputs": [],
   "source": [
    "#runs.iloc[1:].describe().T"
   ]
  },
  {
   "cell_type": "code",
   "execution_count": null,
   "metadata": {
    "pycharm": {
     "name": "#%%\n"
    }
   },
   "outputs": [],
   "source": [
    "#runs.iloc[1:].corr()"
   ]
  },
  {
   "cell_type": "markdown",
   "metadata": {},
   "source": [
    "### Search space"
   ]
  },
  {
   "cell_type": "code",
   "execution_count": 4,
   "metadata": {
    "pycharm": {
     "name": "#%%\n"
    }
   },
   "outputs": [
    {
     "name": "stdout",
     "output_type": "stream",
     "text": [
      "{'name': 'n_estimators', 'type': 'choice', 'values': [10, 50, 100, 200, 500]}\n",
      "{'name': 'min_samples_leaf', 'type': 'choice', 'values': [1, 2, 4]}\n",
      "{'name': 'bootstrap', 'type': 'choice', 'values': [True, False]}\n",
      "{'name': 'max_features', 'type': 'choice', 'values': ['auto', 'sqrt']}\n",
      "{'name': 'max_depth', 'type': 'choice', 'values': [None, 10, 20, 30, 40, 50, 60, 70]}\n",
      "{'name': 'criterion', 'type': 'choice', 'values': ['gini', 'entropy']}\n",
      "{'name': 'min_samples_split', 'type': 'choice', 'values': [2, 5, 10]}\n"
     ]
    }
   ],
   "source": [
    "search_space = [c for c in runs.columns if \"search_space/\" in c]\n",
    "for r in runs[search_space].iloc[0].head(n=99):\n",
    "    print(r)"
   ]
  },
  {
   "cell_type": "markdown",
   "metadata": {},
   "source": [
    "### Other + default parameters"
   ]
  },
  {
   "cell_type": "code",
   "execution_count": 22,
   "metadata": {
    "pycharm": {
     "name": "#%%\n"
    }
   },
   "outputs": [],
   "source": [
    "params = [c for c in runs.columns if \"search_space\" not in c and \"params.args\" in c]\n",
    "for p, v in zip(params, runs[params].iloc[0].head(n=99)):\n",
    "    print(f\"{p.replace('params.args/', '')}: {v}\")"
   ]
  },
  {
   "cell_type": "markdown",
   "metadata": {},
   "source": [
    "### Best parameters\n",
    "- Found within this scenario"
   ]
  },
  {
   "cell_type": "code",
   "execution_count": 6,
   "metadata": {
    "pycharm": {
     "name": "#%%\n"
    }
   },
   "outputs": [
    {
     "name": "stdout",
     "output_type": "stream",
     "text": [
      "params.best/bootstrap: False\n",
      "params.best/n_estimators: 200\n",
      "params.best/criterion: entropy\n",
      "params.best/min_samples_split: 5\n",
      "params.best/min_samples_leaf: 2\n",
      "params.best/max_features: sqrt\n",
      "params.best/max_depth: 40\n"
     ]
    }
   ],
   "source": [
    "params = [c for c in runs.columns if c and \"params.best\" in c]\n",
    "for p, v in zip(params, runs[params].iloc[0].head(n=99)):\n",
    "    print(f\"{p.replace('params.args/', '')}: {v}\")"
   ]
  },
  {
   "cell_type": "markdown",
   "metadata": {},
   "source": [
    "### Metrics\n",
    "- Include metrics for atomic attribution/weights\n",
    "    - Values were calculated using active hergophores on all rows for which herg activity was predicted as negative\n",
    "    - Threshold was calculated per individual model using threshold moving"
   ]
  },
  {
   "cell_type": "code",
   "execution_count": 17,
   "metadata": {
    "pycharm": {
     "name": "#%%\n"
    }
   },
   "outputs": [
    {
     "data": {
      "text/html": [
       "<div>\n",
       "<style scoped>\n",
       "    .dataframe tbody tr th:only-of-type {\n",
       "        vertical-align: middle;\n",
       "    }\n",
       "\n",
       "    .dataframe tbody tr th {\n",
       "        vertical-align: top;\n",
       "    }\n",
       "\n",
       "    .dataframe thead th {\n",
       "        text-align: right;\n",
       "    }\n",
       "</style>\n",
       "<table border=\"1\" class=\"dataframe\">\n",
       "  <thead>\n",
       "    <tr style=\"text-align: right;\">\n",
       "      <th></th>\n",
       "      <th>count</th>\n",
       "      <th>mean</th>\n",
       "      <th>std</th>\n",
       "      <th>min</th>\n",
       "      <th>25%</th>\n",
       "      <th>50%</th>\n",
       "      <th>75%</th>\n",
       "      <th>max</th>\n",
       "    </tr>\n",
       "  </thead>\n",
       "  <tbody>\n",
       "    <tr>\n",
       "      <th>AUROC</th>\n",
       "      <td>19.0</td>\n",
       "      <td>0.895086</td>\n",
       "      <td>0.008642</td>\n",
       "      <td>0.879861</td>\n",
       "      <td>0.891096</td>\n",
       "      <td>0.894983</td>\n",
       "      <td>0.898915</td>\n",
       "      <td>0.915833</td>\n",
       "    </tr>\n",
       "    <tr>\n",
       "      <th>impurity</th>\n",
       "      <td>19.0</td>\n",
       "      <td>0.733920</td>\n",
       "      <td>0.008957</td>\n",
       "      <td>0.717656</td>\n",
       "      <td>0.729059</td>\n",
       "      <td>0.735102</td>\n",
       "      <td>0.736916</td>\n",
       "      <td>0.750730</td>\n",
       "    </tr>\n",
       "    <tr>\n",
       "      <th>treeinterpreter</th>\n",
       "      <td>19.0</td>\n",
       "      <td>0.382229</td>\n",
       "      <td>0.010059</td>\n",
       "      <td>0.361666</td>\n",
       "      <td>0.377456</td>\n",
       "      <td>0.382633</td>\n",
       "      <td>0.386903</td>\n",
       "      <td>0.405098</td>\n",
       "    </tr>\n",
       "  </tbody>\n",
       "</table>\n",
       "</div>"
      ],
      "text/plain": [
       "                 count      mean       std       min       25%       50%  \\\n",
       "AUROC             19.0  0.895086  0.008642  0.879861  0.891096  0.894983   \n",
       "impurity          19.0  0.733920  0.008957  0.717656  0.729059  0.735102   \n",
       "treeinterpreter   19.0  0.382229  0.010059  0.361666  0.377456  0.382633   \n",
       "\n",
       "                      75%       max  \n",
       "AUROC            0.898915  0.915833  \n",
       "impurity         0.736916  0.750730  \n",
       "treeinterpreter  0.386903  0.405098  "
      ]
     },
     "execution_count": 17,
     "metadata": {},
     "output_type": "execute_result"
    }
   ],
   "source": [
    "metrics_names = [\n",
    "    \"metrics.test/AUROC\",\n",
    "    \"metrics.test/loss\",\n",
    "    \"metrics.test/mean/avg_score_pred_inactive/impurity\"\n",
    "    \"metrics.test/mean/avg_score_pred_inactive/treeinterpreter\",\n",
    "]\n",
    "metrics_columns = [c for c in runs.columns if any(c in m for m in metrics_names)]\n",
    "metrics = runs[metrics_columns].iloc[1:]\n",
    "\n",
    "metrics.columns = [c.split(\"/\")[-1] for c in metrics.columns]\n",
    "metrics.describe().T.sort_values(by=\"mean\", ascending=False)"
   ]
  },
  {
   "cell_type": "markdown",
   "metadata": {},
   "source": [
    "#### Correlation\n",
    "\n",
    "- Correlation between various metrics"
   ]
  },
  {
   "cell_type": "code",
   "execution_count": 8,
   "metadata": {
    "pycharm": {
     "name": "#%%\n"
    }
   },
   "outputs": [
    {
     "data": {
      "text/html": [
       "<div>\n",
       "<style scoped>\n",
       "    .dataframe tbody tr th:only-of-type {\n",
       "        vertical-align: middle;\n",
       "    }\n",
       "\n",
       "    .dataframe tbody tr th {\n",
       "        vertical-align: top;\n",
       "    }\n",
       "\n",
       "    .dataframe thead th {\n",
       "        text-align: right;\n",
       "    }\n",
       "</style>\n",
       "<table border=\"1\" class=\"dataframe\">\n",
       "  <thead>\n",
       "    <tr style=\"text-align: right;\">\n",
       "      <th></th>\n",
       "      <th>impurity</th>\n",
       "      <th>AUROC</th>\n",
       "      <th>treeinterpreter</th>\n",
       "    </tr>\n",
       "  </thead>\n",
       "  <tbody>\n",
       "    <tr>\n",
       "      <th>impurity</th>\n",
       "      <td>1.000000</td>\n",
       "      <td>0.683556</td>\n",
       "      <td>-0.151315</td>\n",
       "    </tr>\n",
       "    <tr>\n",
       "      <th>AUROC</th>\n",
       "      <td>0.683556</td>\n",
       "      <td>1.000000</td>\n",
       "      <td>-0.223517</td>\n",
       "    </tr>\n",
       "    <tr>\n",
       "      <th>treeinterpreter</th>\n",
       "      <td>-0.151315</td>\n",
       "      <td>-0.223517</td>\n",
       "      <td>1.000000</td>\n",
       "    </tr>\n",
       "  </tbody>\n",
       "</table>\n",
       "</div>"
      ],
      "text/plain": [
       "                 impurity     AUROC  treeinterpreter\n",
       "impurity         1.000000  0.683556        -0.151315\n",
       "AUROC            0.683556  1.000000        -0.223517\n",
       "treeinterpreter -0.151315 -0.223517         1.000000"
      ]
     },
     "execution_count": 8,
     "metadata": {},
     "output_type": "execute_result"
    }
   ],
   "source": [
    "metrics.corr(method=\"pearson\")"
   ]
  },
  {
   "cell_type": "code",
   "execution_count": 9,
   "metadata": {
    "pycharm": {
     "name": "#%%\n"
    }
   },
   "outputs": [
    {
     "data": {
      "text/html": [
       "\n",
       "<div id=\"altair-viz-ac4909f6b2464f5ebbc516b924deac3a\"></div>\n",
       "<script type=\"text/javascript\">\n",
       "  (function(spec, embedOpt){\n",
       "    let outputDiv = document.currentScript.previousElementSibling;\n",
       "    if (outputDiv.id !== \"altair-viz-ac4909f6b2464f5ebbc516b924deac3a\") {\n",
       "      outputDiv = document.getElementById(\"altair-viz-ac4909f6b2464f5ebbc516b924deac3a\");\n",
       "    }\n",
       "    const paths = {\n",
       "      \"vega\": \"https://cdn.jsdelivr.net/npm//vega@5?noext\",\n",
       "      \"vega-lib\": \"https://cdn.jsdelivr.net/npm//vega-lib?noext\",\n",
       "      \"vega-lite\": \"https://cdn.jsdelivr.net/npm//vega-lite@4.8.1?noext\",\n",
       "      \"vega-embed\": \"https://cdn.jsdelivr.net/npm//vega-embed@6?noext\",\n",
       "    };\n",
       "\n",
       "    function loadScript(lib) {\n",
       "      return new Promise(function(resolve, reject) {\n",
       "        var s = document.createElement('script');\n",
       "        s.src = paths[lib];\n",
       "        s.async = true;\n",
       "        s.onload = () => resolve(paths[lib]);\n",
       "        s.onerror = () => reject(`Error loading script: ${paths[lib]}`);\n",
       "        document.getElementsByTagName(\"head\")[0].appendChild(s);\n",
       "      });\n",
       "    }\n",
       "\n",
       "    function showError(err) {\n",
       "      outputDiv.innerHTML = `<div class=\"error\" style=\"color:red;\">${err}</div>`;\n",
       "      throw err;\n",
       "    }\n",
       "\n",
       "    function displayChart(vegaEmbed) {\n",
       "      vegaEmbed(outputDiv, spec, embedOpt)\n",
       "        .catch(err => showError(`Javascript Error: ${err.message}<br>This usually means there's a typo in your chart specification. See the javascript console for the full traceback.`));\n",
       "    }\n",
       "\n",
       "    if(typeof define === \"function\" && define.amd) {\n",
       "      requirejs.config({paths});\n",
       "      require([\"vega-embed\"], displayChart, err => showError(`Error loading script: ${err.message}`));\n",
       "    } else if (typeof vegaEmbed === \"function\") {\n",
       "      displayChart(vegaEmbed);\n",
       "    } else {\n",
       "      loadScript(\"vega\")\n",
       "        .then(() => loadScript(\"vega-lite\"))\n",
       "        .then(() => loadScript(\"vega-embed\"))\n",
       "        .catch(showError)\n",
       "        .then(() => displayChart(vegaEmbed));\n",
       "    }\n",
       "  })({\"config\": {\"view\": {\"continuousWidth\": 400, \"continuousHeight\": 300}}, \"layer\": [{\"mark\": \"point\", \"encoding\": {\"x\": {\"type\": \"quantitative\", \"field\": \"AUROC\", \"scale\": {\"zero\": false}}, \"y\": {\"type\": \"quantitative\", \"field\": \"impurity\", \"scale\": {\"zero\": false}}}}, {\"mark\": \"line\", \"encoding\": {\"x\": {\"type\": \"quantitative\", \"field\": \"AUROC\", \"scale\": {\"zero\": false}}, \"y\": {\"type\": \"quantitative\", \"field\": \"impurity\", \"scale\": {\"zero\": false}}}, \"transform\": [{\"on\": \"AUROC\", \"regression\": \"impurity\"}]}], \"data\": {\"name\": \"data-edd317bcaf6c73fb70c9e5c4e6e89ba0\"}, \"$schema\": \"https://vega.github.io/schema/vega-lite/v4.8.1.json\", \"datasets\": {\"data-edd317bcaf6c73fb70c9e5c4e6e89ba0\": [{\"impurity\": 0.7471494988051731, \"AUROC\": 0.8882402181625366, \"treeinterpreter\": 0.4015660596090987}, {\"impurity\": 0.7345940915768485, \"AUROC\": 0.8924582600593567, \"treeinterpreter\": 0.3960863605140858}, {\"impurity\": 0.7273038371653423, \"AUROC\": 0.8838179707527161, \"treeinterpreter\": 0.38401614606439105}, {\"impurity\": 0.7257256627553152, \"AUROC\": 0.8896599411964417, \"treeinterpreter\": 0.3892148252668771}, {\"impurity\": 0.7416836026327684, \"AUROC\": 0.8889932632446289, \"treeinterpreter\": 0.4050924376532702}, {\"impurity\": 0.7345940915768485, \"AUROC\": 0.8924582600593567, \"treeinterpreter\": 0.3960863605140858}, {\"impurity\": 0.7345940915768485, \"AUROC\": 0.8924582600593567, \"treeinterpreter\": 0.3960863605140858}, {\"impurity\": 0.7345940915768485, \"AUROC\": 0.8924582600593567, \"treeinterpreter\": 0.3960863605140858}, {\"impurity\": 0.7345940915768485, \"AUROC\": 0.8924582600593567, \"treeinterpreter\": 0.3960863605140858}, {\"impurity\": 0.693154171549085, \"AUROC\": 0.878309428691864, \"treeinterpreter\": 0.44016286491625634}, {\"impurity\": 0.7207002912982269, \"AUROC\": 0.8775696754455566, \"treeinterpreter\": 0.4118733934899378}, {\"impurity\": 0.7151098682334172, \"AUROC\": 0.8896069526672363, \"treeinterpreter\": 0.3895678840094177}, {\"impurity\": 0.7409278163743519, \"AUROC\": 0.8907893896102905, \"treeinterpreter\": 0.40117612472480924}, {\"impurity\": 0.7401217798514914, \"AUROC\": 0.890903890132904, \"treeinterpreter\": 0.3894425632648628}, {\"impurity\": 0.7252106309463991, \"AUROC\": 0.889069676399231, \"treeinterpreter\": 0.42171293445458646}, {\"impurity\": 0.693154171549085, \"AUROC\": 0.8783161640167236, \"treeinterpreter\": 0.44016286491625634}, {\"impurity\": 0.7345940915768485, \"AUROC\": 0.8924582600593567, \"treeinterpreter\": 0.3960863605140858}, {\"impurity\": 0.7436155231416353, \"AUROC\": 0.8922739624977112, \"treeinterpreter\": 0.393906695122799}, {\"impurity\": 0.6834238708799356, \"AUROC\": 0.8651803135871887, \"treeinterpreter\": 0.3594003708200826}, {\"impurity\": 0.7133113194985856, \"AUROC\": 0.8588423728942871, \"treeinterpreter\": 0.4233959972116084}, {\"impurity\": 0.7161361845418324, \"AUROC\": 0.8891968131065369, \"treeinterpreter\": 0.3900178551184307}, {\"impurity\": 0.7345940915768485, \"AUROC\": 0.8924582600593567, \"treeinterpreter\": 0.3960863605140858}, {\"impurity\": 0.7399805840698538, \"AUROC\": 0.8927612900733948, \"treeinterpreter\": 0.4058285670333649}, {\"impurity\": 0.7332398782012559, \"AUROC\": 0.8899457454681396, \"treeinterpreter\": 0.3904103927353388}, {\"impurity\": 0.7255524469442094, \"AUROC\": 0.8880791664123535, \"treeinterpreter\": 0.39650354383429953}, {\"impurity\": 0.7349489371221779, \"AUROC\": 0.8921095728874207, \"treeinterpreter\": 0.3906575612904367}, {\"impurity\": 0.7092925668890174, \"AUROC\": 0.8871799111366272, \"treeinterpreter\": 0.38613722739126866}, {\"impurity\": 0.7030871316181467, \"AUROC\": 0.8878076076507568, \"treeinterpreter\": 0.4001487350719957}, {\"impurity\": 0.7376582140612975, \"AUROC\": 0.89226895570755, \"treeinterpreter\": 0.3964475526522633}, {\"impurity\": 0.7166730297916194, \"AUROC\": 0.8883448839187622, \"treeinterpreter\": 0.3796796248104327}]}}, {\"mode\": \"vega-lite\"});\n",
       "</script>"
      ],
      "text/plain": [
       "alt.LayerChart(...)"
      ]
     },
     "execution_count": 9,
     "metadata": {},
     "output_type": "execute_result"
    }
   ],
   "source": [
    "x = \"AUROC\"\n",
    "y = \"impurity\"\n",
    "\n",
    "chart = alt.Chart(metrics).mark_point().encode(\n",
    "    x=alt.X(x, scale=alt.Scale(zero=False)),\n",
    "    y=alt.Y(y, scale=alt.Scale(zero=False))\n",
    ")\n",
    "\n",
    "chart = chart + chart.transform_regression(x, y).mark_line()\n",
    "#chart.show()\n",
    "chart\n"
   ]
  },
  {
   "cell_type": "code",
   "execution_count": null,
   "metadata": {
    "pycharm": {
     "name": "#%%\n"
    }
   },
   "outputs": [],
   "source": []
  },
  {
   "cell_type": "markdown",
   "metadata": {},
   "source": [
    "## Experiment Best RF (kfold cross validated)\n",
    "\n",
    "- Using best parameters found (see above)\n",
    "    - Run 5-fold cross validation (was run 4 times)\n",
    "    - Results/metrics were calculated using the mean of all individual runs (4 * 5 = 20 runs)\n",
    "    - Per 5-fold cross validation (4 times) the seed for model training and splitting was chosen randomly"
   ]
  },
  {
   "cell_type": "code",
   "execution_count": 10,
   "metadata": {
    "pycharm": {
     "name": "#%%\n"
    }
   },
   "outputs": [],
   "source": [
    "experiment_name = \"herg_rf_best_kfold\"\n",
    "exp = mlflow.get_experiment_by_name(experiment_name)\n",
    "\n",
    "query = \"tags.mlflow.runName != 'summary'\"\n",
    "runs = mlflow.search_runs(experiment_ids=exp.experiment_id, filter_string=query)"
   ]
  },
  {
   "cell_type": "markdown",
   "metadata": {},
   "source": [
    "### Seeds\n"
   ]
  },
  {
   "cell_type": "code",
   "execution_count": 11,
   "metadata": {
    "pycharm": {
     "name": "#%%\n"
    }
   },
   "outputs": [
    {
     "data": {
      "text/html": [
       "<div>\n",
       "<style scoped>\n",
       "    .dataframe tbody tr th:only-of-type {\n",
       "        vertical-align: middle;\n",
       "    }\n",
       "\n",
       "    .dataframe tbody tr th {\n",
       "        vertical-align: top;\n",
       "    }\n",
       "\n",
       "    .dataframe thead th {\n",
       "        text-align: right;\n",
       "    }\n",
       "</style>\n",
       "<table border=\"1\" class=\"dataframe\">\n",
       "  <thead>\n",
       "    <tr style=\"text-align: right;\">\n",
       "      <th></th>\n",
       "      <th>run_id</th>\n",
       "      <th>params.seed</th>\n",
       "      <th>params.split_seed</th>\n",
       "    </tr>\n",
       "  </thead>\n",
       "  <tbody>\n",
       "    <tr>\n",
       "      <th>0</th>\n",
       "      <td>83db45405b704c49b0b4a0d12bc10994</td>\n",
       "      <td>166806334</td>\n",
       "      <td>166806334</td>\n",
       "    </tr>\n",
       "    <tr>\n",
       "      <th>1</th>\n",
       "      <td>46d70c678c0049a084daa24f014862ec</td>\n",
       "      <td>166806334</td>\n",
       "      <td>166806334</td>\n",
       "    </tr>\n",
       "    <tr>\n",
       "      <th>2</th>\n",
       "      <td>c895e7c45d49417bae414cfc004a9f9c</td>\n",
       "      <td>166806334</td>\n",
       "      <td>166806334</td>\n",
       "    </tr>\n",
       "    <tr>\n",
       "      <th>3</th>\n",
       "      <td>6fef517d4ec443fe8f7d1adf775aca40</td>\n",
       "      <td>166806334</td>\n",
       "      <td>166806334</td>\n",
       "    </tr>\n",
       "    <tr>\n",
       "      <th>4</th>\n",
       "      <td>9a85521df4c34bc0a691b83f8877869d</td>\n",
       "      <td>166806334</td>\n",
       "      <td>166806334</td>\n",
       "    </tr>\n",
       "    <tr>\n",
       "      <th>5</th>\n",
       "      <td>b45a06c046a64c9591be78f5c498a53c</td>\n",
       "      <td>3369474970</td>\n",
       "      <td>3369474970</td>\n",
       "    </tr>\n",
       "    <tr>\n",
       "      <th>6</th>\n",
       "      <td>5c80aafa8c134b1f8d937a5e6041bb1b</td>\n",
       "      <td>3369474970</td>\n",
       "      <td>3369474970</td>\n",
       "    </tr>\n",
       "    <tr>\n",
       "      <th>7</th>\n",
       "      <td>37dccf6ad8824c5982e4c32b69b2427d</td>\n",
       "      <td>3369474970</td>\n",
       "      <td>3369474970</td>\n",
       "    </tr>\n",
       "    <tr>\n",
       "      <th>8</th>\n",
       "      <td>319f95721a1b40ab99d305db2e8560ec</td>\n",
       "      <td>3369474970</td>\n",
       "      <td>3369474970</td>\n",
       "    </tr>\n",
       "    <tr>\n",
       "      <th>9</th>\n",
       "      <td>73a8a3c35f21424d85101d02aab49cd3</td>\n",
       "      <td>3369474970</td>\n",
       "      <td>3369474970</td>\n",
       "    </tr>\n",
       "    <tr>\n",
       "      <th>10</th>\n",
       "      <td>89117b8a259743b99c7d60ce78524f14</td>\n",
       "      <td>1531702888</td>\n",
       "      <td>1531702888</td>\n",
       "    </tr>\n",
       "    <tr>\n",
       "      <th>11</th>\n",
       "      <td>c23233a4e68e47d5965aae5a8ef1ba4d</td>\n",
       "      <td>1531702888</td>\n",
       "      <td>1531702888</td>\n",
       "    </tr>\n",
       "    <tr>\n",
       "      <th>12</th>\n",
       "      <td>95ecb965d4474e61a607f36078f826a7</td>\n",
       "      <td>1531702888</td>\n",
       "      <td>1531702888</td>\n",
       "    </tr>\n",
       "    <tr>\n",
       "      <th>13</th>\n",
       "      <td>ff3a7d58afc44c8090ca8f35be2cfa54</td>\n",
       "      <td>1531702888</td>\n",
       "      <td>1531702888</td>\n",
       "    </tr>\n",
       "    <tr>\n",
       "      <th>14</th>\n",
       "      <td>5545e14ce2c24811ab340743aa6089ad</td>\n",
       "      <td>1531702888</td>\n",
       "      <td>1531702888</td>\n",
       "    </tr>\n",
       "    <tr>\n",
       "      <th>15</th>\n",
       "      <td>d3afba57b4ed4c07a4d88819bee281c5</td>\n",
       "      <td>4114145051</td>\n",
       "      <td>4114145051</td>\n",
       "    </tr>\n",
       "    <tr>\n",
       "      <th>16</th>\n",
       "      <td>9366e21620274a958b33f88cf1e4f4a4</td>\n",
       "      <td>4114145051</td>\n",
       "      <td>4114145051</td>\n",
       "    </tr>\n",
       "    <tr>\n",
       "      <th>17</th>\n",
       "      <td>a112b5d8927f4ae998554e857c7a1b44</td>\n",
       "      <td>4114145051</td>\n",
       "      <td>4114145051</td>\n",
       "    </tr>\n",
       "    <tr>\n",
       "      <th>18</th>\n",
       "      <td>7e6a2ad8be1743e6ba86373a414a7c46</td>\n",
       "      <td>4114145051</td>\n",
       "      <td>4114145051</td>\n",
       "    </tr>\n",
       "    <tr>\n",
       "      <th>19</th>\n",
       "      <td>e57b75db97b24fe592610378ef4b68e6</td>\n",
       "      <td>4114145051</td>\n",
       "      <td>4114145051</td>\n",
       "    </tr>\n",
       "  </tbody>\n",
       "</table>\n",
       "</div>"
      ],
      "text/plain": [
       "                              run_id params.seed params.split_seed\n",
       "0   83db45405b704c49b0b4a0d12bc10994   166806334         166806334\n",
       "1   46d70c678c0049a084daa24f014862ec   166806334         166806334\n",
       "2   c895e7c45d49417bae414cfc004a9f9c   166806334         166806334\n",
       "3   6fef517d4ec443fe8f7d1adf775aca40   166806334         166806334\n",
       "4   9a85521df4c34bc0a691b83f8877869d   166806334         166806334\n",
       "5   b45a06c046a64c9591be78f5c498a53c  3369474970        3369474970\n",
       "6   5c80aafa8c134b1f8d937a5e6041bb1b  3369474970        3369474970\n",
       "7   37dccf6ad8824c5982e4c32b69b2427d  3369474970        3369474970\n",
       "8   319f95721a1b40ab99d305db2e8560ec  3369474970        3369474970\n",
       "9   73a8a3c35f21424d85101d02aab49cd3  3369474970        3369474970\n",
       "10  89117b8a259743b99c7d60ce78524f14  1531702888        1531702888\n",
       "11  c23233a4e68e47d5965aae5a8ef1ba4d  1531702888        1531702888\n",
       "12  95ecb965d4474e61a607f36078f826a7  1531702888        1531702888\n",
       "13  ff3a7d58afc44c8090ca8f35be2cfa54  1531702888        1531702888\n",
       "14  5545e14ce2c24811ab340743aa6089ad  1531702888        1531702888\n",
       "15  d3afba57b4ed4c07a4d88819bee281c5  4114145051        4114145051\n",
       "16  9366e21620274a958b33f88cf1e4f4a4  4114145051        4114145051\n",
       "17  a112b5d8927f4ae998554e857c7a1b44  4114145051        4114145051\n",
       "18  7e6a2ad8be1743e6ba86373a414a7c46  4114145051        4114145051\n",
       "19  e57b75db97b24fe592610378ef4b68e6  4114145051        4114145051"
      ]
     },
     "execution_count": 11,
     "metadata": {},
     "output_type": "execute_result"
    }
   ],
   "source": [
    "runs[[\"run_id\", \"params.seed\", \"params.split_seed\"]].head(n=99)"
   ]
  },
  {
   "cell_type": "markdown",
   "metadata": {},
   "source": [
    "### Parameters"
   ]
  },
  {
   "cell_type": "code",
   "execution_count": 12,
   "metadata": {
    "pycharm": {
     "name": "#%%\n"
    }
   },
   "outputs": [
    {
     "name": "stdout",
     "output_type": "stream",
     "text": [
      "split_type: random_kfold\n",
      "min_weight_fraction_leaf: 0.0\n",
      "verbose: 1\n",
      "train/threshold-t0: 0.5100021958351135\n",
      "featurizer_kwargs/use_features: True\n",
      "criterion: entropy\n",
      "max_samples: None\n",
      "random_state: 166806334\n",
      "input_size: 2017\n",
      "ignore_index: -100\n",
      "bootstrap: False\n",
      "num_classes: 2\n",
      "rf_kwargs/max_features: sqrt\n",
      "featurizer_kwargs/fold: 1024\n",
      "class_weight: None\n",
      "smile2: c1ccccc1CCNC - active\n",
      "rf_kwargs/n_estimators: 200\n",
      "featurizer_kwargs/radius: 3\n",
      "smile4: c1ccccc1Cc1ccccc1 - active\n",
      "ccp_alpha: 0.0\n",
      "featurizer_name: combined\n",
      "n_estimators: 200\n",
      "smile1: c1ccccc1CNCC - active\n",
      "standardize: True\n",
      "use_cache: True\n",
      "split_size: (5, 4, 0)\n",
      "num_workers: 0\n",
      "min_impurity_decrease: 0.0\n",
      "featurizer_kwargs/return_count: True\n",
      "featurizer_chunksize: 100\n",
      "smile0: CCOc1ccccc1 - active\n",
      "featurizer_mp_context: fork\n",
      "seed: 166806334\n",
      "min_samples_split: 5\n",
      "objective: binary\n",
      "split_seed: 166806334\n",
      "smile3: c1ccccc1CN2CCCCC2 - active\n",
      "min_impurity_split: None\n",
      "rf_kwargs/bootstrap: False\n",
      "cache_dir: ../../../data/herg/\n",
      "num_targets: 1\n",
      "rf_kwargs/max_depth: 40\n",
      "rf_kwargs/min_samples_leaf: 2\n",
      "featurizer_n_jobs: 0\n",
      "pos_label: 1\n",
      "oob_score: False\n",
      "featurizer_kwargs/use_chirality: True\n",
      "rf_kwargs/criterion: entropy\n",
      "n_jobs: 16\n",
      "min_samples_leaf: 2\n",
      "warm_start: False\n",
      "rf_kwargs/min_samples_split: 5\n",
      "max_features: sqrt\n",
      "max_leaf_nodes: None\n",
      "batch_size: 9999\n",
      "max_depth: 40\n"
     ]
    }
   ],
   "source": [
    "params = [c for c in runs.columns if \"search_space\" not in c and \"params\" in c]\n",
    "for p, v in zip(params, runs[params].iloc[0].head(n=99)):\n",
    "    print(f\"{p.replace('params.', '')}: {v}\")"
   ]
  },
  {
   "cell_type": "markdown",
   "metadata": {},
   "source": [
    "### Metrics\n",
    "\n",
    "#### Performance on hERG dataset"
   ]
  },
  {
   "cell_type": "code",
   "execution_count": 18,
   "metadata": {
    "pycharm": {
     "name": "#%%\n"
    }
   },
   "outputs": [
    {
     "data": {
      "text/html": [
       "<div>\n",
       "<style scoped>\n",
       "    .dataframe tbody tr th:only-of-type {\n",
       "        vertical-align: middle;\n",
       "    }\n",
       "\n",
       "    .dataframe tbody tr th {\n",
       "        vertical-align: top;\n",
       "    }\n",
       "\n",
       "    .dataframe thead th {\n",
       "        text-align: right;\n",
       "    }\n",
       "</style>\n",
       "<table border=\"1\" class=\"dataframe\">\n",
       "  <thead>\n",
       "    <tr style=\"text-align: right;\">\n",
       "      <th></th>\n",
       "      <th>count</th>\n",
       "      <th>mean</th>\n",
       "      <th>std</th>\n",
       "      <th>min</th>\n",
       "      <th>25%</th>\n",
       "      <th>50%</th>\n",
       "      <th>75%</th>\n",
       "      <th>max</th>\n",
       "    </tr>\n",
       "  </thead>\n",
       "  <tbody>\n",
       "    <tr>\n",
       "      <th>AUROC</th>\n",
       "      <td>20.0</td>\n",
       "      <td>0.894575</td>\n",
       "      <td>0.008716</td>\n",
       "      <td>0.879861</td>\n",
       "      <td>0.890425</td>\n",
       "      <td>0.894838</td>\n",
       "      <td>0.897595</td>\n",
       "      <td>0.915833</td>\n",
       "    </tr>\n",
       "  </tbody>\n",
       "</table>\n",
       "</div>"
      ],
      "text/plain": [
       "       count      mean       std       min       25%       50%       75%  \\\n",
       "AUROC   20.0  0.894575  0.008716  0.879861  0.890425  0.894838  0.897595   \n",
       "\n",
       "            max  \n",
       "AUROC  0.915833  "
      ]
     },
     "execution_count": 18,
     "metadata": {},
     "output_type": "execute_result"
    }
   ],
   "source": [
    "metrics_names = [\n",
    "    \"metrics.test/AUROC\",\n",
    "]\n",
    "metrics_columns = [c for c in runs.columns if any(c in m for m in metrics_names)]\n",
    "metrics = runs[metrics_columns]\n",
    "\n",
    "metrics.columns = [c.split(\"/\")[-1] for c in metrics.columns]\n",
    "metrics.describe().T.sort_values(by=\"mean\", ascending=False)"
   ]
  },
  {
   "cell_type": "markdown",
   "metadata": {},
   "source": [
    "#### Active Hergophores on Inactive Model Predictions\n",
    "\n",
    "- Atomic attribution using various methods"
   ]
  },
  {
   "cell_type": "code",
   "execution_count": 19,
   "metadata": {
    "pycharm": {
     "name": "#%%\n"
    }
   },
   "outputs": [
    {
     "data": {
      "text/html": [
       "<div>\n",
       "<style scoped>\n",
       "    .dataframe tbody tr th:only-of-type {\n",
       "        vertical-align: middle;\n",
       "    }\n",
       "\n",
       "    .dataframe tbody tr th {\n",
       "        vertical-align: top;\n",
       "    }\n",
       "\n",
       "    .dataframe thead th {\n",
       "        text-align: right;\n",
       "    }\n",
       "</style>\n",
       "<table border=\"1\" class=\"dataframe\">\n",
       "  <thead>\n",
       "    <tr style=\"text-align: right;\">\n",
       "      <th></th>\n",
       "      <th>count</th>\n",
       "      <th>mean</th>\n",
       "      <th>std</th>\n",
       "      <th>min</th>\n",
       "      <th>25%</th>\n",
       "      <th>50%</th>\n",
       "      <th>75%</th>\n",
       "      <th>max</th>\n",
       "    </tr>\n",
       "  </thead>\n",
       "  <tbody>\n",
       "    <tr>\n",
       "      <th>impurity</th>\n",
       "      <td>20.0</td>\n",
       "      <td>0.733484</td>\n",
       "      <td>0.008934</td>\n",
       "      <td>0.717656</td>\n",
       "      <td>0.727513</td>\n",
       "      <td>0.734032</td>\n",
       "      <td>0.736737</td>\n",
       "      <td>0.750730</td>\n",
       "    </tr>\n",
       "    <tr>\n",
       "      <th>shapley_value_sampling</th>\n",
       "      <td>5.0</td>\n",
       "      <td>0.584729</td>\n",
       "      <td>0.013353</td>\n",
       "      <td>0.564401</td>\n",
       "      <td>0.577842</td>\n",
       "      <td>0.591943</td>\n",
       "      <td>0.594215</td>\n",
       "      <td>0.595243</td>\n",
       "    </tr>\n",
       "    <tr>\n",
       "      <th>occlusion</th>\n",
       "      <td>20.0</td>\n",
       "      <td>0.558192</td>\n",
       "      <td>0.016911</td>\n",
       "      <td>0.514387</td>\n",
       "      <td>0.549372</td>\n",
       "      <td>0.562734</td>\n",
       "      <td>0.570205</td>\n",
       "      <td>0.580939</td>\n",
       "    </tr>\n",
       "    <tr>\n",
       "      <th>input_x_impurity</th>\n",
       "      <td>20.0</td>\n",
       "      <td>0.396790</td>\n",
       "      <td>0.008010</td>\n",
       "      <td>0.379610</td>\n",
       "      <td>0.393722</td>\n",
       "      <td>0.397703</td>\n",
       "      <td>0.399177</td>\n",
       "      <td>0.415246</td>\n",
       "    </tr>\n",
       "    <tr>\n",
       "      <th>treeinterpreter</th>\n",
       "      <td>20.0</td>\n",
       "      <td>0.382882</td>\n",
       "      <td>0.010217</td>\n",
       "      <td>0.361666</td>\n",
       "      <td>0.378061</td>\n",
       "      <td>0.383465</td>\n",
       "      <td>0.388164</td>\n",
       "      <td>0.405098</td>\n",
       "    </tr>\n",
       "  </tbody>\n",
       "</table>\n",
       "</div>"
      ],
      "text/plain": [
       "                        count      mean       std       min       25%  \\\n",
       "impurity                 20.0  0.733484  0.008934  0.717656  0.727513   \n",
       "shapley_value_sampling    5.0  0.584729  0.013353  0.564401  0.577842   \n",
       "occlusion                20.0  0.558192  0.016911  0.514387  0.549372   \n",
       "input_x_impurity         20.0  0.396790  0.008010  0.379610  0.393722   \n",
       "treeinterpreter          20.0  0.382882  0.010217  0.361666  0.378061   \n",
       "\n",
       "                             50%       75%       max  \n",
       "impurity                0.734032  0.736737  0.750730  \n",
       "shapley_value_sampling  0.591943  0.594215  0.595243  \n",
       "occlusion               0.562734  0.570205  0.580939  \n",
       "input_x_impurity        0.397703  0.399177  0.415246  \n",
       "treeinterpreter         0.383465  0.388164  0.405098  "
      ]
     },
     "execution_count": 19,
     "metadata": {},
     "output_type": "execute_result"
    }
   ],
   "source": [
    "metrics_names = [\n",
    "    \"metrics.test/mean/avg_score_pred_inactive/impurity\",\n",
    "    \"metrics.test/mean/avg_score_pred_inactive/input_x_impurity\",\n",
    "    \"metrics.test/mean/avg_score_pred_inactive/occlusion\",\n",
    "    \"metrics.test/mean/avg_score_pred_inactive/shapley_value_sampling\",\n",
    "    \"metrics.test/mean/avg_score_pred_inactive/treeinterpreter\",\n",
    "]\n",
    "metrics_columns = [c for c in runs.columns if any(c in m for m in metrics_names)]\n",
    "metrics = runs[metrics_columns]\n",
    "\n",
    "metrics.columns = [c.split(\"/\")[-1] for c in metrics.columns]\n",
    "metrics.describe().T.sort_values(by=\"mean\", ascending=False)\n"
   ]
  },
  {
   "cell_type": "markdown",
   "metadata": {},
   "source": [
    "#### Active Hergophores on Active Model Predictions\n",
    "\n",
    "- Atomic attribution using various methods"
   ]
  },
  {
   "cell_type": "code",
   "execution_count": 20,
   "metadata": {
    "pycharm": {
     "name": "#%%\n"
    }
   },
   "outputs": [
    {
     "data": {
      "text/html": [
       "<div>\n",
       "<style scoped>\n",
       "    .dataframe tbody tr th:only-of-type {\n",
       "        vertical-align: middle;\n",
       "    }\n",
       "\n",
       "    .dataframe tbody tr th {\n",
       "        vertical-align: top;\n",
       "    }\n",
       "\n",
       "    .dataframe thead th {\n",
       "        text-align: right;\n",
       "    }\n",
       "</style>\n",
       "<table border=\"1\" class=\"dataframe\">\n",
       "  <thead>\n",
       "    <tr style=\"text-align: right;\">\n",
       "      <th></th>\n",
       "      <th>count</th>\n",
       "      <th>mean</th>\n",
       "      <th>std</th>\n",
       "      <th>min</th>\n",
       "      <th>25%</th>\n",
       "      <th>50%</th>\n",
       "      <th>75%</th>\n",
       "      <th>max</th>\n",
       "    </tr>\n",
       "  </thead>\n",
       "  <tbody>\n",
       "    <tr>\n",
       "      <th>impurity</th>\n",
       "      <td>20.0</td>\n",
       "      <td>0.714395</td>\n",
       "      <td>0.006987</td>\n",
       "      <td>0.699044</td>\n",
       "      <td>0.711387</td>\n",
       "      <td>0.715798</td>\n",
       "      <td>0.719995</td>\n",
       "      <td>0.723036</td>\n",
       "    </tr>\n",
       "    <tr>\n",
       "      <th>treeinterpreter</th>\n",
       "      <td>20.0</td>\n",
       "      <td>0.625820</td>\n",
       "      <td>0.008989</td>\n",
       "      <td>0.608478</td>\n",
       "      <td>0.621473</td>\n",
       "      <td>0.625606</td>\n",
       "      <td>0.631745</td>\n",
       "      <td>0.641714</td>\n",
       "    </tr>\n",
       "    <tr>\n",
       "      <th>shapley_value_sampling</th>\n",
       "      <td>5.0</td>\n",
       "      <td>0.597837</td>\n",
       "      <td>0.020107</td>\n",
       "      <td>0.568877</td>\n",
       "      <td>0.588296</td>\n",
       "      <td>0.599880</td>\n",
       "      <td>0.613007</td>\n",
       "      <td>0.619126</td>\n",
       "    </tr>\n",
       "    <tr>\n",
       "      <th>occlusion</th>\n",
       "      <td>20.0</td>\n",
       "      <td>0.552449</td>\n",
       "      <td>0.012218</td>\n",
       "      <td>0.529969</td>\n",
       "      <td>0.543285</td>\n",
       "      <td>0.553669</td>\n",
       "      <td>0.564015</td>\n",
       "      <td>0.572107</td>\n",
       "    </tr>\n",
       "    <tr>\n",
       "      <th>input_x_impurity</th>\n",
       "      <td>20.0</td>\n",
       "      <td>0.457708</td>\n",
       "      <td>0.010017</td>\n",
       "      <td>0.437521</td>\n",
       "      <td>0.453137</td>\n",
       "      <td>0.460364</td>\n",
       "      <td>0.464311</td>\n",
       "      <td>0.472306</td>\n",
       "    </tr>\n",
       "  </tbody>\n",
       "</table>\n",
       "</div>"
      ],
      "text/plain": [
       "                        count      mean       std       min       25%  \\\n",
       "impurity                 20.0  0.714395  0.006987  0.699044  0.711387   \n",
       "treeinterpreter          20.0  0.625820  0.008989  0.608478  0.621473   \n",
       "shapley_value_sampling    5.0  0.597837  0.020107  0.568877  0.588296   \n",
       "occlusion                20.0  0.552449  0.012218  0.529969  0.543285   \n",
       "input_x_impurity         20.0  0.457708  0.010017  0.437521  0.453137   \n",
       "\n",
       "                             50%       75%       max  \n",
       "impurity                0.715798  0.719995  0.723036  \n",
       "treeinterpreter         0.625606  0.631745  0.641714  \n",
       "shapley_value_sampling  0.599880  0.613007  0.619126  \n",
       "occlusion               0.553669  0.564015  0.572107  \n",
       "input_x_impurity        0.460364  0.464311  0.472306  "
      ]
     },
     "execution_count": 20,
     "metadata": {},
     "output_type": "execute_result"
    }
   ],
   "source": [
    "metrics_names = [\n",
    "    \"metrics.test/mean/avg_score_pred_active/impurity\",\n",
    "    \"metrics.test/mean/avg_score_pred_active/input_x_impurity\",\n",
    "    \"metrics.test/mean/avg_score_pred_active/occlusion\",\n",
    "    \"metrics.test/mean/avg_score_pred_active/shapley_value_sampling\",\n",
    "    \"metrics.test/mean/avg_score_pred_active/treeinterpreter\",\n",
    "]\n",
    "metrics_columns = [c for c in runs.columns if any(c in m for m in metrics_names)]\n",
    "metrics = runs[metrics_columns]\n",
    "\n",
    "metrics.columns = [c.split(\"/\")[-1] for c in metrics.columns]\n",
    "metrics.describe().T.sort_values(by=\"mean\", ascending=False)"
   ]
  },
  {
   "cell_type": "markdown",
   "metadata": {},
   "source": [
    "#### Correlations"
   ]
  },
  {
   "cell_type": "code",
   "execution_count": 16,
   "metadata": {
    "pycharm": {
     "name": "#%%\n"
    }
   },
   "outputs": [
    {
     "data": {
      "text/html": [
       "<div>\n",
       "<style scoped>\n",
       "    .dataframe tbody tr th:only-of-type {\n",
       "        vertical-align: middle;\n",
       "    }\n",
       "\n",
       "    .dataframe tbody tr th {\n",
       "        vertical-align: top;\n",
       "    }\n",
       "\n",
       "    .dataframe thead th {\n",
       "        text-align: right;\n",
       "    }\n",
       "</style>\n",
       "<table border=\"1\" class=\"dataframe\">\n",
       "  <thead>\n",
       "    <tr style=\"text-align: right;\">\n",
       "      <th></th>\n",
       "      <th>input_x_impurity</th>\n",
       "      <th>AUROC</th>\n",
       "      <th>impurity</th>\n",
       "      <th>treeinterpreter</th>\n",
       "      <th>occlusion</th>\n",
       "      <th>shapley_value_sampling</th>\n",
       "    </tr>\n",
       "  </thead>\n",
       "  <tbody>\n",
       "    <tr>\n",
       "      <th>input_x_impurity</th>\n",
       "      <td>1.000000</td>\n",
       "      <td>-0.179630</td>\n",
       "      <td>-0.194658</td>\n",
       "      <td>0.063378</td>\n",
       "      <td>-0.001497</td>\n",
       "      <td>-0.604746</td>\n",
       "    </tr>\n",
       "    <tr>\n",
       "      <th>AUROC</th>\n",
       "      <td>-0.179630</td>\n",
       "      <td>1.000000</td>\n",
       "      <td>0.196513</td>\n",
       "      <td>0.221176</td>\n",
       "      <td>-0.332502</td>\n",
       "      <td>-0.525221</td>\n",
       "    </tr>\n",
       "    <tr>\n",
       "      <th>impurity</th>\n",
       "      <td>-0.194658</td>\n",
       "      <td>0.196513</td>\n",
       "      <td>1.000000</td>\n",
       "      <td>-0.377372</td>\n",
       "      <td>0.033097</td>\n",
       "      <td>0.128604</td>\n",
       "    </tr>\n",
       "    <tr>\n",
       "      <th>treeinterpreter</th>\n",
       "      <td>0.063378</td>\n",
       "      <td>0.221176</td>\n",
       "      <td>-0.377372</td>\n",
       "      <td>1.000000</td>\n",
       "      <td>-0.565178</td>\n",
       "      <td>-0.774499</td>\n",
       "    </tr>\n",
       "    <tr>\n",
       "      <th>occlusion</th>\n",
       "      <td>-0.001497</td>\n",
       "      <td>-0.332502</td>\n",
       "      <td>0.033097</td>\n",
       "      <td>-0.565178</td>\n",
       "      <td>1.000000</td>\n",
       "      <td>0.754203</td>\n",
       "    </tr>\n",
       "    <tr>\n",
       "      <th>shapley_value_sampling</th>\n",
       "      <td>-0.604746</td>\n",
       "      <td>-0.525221</td>\n",
       "      <td>0.128604</td>\n",
       "      <td>-0.774499</td>\n",
       "      <td>0.754203</td>\n",
       "      <td>1.000000</td>\n",
       "    </tr>\n",
       "  </tbody>\n",
       "</table>\n",
       "</div>"
      ],
      "text/plain": [
       "                        input_x_impurity     AUROC  impurity  treeinterpreter  \\\n",
       "input_x_impurity                1.000000 -0.179630 -0.194658         0.063378   \n",
       "AUROC                          -0.179630  1.000000  0.196513         0.221176   \n",
       "impurity                       -0.194658  0.196513  1.000000        -0.377372   \n",
       "treeinterpreter                 0.063378  0.221176 -0.377372         1.000000   \n",
       "occlusion                      -0.001497 -0.332502  0.033097        -0.565178   \n",
       "shapley_value_sampling         -0.604746 -0.525221  0.128604        -0.774499   \n",
       "\n",
       "                        occlusion  shapley_value_sampling  \n",
       "input_x_impurity        -0.001497               -0.604746  \n",
       "AUROC                   -0.332502               -0.525221  \n",
       "impurity                 0.033097                0.128604  \n",
       "treeinterpreter         -0.565178               -0.774499  \n",
       "occlusion                1.000000                0.754203  \n",
       "shapley_value_sampling   0.754203                1.000000  "
      ]
     },
     "execution_count": 16,
     "metadata": {},
     "output_type": "execute_result"
    }
   ],
   "source": [
    "metrics_names = [\n",
    "    \"metrics.test/AUROC\",\n",
    "]\n",
    "\n",
    "metrics_names += [\n",
    "    \"metrics.test/mean/avg_score_pred_inactive/impurity\",\n",
    "    \"metrics.test/mean/avg_score_pred_inactive/input_x_impurity\",\n",
    "    \"metrics.test/mean/avg_score_pred_inactive/occlusion\",\n",
    "    \"metrics.test/mean/avg_score_pred_inactive/shapley_value_sampling\",\n",
    "    \"metrics.test/mean/avg_score_pred_inactive/treeinterpreter\",\n",
    "]\n",
    "metrics_columns = [c for c in runs.columns if any(c in m for m in metrics_names)]\n",
    "metrics = runs[metrics_columns]\n",
    "\n",
    "metrics.columns = [c.split(\"/\")[-1] for c in metrics.columns]\n",
    "metrics.corr(method=\"pearson\")"
   ]
  }
 ],
 "metadata": {
  "kernelspec": {
   "display_name": "Python 3",
   "language": "python",
   "name": "python3"
  },
  "language_info": {
   "codemirror_mode": {
    "name": "ipython",
    "version": 3
   },
   "file_extension": ".py",
   "mimetype": "text/x-python",
   "name": "python",
   "nbconvert_exporter": "python",
   "pygments_lexer": "ipython3",
   "version": "3.8.8"
  }
 },
 "nbformat": 4,
 "nbformat_minor": 1
}