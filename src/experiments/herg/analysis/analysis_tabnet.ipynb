{
 "cells": [
  {
   "cell_type": "code",
   "execution_count": 3,
   "outputs": [
    {
     "data": {
      "text/plain": "DataTransformerRegistry.enable('default')"
     },
     "execution_count": 3,
     "metadata": {},
     "output_type": "execute_result"
    }
   ],
   "source": [
    "import os\n",
    "import mlflow\n",
    "import matplotlib.pyplot as plt\n",
    "import altair as alt\n",
    "import numpy as np\n",
    "import pandas as pd\n",
    "\n",
    "%matplotlib inline\n",
    "\n",
    "#alt.renderers.enable(\"html\")\n",
    "alt.data_transformers.disable_max_rows()"
   ],
   "metadata": {
    "collapsed": false,
    "pycharm": {
     "name": "#%%\n"
    }
   }
  },
  {
   "cell_type": "code",
   "execution_count": 4,
   "outputs": [],
   "source": [
    "tracking_uri = os.getenv(\"TRACKING_URI\", default=\"http://localhost:5000\")\n",
    "mlflow.set_tracking_uri(tracking_uri)"
   ],
   "metadata": {
    "collapsed": false,
    "pycharm": {
     "name": "#%%\n"
    }
   }
  },
  {
   "cell_type": "markdown",
   "source": [
    "## Experiment Random Parameter-Search TabNet\n",
    "\n",
    "- Single random seed for model training for all models\n",
    "- Single random seed for random split for all models\n",
    "- Per run/model calculate atomic attribution using various methods (e.g. tabnet, integrated gradients, saliency, etc.)\n",
    "- Single target objective (first) using BCE-loss\n",
    "- Hyperparameter search using random sampler"
   ],
   "metadata": {
    "collapsed": false
   }
  },
  {
   "cell_type": "code",
   "execution_count": 5,
   "outputs": [],
   "source": [
    "experiment_name = \"herg_tn_opt2609_3\"\n",
    "exp = mlflow.get_experiment_by_name(experiment_name)\n",
    "\n",
    "runs = mlflow.search_runs(experiment_ids=exp.experiment_id)"
   ],
   "metadata": {
    "collapsed": false,
    "pycharm": {
     "name": "#%%\n"
    }
   }
  },
  {
   "cell_type": "code",
   "execution_count": null,
   "outputs": [],
   "source": [
    "#runs.iloc[1:].describe().T"
   ],
   "metadata": {
    "collapsed": false,
    "pycharm": {
     "name": "#%%\n"
    }
   }
  },
  {
   "cell_type": "code",
   "execution_count": null,
   "outputs": [],
   "source": [
    "#runs.iloc[1:].corr()"
   ],
   "metadata": {
    "collapsed": false,
    "pycharm": {
     "name": "#%%\n"
    }
   }
  },
  {
   "cell_type": "markdown",
   "source": [
    "### Search space"
   ],
   "metadata": {
    "collapsed": false
   }
  },
  {
   "cell_type": "code",
   "execution_count": 6,
   "outputs": [
    {
     "name": "stdout",
     "output_type": "stream",
     "text": [
      "{'name': 'momentum', 'type': 'choice', 'values': [0.2, 0.1, 0.05, 0.02]}\n",
      "{'name': 'virtual_batch_size', 'type': 'choice', 'values': [16, 32, 64, 128]}\n",
      "{'name': 'nr_steps', 'type': 'choice', 'values': [1, 2, 3, 4, 5]}\n",
      "{'name': 'lambda_sparse', 'type': 'choice', 'values': [0.0, 1e-06, 0.0001, 0.01]}\n",
      "{'name': 'decay_rate', 'type': 'choice', 'values': [0.4, 0.8, 0.9, 0.95]}\n",
      "{'name': 'gamma', 'type': 'choice', 'values': [1.0, 1.2, 1.5]}\n",
      "{'name': 'lr', 'type': 'choice', 'values': [0.03, 0.02, 0.01]}\n",
      "{'name': 'decay_step', 'type': 'choice', 'values': [50, 200, 800]}\n",
      "{'name': 'decision_size', 'type': 'choice', 'values': [8, 16, 24, 32, 64]}\n"
     ]
    }
   ],
   "source": [
    "search_space = [c for c in runs.columns if \"search_space/\" in c]\n",
    "for r in runs[search_space].iloc[0].head(n=99):\n",
    "    print(r)"
   ],
   "metadata": {
    "collapsed": false,
    "pycharm": {
     "name": "#%%\n"
    }
   }
  },
  {
   "cell_type": "markdown",
   "source": [
    "### Other + default parameters"
   ],
   "metadata": {
    "collapsed": false
   }
  },
  {
   "cell_type": "code",
   "execution_count": 7,
   "outputs": [
    {
     "name": "stdout",
     "output_type": "stream",
     "text": [
      "gradient_clip_val: 1.0\n",
      "track_metrics: ...value too long for mlflow - not inserted\n",
      "attribution_kwargs: ...value too long for mlflow - not inserted\n",
      "scheduler: exponential_decay\n",
      "nr_shared_layers: 2\n",
      "split_seed: 381515060\n",
      "tracking_uri: http://localhost:5000\n",
      "trials: 30\n",
      "checkpoint_minimize: True\n",
      "scheduler_params: {'decay_step': 10, 'decay_rate': 0.95}\n",
      "sampler_name: random\n",
      "optimizer: adam\n",
      "normalize_input: True\n",
      "split_size: (0.6, 0.2, 0.2)\n",
      "stochastic_weight_avg: False\n",
      "run_name: vanilla_random\n",
      "standardize: False\n",
      "max_steps: 1000\n",
      "attentive_type: sparsemax\n",
      "nr_steps: 4\n",
      "pruner_name: None\n",
      "feature_size: 128\n",
      "alpha: 2.0\n",
      "minimize: False\n",
      "patience: 10\n",
      "nr_layers: 2\n",
      "gamma: 1.5\n",
      "num_workers: 8\n",
      "batch_size: 512\n",
      "momentum: 0.01\n",
      "checkpoint_objective: val/loss\n",
      "lambda_sparse: 0.0\n",
      "featurizer_kwargs: {'fold': 1024, 'radius': 3, 'return_count': True, 'use_chirality': True, 'use_features': True}\n",
      "objective_name: val/AUROC\n",
      "log_sparsity: True\n",
      "relaxation_type: gamma_fixed\n",
      "decision_size: 64\n",
      "cache_dir: ../../../data/herg/\n",
      "use_labels: ['active_g10']\n",
      "featurizer_chunksize: 100\n",
      "seed: 693113682\n",
      "lr: 0.01\n",
      "virtual_batch_size: 256\n",
      "split_type: random\n",
      "experiment_name: herg_tn_opt2609_3\n",
      "featurizer_name: combined\n",
      "featurizer_mp_context: fork\n"
     ]
    }
   ],
   "source": [
    "params = [c for c in runs.columns if \"search_space\" not in c and \"params.args\" in c]\n",
    "for p, v in zip(params, runs[params].iloc[0].head(n=99)):\n",
    "    print(f\"{p.replace('params.args/', '')}: {v}\")"
   ],
   "metadata": {
    "collapsed": false,
    "pycharm": {
     "name": "#%%\n"
    }
   }
  },
  {
   "cell_type": "markdown",
   "source": [
    "### Best parameters\n",
    "- Found within this scenario"
   ],
   "metadata": {
    "collapsed": false
   }
  },
  {
   "cell_type": "code",
   "execution_count": 8,
   "outputs": [
    {
     "name": "stdout",
     "output_type": "stream",
     "text": [
      "params.best/decay_step: 200\n",
      "params.best/lambda_sparse: 0.0\n",
      "params.best/nr_steps: 1\n",
      "params.best/momentum: 0.05\n",
      "params.best/gamma: 1.2\n",
      "params.best/decision_size: 64\n",
      "params.best/virtual_batch_size: 32\n",
      "params.best/decay_rate: 0.8\n",
      "params.best/lr: 0.03\n"
     ]
    }
   ],
   "source": [
    "params = [c for c in runs.columns if c and \"params.best\" in c]\n",
    "for p, v in zip(params, runs[params].iloc[0].head(n=99)):\n",
    "    print(f\"{p.replace('params.args/', '')}: {v}\")"
   ],
   "metadata": {
    "collapsed": false,
    "pycharm": {
     "name": "#%%\n"
    }
   }
  },
  {
   "cell_type": "markdown",
   "source": [
    "### Metrics\n",
    "- Include metrics for atomic attribution/weights\n",
    "    - Values were calculated using active hergophores on all rows for which herg activity was predicted as negative\n",
    "    - Threshold was calculated per individual model using threshold moving"
   ],
   "metadata": {
    "collapsed": false
   }
  },
  {
   "cell_type": "code",
   "execution_count": 15,
   "outputs": [
    {
     "data": {
      "text/plain": "                      count      mean       std       min       25%       50%  \\\nloss                   30.0  0.561281  0.062008  0.472404  0.522895  0.541905   \ntabnet                 30.0  0.480297  0.046869  0.409666  0.454300  0.473094   \nsparsity_mask          30.0  0.996152  0.002239  0.990601  0.995768  0.996338   \nsaliency               30.0  0.537360  0.028013  0.497771  0.519249  0.533212   \nAUROC                  30.0  0.780215  0.086470  0.575788  0.747562  0.824432   \nintegrated_gradients   30.0  0.612627  0.060814  0.499851  0.573504  0.609824   \n\n                           75%       max  \nloss                  0.593493  0.677291  \ntabnet                0.496176  0.637701  \nsparsity_mask         0.997805  0.998786  \nsaliency              0.548711  0.629568  \nAUROC                 0.838485  0.864240  \nintegrated_gradients  0.651316  0.743746  ",
      "text/html": "<div>\n<style scoped>\n    .dataframe tbody tr th:only-of-type {\n        vertical-align: middle;\n    }\n\n    .dataframe tbody tr th {\n        vertical-align: top;\n    }\n\n    .dataframe thead th {\n        text-align: right;\n    }\n</style>\n<table border=\"1\" class=\"dataframe\">\n  <thead>\n    <tr style=\"text-align: right;\">\n      <th></th>\n      <th>count</th>\n      <th>mean</th>\n      <th>std</th>\n      <th>min</th>\n      <th>25%</th>\n      <th>50%</th>\n      <th>75%</th>\n      <th>max</th>\n    </tr>\n  </thead>\n  <tbody>\n    <tr>\n      <th>loss</th>\n      <td>30.0</td>\n      <td>0.561281</td>\n      <td>0.062008</td>\n      <td>0.472404</td>\n      <td>0.522895</td>\n      <td>0.541905</td>\n      <td>0.593493</td>\n      <td>0.677291</td>\n    </tr>\n    <tr>\n      <th>tabnet</th>\n      <td>30.0</td>\n      <td>0.480297</td>\n      <td>0.046869</td>\n      <td>0.409666</td>\n      <td>0.454300</td>\n      <td>0.473094</td>\n      <td>0.496176</td>\n      <td>0.637701</td>\n    </tr>\n    <tr>\n      <th>sparsity_mask</th>\n      <td>30.0</td>\n      <td>0.996152</td>\n      <td>0.002239</td>\n      <td>0.990601</td>\n      <td>0.995768</td>\n      <td>0.996338</td>\n      <td>0.997805</td>\n      <td>0.998786</td>\n    </tr>\n    <tr>\n      <th>saliency</th>\n      <td>30.0</td>\n      <td>0.537360</td>\n      <td>0.028013</td>\n      <td>0.497771</td>\n      <td>0.519249</td>\n      <td>0.533212</td>\n      <td>0.548711</td>\n      <td>0.629568</td>\n    </tr>\n    <tr>\n      <th>AUROC</th>\n      <td>30.0</td>\n      <td>0.780215</td>\n      <td>0.086470</td>\n      <td>0.575788</td>\n      <td>0.747562</td>\n      <td>0.824432</td>\n      <td>0.838485</td>\n      <td>0.864240</td>\n    </tr>\n    <tr>\n      <th>integrated_gradients</th>\n      <td>30.0</td>\n      <td>0.612627</td>\n      <td>0.060814</td>\n      <td>0.499851</td>\n      <td>0.573504</td>\n      <td>0.609824</td>\n      <td>0.651316</td>\n      <td>0.743746</td>\n    </tr>\n  </tbody>\n</table>\n</div>"
     },
     "execution_count": 15,
     "metadata": {},
     "output_type": "execute_result"
    }
   ],
   "source": [
    "metrics_names = [\n",
    "    \"metrics.test/sparsity_mask\",\n",
    "    \"metrics.test/AUROC\",\n",
    "    \"metrics.test/loss\",\n",
    "    \"metrics.test/mean/avg_score_pred_inactive/tabnet\"\n",
    "    \"metrics.test/mean/avg_score_pred_inactive/integrated_gradients\",\n",
    "    \"metrics.test/mean/avg_score_pred_inactive/saliency\",\n",
    "]\n",
    "metrics_columns = [c for c in runs.columns if any(c in m for m in metrics_names)]\n",
    "metrics = runs[metrics_columns].iloc[1:]\n",
    "\n",
    "metrics.columns = [c.split(\"/\")[-1] for c in metrics.columns]\n",
    "metrics.describe().T"
   ],
   "metadata": {
    "collapsed": false,
    "pycharm": {
     "name": "#%%\n"
    }
   }
  },
  {
   "cell_type": "markdown",
   "source": [
    "#### Correlation\n",
    "\n",
    "- Correlation between various metrics"
   ],
   "metadata": {
    "collapsed": false
   }
  },
  {
   "cell_type": "code",
   "execution_count": 16,
   "outputs": [
    {
     "data": {
      "text/plain": "                          loss    tabnet  sparsity_mask  saliency     AUROC  \\\nloss                  1.000000 -0.341033      -0.710007 -0.178331 -0.976440   \ntabnet               -0.341033  1.000000       0.310793  0.001259  0.196554   \nsparsity_mask        -0.710007  0.310793       1.000000  0.104873  0.687637   \nsaliency             -0.178331  0.001259       0.104873  1.000000  0.160894   \nAUROC                -0.976440  0.196554       0.687637  0.160894  1.000000   \nintegrated_gradients -0.671885  0.272255       0.642951  0.303677  0.636398   \n\n                      integrated_gradients  \nloss                             -0.671885  \ntabnet                            0.272255  \nsparsity_mask                     0.642951  \nsaliency                          0.303677  \nAUROC                             0.636398  \nintegrated_gradients              1.000000  ",
      "text/html": "<div>\n<style scoped>\n    .dataframe tbody tr th:only-of-type {\n        vertical-align: middle;\n    }\n\n    .dataframe tbody tr th {\n        vertical-align: top;\n    }\n\n    .dataframe thead th {\n        text-align: right;\n    }\n</style>\n<table border=\"1\" class=\"dataframe\">\n  <thead>\n    <tr style=\"text-align: right;\">\n      <th></th>\n      <th>loss</th>\n      <th>tabnet</th>\n      <th>sparsity_mask</th>\n      <th>saliency</th>\n      <th>AUROC</th>\n      <th>integrated_gradients</th>\n    </tr>\n  </thead>\n  <tbody>\n    <tr>\n      <th>loss</th>\n      <td>1.000000</td>\n      <td>-0.341033</td>\n      <td>-0.710007</td>\n      <td>-0.178331</td>\n      <td>-0.976440</td>\n      <td>-0.671885</td>\n    </tr>\n    <tr>\n      <th>tabnet</th>\n      <td>-0.341033</td>\n      <td>1.000000</td>\n      <td>0.310793</td>\n      <td>0.001259</td>\n      <td>0.196554</td>\n      <td>0.272255</td>\n    </tr>\n    <tr>\n      <th>sparsity_mask</th>\n      <td>-0.710007</td>\n      <td>0.310793</td>\n      <td>1.000000</td>\n      <td>0.104873</td>\n      <td>0.687637</td>\n      <td>0.642951</td>\n    </tr>\n    <tr>\n      <th>saliency</th>\n      <td>-0.178331</td>\n      <td>0.001259</td>\n      <td>0.104873</td>\n      <td>1.000000</td>\n      <td>0.160894</td>\n      <td>0.303677</td>\n    </tr>\n    <tr>\n      <th>AUROC</th>\n      <td>-0.976440</td>\n      <td>0.196554</td>\n      <td>0.687637</td>\n      <td>0.160894</td>\n      <td>1.000000</td>\n      <td>0.636398</td>\n    </tr>\n    <tr>\n      <th>integrated_gradients</th>\n      <td>-0.671885</td>\n      <td>0.272255</td>\n      <td>0.642951</td>\n      <td>0.303677</td>\n      <td>0.636398</td>\n      <td>1.000000</td>\n    </tr>\n  </tbody>\n</table>\n</div>"
     },
     "execution_count": 16,
     "metadata": {},
     "output_type": "execute_result"
    }
   ],
   "source": [
    "metrics.corr(method=\"pearson\")"
   ],
   "metadata": {
    "collapsed": false,
    "pycharm": {
     "name": "#%%\n"
    }
   }
  },
  {
   "cell_type": "code",
   "execution_count": 12,
   "outputs": [
    {
     "name": "stdout",
     "output_type": "stream",
     "text": [
      "Displaying chart at http://localhost:22980/\n"
     ]
    }
   ],
   "source": [
    "x = \"AUROC\"\n",
    "y = \"integrated_gradients\"\n",
    "\n",
    "chart = alt.Chart(metrics).mark_point().encode(\n",
    "    x=alt.X(x, scale=alt.Scale(zero=False)),\n",
    "    y=alt.Y(y, scale=alt.Scale(zero=False))\n",
    ")\n",
    "\n",
    "chart = chart + chart.transform_regression(x, y).mark_line()\n",
    "chart.show()"
   ],
   "metadata": {
    "collapsed": false,
    "pycharm": {
     "name": "#%%\n"
    }
   }
  },
  {
   "cell_type": "code",
   "execution_count": 13,
   "outputs": [
    {
     "name": "stdout",
     "output_type": "stream",
     "text": [
      "Displaying chart at http://localhost:22980/\n"
     ]
    }
   ],
   "source": [
    "x = \"AUROC\"\n",
    "y = \"tabnet\"\n",
    "\n",
    "chart = alt.Chart(metrics).mark_point().encode(\n",
    "    x=alt.X(x, scale=alt.Scale(zero=False)),\n",
    "    y=alt.Y(y, scale=alt.Scale(zero=False))\n",
    ")\n",
    "\n",
    "chart = chart + chart.transform_regression(x, y).mark_line()\n",
    "chart.show()"
   ],
   "metadata": {
    "collapsed": false,
    "pycharm": {
     "name": "#%%\n"
    }
   }
  },
  {
   "cell_type": "code",
   "execution_count": 17,
   "outputs": [
    {
     "name": "stdout",
     "output_type": "stream",
     "text": [
      "Displaying chart at http://localhost:22980/\n"
     ]
    }
   ],
   "source": [
    "x = \"sparsity_mask\"\n",
    "y = \"tabnet\"\n",
    "\n",
    "chart = alt.Chart(metrics).mark_point().encode(\n",
    "    x=alt.X(x, scale=alt.Scale(zero=False)),\n",
    "    y=alt.Y(y, scale=alt.Scale(zero=False))\n",
    ")\n",
    "\n",
    "chart = chart + chart.transform_regression(x, y).mark_line()\n",
    "chart.show()"
   ],
   "metadata": {
    "collapsed": false,
    "pycharm": {
     "name": "#%%\n"
    }
   }
  },
  {
   "cell_type": "code",
   "execution_count": 18,
   "outputs": [
    {
     "name": "stdout",
     "output_type": "stream",
     "text": [
      "Displaying chart at http://localhost:22980/\n"
     ]
    },
    {
     "ename": "KeyboardInterrupt",
     "evalue": "",
     "output_type": "error",
     "traceback": [
      "\u001B[0;31m---------------------------------------------------------------------------\u001B[0m",
      "\u001B[0;31mKeyboardInterrupt\u001B[0m                         Traceback (most recent call last)",
      "\u001B[0;32m<ipython-input-18-fcfa770ae017>\u001B[0m in \u001B[0;36m<module>\u001B[0;34m\u001B[0m\n\u001B[1;32m      8\u001B[0m \u001B[0;34m\u001B[0m\u001B[0m\n\u001B[1;32m      9\u001B[0m \u001B[0mchart\u001B[0m \u001B[0;34m=\u001B[0m \u001B[0mchart\u001B[0m \u001B[0;34m+\u001B[0m \u001B[0mchart\u001B[0m\u001B[0;34m.\u001B[0m\u001B[0mtransform_regression\u001B[0m\u001B[0;34m(\u001B[0m\u001B[0mx\u001B[0m\u001B[0;34m,\u001B[0m \u001B[0my\u001B[0m\u001B[0;34m)\u001B[0m\u001B[0;34m.\u001B[0m\u001B[0mmark_line\u001B[0m\u001B[0;34m(\u001B[0m\u001B[0;34m)\u001B[0m\u001B[0;34m\u001B[0m\u001B[0;34m\u001B[0m\u001B[0m\n\u001B[0;32m---> 10\u001B[0;31m \u001B[0mchart\u001B[0m\u001B[0;34m.\u001B[0m\u001B[0mshow\u001B[0m\u001B[0;34m(\u001B[0m\u001B[0;34m)\u001B[0m\u001B[0;34m\u001B[0m\u001B[0;34m\u001B[0m\u001B[0m\n\u001B[0m",
      "\u001B[0;32m~/anaconda3/envs/thesis/lib/python3.8/site-packages/altair/vegalite/v4/api.py\u001B[0m in \u001B[0;36mshow\u001B[0;34m(self, embed_opt, open_browser)\u001B[0m\n\u001B[1;32m   1768\u001B[0m                 \u001B[0;34m\"See http://github.com/altair-viz/altair_viewer\"\u001B[0m\u001B[0;34m\u001B[0m\u001B[0;34m\u001B[0m\u001B[0m\n\u001B[1;32m   1769\u001B[0m             )\n\u001B[0;32m-> 1770\u001B[0;31m         \u001B[0maltair_viewer\u001B[0m\u001B[0;34m.\u001B[0m\u001B[0mshow\u001B[0m\u001B[0;34m(\u001B[0m\u001B[0mself\u001B[0m\u001B[0;34m,\u001B[0m \u001B[0membed_opt\u001B[0m\u001B[0;34m=\u001B[0m\u001B[0membed_opt\u001B[0m\u001B[0;34m,\u001B[0m \u001B[0mopen_browser\u001B[0m\u001B[0;34m=\u001B[0m\u001B[0mopen_browser\u001B[0m\u001B[0;34m)\u001B[0m\u001B[0;34m\u001B[0m\u001B[0;34m\u001B[0m\u001B[0m\n\u001B[0m\u001B[1;32m   1771\u001B[0m \u001B[0;34m\u001B[0m\u001B[0m\n\u001B[1;32m   1772\u001B[0m     \u001B[0;34m@\u001B[0m\u001B[0mutils\u001B[0m\u001B[0;34m.\u001B[0m\u001B[0muse_signature\u001B[0m\u001B[0;34m(\u001B[0m\u001B[0mcore\u001B[0m\u001B[0;34m.\u001B[0m\u001B[0mResolve\u001B[0m\u001B[0;34m)\u001B[0m\u001B[0;34m\u001B[0m\u001B[0;34m\u001B[0m\u001B[0m\n",
      "\u001B[0;32m~/anaconda3/envs/thesis/lib/python3.8/site-packages/altair_viewer/_viewer.py\u001B[0m in \u001B[0;36mshow\u001B[0;34m(self, chart, embed_opt, open_browser)\u001B[0m\n\u001B[1;32m    356\u001B[0m         \u001B[0mprint\u001B[0m\u001B[0;34m(\u001B[0m\u001B[0mmsg\u001B[0m\u001B[0;34m)\u001B[0m\u001B[0;34m\u001B[0m\u001B[0;34m\u001B[0m\u001B[0m\n\u001B[1;32m    357\u001B[0m         \u001B[0;32mif\u001B[0m \u001B[0mself\u001B[0m\u001B[0;34m.\u001B[0m\u001B[0m_provider\u001B[0m \u001B[0;32mis\u001B[0m \u001B[0;32mnot\u001B[0m \u001B[0;32mNone\u001B[0m\u001B[0;34m:\u001B[0m\u001B[0;34m\u001B[0m\u001B[0;34m\u001B[0m\u001B[0m\n\u001B[0;32m--> 358\u001B[0;31m             \u001B[0mself\u001B[0m\u001B[0;34m.\u001B[0m\u001B[0m_provider\u001B[0m\u001B[0;34m.\u001B[0m\u001B[0m_disconnect_event\u001B[0m\u001B[0;34m.\u001B[0m\u001B[0mwait\u001B[0m\u001B[0;34m(\u001B[0m\u001B[0;34m)\u001B[0m\u001B[0;34m\u001B[0m\u001B[0;34m\u001B[0m\u001B[0m\n\u001B[0m",
      "\u001B[0;32m~/anaconda3/envs/thesis/lib/python3.8/threading.py\u001B[0m in \u001B[0;36mwait\u001B[0;34m(self, timeout)\u001B[0m\n\u001B[1;32m    556\u001B[0m             \u001B[0msignaled\u001B[0m \u001B[0;34m=\u001B[0m \u001B[0mself\u001B[0m\u001B[0;34m.\u001B[0m\u001B[0m_flag\u001B[0m\u001B[0;34m\u001B[0m\u001B[0;34m\u001B[0m\u001B[0m\n\u001B[1;32m    557\u001B[0m             \u001B[0;32mif\u001B[0m \u001B[0;32mnot\u001B[0m \u001B[0msignaled\u001B[0m\u001B[0;34m:\u001B[0m\u001B[0;34m\u001B[0m\u001B[0;34m\u001B[0m\u001B[0m\n\u001B[0;32m--> 558\u001B[0;31m                 \u001B[0msignaled\u001B[0m \u001B[0;34m=\u001B[0m \u001B[0mself\u001B[0m\u001B[0;34m.\u001B[0m\u001B[0m_cond\u001B[0m\u001B[0;34m.\u001B[0m\u001B[0mwait\u001B[0m\u001B[0;34m(\u001B[0m\u001B[0mtimeout\u001B[0m\u001B[0;34m)\u001B[0m\u001B[0;34m\u001B[0m\u001B[0;34m\u001B[0m\u001B[0m\n\u001B[0m\u001B[1;32m    559\u001B[0m             \u001B[0;32mreturn\u001B[0m \u001B[0msignaled\u001B[0m\u001B[0;34m\u001B[0m\u001B[0;34m\u001B[0m\u001B[0m\n\u001B[1;32m    560\u001B[0m \u001B[0;34m\u001B[0m\u001B[0m\n",
      "\u001B[0;32m~/anaconda3/envs/thesis/lib/python3.8/threading.py\u001B[0m in \u001B[0;36mwait\u001B[0;34m(self, timeout)\u001B[0m\n\u001B[1;32m    300\u001B[0m         \u001B[0;32mtry\u001B[0m\u001B[0;34m:\u001B[0m    \u001B[0;31m# restore state no matter what (e.g., KeyboardInterrupt)\u001B[0m\u001B[0;34m\u001B[0m\u001B[0;34m\u001B[0m\u001B[0m\n\u001B[1;32m    301\u001B[0m             \u001B[0;32mif\u001B[0m \u001B[0mtimeout\u001B[0m \u001B[0;32mis\u001B[0m \u001B[0;32mNone\u001B[0m\u001B[0;34m:\u001B[0m\u001B[0;34m\u001B[0m\u001B[0;34m\u001B[0m\u001B[0m\n\u001B[0;32m--> 302\u001B[0;31m                 \u001B[0mwaiter\u001B[0m\u001B[0;34m.\u001B[0m\u001B[0macquire\u001B[0m\u001B[0;34m(\u001B[0m\u001B[0;34m)\u001B[0m\u001B[0;34m\u001B[0m\u001B[0;34m\u001B[0m\u001B[0m\n\u001B[0m\u001B[1;32m    303\u001B[0m                 \u001B[0mgotit\u001B[0m \u001B[0;34m=\u001B[0m \u001B[0;32mTrue\u001B[0m\u001B[0;34m\u001B[0m\u001B[0;34m\u001B[0m\u001B[0m\n\u001B[1;32m    304\u001B[0m             \u001B[0;32melse\u001B[0m\u001B[0;34m:\u001B[0m\u001B[0;34m\u001B[0m\u001B[0;34m\u001B[0m\u001B[0m\n",
      "\u001B[0;31mKeyboardInterrupt\u001B[0m: "
     ]
    }
   ],
   "source": [
    "x = \"sparsity_mask\"\n",
    "y = \"AUROC\"\n",
    "\n",
    "chart = alt.Chart(metrics).mark_point().encode(\n",
    "    x=alt.X(x, scale=alt.Scale(zero=False)),\n",
    "    y=alt.Y(y, scale=alt.Scale(zero=False))\n",
    ")\n",
    "\n",
    "chart = chart + chart.transform_regression(x, y).mark_line()\n",
    "chart.show()"
   ],
   "metadata": {
    "collapsed": false,
    "pycharm": {
     "name": "#%%\n"
    }
   }
  }
 ],
 "metadata": {
  "kernelspec": {
   "display_name": "Python 3",
   "language": "python",
   "name": "python3"
  },
  "language_info": {
   "codemirror_mode": {
    "name": "ipython",
    "version": 2
   },
   "file_extension": ".py",
   "mimetype": "text/x-python",
   "name": "python",
   "nbconvert_exporter": "python",
   "pygments_lexer": "ipython2",
   "version": "2.7.6"
  }
 },
 "nbformat": 4,
 "nbformat_minor": 0
}