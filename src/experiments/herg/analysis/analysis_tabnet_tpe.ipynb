{
 "cells": [
  {
   "cell_type": "code",
   "execution_count": 1,
   "metadata": {
    "pycharm": {
     "name": "#%%\n"
    }
   },
   "outputs": [
    {
     "data": {
      "text/plain": [
       "DataTransformerRegistry.enable('default')"
      ]
     },
     "execution_count": 1,
     "metadata": {},
     "output_type": "execute_result"
    }
   ],
   "source": [
    "import os\n",
    "import mlflow\n",
    "import matplotlib.pyplot as plt\n",
    "import altair as alt\n",
    "import numpy as np\n",
    "import pandas as pd\n",
    "\n",
    "%matplotlib inline\n",
    "\n",
    "#alt.renderers.enable(\"html\")\n",
    "alt.data_transformers.disable_max_rows()"
   ]
  },
  {
   "cell_type": "code",
   "execution_count": 2,
   "metadata": {
    "pycharm": {
     "name": "#%%\n"
    }
   },
   "outputs": [],
   "source": [
    "tracking_uri = os.getenv(\"TRACKING_URI\", default=\"http://localhost:5000\")\n",
    "mlflow.set_tracking_uri(tracking_uri)"
   ]
  },
  {
   "cell_type": "markdown",
   "metadata": {},
   "source": [
    "## Experiment Parameter-Search TabNet\n",
    "\n",
    "- Single random seed for model training for all models\n",
    "- Single random seed for random split for all models\n",
    "- Per run/model calculate atomic attribution using various methods (e.g. tabnet, integrated gradients, saliency, etc.)\n",
    "- Single target objective (first) using BCE-loss\n",
    "- Hyperparameter search using optuna tpe sampler (Tree-structured Parzen Estimator - https://optuna.readthedocs.io/en/stable/reference/generated/optuna.samplers.TPESampler.html)"
   ]
  },
  {
   "cell_type": "code",
   "execution_count": 3,
   "metadata": {
    "pycharm": {
     "name": "#%%\n"
    }
   },
   "outputs": [],
   "source": [
    "experiment_name = \"herg_tn_opttpe1\"\n",
    "exp = mlflow.get_experiment_by_name(experiment_name)\n",
    "\n",
    "runs = mlflow.search_runs(experiment_ids=exp.experiment_id)"
   ]
  },
  {
   "cell_type": "code",
   "execution_count": 4,
   "metadata": {
    "pycharm": {
     "name": "#%%\n"
    }
   },
   "outputs": [],
   "source": [
    "#runs.iloc[1:].describe().T"
   ]
  },
  {
   "cell_type": "code",
   "execution_count": 5,
   "metadata": {
    "pycharm": {
     "name": "#%%\n"
    }
   },
   "outputs": [],
   "source": [
    "#runs.iloc[1:].corr()"
   ]
  },
  {
   "cell_type": "markdown",
   "metadata": {},
   "source": [
    "### Search space"
   ]
  },
  {
   "cell_type": "code",
   "execution_count": 6,
   "metadata": {
    "pycharm": {
     "name": "#%%\n"
    }
   },
   "outputs": [
    {
     "name": "stdout",
     "output_type": "stream",
     "text": [
      "{'name': 'lambda_sparse', 'type': 'choice', 'values': [0.0, 1e-06, 0.0001, 0.01]}\n",
      "{'name': 'decay_rate', 'type': 'choice', 'values': [0.8, 0.9, 0.95]}\n",
      "{'name': 'virtual_batch_size', 'type': 'choice', 'values': [16, 32, 64]}\n",
      "{'name': 'decision_size', 'type': 'choice', 'values': [16, 24, 32, 64]}\n",
      "{'name': 'decay_step', 'type': 'choice', 'values': [50, 200, 800]}\n",
      "{'name': 'momentum', 'type': 'choice', 'values': [0.1, 0.05, 0.02]}\n",
      "{'name': 'gamma', 'type': 'choice', 'values': [1.0, 1.2, 1.5]}\n",
      "{'name': 'nr_steps', 'type': 'choice', 'values': [3, 4, 5, 7]}\n",
      "{'name': 'lr', 'type': 'choice', 'values': [0.04, 0.02, 0.01]}\n"
     ]
    }
   ],
   "source": [
    "search_space = [c for c in runs.columns if \"search_space/\" in c]\n",
    "for r in runs[search_space].iloc[0].head(n=99):\n",
    "    print(r)"
   ]
  },
  {
   "cell_type": "markdown",
   "metadata": {},
   "source": [
    "### Other + default parameters\n",
    "\n",
    "(parameter in the search space are overwritten)"
   ]
  },
  {
   "cell_type": "code",
   "execution_count": 7,
   "metadata": {
    "pycharm": {
     "name": "#%%\n"
    }
   },
   "outputs": [
    {
     "name": "stdout",
     "output_type": "stream",
     "text": [
      "feature_size: 128\n",
      "scheduler: exponential_decay\n",
      "relaxation_type: gamma_fixed\n",
      "minimize: False\n",
      "virtual_batch_size: 256\n",
      "optimizer: adamw\n",
      "batch_size: 256\n",
      "lr: 0.01\n",
      "patience: 10\n",
      "featurizer_mp_context: fork\n",
      "experiment_name: herg_tn_opttpe1\n",
      "decision_size: 64\n",
      "split_seed: 1362625464\n",
      "stochastic_weight_avg: False\n",
      "run_name: tpe\n",
      "cache_dir: ../../../data/herg/\n",
      "checkpoint_objective: val/loss\n",
      "nr_layers: 4\n",
      "nr_shared_layers: 2\n",
      "featurizer_name: combined\n",
      "standardize: False\n",
      "normalize_input: True\n",
      "scheduler_params: {'decay_step': 10, 'decay_rate': 0.95}\n",
      "featurizer_kwargs: {'fold': 1024, 'radius': 3, 'return_count': True, 'use_chirality': True, 'use_features': True}\n",
      "split_size: (0.6, 0.2, 0.2)\n",
      "featurizer_chunksize: 100\n",
      "pruner_name: None\n",
      "tracking_uri: http://localhost:5000\n",
      "alpha: 2.0\n",
      "use_labels: ['active_g10']\n",
      "seed: 1073978726\n",
      "objective_name: val/AUROC\n",
      "track_metrics: ...value too long for mlflow - not inserted\n",
      "attribution_kwargs: ...value too long for mlflow - not inserted\n",
      "gamma: 1.5\n",
      "lambda_sparse: 0.0\n",
      "optimizer_params: {'weight_decay': 0.0001}\n",
      "gradient_clip_val: 1.0\n",
      "nr_steps: 4\n",
      "split_type: random\n",
      "trials: 30\n",
      "checkpoint_minimize: True\n",
      "momentum: 0.01\n",
      "num_workers: 8\n",
      "patience_minimize: True\n",
      "patience_objective: val/loss\n",
      "sampler_name: tpe\n",
      "log_sparsity: True\n",
      "attentive_type: sparsemax\n",
      "max_steps: 1000\n"
     ]
    }
   ],
   "source": [
    "params = [c for c in runs.columns if \"search_space\" not in c and \"params.args\" in c]\n",
    "for p, v in zip(params, runs[params].iloc[0].head(n=99)):\n",
    "    print(f\"{p.replace('params.args/', '')}: {v}\")"
   ]
  },
  {
   "cell_type": "markdown",
   "metadata": {},
   "source": [
    "### Best parameters\n",
    "- Best parameters found within this scenario for each component in the search space"
   ]
  },
  {
   "cell_type": "code",
   "execution_count": 8,
   "metadata": {
    "pycharm": {
     "name": "#%%\n"
    }
   },
   "outputs": [
    {
     "name": "stdout",
     "output_type": "stream",
     "text": [
      "params.best/lr: 0.01\n",
      "params.best/decay_step: 800\n",
      "params.best/nr_steps: 3\n",
      "params.best/momentum: 0.05\n",
      "params.best/virtual_batch_size: 64\n",
      "params.best/decay_rate: 0.9\n",
      "params.best/gamma: 1.5\n",
      "params.best/decision_size: 16\n",
      "params.best/lambda_sparse: 0.0001\n"
     ]
    }
   ],
   "source": [
    "params = [c for c in runs.columns if c and \"params.best\" in c]\n",
    "for p, v in zip(params, runs[params].iloc[0].head(n=99)):\n",
    "    print(f\"{p.replace('params.args/', '')}: {v}\")"
   ]
  },
  {
   "cell_type": "markdown",
   "metadata": {},
   "source": [
    "### Metrics\n",
    "- Include metrics for atomic attribution/weights\n",
    "    - Values were calculated using active hergophores on all rows for which herg activity was predicted as negative\n",
    "    - Threshold was calculated per individual model using threshold moving\n",
    "    \n",
    "- Attribution Methods:\n",
    "    - Tabnet - using the aggregated masks of the architecture itself (self explaining)"
   ]
  },
  {
   "cell_type": "code",
   "execution_count": 9,
   "metadata": {
    "pycharm": {
     "name": "#%%\n"
    }
   },
   "outputs": [
    {
     "data": {
      "text/html": [
       "<div>\n",
       "<style scoped>\n",
       "    .dataframe tbody tr th:only-of-type {\n",
       "        vertical-align: middle;\n",
       "    }\n",
       "\n",
       "    .dataframe tbody tr th {\n",
       "        vertical-align: top;\n",
       "    }\n",
       "\n",
       "    .dataframe thead th {\n",
       "        text-align: right;\n",
       "    }\n",
       "</style>\n",
       "<table border=\"1\" class=\"dataframe\">\n",
       "  <thead>\n",
       "    <tr style=\"text-align: right;\">\n",
       "      <th></th>\n",
       "      <th>count</th>\n",
       "      <th>mean</th>\n",
       "      <th>std</th>\n",
       "      <th>min</th>\n",
       "      <th>25%</th>\n",
       "      <th>50%</th>\n",
       "      <th>75%</th>\n",
       "      <th>max</th>\n",
       "    </tr>\n",
       "  </thead>\n",
       "  <tbody>\n",
       "    <tr>\n",
       "      <th>tabnet</th>\n",
       "      <td>30.0</td>\n",
       "      <td>0.533026</td>\n",
       "      <td>0.058020</td>\n",
       "      <td>0.448488</td>\n",
       "      <td>0.483060</td>\n",
       "      <td>0.517186</td>\n",
       "      <td>0.579153</td>\n",
       "      <td>0.689873</td>\n",
       "    </tr>\n",
       "    <tr>\n",
       "      <th>sparsity_mask</th>\n",
       "      <td>30.0</td>\n",
       "      <td>0.996008</td>\n",
       "      <td>0.001894</td>\n",
       "      <td>0.990547</td>\n",
       "      <td>0.996139</td>\n",
       "      <td>0.996411</td>\n",
       "      <td>0.996635</td>\n",
       "      <td>0.998967</td>\n",
       "    </tr>\n",
       "    <tr>\n",
       "      <th>saliency</th>\n",
       "      <td>30.0</td>\n",
       "      <td>0.537266</td>\n",
       "      <td>0.028899</td>\n",
       "      <td>0.510379</td>\n",
       "      <td>0.522063</td>\n",
       "      <td>0.528773</td>\n",
       "      <td>0.537348</td>\n",
       "      <td>0.661744</td>\n",
       "    </tr>\n",
       "    <tr>\n",
       "      <th>AUROC</th>\n",
       "      <td>30.0</td>\n",
       "      <td>0.761266</td>\n",
       "      <td>0.105468</td>\n",
       "      <td>0.525076</td>\n",
       "      <td>0.688073</td>\n",
       "      <td>0.822147</td>\n",
       "      <td>0.833865</td>\n",
       "      <td>0.837871</td>\n",
       "    </tr>\n",
       "    <tr>\n",
       "      <th>loss</th>\n",
       "      <td>30.0</td>\n",
       "      <td>0.573525</td>\n",
       "      <td>0.060860</td>\n",
       "      <td>0.507248</td>\n",
       "      <td>0.535560</td>\n",
       "      <td>0.537086</td>\n",
       "      <td>0.632710</td>\n",
       "      <td>0.691465</td>\n",
       "    </tr>\n",
       "    <tr>\n",
       "      <th>integrated_gradients</th>\n",
       "      <td>30.0</td>\n",
       "      <td>0.621072</td>\n",
       "      <td>0.054105</td>\n",
       "      <td>0.518021</td>\n",
       "      <td>0.606275</td>\n",
       "      <td>0.622756</td>\n",
       "      <td>0.632444</td>\n",
       "      <td>0.726453</td>\n",
       "    </tr>\n",
       "  </tbody>\n",
       "</table>\n",
       "</div>"
      ],
      "text/plain": [
       "                      count      mean       std       min       25%       50%  \\\n",
       "tabnet                 30.0  0.533026  0.058020  0.448488  0.483060  0.517186   \n",
       "sparsity_mask          30.0  0.996008  0.001894  0.990547  0.996139  0.996411   \n",
       "saliency               30.0  0.537266  0.028899  0.510379  0.522063  0.528773   \n",
       "AUROC                  30.0  0.761266  0.105468  0.525076  0.688073  0.822147   \n",
       "loss                   30.0  0.573525  0.060860  0.507248  0.535560  0.537086   \n",
       "integrated_gradients   30.0  0.621072  0.054105  0.518021  0.606275  0.622756   \n",
       "\n",
       "                           75%       max  \n",
       "tabnet                0.579153  0.689873  \n",
       "sparsity_mask         0.996635  0.998967  \n",
       "saliency              0.537348  0.661744  \n",
       "AUROC                 0.833865  0.837871  \n",
       "loss                  0.632710  0.691465  \n",
       "integrated_gradients  0.632444  0.726453  "
      ]
     },
     "execution_count": 9,
     "metadata": {},
     "output_type": "execute_result"
    }
   ],
   "source": [
    "metrics_names = [\n",
    "    \"metrics.test/sparsity_mask\",\n",
    "    \"metrics.test/AUROC\",\n",
    "    \"metrics.test/loss\",\n",
    "    \"metrics.test/mean/avg_score_pred_inactive/tabnet\"\n",
    "    \"metrics.test/mean/avg_score_pred_inactive/integrated_gradients\",\n",
    "    \"metrics.test/mean/avg_score_pred_inactive/saliency\",\n",
    "]\n",
    "metrics_columns = [c for c in runs.columns if any(c in m for m in metrics_names)]\n",
    "metrics = runs[metrics_columns].iloc[1:]\n",
    "\n",
    "metrics.columns = [c.split(\"/\")[-1] for c in metrics.columns]\n",
    "metrics.describe().T"
   ]
  },
  {
   "cell_type": "markdown",
   "metadata": {},
   "source": [
    "#### Correlation\n",
    "\n",
    "- Correlation between various metrics"
   ]
  },
  {
   "cell_type": "code",
   "execution_count": 10,
   "metadata": {
    "pycharm": {
     "name": "#%%\n"
    }
   },
   "outputs": [
    {
     "data": {
      "text/html": [
       "<div>\n",
       "<style scoped>\n",
       "    .dataframe tbody tr th:only-of-type {\n",
       "        vertical-align: middle;\n",
       "    }\n",
       "\n",
       "    .dataframe tbody tr th {\n",
       "        vertical-align: top;\n",
       "    }\n",
       "\n",
       "    .dataframe thead th {\n",
       "        text-align: right;\n",
       "    }\n",
       "</style>\n",
       "<table border=\"1\" class=\"dataframe\">\n",
       "  <thead>\n",
       "    <tr style=\"text-align: right;\">\n",
       "      <th></th>\n",
       "      <th>tabnet</th>\n",
       "      <th>sparsity_mask</th>\n",
       "      <th>saliency</th>\n",
       "      <th>AUROC</th>\n",
       "      <th>loss</th>\n",
       "      <th>integrated_gradients</th>\n",
       "    </tr>\n",
       "  </thead>\n",
       "  <tbody>\n",
       "    <tr>\n",
       "      <th>tabnet</th>\n",
       "      <td>1.000000</td>\n",
       "      <td>-0.178403</td>\n",
       "      <td>0.336690</td>\n",
       "      <td>0.299701</td>\n",
       "      <td>-0.239761</td>\n",
       "      <td>0.296681</td>\n",
       "    </tr>\n",
       "    <tr>\n",
       "      <th>sparsity_mask</th>\n",
       "      <td>-0.178403</td>\n",
       "      <td>1.000000</td>\n",
       "      <td>-0.426184</td>\n",
       "      <td>0.482734</td>\n",
       "      <td>-0.498536</td>\n",
       "      <td>0.134538</td>\n",
       "    </tr>\n",
       "    <tr>\n",
       "      <th>saliency</th>\n",
       "      <td>0.336690</td>\n",
       "      <td>-0.426184</td>\n",
       "      <td>1.000000</td>\n",
       "      <td>-0.096785</td>\n",
       "      <td>0.124812</td>\n",
       "      <td>0.564019</td>\n",
       "    </tr>\n",
       "    <tr>\n",
       "      <th>AUROC</th>\n",
       "      <td>0.299701</td>\n",
       "      <td>0.482734</td>\n",
       "      <td>-0.096785</td>\n",
       "      <td>1.000000</td>\n",
       "      <td>-0.984970</td>\n",
       "      <td>0.350012</td>\n",
       "    </tr>\n",
       "    <tr>\n",
       "      <th>loss</th>\n",
       "      <td>-0.239761</td>\n",
       "      <td>-0.498536</td>\n",
       "      <td>0.124812</td>\n",
       "      <td>-0.984970</td>\n",
       "      <td>1.000000</td>\n",
       "      <td>-0.350423</td>\n",
       "    </tr>\n",
       "    <tr>\n",
       "      <th>integrated_gradients</th>\n",
       "      <td>0.296681</td>\n",
       "      <td>0.134538</td>\n",
       "      <td>0.564019</td>\n",
       "      <td>0.350012</td>\n",
       "      <td>-0.350423</td>\n",
       "      <td>1.000000</td>\n",
       "    </tr>\n",
       "  </tbody>\n",
       "</table>\n",
       "</div>"
      ],
      "text/plain": [
       "                        tabnet  sparsity_mask  saliency     AUROC      loss  \\\n",
       "tabnet                1.000000      -0.178403  0.336690  0.299701 -0.239761   \n",
       "sparsity_mask        -0.178403       1.000000 -0.426184  0.482734 -0.498536   \n",
       "saliency              0.336690      -0.426184  1.000000 -0.096785  0.124812   \n",
       "AUROC                 0.299701       0.482734 -0.096785  1.000000 -0.984970   \n",
       "loss                 -0.239761      -0.498536  0.124812 -0.984970  1.000000   \n",
       "integrated_gradients  0.296681       0.134538  0.564019  0.350012 -0.350423   \n",
       "\n",
       "                      integrated_gradients  \n",
       "tabnet                            0.296681  \n",
       "sparsity_mask                     0.134538  \n",
       "saliency                          0.564019  \n",
       "AUROC                             0.350012  \n",
       "loss                             -0.350423  \n",
       "integrated_gradients              1.000000  "
      ]
     },
     "execution_count": 10,
     "metadata": {},
     "output_type": "execute_result"
    }
   ],
   "source": [
    "metrics.corr(method=\"pearson\")"
   ]
  },
  {
   "cell_type": "code",
   "execution_count": 30,
   "metadata": {
    "pycharm": {
     "name": "#%%\n"
    }
   },
   "outputs": [
    {
     "data": {
      "text/html": [
       "\n",
       "<div id=\"altair-viz-13eaa6a04c25480faa15bb8979d1e5f0\"></div>\n",
       "<script type=\"text/javascript\">\n",
       "  (function(spec, embedOpt){\n",
       "    let outputDiv = document.currentScript.previousElementSibling;\n",
       "    if (outputDiv.id !== \"altair-viz-13eaa6a04c25480faa15bb8979d1e5f0\") {\n",
       "      outputDiv = document.getElementById(\"altair-viz-13eaa6a04c25480faa15bb8979d1e5f0\");\n",
       "    }\n",
       "    const paths = {\n",
       "      \"vega\": \"https://cdn.jsdelivr.net/npm//vega@5?noext\",\n",
       "      \"vega-lib\": \"https://cdn.jsdelivr.net/npm//vega-lib?noext\",\n",
       "      \"vega-lite\": \"https://cdn.jsdelivr.net/npm//vega-lite@4.8.1?noext\",\n",
       "      \"vega-embed\": \"https://cdn.jsdelivr.net/npm//vega-embed@6?noext\",\n",
       "    };\n",
       "\n",
       "    function loadScript(lib) {\n",
       "      return new Promise(function(resolve, reject) {\n",
       "        var s = document.createElement('script');\n",
       "        s.src = paths[lib];\n",
       "        s.async = true;\n",
       "        s.onload = () => resolve(paths[lib]);\n",
       "        s.onerror = () => reject(`Error loading script: ${paths[lib]}`);\n",
       "        document.getElementsByTagName(\"head\")[0].appendChild(s);\n",
       "      });\n",
       "    }\n",
       "\n",
       "    function showError(err) {\n",
       "      outputDiv.innerHTML = `<div class=\"error\" style=\"color:red;\">${err}</div>`;\n",
       "      throw err;\n",
       "    }\n",
       "\n",
       "    function displayChart(vegaEmbed) {\n",
       "      vegaEmbed(outputDiv, spec, embedOpt)\n",
       "        .catch(err => showError(`Javascript Error: ${err.message}<br>This usually means there's a typo in your chart specification. See the javascript console for the full traceback.`));\n",
       "    }\n",
       "\n",
       "    if(typeof define === \"function\" && define.amd) {\n",
       "      requirejs.config({paths});\n",
       "      require([\"vega-embed\"], displayChart, err => showError(`Error loading script: ${err.message}`));\n",
       "    } else if (typeof vegaEmbed === \"function\") {\n",
       "      displayChart(vegaEmbed);\n",
       "    } else {\n",
       "      loadScript(\"vega\")\n",
       "        .then(() => loadScript(\"vega-lite\"))\n",
       "        .then(() => loadScript(\"vega-embed\"))\n",
       "        .catch(showError)\n",
       "        .then(() => displayChart(vegaEmbed));\n",
       "    }\n",
       "  })({\"config\": {\"view\": {\"continuousWidth\": 400, \"continuousHeight\": 300}}, \"layer\": [{\"mark\": \"point\", \"encoding\": {\"x\": {\"type\": \"quantitative\", \"field\": \"AUROC\", \"scale\": {\"zero\": false}}, \"y\": {\"type\": \"quantitative\", \"field\": \"integrated_gradients\", \"scale\": {\"zero\": false}}}}, {\"mark\": \"line\", \"encoding\": {\"x\": {\"type\": \"quantitative\", \"field\": \"AUROC\", \"scale\": {\"zero\": false}}, \"y\": {\"type\": \"quantitative\", \"field\": \"integrated_gradients\", \"scale\": {\"zero\": false}}}, \"transform\": [{\"on\": \"AUROC\", \"regression\": \"integrated_gradients\"}]}], \"data\": {\"name\": \"data-5b9afe04026da50a61299f4ebe7b5af7\"}, \"$schema\": \"https://vega.github.io/schema/vega-lite/v4.8.1.json\", \"datasets\": {\"data-5b9afe04026da50a61299f4ebe7b5af7\": [{\"tabnet\": 0.432480395746398, \"sparsity_mask\": 0.9959608316421509, \"input_x_gradient\": 0.6612620842474816, \"saliency\": 0.5578355331836538, \"AUROC\": 0.8066221475601196, \"loss\": 0.5934497117996216, \"noise_tunnel_ig\": 0.5178057388376143, \"saliency-absolute\": 0.4304905880717291, \"integrated_gradients\": 0.5472284801679815, \"occlusion\": 0.6613540625567971, \"shapley_value_sampling\": 0.6242698094243367}, {\"tabnet\": 0.4639491857223318, \"sparsity_mask\": 0.9967235922813416, \"input_x_gradient\": 0.6321037343064889, \"saliency\": 0.5436408551965263, \"AUROC\": 0.8488982319831848, \"loss\": 0.5087858438491821, \"noise_tunnel_ig\": 0.5128770175353718, \"saliency-absolute\": 0.4464430667168272, \"integrated_gradients\": 0.6547183614389398, \"occlusion\": 0.6309776317219548, \"shapley_value_sampling\": 0.6738196209916057}, {\"tabnet\": 0.4551121145222249, \"sparsity_mask\": 0.9965219497680664, \"input_x_gradient\": 0.6037829119333502, \"saliency\": 0.5438393259410036, \"AUROC\": 0.7936260104179382, \"loss\": 0.5665165781974792, \"noise_tunnel_ig\": 0.5152876692765923, \"saliency-absolute\": 0.4714574815222822, \"integrated_gradients\": 0.6718950130115269, \"occlusion\": 0.5888666094591644, \"shapley_value_sampling\": 0.6537715372940365}, {\"tabnet\": 0.5958569042611381, \"sparsity_mask\": 0.996752142906189, \"input_x_gradient\": 0.6168885202116025, \"saliency\": 0.5353296290935878, \"AUROC\": 0.8257940411567688, \"loss\": 0.5375785231590271, \"noise_tunnel_ig\": 0.50680069860651, \"saliency-absolute\": 0.5129970383125855, \"integrated_gradients\": 0.46550208505888085, \"occlusion\": 0.6126472849711165, \"shapley_value_sampling\": 0.63711504951438}, {\"tabnet\": 0.5134926940838591, \"sparsity_mask\": 0.9961045980453491, \"input_x_gradient\": 0.5988769406181559, \"saliency\": 0.5154876820261436, \"AUROC\": 0.8114692568778992, \"loss\": 0.54169762134552, \"noise_tunnel_ig\": 0.5353645632796324, \"saliency-absolute\": 0.5027891418123506, \"integrated_gradients\": 0.7074683511004669, \"occlusion\": 0.5843353580172568, \"shapley_value_sampling\": 0.6849808371416723}, {\"tabnet\": 0.5236456598099, \"sparsity_mask\": 0.9963843822479248, \"input_x_gradient\": 0.6017742574662271, \"saliency\": 0.533513062630652, \"AUROC\": 0.8204928040504456, \"loss\": 0.5294226408004761, \"noise_tunnel_ig\": 0.5106249263668117, \"saliency-absolute\": 0.4555175845985449, \"integrated_gradients\": 0.5764314859329522, \"occlusion\": 0.6032941839156869, \"shapley_value_sampling\": 0.6197243859623589}, {\"tabnet\": 0.6851072100826152, \"sparsity_mask\": 0.9961293339729309, \"input_x_gradient\": 0.6834032731849224, \"saliency\": 0.569240912001249, \"AUROC\": 0.8183739185333252, \"loss\": 0.5306114554405212, \"noise_tunnel_ig\": 0.5285962431408185, \"saliency-absolute\": 0.49849778550983864, \"integrated_gradients\": 0.6916317870676857, \"occlusion\": 0.6714890958959956, \"shapley_value_sampling\": 0.6854131725534188}, {\"tabnet\": 0.44226665815334626, \"sparsity_mask\": 0.9964026212692261, \"input_x_gradient\": 0.6152084764207689, \"saliency\": 0.54082468725233, \"AUROC\": 0.8264581561088562, \"loss\": 0.5275211930274963, \"noise_tunnel_ig\": 0.5676747855471573, \"saliency-absolute\": 0.4556119276808085, \"integrated_gradients\": 0.6845253486897687, \"occlusion\": 0.6165260721407013, \"shapley_value_sampling\": 0.7059802450450441}, {\"tabnet\": 0.43972393415115646, \"sparsity_mask\": 0.9965251088142395, \"input_x_gradient\": 0.5888710650700493, \"saliency\": 0.5245479319923986, \"AUROC\": 0.8180633783340454, \"loss\": 0.5510615706443787, \"noise_tunnel_ig\": 0.5083991028553548, \"saliency-absolute\": 0.46275017165764953, \"integrated_gradients\": 0.5970389437232836, \"occlusion\": 0.6069498254161603, \"shapley_value_sampling\": 0.5788402592707074}, {\"tabnet\": 0.4636763492456765, \"sparsity_mask\": 0.9968505501747131, \"input_x_gradient\": 0.5858192325096272, \"saliency\": 0.4938689629248188, \"AUROC\": 0.8261699080467224, \"loss\": 0.5215334892272949, \"noise_tunnel_ig\": 0.5204558049502842, \"saliency-absolute\": 0.4585521524742395, \"integrated_gradients\": 0.6338390859425334, \"occlusion\": 0.6133674197433588, \"shapley_value_sampling\": 0.6907939905796612}, {\"tabnet\": 0.47697479873141024, \"sparsity_mask\": 0.9968354105949402, \"input_x_gradient\": 0.6017623309059755, \"saliency\": 0.5275025692146558, \"AUROC\": 0.8039003610610962, \"loss\": 0.5464668869972229, \"noise_tunnel_ig\": 0.5306582332625229, \"saliency-absolute\": 0.46486939858697596, \"integrated_gradients\": 0.5820705294244404, \"occlusion\": 0.5926935470480327, \"shapley_value_sampling\": 0.6272327439619421}, {\"tabnet\": 0.4702477478973141, \"sparsity_mask\": 0.9959750175476074, \"input_x_gradient\": 0.5988979274470979, \"saliency\": 0.509074258385106, \"AUROC\": 0.8478599786758423, \"loss\": 0.4962567389011383, \"noise_tunnel_ig\": 0.504955759444727, \"saliency-absolute\": 0.45751907212374565, \"integrated_gradients\": 0.7126557232194187, \"occlusion\": 0.6110557520291126, \"shapley_value_sampling\": 0.7125866441122163}, {\"tabnet\": 0.42996108269036604, \"sparsity_mask\": 0.9959506988525391, \"input_x_gradient\": 0.6495170973899763, \"saliency\": 0.548530275015158, \"AUROC\": 0.8268530368804932, \"loss\": 0.5203412771224976, \"noise_tunnel_ig\": 0.5095771090963976, \"saliency-absolute\": 0.45367939660323, \"integrated_gradients\": 0.7212378442411238, \"occlusion\": 0.6518504386212588, \"shapley_value_sampling\": 0.727581327717409}, {\"tabnet\": 0.4491602747236122, \"sparsity_mask\": 0.9970874190330505, \"input_x_gradient\": 0.5504837461076988, \"saliency\": 0.5159289808183226, \"AUROC\": 0.8081364631652832, \"loss\": 0.5484278798103333, \"noise_tunnel_ig\": 0.5109274442412322, \"saliency-absolute\": 0.4422935195871158, \"integrated_gradients\": 0.6395231822029184, \"occlusion\": 0.598607585013951, \"shapley_value_sampling\": 0.6528054097681397}, {\"tabnet\": 0.45109680873102775, \"sparsity_mask\": 0.9961245656013489, \"input_x_gradient\": 0.6256655276877009, \"saliency\": 0.548961869428783, \"AUROC\": 0.825764536857605, \"loss\": 0.5165554285049438, \"noise_tunnel_ig\": 0.518610719688599, \"saliency-absolute\": 0.4642270109446076, \"integrated_gradients\": 0.6564803191725229, \"occlusion\": 0.6304375344781783, \"shapley_value_sampling\": 0.6497138526184065}, {\"tabnet\": 0.45835436116159656, \"sparsity_mask\": 0.9956653118133545, \"input_x_gradient\": 0.6676508625169811, \"saliency\": 0.5244043085221252, \"AUROC\": 0.8511677384376526, \"loss\": 0.5071309804916382, \"noise_tunnel_ig\": 0.5337472696229284, \"saliency-absolute\": 0.45950177455395974, \"integrated_gradients\": 0.7216483278259656, \"occlusion\": 0.6589881169221172, \"shapley_value_sampling\": 0.7237136386002552}, {\"tabnet\": 0.5066455713630609, \"sparsity_mask\": 0.9963732957839966, \"input_x_gradient\": 0.5450665987580847, \"saliency\": 0.5072729540288319, \"AUROC\": 0.8438820838928223, \"loss\": 0.4959051311016083, \"noise_tunnel_ig\": 0.5426958826437734, \"saliency-absolute\": 0.487657067158285, \"integrated_gradients\": 0.63841376717981, \"occlusion\": 0.4806625181721989, \"shapley_value_sampling\": 0.4515518749451387}, {\"tabnet\": 0.4750976414087071, \"sparsity_mask\": 0.9962261319160461, \"input_x_gradient\": 0.5230533749800881, \"saliency\": 0.5029536900671676, \"AUROC\": 0.8273111581802368, \"loss\": 0.5176581144332886, \"noise_tunnel_ig\": 0.4957666056146694, \"saliency-absolute\": 0.44730268810577245, \"integrated_gradients\": 0.5251453920335476, \"occlusion\": 0.5228036675242275, \"shapley_value_sampling\": 0.5097453611537934}, {\"tabnet\": 0.46597712343127123, \"sparsity_mask\": 0.9965519309043884, \"input_x_gradient\": 0.6151371273885976, \"saliency\": 0.5554014783512176, \"AUROC\": 0.8260033130645752, \"loss\": 0.5743510723114014, \"noise_tunnel_ig\": 0.48856594040942564, \"saliency-absolute\": 0.4702199605418211, \"integrated_gradients\": 0.6443031324909548, \"occlusion\": 0.6095129190315002, \"shapley_value_sampling\": 0.6801773810916993}, {\"tabnet\": 0.5158248738261808, \"sparsity_mask\": 0.9963914155960083, \"input_x_gradient\": 0.655087813773175, \"saliency\": 0.5880399967060747, \"AUROC\": 0.8593498468399048, \"loss\": 0.5012770891189575, \"noise_tunnel_ig\": 0.5507659449182374, \"saliency-absolute\": 0.5260423996126307, \"integrated_gradients\": 0.6766440799884738, \"occlusion\": 0.656738734074002, \"shapley_value_sampling\": 0.698487650478729}]}}, {\"mode\": \"vega-lite\"});\n",
       "</script>"
      ],
      "text/plain": [
       "alt.LayerChart(...)"
      ]
     },
     "execution_count": 30,
     "metadata": {},
     "output_type": "execute_result"
    }
   ],
   "source": [
    "x = \"AUROC\"\n",
    "y = \"integrated_gradients\"\n",
    "\n",
    "chart = alt.Chart(metrics).mark_point().encode(\n",
    "    x=alt.X(x, scale=alt.Scale(zero=False)),\n",
    "    y=alt.Y(y, scale=alt.Scale(zero=False))\n",
    ")\n",
    "\n",
    "chart = chart + chart.transform_regression(x, y).mark_line()\n",
    "#chart.show()\n",
    "chart"
   ]
  },
  {
   "cell_type": "code",
   "execution_count": 29,
   "metadata": {
    "pycharm": {
     "name": "#%%\n"
    }
   },
   "outputs": [
    {
     "data": {
      "text/html": [
       "\n",
       "<div id=\"altair-viz-067a4a5cb9c849238b92e376e2aab568\"></div>\n",
       "<script type=\"text/javascript\">\n",
       "  (function(spec, embedOpt){\n",
       "    let outputDiv = document.currentScript.previousElementSibling;\n",
       "    if (outputDiv.id !== \"altair-viz-067a4a5cb9c849238b92e376e2aab568\") {\n",
       "      outputDiv = document.getElementById(\"altair-viz-067a4a5cb9c849238b92e376e2aab568\");\n",
       "    }\n",
       "    const paths = {\n",
       "      \"vega\": \"https://cdn.jsdelivr.net/npm//vega@5?noext\",\n",
       "      \"vega-lib\": \"https://cdn.jsdelivr.net/npm//vega-lib?noext\",\n",
       "      \"vega-lite\": \"https://cdn.jsdelivr.net/npm//vega-lite@4.8.1?noext\",\n",
       "      \"vega-embed\": \"https://cdn.jsdelivr.net/npm//vega-embed@6?noext\",\n",
       "    };\n",
       "\n",
       "    function loadScript(lib) {\n",
       "      return new Promise(function(resolve, reject) {\n",
       "        var s = document.createElement('script');\n",
       "        s.src = paths[lib];\n",
       "        s.async = true;\n",
       "        s.onload = () => resolve(paths[lib]);\n",
       "        s.onerror = () => reject(`Error loading script: ${paths[lib]}`);\n",
       "        document.getElementsByTagName(\"head\")[0].appendChild(s);\n",
       "      });\n",
       "    }\n",
       "\n",
       "    function showError(err) {\n",
       "      outputDiv.innerHTML = `<div class=\"error\" style=\"color:red;\">${err}</div>`;\n",
       "      throw err;\n",
       "    }\n",
       "\n",
       "    function displayChart(vegaEmbed) {\n",
       "      vegaEmbed(outputDiv, spec, embedOpt)\n",
       "        .catch(err => showError(`Javascript Error: ${err.message}<br>This usually means there's a typo in your chart specification. See the javascript console for the full traceback.`));\n",
       "    }\n",
       "\n",
       "    if(typeof define === \"function\" && define.amd) {\n",
       "      requirejs.config({paths});\n",
       "      require([\"vega-embed\"], displayChart, err => showError(`Error loading script: ${err.message}`));\n",
       "    } else if (typeof vegaEmbed === \"function\") {\n",
       "      displayChart(vegaEmbed);\n",
       "    } else {\n",
       "      loadScript(\"vega\")\n",
       "        .then(() => loadScript(\"vega-lite\"))\n",
       "        .then(() => loadScript(\"vega-embed\"))\n",
       "        .catch(showError)\n",
       "        .then(() => displayChart(vegaEmbed));\n",
       "    }\n",
       "  })({\"config\": {\"view\": {\"continuousWidth\": 400, \"continuousHeight\": 300}}, \"layer\": [{\"mark\": \"point\", \"encoding\": {\"x\": {\"type\": \"quantitative\", \"field\": \"AUROC\", \"scale\": {\"zero\": false}}, \"y\": {\"type\": \"quantitative\", \"field\": \"tabnet\", \"scale\": {\"zero\": false}}}}, {\"mark\": \"line\", \"encoding\": {\"x\": {\"type\": \"quantitative\", \"field\": \"AUROC\", \"scale\": {\"zero\": false}}, \"y\": {\"type\": \"quantitative\", \"field\": \"tabnet\", \"scale\": {\"zero\": false}}}, \"transform\": [{\"on\": \"AUROC\", \"regression\": \"tabnet\"}]}], \"data\": {\"name\": \"data-5b9afe04026da50a61299f4ebe7b5af7\"}, \"$schema\": \"https://vega.github.io/schema/vega-lite/v4.8.1.json\", \"datasets\": {\"data-5b9afe04026da50a61299f4ebe7b5af7\": [{\"tabnet\": 0.432480395746398, \"sparsity_mask\": 0.9959608316421509, \"input_x_gradient\": 0.6612620842474816, \"saliency\": 0.5578355331836538, \"AUROC\": 0.8066221475601196, \"loss\": 0.5934497117996216, \"noise_tunnel_ig\": 0.5178057388376143, \"saliency-absolute\": 0.4304905880717291, \"integrated_gradients\": 0.5472284801679815, \"occlusion\": 0.6613540625567971, \"shapley_value_sampling\": 0.6242698094243367}, {\"tabnet\": 0.4639491857223318, \"sparsity_mask\": 0.9967235922813416, \"input_x_gradient\": 0.6321037343064889, \"saliency\": 0.5436408551965263, \"AUROC\": 0.8488982319831848, \"loss\": 0.5087858438491821, \"noise_tunnel_ig\": 0.5128770175353718, \"saliency-absolute\": 0.4464430667168272, \"integrated_gradients\": 0.6547183614389398, \"occlusion\": 0.6309776317219548, \"shapley_value_sampling\": 0.6738196209916057}, {\"tabnet\": 0.4551121145222249, \"sparsity_mask\": 0.9965219497680664, \"input_x_gradient\": 0.6037829119333502, \"saliency\": 0.5438393259410036, \"AUROC\": 0.7936260104179382, \"loss\": 0.5665165781974792, \"noise_tunnel_ig\": 0.5152876692765923, \"saliency-absolute\": 0.4714574815222822, \"integrated_gradients\": 0.6718950130115269, \"occlusion\": 0.5888666094591644, \"shapley_value_sampling\": 0.6537715372940365}, {\"tabnet\": 0.5958569042611381, \"sparsity_mask\": 0.996752142906189, \"input_x_gradient\": 0.6168885202116025, \"saliency\": 0.5353296290935878, \"AUROC\": 0.8257940411567688, \"loss\": 0.5375785231590271, \"noise_tunnel_ig\": 0.50680069860651, \"saliency-absolute\": 0.5129970383125855, \"integrated_gradients\": 0.46550208505888085, \"occlusion\": 0.6126472849711165, \"shapley_value_sampling\": 0.63711504951438}, {\"tabnet\": 0.5134926940838591, \"sparsity_mask\": 0.9961045980453491, \"input_x_gradient\": 0.5988769406181559, \"saliency\": 0.5154876820261436, \"AUROC\": 0.8114692568778992, \"loss\": 0.54169762134552, \"noise_tunnel_ig\": 0.5353645632796324, \"saliency-absolute\": 0.5027891418123506, \"integrated_gradients\": 0.7074683511004669, \"occlusion\": 0.5843353580172568, \"shapley_value_sampling\": 0.6849808371416723}, {\"tabnet\": 0.5236456598099, \"sparsity_mask\": 0.9963843822479248, \"input_x_gradient\": 0.6017742574662271, \"saliency\": 0.533513062630652, \"AUROC\": 0.8204928040504456, \"loss\": 0.5294226408004761, \"noise_tunnel_ig\": 0.5106249263668117, \"saliency-absolute\": 0.4555175845985449, \"integrated_gradients\": 0.5764314859329522, \"occlusion\": 0.6032941839156869, \"shapley_value_sampling\": 0.6197243859623589}, {\"tabnet\": 0.6851072100826152, \"sparsity_mask\": 0.9961293339729309, \"input_x_gradient\": 0.6834032731849224, \"saliency\": 0.569240912001249, \"AUROC\": 0.8183739185333252, \"loss\": 0.5306114554405212, \"noise_tunnel_ig\": 0.5285962431408185, \"saliency-absolute\": 0.49849778550983864, \"integrated_gradients\": 0.6916317870676857, \"occlusion\": 0.6714890958959956, \"shapley_value_sampling\": 0.6854131725534188}, {\"tabnet\": 0.44226665815334626, \"sparsity_mask\": 0.9964026212692261, \"input_x_gradient\": 0.6152084764207689, \"saliency\": 0.54082468725233, \"AUROC\": 0.8264581561088562, \"loss\": 0.5275211930274963, \"noise_tunnel_ig\": 0.5676747855471573, \"saliency-absolute\": 0.4556119276808085, \"integrated_gradients\": 0.6845253486897687, \"occlusion\": 0.6165260721407013, \"shapley_value_sampling\": 0.7059802450450441}, {\"tabnet\": 0.43972393415115646, \"sparsity_mask\": 0.9965251088142395, \"input_x_gradient\": 0.5888710650700493, \"saliency\": 0.5245479319923986, \"AUROC\": 0.8180633783340454, \"loss\": 0.5510615706443787, \"noise_tunnel_ig\": 0.5083991028553548, \"saliency-absolute\": 0.46275017165764953, \"integrated_gradients\": 0.5970389437232836, \"occlusion\": 0.6069498254161603, \"shapley_value_sampling\": 0.5788402592707074}, {\"tabnet\": 0.4636763492456765, \"sparsity_mask\": 0.9968505501747131, \"input_x_gradient\": 0.5858192325096272, \"saliency\": 0.4938689629248188, \"AUROC\": 0.8261699080467224, \"loss\": 0.5215334892272949, \"noise_tunnel_ig\": 0.5204558049502842, \"saliency-absolute\": 0.4585521524742395, \"integrated_gradients\": 0.6338390859425334, \"occlusion\": 0.6133674197433588, \"shapley_value_sampling\": 0.6907939905796612}, {\"tabnet\": 0.47697479873141024, \"sparsity_mask\": 0.9968354105949402, \"input_x_gradient\": 0.6017623309059755, \"saliency\": 0.5275025692146558, \"AUROC\": 0.8039003610610962, \"loss\": 0.5464668869972229, \"noise_tunnel_ig\": 0.5306582332625229, \"saliency-absolute\": 0.46486939858697596, \"integrated_gradients\": 0.5820705294244404, \"occlusion\": 0.5926935470480327, \"shapley_value_sampling\": 0.6272327439619421}, {\"tabnet\": 0.4702477478973141, \"sparsity_mask\": 0.9959750175476074, \"input_x_gradient\": 0.5988979274470979, \"saliency\": 0.509074258385106, \"AUROC\": 0.8478599786758423, \"loss\": 0.4962567389011383, \"noise_tunnel_ig\": 0.504955759444727, \"saliency-absolute\": 0.45751907212374565, \"integrated_gradients\": 0.7126557232194187, \"occlusion\": 0.6110557520291126, \"shapley_value_sampling\": 0.7125866441122163}, {\"tabnet\": 0.42996108269036604, \"sparsity_mask\": 0.9959506988525391, \"input_x_gradient\": 0.6495170973899763, \"saliency\": 0.548530275015158, \"AUROC\": 0.8268530368804932, \"loss\": 0.5203412771224976, \"noise_tunnel_ig\": 0.5095771090963976, \"saliency-absolute\": 0.45367939660323, \"integrated_gradients\": 0.7212378442411238, \"occlusion\": 0.6518504386212588, \"shapley_value_sampling\": 0.727581327717409}, {\"tabnet\": 0.4491602747236122, \"sparsity_mask\": 0.9970874190330505, \"input_x_gradient\": 0.5504837461076988, \"saliency\": 0.5159289808183226, \"AUROC\": 0.8081364631652832, \"loss\": 0.5484278798103333, \"noise_tunnel_ig\": 0.5109274442412322, \"saliency-absolute\": 0.4422935195871158, \"integrated_gradients\": 0.6395231822029184, \"occlusion\": 0.598607585013951, \"shapley_value_sampling\": 0.6528054097681397}, {\"tabnet\": 0.45109680873102775, \"sparsity_mask\": 0.9961245656013489, \"input_x_gradient\": 0.6256655276877009, \"saliency\": 0.548961869428783, \"AUROC\": 0.825764536857605, \"loss\": 0.5165554285049438, \"noise_tunnel_ig\": 0.518610719688599, \"saliency-absolute\": 0.4642270109446076, \"integrated_gradients\": 0.6564803191725229, \"occlusion\": 0.6304375344781783, \"shapley_value_sampling\": 0.6497138526184065}, {\"tabnet\": 0.45835436116159656, \"sparsity_mask\": 0.9956653118133545, \"input_x_gradient\": 0.6676508625169811, \"saliency\": 0.5244043085221252, \"AUROC\": 0.8511677384376526, \"loss\": 0.5071309804916382, \"noise_tunnel_ig\": 0.5337472696229284, \"saliency-absolute\": 0.45950177455395974, \"integrated_gradients\": 0.7216483278259656, \"occlusion\": 0.6589881169221172, \"shapley_value_sampling\": 0.7237136386002552}, {\"tabnet\": 0.5066455713630609, \"sparsity_mask\": 0.9963732957839966, \"input_x_gradient\": 0.5450665987580847, \"saliency\": 0.5072729540288319, \"AUROC\": 0.8438820838928223, \"loss\": 0.4959051311016083, \"noise_tunnel_ig\": 0.5426958826437734, \"saliency-absolute\": 0.487657067158285, \"integrated_gradients\": 0.63841376717981, \"occlusion\": 0.4806625181721989, \"shapley_value_sampling\": 0.4515518749451387}, {\"tabnet\": 0.4750976414087071, \"sparsity_mask\": 0.9962261319160461, \"input_x_gradient\": 0.5230533749800881, \"saliency\": 0.5029536900671676, \"AUROC\": 0.8273111581802368, \"loss\": 0.5176581144332886, \"noise_tunnel_ig\": 0.4957666056146694, \"saliency-absolute\": 0.44730268810577245, \"integrated_gradients\": 0.5251453920335476, \"occlusion\": 0.5228036675242275, \"shapley_value_sampling\": 0.5097453611537934}, {\"tabnet\": 0.46597712343127123, \"sparsity_mask\": 0.9965519309043884, \"input_x_gradient\": 0.6151371273885976, \"saliency\": 0.5554014783512176, \"AUROC\": 0.8260033130645752, \"loss\": 0.5743510723114014, \"noise_tunnel_ig\": 0.48856594040942564, \"saliency-absolute\": 0.4702199605418211, \"integrated_gradients\": 0.6443031324909548, \"occlusion\": 0.6095129190315002, \"shapley_value_sampling\": 0.6801773810916993}, {\"tabnet\": 0.5158248738261808, \"sparsity_mask\": 0.9963914155960083, \"input_x_gradient\": 0.655087813773175, \"saliency\": 0.5880399967060747, \"AUROC\": 0.8593498468399048, \"loss\": 0.5012770891189575, \"noise_tunnel_ig\": 0.5507659449182374, \"saliency-absolute\": 0.5260423996126307, \"integrated_gradients\": 0.6766440799884738, \"occlusion\": 0.656738734074002, \"shapley_value_sampling\": 0.698487650478729}]}}, {\"mode\": \"vega-lite\"});\n",
       "</script>"
      ],
      "text/plain": [
       "alt.LayerChart(...)"
      ]
     },
     "execution_count": 29,
     "metadata": {},
     "output_type": "execute_result"
    }
   ],
   "source": [
    "x = \"AUROC\"\n",
    "y = \"tabnet\"\n",
    "\n",
    "chart = alt.Chart(metrics).mark_point().encode(\n",
    "    x=alt.X(x, scale=alt.Scale(zero=False)),\n",
    "    y=alt.Y(y, scale=alt.Scale(zero=False))\n",
    ")\n",
    "\n",
    "chart = chart + chart.transform_regression(x, y).mark_line()\n",
    "#chart.show()\n",
    "chart"
   ]
  },
  {
   "cell_type": "code",
   "execution_count": 28,
   "metadata": {
    "pycharm": {
     "name": "#%%\n"
    }
   },
   "outputs": [
    {
     "data": {
      "text/html": [
       "\n",
       "<div id=\"altair-viz-2ecbb8016c9c4319960e76420c3311b0\"></div>\n",
       "<script type=\"text/javascript\">\n",
       "  (function(spec, embedOpt){\n",
       "    let outputDiv = document.currentScript.previousElementSibling;\n",
       "    if (outputDiv.id !== \"altair-viz-2ecbb8016c9c4319960e76420c3311b0\") {\n",
       "      outputDiv = document.getElementById(\"altair-viz-2ecbb8016c9c4319960e76420c3311b0\");\n",
       "    }\n",
       "    const paths = {\n",
       "      \"vega\": \"https://cdn.jsdelivr.net/npm//vega@5?noext\",\n",
       "      \"vega-lib\": \"https://cdn.jsdelivr.net/npm//vega-lib?noext\",\n",
       "      \"vega-lite\": \"https://cdn.jsdelivr.net/npm//vega-lite@4.8.1?noext\",\n",
       "      \"vega-embed\": \"https://cdn.jsdelivr.net/npm//vega-embed@6?noext\",\n",
       "    };\n",
       "\n",
       "    function loadScript(lib) {\n",
       "      return new Promise(function(resolve, reject) {\n",
       "        var s = document.createElement('script');\n",
       "        s.src = paths[lib];\n",
       "        s.async = true;\n",
       "        s.onload = () => resolve(paths[lib]);\n",
       "        s.onerror = () => reject(`Error loading script: ${paths[lib]}`);\n",
       "        document.getElementsByTagName(\"head\")[0].appendChild(s);\n",
       "      });\n",
       "    }\n",
       "\n",
       "    function showError(err) {\n",
       "      outputDiv.innerHTML = `<div class=\"error\" style=\"color:red;\">${err}</div>`;\n",
       "      throw err;\n",
       "    }\n",
       "\n",
       "    function displayChart(vegaEmbed) {\n",
       "      vegaEmbed(outputDiv, spec, embedOpt)\n",
       "        .catch(err => showError(`Javascript Error: ${err.message}<br>This usually means there's a typo in your chart specification. See the javascript console for the full traceback.`));\n",
       "    }\n",
       "\n",
       "    if(typeof define === \"function\" && define.amd) {\n",
       "      requirejs.config({paths});\n",
       "      require([\"vega-embed\"], displayChart, err => showError(`Error loading script: ${err.message}`));\n",
       "    } else if (typeof vegaEmbed === \"function\") {\n",
       "      displayChart(vegaEmbed);\n",
       "    } else {\n",
       "      loadScript(\"vega\")\n",
       "        .then(() => loadScript(\"vega-lite\"))\n",
       "        .then(() => loadScript(\"vega-embed\"))\n",
       "        .catch(showError)\n",
       "        .then(() => displayChart(vegaEmbed));\n",
       "    }\n",
       "  })({\"config\": {\"view\": {\"continuousWidth\": 400, \"continuousHeight\": 300}}, \"layer\": [{\"mark\": \"point\", \"encoding\": {\"x\": {\"type\": \"quantitative\", \"field\": \"sparsity_mask\", \"scale\": {\"zero\": false}}, \"y\": {\"type\": \"quantitative\", \"field\": \"tabnet\", \"scale\": {\"zero\": false}}}}, {\"mark\": \"line\", \"encoding\": {\"x\": {\"type\": \"quantitative\", \"field\": \"sparsity_mask\", \"scale\": {\"zero\": false}}, \"y\": {\"type\": \"quantitative\", \"field\": \"tabnet\", \"scale\": {\"zero\": false}}}, \"transform\": [{\"on\": \"sparsity_mask\", \"regression\": \"tabnet\"}]}], \"data\": {\"name\": \"data-5b9afe04026da50a61299f4ebe7b5af7\"}, \"$schema\": \"https://vega.github.io/schema/vega-lite/v4.8.1.json\", \"datasets\": {\"data-5b9afe04026da50a61299f4ebe7b5af7\": [{\"tabnet\": 0.432480395746398, \"sparsity_mask\": 0.9959608316421509, \"input_x_gradient\": 0.6612620842474816, \"saliency\": 0.5578355331836538, \"AUROC\": 0.8066221475601196, \"loss\": 0.5934497117996216, \"noise_tunnel_ig\": 0.5178057388376143, \"saliency-absolute\": 0.4304905880717291, \"integrated_gradients\": 0.5472284801679815, \"occlusion\": 0.6613540625567971, \"shapley_value_sampling\": 0.6242698094243367}, {\"tabnet\": 0.4639491857223318, \"sparsity_mask\": 0.9967235922813416, \"input_x_gradient\": 0.6321037343064889, \"saliency\": 0.5436408551965263, \"AUROC\": 0.8488982319831848, \"loss\": 0.5087858438491821, \"noise_tunnel_ig\": 0.5128770175353718, \"saliency-absolute\": 0.4464430667168272, \"integrated_gradients\": 0.6547183614389398, \"occlusion\": 0.6309776317219548, \"shapley_value_sampling\": 0.6738196209916057}, {\"tabnet\": 0.4551121145222249, \"sparsity_mask\": 0.9965219497680664, \"input_x_gradient\": 0.6037829119333502, \"saliency\": 0.5438393259410036, \"AUROC\": 0.7936260104179382, \"loss\": 0.5665165781974792, \"noise_tunnel_ig\": 0.5152876692765923, \"saliency-absolute\": 0.4714574815222822, \"integrated_gradients\": 0.6718950130115269, \"occlusion\": 0.5888666094591644, \"shapley_value_sampling\": 0.6537715372940365}, {\"tabnet\": 0.5958569042611381, \"sparsity_mask\": 0.996752142906189, \"input_x_gradient\": 0.6168885202116025, \"saliency\": 0.5353296290935878, \"AUROC\": 0.8257940411567688, \"loss\": 0.5375785231590271, \"noise_tunnel_ig\": 0.50680069860651, \"saliency-absolute\": 0.5129970383125855, \"integrated_gradients\": 0.46550208505888085, \"occlusion\": 0.6126472849711165, \"shapley_value_sampling\": 0.63711504951438}, {\"tabnet\": 0.5134926940838591, \"sparsity_mask\": 0.9961045980453491, \"input_x_gradient\": 0.5988769406181559, \"saliency\": 0.5154876820261436, \"AUROC\": 0.8114692568778992, \"loss\": 0.54169762134552, \"noise_tunnel_ig\": 0.5353645632796324, \"saliency-absolute\": 0.5027891418123506, \"integrated_gradients\": 0.7074683511004669, \"occlusion\": 0.5843353580172568, \"shapley_value_sampling\": 0.6849808371416723}, {\"tabnet\": 0.5236456598099, \"sparsity_mask\": 0.9963843822479248, \"input_x_gradient\": 0.6017742574662271, \"saliency\": 0.533513062630652, \"AUROC\": 0.8204928040504456, \"loss\": 0.5294226408004761, \"noise_tunnel_ig\": 0.5106249263668117, \"saliency-absolute\": 0.4555175845985449, \"integrated_gradients\": 0.5764314859329522, \"occlusion\": 0.6032941839156869, \"shapley_value_sampling\": 0.6197243859623589}, {\"tabnet\": 0.6851072100826152, \"sparsity_mask\": 0.9961293339729309, \"input_x_gradient\": 0.6834032731849224, \"saliency\": 0.569240912001249, \"AUROC\": 0.8183739185333252, \"loss\": 0.5306114554405212, \"noise_tunnel_ig\": 0.5285962431408185, \"saliency-absolute\": 0.49849778550983864, \"integrated_gradients\": 0.6916317870676857, \"occlusion\": 0.6714890958959956, \"shapley_value_sampling\": 0.6854131725534188}, {\"tabnet\": 0.44226665815334626, \"sparsity_mask\": 0.9964026212692261, \"input_x_gradient\": 0.6152084764207689, \"saliency\": 0.54082468725233, \"AUROC\": 0.8264581561088562, \"loss\": 0.5275211930274963, \"noise_tunnel_ig\": 0.5676747855471573, \"saliency-absolute\": 0.4556119276808085, \"integrated_gradients\": 0.6845253486897687, \"occlusion\": 0.6165260721407013, \"shapley_value_sampling\": 0.7059802450450441}, {\"tabnet\": 0.43972393415115646, \"sparsity_mask\": 0.9965251088142395, \"input_x_gradient\": 0.5888710650700493, \"saliency\": 0.5245479319923986, \"AUROC\": 0.8180633783340454, \"loss\": 0.5510615706443787, \"noise_tunnel_ig\": 0.5083991028553548, \"saliency-absolute\": 0.46275017165764953, \"integrated_gradients\": 0.5970389437232836, \"occlusion\": 0.6069498254161603, \"shapley_value_sampling\": 0.5788402592707074}, {\"tabnet\": 0.4636763492456765, \"sparsity_mask\": 0.9968505501747131, \"input_x_gradient\": 0.5858192325096272, \"saliency\": 0.4938689629248188, \"AUROC\": 0.8261699080467224, \"loss\": 0.5215334892272949, \"noise_tunnel_ig\": 0.5204558049502842, \"saliency-absolute\": 0.4585521524742395, \"integrated_gradients\": 0.6338390859425334, \"occlusion\": 0.6133674197433588, \"shapley_value_sampling\": 0.6907939905796612}, {\"tabnet\": 0.47697479873141024, \"sparsity_mask\": 0.9968354105949402, \"input_x_gradient\": 0.6017623309059755, \"saliency\": 0.5275025692146558, \"AUROC\": 0.8039003610610962, \"loss\": 0.5464668869972229, \"noise_tunnel_ig\": 0.5306582332625229, \"saliency-absolute\": 0.46486939858697596, \"integrated_gradients\": 0.5820705294244404, \"occlusion\": 0.5926935470480327, \"shapley_value_sampling\": 0.6272327439619421}, {\"tabnet\": 0.4702477478973141, \"sparsity_mask\": 0.9959750175476074, \"input_x_gradient\": 0.5988979274470979, \"saliency\": 0.509074258385106, \"AUROC\": 0.8478599786758423, \"loss\": 0.4962567389011383, \"noise_tunnel_ig\": 0.504955759444727, \"saliency-absolute\": 0.45751907212374565, \"integrated_gradients\": 0.7126557232194187, \"occlusion\": 0.6110557520291126, \"shapley_value_sampling\": 0.7125866441122163}, {\"tabnet\": 0.42996108269036604, \"sparsity_mask\": 0.9959506988525391, \"input_x_gradient\": 0.6495170973899763, \"saliency\": 0.548530275015158, \"AUROC\": 0.8268530368804932, \"loss\": 0.5203412771224976, \"noise_tunnel_ig\": 0.5095771090963976, \"saliency-absolute\": 0.45367939660323, \"integrated_gradients\": 0.7212378442411238, \"occlusion\": 0.6518504386212588, \"shapley_value_sampling\": 0.727581327717409}, {\"tabnet\": 0.4491602747236122, \"sparsity_mask\": 0.9970874190330505, \"input_x_gradient\": 0.5504837461076988, \"saliency\": 0.5159289808183226, \"AUROC\": 0.8081364631652832, \"loss\": 0.5484278798103333, \"noise_tunnel_ig\": 0.5109274442412322, \"saliency-absolute\": 0.4422935195871158, \"integrated_gradients\": 0.6395231822029184, \"occlusion\": 0.598607585013951, \"shapley_value_sampling\": 0.6528054097681397}, {\"tabnet\": 0.45109680873102775, \"sparsity_mask\": 0.9961245656013489, \"input_x_gradient\": 0.6256655276877009, \"saliency\": 0.548961869428783, \"AUROC\": 0.825764536857605, \"loss\": 0.5165554285049438, \"noise_tunnel_ig\": 0.518610719688599, \"saliency-absolute\": 0.4642270109446076, \"integrated_gradients\": 0.6564803191725229, \"occlusion\": 0.6304375344781783, \"shapley_value_sampling\": 0.6497138526184065}, {\"tabnet\": 0.45835436116159656, \"sparsity_mask\": 0.9956653118133545, \"input_x_gradient\": 0.6676508625169811, \"saliency\": 0.5244043085221252, \"AUROC\": 0.8511677384376526, \"loss\": 0.5071309804916382, \"noise_tunnel_ig\": 0.5337472696229284, \"saliency-absolute\": 0.45950177455395974, \"integrated_gradients\": 0.7216483278259656, \"occlusion\": 0.6589881169221172, \"shapley_value_sampling\": 0.7237136386002552}, {\"tabnet\": 0.5066455713630609, \"sparsity_mask\": 0.9963732957839966, \"input_x_gradient\": 0.5450665987580847, \"saliency\": 0.5072729540288319, \"AUROC\": 0.8438820838928223, \"loss\": 0.4959051311016083, \"noise_tunnel_ig\": 0.5426958826437734, \"saliency-absolute\": 0.487657067158285, \"integrated_gradients\": 0.63841376717981, \"occlusion\": 0.4806625181721989, \"shapley_value_sampling\": 0.4515518749451387}, {\"tabnet\": 0.4750976414087071, \"sparsity_mask\": 0.9962261319160461, \"input_x_gradient\": 0.5230533749800881, \"saliency\": 0.5029536900671676, \"AUROC\": 0.8273111581802368, \"loss\": 0.5176581144332886, \"noise_tunnel_ig\": 0.4957666056146694, \"saliency-absolute\": 0.44730268810577245, \"integrated_gradients\": 0.5251453920335476, \"occlusion\": 0.5228036675242275, \"shapley_value_sampling\": 0.5097453611537934}, {\"tabnet\": 0.46597712343127123, \"sparsity_mask\": 0.9965519309043884, \"input_x_gradient\": 0.6151371273885976, \"saliency\": 0.5554014783512176, \"AUROC\": 0.8260033130645752, \"loss\": 0.5743510723114014, \"noise_tunnel_ig\": 0.48856594040942564, \"saliency-absolute\": 0.4702199605418211, \"integrated_gradients\": 0.6443031324909548, \"occlusion\": 0.6095129190315002, \"shapley_value_sampling\": 0.6801773810916993}, {\"tabnet\": 0.5158248738261808, \"sparsity_mask\": 0.9963914155960083, \"input_x_gradient\": 0.655087813773175, \"saliency\": 0.5880399967060747, \"AUROC\": 0.8593498468399048, \"loss\": 0.5012770891189575, \"noise_tunnel_ig\": 0.5507659449182374, \"saliency-absolute\": 0.5260423996126307, \"integrated_gradients\": 0.6766440799884738, \"occlusion\": 0.656738734074002, \"shapley_value_sampling\": 0.698487650478729}]}}, {\"mode\": \"vega-lite\"});\n",
       "</script>"
      ],
      "text/plain": [
       "alt.LayerChart(...)"
      ]
     },
     "execution_count": 28,
     "metadata": {},
     "output_type": "execute_result"
    }
   ],
   "source": [
    "x = \"sparsity_mask\"\n",
    "y = \"tabnet\"\n",
    "\n",
    "chart = alt.Chart(metrics).mark_point().encode(\n",
    "    x=alt.X(x, scale=alt.Scale(zero=False)),\n",
    "    y=alt.Y(y, scale=alt.Scale(zero=False))\n",
    ")\n",
    "\n",
    "chart = chart + chart.transform_regression(x, y).mark_line()\n",
    "#chart.show()\n",
    "chart"
   ]
  },
  {
   "cell_type": "code",
   "execution_count": 32,
   "metadata": {
    "pycharm": {
     "name": "#%%\n"
    }
   },
   "outputs": [
    {
     "data": {
      "text/html": [
       "\n",
       "<div id=\"altair-viz-de53ed4116fa4f5b8295baaa4dd3a283\"></div>\n",
       "<script type=\"text/javascript\">\n",
       "  (function(spec, embedOpt){\n",
       "    let outputDiv = document.currentScript.previousElementSibling;\n",
       "    if (outputDiv.id !== \"altair-viz-de53ed4116fa4f5b8295baaa4dd3a283\") {\n",
       "      outputDiv = document.getElementById(\"altair-viz-de53ed4116fa4f5b8295baaa4dd3a283\");\n",
       "    }\n",
       "    const paths = {\n",
       "      \"vega\": \"https://cdn.jsdelivr.net/npm//vega@5?noext\",\n",
       "      \"vega-lib\": \"https://cdn.jsdelivr.net/npm//vega-lib?noext\",\n",
       "      \"vega-lite\": \"https://cdn.jsdelivr.net/npm//vega-lite@4.8.1?noext\",\n",
       "      \"vega-embed\": \"https://cdn.jsdelivr.net/npm//vega-embed@6?noext\",\n",
       "    };\n",
       "\n",
       "    function loadScript(lib) {\n",
       "      return new Promise(function(resolve, reject) {\n",
       "        var s = document.createElement('script');\n",
       "        s.src = paths[lib];\n",
       "        s.async = true;\n",
       "        s.onload = () => resolve(paths[lib]);\n",
       "        s.onerror = () => reject(`Error loading script: ${paths[lib]}`);\n",
       "        document.getElementsByTagName(\"head\")[0].appendChild(s);\n",
       "      });\n",
       "    }\n",
       "\n",
       "    function showError(err) {\n",
       "      outputDiv.innerHTML = `<div class=\"error\" style=\"color:red;\">${err}</div>`;\n",
       "      throw err;\n",
       "    }\n",
       "\n",
       "    function displayChart(vegaEmbed) {\n",
       "      vegaEmbed(outputDiv, spec, embedOpt)\n",
       "        .catch(err => showError(`Javascript Error: ${err.message}<br>This usually means there's a typo in your chart specification. See the javascript console for the full traceback.`));\n",
       "    }\n",
       "\n",
       "    if(typeof define === \"function\" && define.amd) {\n",
       "      requirejs.config({paths});\n",
       "      require([\"vega-embed\"], displayChart, err => showError(`Error loading script: ${err.message}`));\n",
       "    } else if (typeof vegaEmbed === \"function\") {\n",
       "      displayChart(vegaEmbed);\n",
       "    } else {\n",
       "      loadScript(\"vega\")\n",
       "        .then(() => loadScript(\"vega-lite\"))\n",
       "        .then(() => loadScript(\"vega-embed\"))\n",
       "        .catch(showError)\n",
       "        .then(() => displayChart(vegaEmbed));\n",
       "    }\n",
       "  })({\"config\": {\"view\": {\"continuousWidth\": 400, \"continuousHeight\": 300}}, \"layer\": [{\"mark\": \"point\", \"encoding\": {\"x\": {\"type\": \"quantitative\", \"field\": \"sparsity_mask\", \"scale\": {\"zero\": false}}, \"y\": {\"type\": \"quantitative\", \"field\": \"AUROC\", \"scale\": {\"zero\": false}}}}, {\"mark\": \"line\", \"encoding\": {\"x\": {\"type\": \"quantitative\", \"field\": \"sparsity_mask\", \"scale\": {\"zero\": false}}, \"y\": {\"type\": \"quantitative\", \"field\": \"AUROC\", \"scale\": {\"zero\": false}}}, \"transform\": [{\"on\": \"sparsity_mask\", \"regression\": \"AUROC\"}]}], \"data\": {\"name\": \"data-5b9afe04026da50a61299f4ebe7b5af7\"}, \"$schema\": \"https://vega.github.io/schema/vega-lite/v4.8.1.json\", \"datasets\": {\"data-5b9afe04026da50a61299f4ebe7b5af7\": [{\"tabnet\": 0.432480395746398, \"sparsity_mask\": 0.9959608316421509, \"input_x_gradient\": 0.6612620842474816, \"saliency\": 0.5578355331836538, \"AUROC\": 0.8066221475601196, \"loss\": 0.5934497117996216, \"noise_tunnel_ig\": 0.5178057388376143, \"saliency-absolute\": 0.4304905880717291, \"integrated_gradients\": 0.5472284801679815, \"occlusion\": 0.6613540625567971, \"shapley_value_sampling\": 0.6242698094243367}, {\"tabnet\": 0.4639491857223318, \"sparsity_mask\": 0.9967235922813416, \"input_x_gradient\": 0.6321037343064889, \"saliency\": 0.5436408551965263, \"AUROC\": 0.8488982319831848, \"loss\": 0.5087858438491821, \"noise_tunnel_ig\": 0.5128770175353718, \"saliency-absolute\": 0.4464430667168272, \"integrated_gradients\": 0.6547183614389398, \"occlusion\": 0.6309776317219548, \"shapley_value_sampling\": 0.6738196209916057}, {\"tabnet\": 0.4551121145222249, \"sparsity_mask\": 0.9965219497680664, \"input_x_gradient\": 0.6037829119333502, \"saliency\": 0.5438393259410036, \"AUROC\": 0.7936260104179382, \"loss\": 0.5665165781974792, \"noise_tunnel_ig\": 0.5152876692765923, \"saliency-absolute\": 0.4714574815222822, \"integrated_gradients\": 0.6718950130115269, \"occlusion\": 0.5888666094591644, \"shapley_value_sampling\": 0.6537715372940365}, {\"tabnet\": 0.5958569042611381, \"sparsity_mask\": 0.996752142906189, \"input_x_gradient\": 0.6168885202116025, \"saliency\": 0.5353296290935878, \"AUROC\": 0.8257940411567688, \"loss\": 0.5375785231590271, \"noise_tunnel_ig\": 0.50680069860651, \"saliency-absolute\": 0.5129970383125855, \"integrated_gradients\": 0.46550208505888085, \"occlusion\": 0.6126472849711165, \"shapley_value_sampling\": 0.63711504951438}, {\"tabnet\": 0.5134926940838591, \"sparsity_mask\": 0.9961045980453491, \"input_x_gradient\": 0.5988769406181559, \"saliency\": 0.5154876820261436, \"AUROC\": 0.8114692568778992, \"loss\": 0.54169762134552, \"noise_tunnel_ig\": 0.5353645632796324, \"saliency-absolute\": 0.5027891418123506, \"integrated_gradients\": 0.7074683511004669, \"occlusion\": 0.5843353580172568, \"shapley_value_sampling\": 0.6849808371416723}, {\"tabnet\": 0.5236456598099, \"sparsity_mask\": 0.9963843822479248, \"input_x_gradient\": 0.6017742574662271, \"saliency\": 0.533513062630652, \"AUROC\": 0.8204928040504456, \"loss\": 0.5294226408004761, \"noise_tunnel_ig\": 0.5106249263668117, \"saliency-absolute\": 0.4555175845985449, \"integrated_gradients\": 0.5764314859329522, \"occlusion\": 0.6032941839156869, \"shapley_value_sampling\": 0.6197243859623589}, {\"tabnet\": 0.6851072100826152, \"sparsity_mask\": 0.9961293339729309, \"input_x_gradient\": 0.6834032731849224, \"saliency\": 0.569240912001249, \"AUROC\": 0.8183739185333252, \"loss\": 0.5306114554405212, \"noise_tunnel_ig\": 0.5285962431408185, \"saliency-absolute\": 0.49849778550983864, \"integrated_gradients\": 0.6916317870676857, \"occlusion\": 0.6714890958959956, \"shapley_value_sampling\": 0.6854131725534188}, {\"tabnet\": 0.44226665815334626, \"sparsity_mask\": 0.9964026212692261, \"input_x_gradient\": 0.6152084764207689, \"saliency\": 0.54082468725233, \"AUROC\": 0.8264581561088562, \"loss\": 0.5275211930274963, \"noise_tunnel_ig\": 0.5676747855471573, \"saliency-absolute\": 0.4556119276808085, \"integrated_gradients\": 0.6845253486897687, \"occlusion\": 0.6165260721407013, \"shapley_value_sampling\": 0.7059802450450441}, {\"tabnet\": 0.43972393415115646, \"sparsity_mask\": 0.9965251088142395, \"input_x_gradient\": 0.5888710650700493, \"saliency\": 0.5245479319923986, \"AUROC\": 0.8180633783340454, \"loss\": 0.5510615706443787, \"noise_tunnel_ig\": 0.5083991028553548, \"saliency-absolute\": 0.46275017165764953, \"integrated_gradients\": 0.5970389437232836, \"occlusion\": 0.6069498254161603, \"shapley_value_sampling\": 0.5788402592707074}, {\"tabnet\": 0.4636763492456765, \"sparsity_mask\": 0.9968505501747131, \"input_x_gradient\": 0.5858192325096272, \"saliency\": 0.4938689629248188, \"AUROC\": 0.8261699080467224, \"loss\": 0.5215334892272949, \"noise_tunnel_ig\": 0.5204558049502842, \"saliency-absolute\": 0.4585521524742395, \"integrated_gradients\": 0.6338390859425334, \"occlusion\": 0.6133674197433588, \"shapley_value_sampling\": 0.6907939905796612}, {\"tabnet\": 0.47697479873141024, \"sparsity_mask\": 0.9968354105949402, \"input_x_gradient\": 0.6017623309059755, \"saliency\": 0.5275025692146558, \"AUROC\": 0.8039003610610962, \"loss\": 0.5464668869972229, \"noise_tunnel_ig\": 0.5306582332625229, \"saliency-absolute\": 0.46486939858697596, \"integrated_gradients\": 0.5820705294244404, \"occlusion\": 0.5926935470480327, \"shapley_value_sampling\": 0.6272327439619421}, {\"tabnet\": 0.4702477478973141, \"sparsity_mask\": 0.9959750175476074, \"input_x_gradient\": 0.5988979274470979, \"saliency\": 0.509074258385106, \"AUROC\": 0.8478599786758423, \"loss\": 0.4962567389011383, \"noise_tunnel_ig\": 0.504955759444727, \"saliency-absolute\": 0.45751907212374565, \"integrated_gradients\": 0.7126557232194187, \"occlusion\": 0.6110557520291126, \"shapley_value_sampling\": 0.7125866441122163}, {\"tabnet\": 0.42996108269036604, \"sparsity_mask\": 0.9959506988525391, \"input_x_gradient\": 0.6495170973899763, \"saliency\": 0.548530275015158, \"AUROC\": 0.8268530368804932, \"loss\": 0.5203412771224976, \"noise_tunnel_ig\": 0.5095771090963976, \"saliency-absolute\": 0.45367939660323, \"integrated_gradients\": 0.7212378442411238, \"occlusion\": 0.6518504386212588, \"shapley_value_sampling\": 0.727581327717409}, {\"tabnet\": 0.4491602747236122, \"sparsity_mask\": 0.9970874190330505, \"input_x_gradient\": 0.5504837461076988, \"saliency\": 0.5159289808183226, \"AUROC\": 0.8081364631652832, \"loss\": 0.5484278798103333, \"noise_tunnel_ig\": 0.5109274442412322, \"saliency-absolute\": 0.4422935195871158, \"integrated_gradients\": 0.6395231822029184, \"occlusion\": 0.598607585013951, \"shapley_value_sampling\": 0.6528054097681397}, {\"tabnet\": 0.45109680873102775, \"sparsity_mask\": 0.9961245656013489, \"input_x_gradient\": 0.6256655276877009, \"saliency\": 0.548961869428783, \"AUROC\": 0.825764536857605, \"loss\": 0.5165554285049438, \"noise_tunnel_ig\": 0.518610719688599, \"saliency-absolute\": 0.4642270109446076, \"integrated_gradients\": 0.6564803191725229, \"occlusion\": 0.6304375344781783, \"shapley_value_sampling\": 0.6497138526184065}, {\"tabnet\": 0.45835436116159656, \"sparsity_mask\": 0.9956653118133545, \"input_x_gradient\": 0.6676508625169811, \"saliency\": 0.5244043085221252, \"AUROC\": 0.8511677384376526, \"loss\": 0.5071309804916382, \"noise_tunnel_ig\": 0.5337472696229284, \"saliency-absolute\": 0.45950177455395974, \"integrated_gradients\": 0.7216483278259656, \"occlusion\": 0.6589881169221172, \"shapley_value_sampling\": 0.7237136386002552}, {\"tabnet\": 0.5066455713630609, \"sparsity_mask\": 0.9963732957839966, \"input_x_gradient\": 0.5450665987580847, \"saliency\": 0.5072729540288319, \"AUROC\": 0.8438820838928223, \"loss\": 0.4959051311016083, \"noise_tunnel_ig\": 0.5426958826437734, \"saliency-absolute\": 0.487657067158285, \"integrated_gradients\": 0.63841376717981, \"occlusion\": 0.4806625181721989, \"shapley_value_sampling\": 0.4515518749451387}, {\"tabnet\": 0.4750976414087071, \"sparsity_mask\": 0.9962261319160461, \"input_x_gradient\": 0.5230533749800881, \"saliency\": 0.5029536900671676, \"AUROC\": 0.8273111581802368, \"loss\": 0.5176581144332886, \"noise_tunnel_ig\": 0.4957666056146694, \"saliency-absolute\": 0.44730268810577245, \"integrated_gradients\": 0.5251453920335476, \"occlusion\": 0.5228036675242275, \"shapley_value_sampling\": 0.5097453611537934}, {\"tabnet\": 0.46597712343127123, \"sparsity_mask\": 0.9965519309043884, \"input_x_gradient\": 0.6151371273885976, \"saliency\": 0.5554014783512176, \"AUROC\": 0.8260033130645752, \"loss\": 0.5743510723114014, \"noise_tunnel_ig\": 0.48856594040942564, \"saliency-absolute\": 0.4702199605418211, \"integrated_gradients\": 0.6443031324909548, \"occlusion\": 0.6095129190315002, \"shapley_value_sampling\": 0.6801773810916993}, {\"tabnet\": 0.5158248738261808, \"sparsity_mask\": 0.9963914155960083, \"input_x_gradient\": 0.655087813773175, \"saliency\": 0.5880399967060747, \"AUROC\": 0.8593498468399048, \"loss\": 0.5012770891189575, \"noise_tunnel_ig\": 0.5507659449182374, \"saliency-absolute\": 0.5260423996126307, \"integrated_gradients\": 0.6766440799884738, \"occlusion\": 0.656738734074002, \"shapley_value_sampling\": 0.698487650478729}]}}, {\"mode\": \"vega-lite\"});\n",
       "</script>"
      ],
      "text/plain": [
       "alt.LayerChart(...)"
      ]
     },
     "execution_count": 32,
     "metadata": {},
     "output_type": "execute_result"
    }
   ],
   "source": [
    "x = \"sparsity_mask\"\n",
    "y = \"AUROC\"\n",
    "\n",
    "chart = alt.Chart(metrics).mark_point().encode(\n",
    "    x=alt.X(x, scale=alt.Scale(zero=False)),\n",
    "    y=alt.Y(y, scale=alt.Scale(zero=False))\n",
    ")\n",
    "\n",
    "chart = chart + chart.transform_regression(x, y).mark_line()\n",
    "#chart.show()\n",
    "chart\n"
   ]
  },
  {
   "cell_type": "markdown",
   "metadata": {},
   "source": [
    "## Experiment Best MLP (kfold cross validated)\n",
    "\n",
    "- Using best parameters found (see above)\n",
    "    - Run 5-fold cross validation (was run 4 times)\n",
    "    - Results/metrics were calculated using the mean of all individual runs (4 * 5 = 20 runs)\n",
    "    - Per 5-fold cross validation (4 times) the seed for model training and splitting was chosen randomly"
   ]
  },
  {
   "cell_type": "code",
   "execution_count": 15,
   "metadata": {
    "pycharm": {
     "name": "#%%\n"
    }
   },
   "outputs": [],
   "source": [
    "experiment_name = \"herg_tn_best_kfold\"\n",
    "exp = mlflow.get_experiment_by_name(experiment_name)\n",
    "\n",
    "query = \"tags.mlflow.runName != 'summary'\"\n",
    "runs = mlflow.search_runs(experiment_ids=exp.experiment_id, filter_string=query)"
   ]
  },
  {
   "cell_type": "markdown",
   "metadata": {},
   "source": [
    "### Seeds\n"
   ]
  },
  {
   "cell_type": "code",
   "execution_count": 16,
   "metadata": {
    "pycharm": {
     "name": "#%%\n"
    }
   },
   "outputs": [
    {
     "data": {
      "text/html": [
       "<div>\n",
       "<style scoped>\n",
       "    .dataframe tbody tr th:only-of-type {\n",
       "        vertical-align: middle;\n",
       "    }\n",
       "\n",
       "    .dataframe tbody tr th {\n",
       "        vertical-align: top;\n",
       "    }\n",
       "\n",
       "    .dataframe thead th {\n",
       "        text-align: right;\n",
       "    }\n",
       "</style>\n",
       "<table border=\"1\" class=\"dataframe\">\n",
       "  <thead>\n",
       "    <tr style=\"text-align: right;\">\n",
       "      <th></th>\n",
       "      <th>run_id</th>\n",
       "      <th>params.seed</th>\n",
       "      <th>params.split_seed</th>\n",
       "    </tr>\n",
       "  </thead>\n",
       "  <tbody>\n",
       "    <tr>\n",
       "      <th>0</th>\n",
       "      <td>51a039063ad14c0185c672417902e820</td>\n",
       "      <td>921898046</td>\n",
       "      <td>921898046</td>\n",
       "    </tr>\n",
       "    <tr>\n",
       "      <th>1</th>\n",
       "      <td>41c6cf1276a0423495040508f76c7435</td>\n",
       "      <td>921898046</td>\n",
       "      <td>921898046</td>\n",
       "    </tr>\n",
       "    <tr>\n",
       "      <th>2</th>\n",
       "      <td>03a38ebff501405fa0af1dac06404c9c</td>\n",
       "      <td>921898046</td>\n",
       "      <td>921898046</td>\n",
       "    </tr>\n",
       "    <tr>\n",
       "      <th>3</th>\n",
       "      <td>6d5c932f8ade44358c85d823c1376b27</td>\n",
       "      <td>921898046</td>\n",
       "      <td>921898046</td>\n",
       "    </tr>\n",
       "    <tr>\n",
       "      <th>4</th>\n",
       "      <td>0cabbea6c8484bbfba22d81d181ddd34</td>\n",
       "      <td>921898046</td>\n",
       "      <td>921898046</td>\n",
       "    </tr>\n",
       "    <tr>\n",
       "      <th>5</th>\n",
       "      <td>de797c4f36364d0eb690644878e3fa13</td>\n",
       "      <td>4119919135</td>\n",
       "      <td>4119919135</td>\n",
       "    </tr>\n",
       "    <tr>\n",
       "      <th>6</th>\n",
       "      <td>14617c84fefe47d6b67f3d5b22cfe1cf</td>\n",
       "      <td>4119919135</td>\n",
       "      <td>4119919135</td>\n",
       "    </tr>\n",
       "    <tr>\n",
       "      <th>7</th>\n",
       "      <td>bf14a218eb664ff9a4534a64b3407e93</td>\n",
       "      <td>4119919135</td>\n",
       "      <td>4119919135</td>\n",
       "    </tr>\n",
       "    <tr>\n",
       "      <th>8</th>\n",
       "      <td>377cfd34c33744d99ad52050a5ba3679</td>\n",
       "      <td>4119919135</td>\n",
       "      <td>4119919135</td>\n",
       "    </tr>\n",
       "    <tr>\n",
       "      <th>9</th>\n",
       "      <td>426142d03db44bffa3e80ccdb4f2fa98</td>\n",
       "      <td>4119919135</td>\n",
       "      <td>4119919135</td>\n",
       "    </tr>\n",
       "    <tr>\n",
       "      <th>10</th>\n",
       "      <td>11ae0f53c02e4f51a9454995fced9c55</td>\n",
       "      <td>429524598</td>\n",
       "      <td>429524598</td>\n",
       "    </tr>\n",
       "    <tr>\n",
       "      <th>11</th>\n",
       "      <td>56e65a234db1464c8199713c35cf2a6b</td>\n",
       "      <td>429524598</td>\n",
       "      <td>429524598</td>\n",
       "    </tr>\n",
       "    <tr>\n",
       "      <th>12</th>\n",
       "      <td>51334eac416b433b8c2aa5ad33e2e3f9</td>\n",
       "      <td>429524598</td>\n",
       "      <td>429524598</td>\n",
       "    </tr>\n",
       "    <tr>\n",
       "      <th>13</th>\n",
       "      <td>c3e4a4467e9542049478c47c226306b8</td>\n",
       "      <td>429524598</td>\n",
       "      <td>429524598</td>\n",
       "    </tr>\n",
       "    <tr>\n",
       "      <th>14</th>\n",
       "      <td>7b86d71a11fb4897a576016c2aa23ebb</td>\n",
       "      <td>429524598</td>\n",
       "      <td>429524598</td>\n",
       "    </tr>\n",
       "    <tr>\n",
       "      <th>15</th>\n",
       "      <td>103e3565a11246b0b5bb1ca4ab175356</td>\n",
       "      <td>3929069521</td>\n",
       "      <td>3929069521</td>\n",
       "    </tr>\n",
       "    <tr>\n",
       "      <th>16</th>\n",
       "      <td>dcf4e9ca17584f539f551496d6490a00</td>\n",
       "      <td>3929069521</td>\n",
       "      <td>3929069521</td>\n",
       "    </tr>\n",
       "    <tr>\n",
       "      <th>17</th>\n",
       "      <td>3ed3438f138f40df946f1294af679320</td>\n",
       "      <td>3929069521</td>\n",
       "      <td>3929069521</td>\n",
       "    </tr>\n",
       "    <tr>\n",
       "      <th>18</th>\n",
       "      <td>f6f879e17bb44d02be86db97758eee53</td>\n",
       "      <td>3929069521</td>\n",
       "      <td>3929069521</td>\n",
       "    </tr>\n",
       "    <tr>\n",
       "      <th>19</th>\n",
       "      <td>f6bb5695c02f4b25ab60f8c47524deb0</td>\n",
       "      <td>3929069521</td>\n",
       "      <td>3929069521</td>\n",
       "    </tr>\n",
       "  </tbody>\n",
       "</table>\n",
       "</div>"
      ],
      "text/plain": [
       "                              run_id params.seed params.split_seed\n",
       "0   51a039063ad14c0185c672417902e820   921898046         921898046\n",
       "1   41c6cf1276a0423495040508f76c7435   921898046         921898046\n",
       "2   03a38ebff501405fa0af1dac06404c9c   921898046         921898046\n",
       "3   6d5c932f8ade44358c85d823c1376b27   921898046         921898046\n",
       "4   0cabbea6c8484bbfba22d81d181ddd34   921898046         921898046\n",
       "5   de797c4f36364d0eb690644878e3fa13  4119919135        4119919135\n",
       "6   14617c84fefe47d6b67f3d5b22cfe1cf  4119919135        4119919135\n",
       "7   bf14a218eb664ff9a4534a64b3407e93  4119919135        4119919135\n",
       "8   377cfd34c33744d99ad52050a5ba3679  4119919135        4119919135\n",
       "9   426142d03db44bffa3e80ccdb4f2fa98  4119919135        4119919135\n",
       "10  11ae0f53c02e4f51a9454995fced9c55   429524598         429524598\n",
       "11  56e65a234db1464c8199713c35cf2a6b   429524598         429524598\n",
       "12  51334eac416b433b8c2aa5ad33e2e3f9   429524598         429524598\n",
       "13  c3e4a4467e9542049478c47c226306b8   429524598         429524598\n",
       "14  7b86d71a11fb4897a576016c2aa23ebb   429524598         429524598\n",
       "15  103e3565a11246b0b5bb1ca4ab175356  3929069521        3929069521\n",
       "16  dcf4e9ca17584f539f551496d6490a00  3929069521        3929069521\n",
       "17  3ed3438f138f40df946f1294af679320  3929069521        3929069521\n",
       "18  f6f879e17bb44d02be86db97758eee53  3929069521        3929069521\n",
       "19  f6bb5695c02f4b25ab60f8c47524deb0  3929069521        3929069521"
      ]
     },
     "execution_count": 16,
     "metadata": {},
     "output_type": "execute_result"
    }
   ],
   "source": [
    "runs[[\"run_id\", \"params.seed\", \"params.split_seed\"]].head(n=99)"
   ]
  },
  {
   "cell_type": "markdown",
   "metadata": {},
   "source": [
    "### Parameters"
   ]
  },
  {
   "cell_type": "code",
   "execution_count": 17,
   "metadata": {
    "pycharm": {
     "name": "#%%\n"
    }
   },
   "outputs": [
    {
     "name": "stdout",
     "output_type": "stream",
     "text": [
      "prepare_data_per_node: True\n",
      "track_grad_norm: -1.0\n",
      "featurizer_name: combined\n",
      "checkpoint_minimize: True\n",
      "standardize: False\n",
      "check_val_every_n_epoch: 1\n",
      "optimizer_params/weight_decay: 0.0001\n",
      "split_seed: 921898046\n",
      "run_name: tn\n",
      "categorical_indices: None\n",
      "weights_summary: top\n",
      "num_sanity_val_steps: inf\n",
      "verbose_evaluate: True\n",
      "patience_objective: val/loss\n",
      "split_type: random_kfold\n",
      "patience_minimize: True\n",
      "relaxation_type: gamma_fixed\n",
      "cache_dir: ../../../data/herg/\n",
      "objective_name: val/loss\n",
      "stochastic_weight_avg: False\n",
      "log_sparsity: True\n",
      "experiment_name: herg_tn_best_kfold\n",
      "feature_size: 32\n",
      "scheduler_params/decay_rate: 0.9\n",
      "smile3: c1ccccc1CN2CCCCC2 - active\n",
      "virtual_batch_size: 64\n",
      "minimize: True\n",
      "alpha: 2.0\n",
      "precision: 32\n",
      "patience: 10\n",
      "decision_size: 16\n",
      "seed: 921898046\n",
      "reload_dataloaders_every_n_epochs: 0\n",
      "smile2: c1ccccc1CCNC - active\n",
      "max_steps: 1000\n",
      "num_classes: 2\n",
      "attribution_kwargs/data_types: ['test']\n",
      "num_training_batches: 0\n",
      "split_size: (5, 4, 0)\n",
      "featurizer_kwargs/fold: 1024\n",
      "limit_predict_batches: 1.0\n",
      "scheduler_params/decay_step: 800\n",
      "nr_layers: 4\n",
      "featurizer_kwargs/radius: 3\n",
      "val_check_interval: 0.5\n",
      "attribution_kwargs/label: active_g10\n",
      "ignore_index: -100\n",
      "featurizer_mp_context: fork\n",
      "nr_steps: 3\n",
      "tracking_uri: http://localhost:5000\n",
      "input_size: 2017\n",
      "num_gpus: 1\n",
      "optimizer: adamw\n",
      "deterministic: True\n",
      "log_every_n_steps: 50\n",
      "log_parameters: True\n",
      "limit_test_batches: 1.0\n",
      "num_sanity_val_batches: []\n",
      "num_predict_batches: []\n",
      "featurizer_kwargs/return_count: True\n",
      "attribution_kwargs/threshold: 0.5357922315597534\n",
      "eps: 1e-05\n",
      "attribution_kwargs/label_idx: 0\n",
      "lambda_sparse: 0.0001\n",
      "smile4: c1ccccc1Cc1ccccc1 - active\n",
      "featurizer_chunksize: 100\n",
      "flush_logs_every_n_steps: 100\n",
      "num_val_batches: []\n",
      "limit_val_batches: 1.0\n",
      "overfit_batches: 0.0\n",
      "featurizer_kwargs/use_chirality: True\n",
      "attentive_type: sparsemax\n",
      "smile0: CCOc1ccccc1 - active\n",
      "momentum: 0.05\n",
      "class_weights: None\n",
      "gradient_clip_val: 1.0\n",
      "attribution_kwargs/references: [('CCOc1ccccc1', 1), ('c1ccccc1CNCC', 1), ('c1ccccc1CCNC', 1), ('c1ccccc1CN2CCCCC2', 1), ('c1ccccc1Cc1ccccc1', 1)]\n",
      "checkpoint_objective: val/loss\n",
      "featurizer_n_jobs: 8\n",
      "batch_size: 256\n",
      "gamma: 1.5\n",
      "accumulate_grad_batches: 1\n",
      "fast_dev_run: False\n",
      "auto_scale_batch_size: False\n",
      "auto_lr_find: False\n",
      "embedding_dims: None\n",
      "featurizer_kwargs/use_features: True\n",
      "lr: 0.01\n",
      "should_stop: False\n",
      "smile1: c1ccccc1CNCC - active\n",
      "num_workers: 8\n",
      "scheduler: exponential_decay\n",
      "categorical_size: None\n",
      "num_test_batches: []\n",
      "use_labels: ['active_g10']\n",
      "use_cache: True\n",
      "log_metrics: True\n",
      "limit_train_batches: 1.0\n",
      "move_metrics_to_cpu: False\n"
     ]
    }
   ],
   "source": [
    "params = [c for c in runs.columns if \"search_space\" not in c and \"params\" in c]\n",
    "for p, v in zip(params, runs[params].iloc[0].head(n=99)):\n",
    "    print(f\"{p.replace('params.', '')}: {v}\")"
   ]
  },
  {
   "cell_type": "markdown",
   "metadata": {},
   "source": [
    "### Metrics\n",
    "\n",
    "#### Performance on hERG dataset"
   ]
  },
  {
   "cell_type": "code",
   "execution_count": 23,
   "metadata": {
    "pycharm": {
     "name": "#%%\n"
    }
   },
   "outputs": [
    {
     "data": {
      "text/html": [
       "<div>\n",
       "<style scoped>\n",
       "    .dataframe tbody tr th:only-of-type {\n",
       "        vertical-align: middle;\n",
       "    }\n",
       "\n",
       "    .dataframe tbody tr th {\n",
       "        vertical-align: top;\n",
       "    }\n",
       "\n",
       "    .dataframe thead th {\n",
       "        text-align: right;\n",
       "    }\n",
       "</style>\n",
       "<table border=\"1\" class=\"dataframe\">\n",
       "  <thead>\n",
       "    <tr style=\"text-align: right;\">\n",
       "      <th></th>\n",
       "      <th>count</th>\n",
       "      <th>mean</th>\n",
       "      <th>std</th>\n",
       "      <th>min</th>\n",
       "      <th>25%</th>\n",
       "      <th>50%</th>\n",
       "      <th>75%</th>\n",
       "      <th>max</th>\n",
       "    </tr>\n",
       "  </thead>\n",
       "  <tbody>\n",
       "    <tr>\n",
       "      <th>sparsity_mask</th>\n",
       "      <td>20.0</td>\n",
       "      <td>0.996377</td>\n",
       "      <td>0.000364</td>\n",
       "      <td>0.995665</td>\n",
       "      <td>0.996120</td>\n",
       "      <td>0.996388</td>\n",
       "      <td>0.996595</td>\n",
       "      <td>0.997087</td>\n",
       "    </tr>\n",
       "    <tr>\n",
       "      <th>AUROC</th>\n",
       "      <td>20.0</td>\n",
       "      <td>0.825810</td>\n",
       "      <td>0.017265</td>\n",
       "      <td>0.793626</td>\n",
       "      <td>0.816415</td>\n",
       "      <td>0.825899</td>\n",
       "      <td>0.831454</td>\n",
       "      <td>0.859350</td>\n",
       "    </tr>\n",
       "    <tr>\n",
       "      <th>loss</th>\n",
       "      <td>20.0</td>\n",
       "      <td>0.531627</td>\n",
       "      <td>0.026284</td>\n",
       "      <td>0.495905</td>\n",
       "      <td>0.514613</td>\n",
       "      <td>0.528472</td>\n",
       "      <td>0.546957</td>\n",
       "      <td>0.593450</td>\n",
       "    </tr>\n",
       "  </tbody>\n",
       "</table>\n",
       "</div>"
      ],
      "text/plain": [
       "               count      mean       std       min       25%       50%  \\\n",
       "sparsity_mask   20.0  0.996377  0.000364  0.995665  0.996120  0.996388   \n",
       "AUROC           20.0  0.825810  0.017265  0.793626  0.816415  0.825899   \n",
       "loss            20.0  0.531627  0.026284  0.495905  0.514613  0.528472   \n",
       "\n",
       "                    75%       max  \n",
       "sparsity_mask  0.996595  0.997087  \n",
       "AUROC          0.831454  0.859350  \n",
       "loss           0.546957  0.593450  "
      ]
     },
     "execution_count": 23,
     "metadata": {},
     "output_type": "execute_result"
    }
   ],
   "source": [
    "metrics_names = [\n",
    "    \"metrics.test/AUROC\",\n",
    "    \"metrics.test/loss\",\n",
    "    \"metrics.test/sparsity_mask\"\n",
    "]\n",
    "metrics_columns = [c for c in runs.columns if any(c in m for m in metrics_names)]\n",
    "metrics = runs[metrics_columns]\n",
    "\n",
    "metrics.columns = [c.split(\"/\")[-1] for c in metrics.columns]\n",
    "metrics.describe().T"
   ]
  },
  {
   "cell_type": "markdown",
   "metadata": {
    "pycharm": {
     "name": "#%% md\n"
    }
   },
   "source": [
    "##### Discussion\n",
    "\n",
    "- The average sparsity (over the test set) for all trained model is very high. From 2017 features only about 7-8 features are used per average!\n",
    "- AUROC is lower compared to MLP or RF"
   ]
  },
  {
   "cell_type": "markdown",
   "metadata": {},
   "source": [
    "#### Active Hergophores on Inactive Model Predictions\n",
    "\n",
    "- Atomic attribution using various methods"
   ]
  },
  {
   "cell_type": "code",
   "execution_count": 19,
   "metadata": {
    "pycharm": {
     "name": "#%%\n"
    }
   },
   "outputs": [
    {
     "data": {
      "text/html": [
       "<div>\n",
       "<style scoped>\n",
       "    .dataframe tbody tr th:only-of-type {\n",
       "        vertical-align: middle;\n",
       "    }\n",
       "\n",
       "    .dataframe tbody tr th {\n",
       "        vertical-align: top;\n",
       "    }\n",
       "\n",
       "    .dataframe thead th {\n",
       "        text-align: right;\n",
       "    }\n",
       "</style>\n",
       "<table border=\"1\" class=\"dataframe\">\n",
       "  <thead>\n",
       "    <tr style=\"text-align: right;\">\n",
       "      <th></th>\n",
       "      <th>count</th>\n",
       "      <th>mean</th>\n",
       "      <th>std</th>\n",
       "      <th>min</th>\n",
       "      <th>25%</th>\n",
       "      <th>50%</th>\n",
       "      <th>75%</th>\n",
       "      <th>max</th>\n",
       "    </tr>\n",
       "  </thead>\n",
       "  <tbody>\n",
       "    <tr>\n",
       "      <th>tabnet</th>\n",
       "      <td>20.0</td>\n",
       "      <td>0.485733</td>\n",
       "      <td>0.061296</td>\n",
       "      <td>0.429961</td>\n",
       "      <td>0.450613</td>\n",
       "      <td>0.464963</td>\n",
       "      <td>0.508357</td>\n",
       "      <td>0.685107</td>\n",
       "    </tr>\n",
       "    <tr>\n",
       "      <th>input_x_gradient</th>\n",
       "      <td>20.0</td>\n",
       "      <td>0.611016</td>\n",
       "      <td>0.041370</td>\n",
       "      <td>0.523053</td>\n",
       "      <td>0.596375</td>\n",
       "      <td>0.609460</td>\n",
       "      <td>0.636457</td>\n",
       "      <td>0.683403</td>\n",
       "    </tr>\n",
       "    <tr>\n",
       "      <th>saliency</th>\n",
       "      <td>20.0</td>\n",
       "      <td>0.534310</td>\n",
       "      <td>0.023690</td>\n",
       "      <td>0.493869</td>\n",
       "      <td>0.515819</td>\n",
       "      <td>0.534421</td>\n",
       "      <td>0.548638</td>\n",
       "      <td>0.588040</td>\n",
       "    </tr>\n",
       "    <tr>\n",
       "      <th>noise_tunnel_ig</th>\n",
       "      <td>20.0</td>\n",
       "      <td>0.520508</td>\n",
       "      <td>0.018934</td>\n",
       "      <td>0.488566</td>\n",
       "      <td>0.509283</td>\n",
       "      <td>0.516547</td>\n",
       "      <td>0.531430</td>\n",
       "      <td>0.567675</td>\n",
       "    </tr>\n",
       "    <tr>\n",
       "      <th>saliency-absolute</th>\n",
       "      <td>20.0</td>\n",
       "      <td>0.468421</td>\n",
       "      <td>0.024849</td>\n",
       "      <td>0.430491</td>\n",
       "      <td>0.455058</td>\n",
       "      <td>0.461126</td>\n",
       "      <td>0.475507</td>\n",
       "      <td>0.526042</td>\n",
       "    </tr>\n",
       "    <tr>\n",
       "      <th>integrated_gradients</th>\n",
       "      <td>20.0</td>\n",
       "      <td>0.637420</td>\n",
       "      <td>0.069589</td>\n",
       "      <td>0.465502</td>\n",
       "      <td>0.593297</td>\n",
       "      <td>0.649511</td>\n",
       "      <td>0.686302</td>\n",
       "      <td>0.721648</td>\n",
       "    </tr>\n",
       "    <tr>\n",
       "      <th>occlusion</th>\n",
       "      <td>20.0</td>\n",
       "      <td>0.610158</td>\n",
       "      <td>0.045650</td>\n",
       "      <td>0.480663</td>\n",
       "      <td>0.597129</td>\n",
       "      <td>0.611852</td>\n",
       "      <td>0.636196</td>\n",
       "      <td>0.671489</td>\n",
       "    </tr>\n",
       "    <tr>\n",
       "      <th>shapley_value_sampling</th>\n",
       "      <td>20.0</td>\n",
       "      <td>0.649415</td>\n",
       "      <td>0.069913</td>\n",
       "      <td>0.451552</td>\n",
       "      <td>0.626492</td>\n",
       "      <td>0.663796</td>\n",
       "      <td>0.692717</td>\n",
       "      <td>0.727581</td>\n",
       "    </tr>\n",
       "  </tbody>\n",
       "</table>\n",
       "</div>"
      ],
      "text/plain": [
       "                        count      mean       std       min       25%  \\\n",
       "tabnet                   20.0  0.485733  0.061296  0.429961  0.450613   \n",
       "input_x_gradient         20.0  0.611016  0.041370  0.523053  0.596375   \n",
       "saliency                 20.0  0.534310  0.023690  0.493869  0.515819   \n",
       "noise_tunnel_ig          20.0  0.520508  0.018934  0.488566  0.509283   \n",
       "saliency-absolute        20.0  0.468421  0.024849  0.430491  0.455058   \n",
       "integrated_gradients     20.0  0.637420  0.069589  0.465502  0.593297   \n",
       "occlusion                20.0  0.610158  0.045650  0.480663  0.597129   \n",
       "shapley_value_sampling   20.0  0.649415  0.069913  0.451552  0.626492   \n",
       "\n",
       "                             50%       75%       max  \n",
       "tabnet                  0.464963  0.508357  0.685107  \n",
       "input_x_gradient        0.609460  0.636457  0.683403  \n",
       "saliency                0.534421  0.548638  0.588040  \n",
       "noise_tunnel_ig         0.516547  0.531430  0.567675  \n",
       "saliency-absolute       0.461126  0.475507  0.526042  \n",
       "integrated_gradients    0.649511  0.686302  0.721648  \n",
       "occlusion               0.611852  0.636196  0.671489  \n",
       "shapley_value_sampling  0.663796  0.692717  0.727581  "
      ]
     },
     "execution_count": 19,
     "metadata": {},
     "output_type": "execute_result"
    }
   ],
   "source": [
    "metrics_names = [\n",
    "    \"metrics.test/mean/avg_score_pred_inactive/tabnet\",\n",
    "    \"metrics.test/mean/avg_score_pred_inactive/integrated_gradients\",\n",
    "    \"metrics.test/mean/avg_score_pred_inactive/saliency\",\n",
    "    \"metrics.test/mean/avg_score_pred_inactive/saliency-absolute\",\n",
    "    \"metrics.test/mean/avg_score_pred_inactive/input_x_gradient\",\n",
    "    \"metrics.test/mean/avg_score_pred_inactive/occlusion\",\n",
    "    \"metrics.test/mean/avg_score_pred_inactive/deeplift\",\n",
    "    \"metrics.test/mean/avg_score_pred_inactive/shapley_value_sampling\",\n",
    "    \"metrics.test/mean/avg_score_pred_inactive/noise_tunnel_ig\",\n",
    "]\n",
    "metrics_columns = [c for c in runs.columns if any(c in m for m in metrics_names)]\n",
    "metrics = runs[metrics_columns]\n",
    "\n",
    "metrics.columns = [c.split(\"/\")[-1] for c in metrics.columns]\n",
    "metrics.describe().T"
   ]
  },
  {
   "cell_type": "markdown",
   "metadata": {
    "pycharm": {
     "name": "#%%\n"
    }
   },
   "source": [
    "##### Discussion\n",
    "\n",
    "- Integrated gradients and Shapley Value Sampling performs best\n",
    "- Variance is high among all methods \n",
    "- Tabnet Variance is high - including extrem performance/values almost similar to that of integrated gradients"
   ]
  },
  {
   "cell_type": "markdown",
   "metadata": {},
   "source": [
    "#### Active Hergophores on Active Model Predictions\n",
    "\n",
    "- Atomic attribution using various methods"
   ]
  },
  {
   "cell_type": "code",
   "execution_count": 25,
   "metadata": {
    "pycharm": {
     "name": "#%%\n"
    }
   },
   "outputs": [],
   "source": [
    "metrics_names = [\n",
    "    \"metrics.test/mean/avg_score_pred_active/tabnet\",\n",
    "    \"metrics.test/mean/avg_score_pred_active\",\n",
    "    \"metrics.test/mean/avg_score_pred_active/integrated_gradients\",\n",
    "    \"metrics.test/mean/avg_score_pred_active/saliency\",\n",
    "    \"metrics.test/mean/avg_score_pred_active/saliency-absolute\",\n",
    "    \"metrics.test/mean/avg_score_pred_active/input_x_gradient\",\n",
    "    \"metrics.test/mean/avg_score_pred_active/occlusion\",\n",
    "    \"metrics.test/mean/avg_score_pred_active/deeplift\",\n",
    "    \"metrics.test/mean/avg_score_pred_active/shapley_value_sampling\",\n",
    "    \"metrics.test/mean/avg_score_pred_active/noise_tunnel_ig\",\n",
    "]\n",
    "metrics_columns = [c for c in runs.columns if any(c in m for m in metrics_names)]\n",
    "metrics = runs[metrics_columns]\n",
    "\n",
    "metrics.columns = [c.split(\"/\")[-1] for c in metrics.columns]\n",
    "#metrics.describe().T"
   ]
  },
  {
   "cell_type": "markdown",
   "metadata": {},
   "source": [
    "#### Correlations"
   ]
  },
  {
   "cell_type": "code",
   "execution_count": 34,
   "metadata": {
    "pycharm": {
     "name": "#%%\n"
    }
   },
   "outputs": [
    {
     "ename": "NameError",
     "evalue": "name 'sort' is not defined",
     "output_type": "error",
     "traceback": [
      "\u001b[0;31m---------------------------------------------------------------------------\u001b[0m",
      "\u001b[0;31mNameError\u001b[0m                                 Traceback (most recent call last)",
      "\u001b[0;32m<ipython-input-34-775b4c463bce>\u001b[0m in \u001b[0;36m<module>\u001b[0;34m\u001b[0m\n\u001b[1;32m     19\u001b[0m \u001b[0mmetrics\u001b[0m \u001b[0;34m=\u001b[0m \u001b[0mruns\u001b[0m\u001b[0;34m[\u001b[0m\u001b[0mmetrics_columns\u001b[0m\u001b[0;34m]\u001b[0m\u001b[0;34m\u001b[0m\u001b[0;34m\u001b[0m\u001b[0m\n\u001b[1;32m     20\u001b[0m \u001b[0;34m\u001b[0m\u001b[0m\n\u001b[0;32m---> 21\u001b[0;31m \u001b[0mmetrics\u001b[0m\u001b[0;34m.\u001b[0m\u001b[0mcolumns\u001b[0m \u001b[0;34m=\u001b[0m \u001b[0msort\u001b[0m\u001b[0;34m(\u001b[0m\u001b[0;34m[\u001b[0m\u001b[0mc\u001b[0m\u001b[0;34m.\u001b[0m\u001b[0msplit\u001b[0m\u001b[0;34m(\u001b[0m\u001b[0;34m\"/\"\u001b[0m\u001b[0;34m)\u001b[0m\u001b[0;34m[\u001b[0m\u001b[0;34m-\u001b[0m\u001b[0;36m1\u001b[0m\u001b[0;34m]\u001b[0m \u001b[0;32mfor\u001b[0m \u001b[0mc\u001b[0m \u001b[0;32min\u001b[0m \u001b[0mmetrics\u001b[0m\u001b[0;34m.\u001b[0m\u001b[0mcolumns\u001b[0m\u001b[0;34m]\u001b[0m\u001b[0;34m)\u001b[0m\u001b[0;34m\u001b[0m\u001b[0;34m\u001b[0m\u001b[0m\n\u001b[0m\u001b[1;32m     22\u001b[0m \u001b[0mmetrics\u001b[0m\u001b[0;34m.\u001b[0m\u001b[0mcorr\u001b[0m\u001b[0;34m(\u001b[0m\u001b[0mmethod\u001b[0m\u001b[0;34m=\u001b[0m\u001b[0;34m\"kendall\"\u001b[0m\u001b[0;34m)\u001b[0m\u001b[0;34m\u001b[0m\u001b[0;34m\u001b[0m\u001b[0m\n",
      "\u001b[0;31mNameError\u001b[0m: name 'sort' is not defined"
     ]
    }
   ],
   "source": [
    "metrics_names = [\n",
    "    \"metrics.test/AUROC\",\n",
    "    \"metrics.test/loss\",\n",
    "    \"metrics.test/sparsity_mask\"\n",
    "]\n",
    "\n",
    "metrics_names += [\n",
    "    \"metrics.test/mean/avg_score_pred_inactive/tabnet\",\n",
    "    \"metrics.test/mean/avg_score_pred_inactive/integrated_gradients\",\n",
    "    \"metrics.test/mean/avg_score_pred_inactive/saliency\",\n",
    "    \"metrics.test/mean/avg_score_pred_inactive/saliency-absolute\",\n",
    "    \"metrics.test/mean/avg_score_pred_inactive/input_x_gradient\",\n",
    "    \"metrics.test/mean/avg_score_pred_inactive/occlusion\",\n",
    "    \"metrics.test/mean/avg_score_pred_inactive/deeplift\",\n",
    "    \"metrics.test/mean/avg_score_pred_inactive/shapley_value_sampling\",\n",
    "    \"metrics.test/mean/avg_score_pred_inactive/noise_tunnel_ig\",\n",
    "]\n",
    "metrics_columns = [c for c in runs.columns if any(c in m for m in metrics_names)]\n",
    "metrics = runs[metrics_columns]\n",
    "\n",
    "metrics.columns = sort([c.split(\"/\")[-1] for c in metrics.columns])\n",
    "metrics.corr(method=\"kendall\")"
   ]
  },
  {
   "cell_type": "markdown",
   "metadata": {
    "pycharm": {
     "name": "#%% md\n"
    }
   },
   "source": []
  }
 ],
 "metadata": {
  "kernelspec": {
   "display_name": "Python 3",
   "language": "python",
   "name": "python3"
  },
  "language_info": {
   "codemirror_mode": {
    "name": "ipython",
    "version": 3
   },
   "file_extension": ".py",
   "mimetype": "text/x-python",
   "name": "python",
   "nbconvert_exporter": "python",
   "pygments_lexer": "ipython3",
   "version": "3.8.8"
  }
 },
 "nbformat": 4,
 "nbformat_minor": 1
}
