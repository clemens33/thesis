{
 "cells": [
  {
   "cell_type": "code",
   "execution_count": 10,
   "outputs": [],
   "source": [
    "from pytorch_lightning import Trainer\n",
    "\n",
    "from datasets import MolNetClassifierDataModule\n",
    "from tabnet_lightning import TabNetClassifier"
   ],
   "metadata": {
    "collapsed": false,
    "pycharm": {
     "name": "#%%\n"
    }
   }
  },
  {
   "cell_type": "code",
   "execution_count": 11,
   "outputs": [],
   "source": [
    "dm = MolNetClassifierDataModule(\n",
    "    name=\"bbbp\",\n",
    "    batch_size=32,\n",
    "    radius=3,\n",
    "    n_bits=2048\n",
    ")\n",
    "\n",
    "dm.prepare_data()\n",
    "dm.setup()"
   ],
   "metadata": {
    "collapsed": false,
    "pycharm": {
     "name": "#%%\n"
    }
   }
  },
  {
   "cell_type": "code",
   "execution_count": 12,
   "outputs": [
    {
     "name": "stdout",
     "output_type": "stream",
     "text": [
      "number of parameters for classifier: 10007042\n"
     ]
    }
   ],
   "source": [
    "classifier = TabNetClassifier(\n",
    "    input_size=dm.input_size,\n",
    "    feature_size=512,\n",
    "    decision_size=256,\n",
    "    num_classes=len(dm.classes),\n",
    "    nr_layers=2,\n",
    "    nr_shared_layers=2,\n",
    "    nr_steps=4,\n",
    "    gamma=1.0\n",
    ")\n",
    "\n",
    "print(f\"number of parameters for classifier: {sum(p.numel() for p in classifier.parameters() if p.requires_grad)}\")"
   ],
   "metadata": {
    "collapsed": false,
    "pycharm": {
     "name": "#%%\n"
    }
   }
  },
  {
   "cell_type": "code",
   "execution_count": null,
   "outputs": [],
   "source": [
    "trainer = Trainer(gpus=1, max_steps=10)\n",
    "trainer.fit(classifier, dm)"
   ],
   "metadata": {
    "collapsed": false,
    "pycharm": {
     "name": "#%%\n"
    }
   }
  }
 ],
 "metadata": {
  "kernelspec": {
   "display_name": "Python 3",
   "language": "python",
   "name": "python3"
  },
  "language_info": {
   "codemirror_mode": {
    "name": "ipython",
    "version": 2
   },
   "file_extension": ".py",
   "mimetype": "text/x-python",
   "name": "python",
   "nbconvert_exporter": "python",
   "pygments_lexer": "ipython2",
   "version": "2.7.6"
  }
 },
 "nbformat": 4,
 "nbformat_minor": 0
}