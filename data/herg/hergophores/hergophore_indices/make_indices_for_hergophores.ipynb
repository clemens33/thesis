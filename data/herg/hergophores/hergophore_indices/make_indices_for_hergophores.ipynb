{
 "cells": [
  {
   "cell_type": "code",
   "execution_count": 69,
   "metadata": {},
   "outputs": [
    {
     "name": "stderr",
     "output_type": "stream",
     "text": [
      "RDKit WARNING: [16:19:53] Enabling RDKit 2019.09.1 jupyter extensions\n"
     ]
    }
   ],
   "source": [
    "import os\n",
    "import pandas as pd\n",
    "import numpy as np\n",
    "import pickle\n",
    "from rdkit import Chem"
   ]
  },
  {
   "cell_type": "code",
   "execution_count": 56,
   "metadata": {},
   "outputs": [
    {
     "data": {
      "text/plain": [
       "['substructures_inactive_functional_1um.txt',\n",
       " 'substructures_active_functional_10um.txt',\n",
       " 'substructures_inactive_binding_10um.txt',\n",
       " 'substructures_inactive_functional_10um.txt',\n",
       " 'substructures_active_binding_10um.txt',\n",
       " 'substructures_active_binding_1um.txt',\n",
       " 'substructures_active_functional_1um.txt',\n",
       " 'substructures_inactive_binding_1um.txt']"
      ]
     },
     "execution_count": 56,
     "metadata": {},
     "output_type": "execute_result"
    }
   ],
   "source": [
    "# Load Hergophores\n",
    "\n",
    "hergo_groups = list()\n",
    "\n",
    "for root, dirs, files in os.walk(\"..\", topdown=True):\n",
    "    for filename in files:\n",
    "        if 'txt' in filename:\n",
    "            hergo_groups.append(filename)\n",
    "\n",
    "hergo_groups"
   ]
  },
  {
   "cell_type": "code",
   "execution_count": 74,
   "metadata": {},
   "outputs": [
    {
     "name": "stderr",
     "output_type": "stream",
     "text": [
      "RDKit ERROR: [16:22:19] non-ring atom 10 marked aromatic\n",
      "RDKit ERROR: [16:22:19] non-ring atom 10 marked aromatic\n",
      "RDKit ERROR: [16:22:19] non-ring atom 10 marked aromatic\n",
      "RDKit ERROR: [16:22:19] non-ring atom 12 marked aromatic\n",
      "RDKit ERROR: [16:22:19] non-ring atom 11 marked aromatic\n",
      "RDKit ERROR: [16:22:19] non-ring atom 10 marked aromatic\n",
      "RDKit ERROR: [16:22:19] non-ring atom 14 marked aromatic\n",
      "RDKit ERROR: [16:22:19] non-ring atom 10 marked aromatic\n",
      "RDKit ERROR: [16:22:19] non-ring atom 10 marked aromatic\n",
      "RDKit ERROR: [16:22:19] non-ring atom 10 marked aromatic\n",
      "RDKit ERROR: [16:22:19] non-ring atom 10 marked aromatic\n",
      "RDKit ERROR: [16:22:19] non-ring atom 13 marked aromatic\n",
      "RDKit ERROR: [16:22:20] non-ring atom 9 marked aromatic\n",
      "RDKit ERROR: [16:22:20] non-ring atom 10 marked aromatic\n",
      "RDKit ERROR: [16:22:20] non-ring atom 10 marked aromatic\n",
      "RDKit ERROR: [16:22:20] non-ring atom 21 marked aromatic\n",
      "RDKit ERROR: [16:22:20] non-ring atom 21 marked aromatic\n",
      "RDKit ERROR: [16:22:20] non-ring atom 10 marked aromatic\n",
      "RDKit ERROR: [16:22:20] non-ring atom 10 marked aromatic\n",
      "RDKit ERROR: [16:22:20] non-ring atom 10 marked aromatic\n",
      "RDKit ERROR: [16:22:20] non-ring atom 10 marked aromatic\n",
      "RDKit ERROR: [16:22:20] non-ring atom 12 marked aromatic\n",
      "RDKit ERROR: [16:22:20] non-ring atom 12 marked aromatic\n",
      "RDKit ERROR: [16:22:21] non-ring atom 11 marked aromatic\n",
      "RDKit ERROR: [16:22:21] non-ring atom 13 marked aromatic\n",
      "RDKit ERROR: [16:22:21] Explicit valence for atom # 0 N, 4, is greater than permitted\n",
      "RDKit ERROR: [16:22:21] Explicit valence for atom # 0 N, 4, is greater than permitted\n",
      "RDKit ERROR: [16:22:21] Explicit valence for atom # 0 N, 4, is greater than permitted\n",
      "RDKit ERROR: [16:22:21] Explicit valence for atom # 0 N, 4, is greater than permitted\n",
      "RDKit ERROR: [16:22:21] Explicit valence for atom # 0 N, 4, is greater than permitted\n",
      "RDKit ERROR: [16:22:21] Explicit valence for atom # 0 N, 5, is greater than permitted\n"
     ]
    },
    {
     "data": {
      "text/html": [
       "<div>\n",
       "<style scoped>\n",
       "    .dataframe tbody tr th:only-of-type {\n",
       "        vertical-align: middle;\n",
       "    }\n",
       "\n",
       "    .dataframe tbody tr th {\n",
       "        vertical-align: top;\n",
       "    }\n",
       "\n",
       "    .dataframe thead th {\n",
       "        text-align: right;\n",
       "    }\n",
       "</style>\n",
       "<table border=\"1\" class=\"dataframe\">\n",
       "  <thead>\n",
       "    <tr style=\"text-align: right;\">\n",
       "      <th></th>\n",
       "      <th>No.</th>\n",
       "      <th>SMILES</th>\n",
       "      <th>activity (blockers‘ IC50 ≤ 10 μM</th>\n",
       "      <th>decoys‘ IC50 ＞10 μM)</th>\n",
       "      <th>activity (blockers‘ IC50 ≤ 10 μM.1</th>\n",
       "      <th>decoys‘ IC50 ＞20 μM)</th>\n",
       "      <th>activity (blockers‘ IC50 ≤ 10 μM.2</th>\n",
       "      <th>decoys‘ IC50 ＞40 μM)</th>\n",
       "      <th>activity (blockers‘ IC50 ≤ 10 μM.3</th>\n",
       "      <th>decoys‘ IC50 ＞60 μM)</th>\n",
       "      <th>activity (blockers‘ IC50 ≤ 10 μM.4</th>\n",
       "      <th>decoys‘ IC50 ＞80 μM)</th>\n",
       "      <th>activity (blockers‘ IC50 ≤ 10 μM.5</th>\n",
       "      <th>decoys‘ IC50 ＞100 μM)</th>\n",
       "    </tr>\n",
       "  </thead>\n",
       "  <tbody>\n",
       "    <tr>\n",
       "      <th>0</th>\n",
       "      <td>A1</td>\n",
       "      <td>C=1([C@@H](C(=C(C)NC1C)C(OC)=O)c1cc(ccc1)[N+](...</td>\n",
       "      <td>1</td>\n",
       "      <td>1.0</td>\n",
       "      <td>1.0</td>\n",
       "      <td>1.0</td>\n",
       "      <td>1.0</td>\n",
       "      <td>1.0</td>\n",
       "      <td>NaN</td>\n",
       "      <td>NaN</td>\n",
       "      <td>NaN</td>\n",
       "      <td>NaN</td>\n",
       "      <td>NaN</td>\n",
       "      <td>NaN</td>\n",
       "    </tr>\n",
       "    <tr>\n",
       "      <th>1</th>\n",
       "      <td>A2</td>\n",
       "      <td>C1(\\c2c(CCc3c1cccc3)cccc2)=C\\CCN(C)C</td>\n",
       "      <td>1</td>\n",
       "      <td>1.0</td>\n",
       "      <td>1.0</td>\n",
       "      <td>1.0</td>\n",
       "      <td>1.0</td>\n",
       "      <td>1.0</td>\n",
       "      <td>NaN</td>\n",
       "      <td>NaN</td>\n",
       "      <td>NaN</td>\n",
       "      <td>NaN</td>\n",
       "      <td>NaN</td>\n",
       "      <td>NaN</td>\n",
       "    </tr>\n",
       "    <tr>\n",
       "      <th>2</th>\n",
       "      <td>A3</td>\n",
       "      <td>c1(c2c(cccc2)oc1CCCC)C(c1cc(c(OCCN(CC)CC)c(c1)...</td>\n",
       "      <td>1</td>\n",
       "      <td>1.0</td>\n",
       "      <td>1.0</td>\n",
       "      <td>1.0</td>\n",
       "      <td>1.0</td>\n",
       "      <td>1.0</td>\n",
       "      <td>NaN</td>\n",
       "      <td>NaN</td>\n",
       "      <td>NaN</td>\n",
       "      <td>NaN</td>\n",
       "      <td>NaN</td>\n",
       "      <td>NaN</td>\n",
       "    </tr>\n",
       "    <tr>\n",
       "      <th>3</th>\n",
       "      <td>A4</td>\n",
       "      <td>[H][C@H]1CC[C@@H](C#N)C1C(=O)C3CN(C(C)c2ccc(C#...</td>\n",
       "      <td>1</td>\n",
       "      <td>1.0</td>\n",
       "      <td>1.0</td>\n",
       "      <td>1.0</td>\n",
       "      <td>1.0</td>\n",
       "      <td>1.0</td>\n",
       "      <td>NaN</td>\n",
       "      <td>NaN</td>\n",
       "      <td>NaN</td>\n",
       "      <td>NaN</td>\n",
       "      <td>NaN</td>\n",
       "      <td>NaN</td>\n",
       "    </tr>\n",
       "    <tr>\n",
       "      <th>4</th>\n",
       "      <td>A5</td>\n",
       "      <td>[nH]1ccnc1-c2ccc(cc2)OCCCN3CCCCC3</td>\n",
       "      <td>1</td>\n",
       "      <td>1.0</td>\n",
       "      <td>1.0</td>\n",
       "      <td>1.0</td>\n",
       "      <td>1.0</td>\n",
       "      <td>1.0</td>\n",
       "      <td>NaN</td>\n",
       "      <td>NaN</td>\n",
       "      <td>NaN</td>\n",
       "      <td>NaN</td>\n",
       "      <td>NaN</td>\n",
       "      <td>NaN</td>\n",
       "    </tr>\n",
       "    <tr>\n",
       "      <th>...</th>\n",
       "      <td>...</td>\n",
       "      <td>...</td>\n",
       "      <td>...</td>\n",
       "      <td>...</td>\n",
       "      <td>...</td>\n",
       "      <td>...</td>\n",
       "      <td>...</td>\n",
       "      <td>...</td>\n",
       "      <td>...</td>\n",
       "      <td>...</td>\n",
       "      <td>...</td>\n",
       "      <td>...</td>\n",
       "      <td>...</td>\n",
       "      <td>...</td>\n",
       "    </tr>\n",
       "    <tr>\n",
       "      <th>7884</th>\n",
       "      <td>D3532</td>\n",
       "      <td>Clc1cc2c(n(cc2C2CC[NH+](CC2)CCN2CCNC2=O)-c2ccc...</td>\n",
       "      <td>0</td>\n",
       "      <td>0.0</td>\n",
       "      <td>0.0</td>\n",
       "      <td>0.0</td>\n",
       "      <td>0.0</td>\n",
       "      <td>0.0</td>\n",
       "      <td>NaN</td>\n",
       "      <td>NaN</td>\n",
       "      <td>NaN</td>\n",
       "      <td>NaN</td>\n",
       "      <td>NaN</td>\n",
       "      <td>NaN</td>\n",
       "    </tr>\n",
       "    <tr>\n",
       "      <th>7885</th>\n",
       "      <td>D3533</td>\n",
       "      <td>Clc1ccc2[nH0](cc(c2c1)[C@H](CC[N+](CC1)CCN2CCN...</td>\n",
       "      <td>0</td>\n",
       "      <td>0.0</td>\n",
       "      <td>0.0</td>\n",
       "      <td>0.0</td>\n",
       "      <td>0.0</td>\n",
       "      <td>0.0</td>\n",
       "      <td>NaN</td>\n",
       "      <td>NaN</td>\n",
       "      <td>NaN</td>\n",
       "      <td>NaN</td>\n",
       "      <td>NaN</td>\n",
       "      <td>NaN</td>\n",
       "    </tr>\n",
       "    <tr>\n",
       "      <th>7886</th>\n",
       "      <td>D3534</td>\n",
       "      <td>c1(c(cccc1)OC(C)=O)C(O)=O</td>\n",
       "      <td>0</td>\n",
       "      <td>0.0</td>\n",
       "      <td>0.0</td>\n",
       "      <td>0.0</td>\n",
       "      <td>0.0</td>\n",
       "      <td>0.0</td>\n",
       "      <td>NaN</td>\n",
       "      <td>NaN</td>\n",
       "      <td>NaN</td>\n",
       "      <td>NaN</td>\n",
       "      <td>NaN</td>\n",
       "      <td>NaN</td>\n",
       "    </tr>\n",
       "    <tr>\n",
       "      <th>7887</th>\n",
       "      <td>D3535</td>\n",
       "      <td>O(C(=O)C1(CCN(CC1)C)c1ccccc1)CC</td>\n",
       "      <td>0</td>\n",
       "      <td>0.0</td>\n",
       "      <td>0.0</td>\n",
       "      <td>0.0</td>\n",
       "      <td>0.0</td>\n",
       "      <td>0.0</td>\n",
       "      <td>NaN</td>\n",
       "      <td>NaN</td>\n",
       "      <td>NaN</td>\n",
       "      <td>NaN</td>\n",
       "      <td>NaN</td>\n",
       "      <td>NaN</td>\n",
       "    </tr>\n",
       "    <tr>\n",
       "      <th>7888</th>\n",
       "      <td>D3536</td>\n",
       "      <td>c1ccccc1</td>\n",
       "      <td>0</td>\n",
       "      <td>0.0</td>\n",
       "      <td>0.0</td>\n",
       "      <td>0.0</td>\n",
       "      <td>0.0</td>\n",
       "      <td>0.0</td>\n",
       "      <td>NaN</td>\n",
       "      <td>NaN</td>\n",
       "      <td>NaN</td>\n",
       "      <td>NaN</td>\n",
       "      <td>NaN</td>\n",
       "      <td>NaN</td>\n",
       "    </tr>\n",
       "  </tbody>\n",
       "</table>\n",
       "<p>7889 rows × 14 columns</p>\n",
       "</div>"
      ],
      "text/plain": [
       "        No.                                             SMILES  \\\n",
       "0        A1  C=1([C@@H](C(=C(C)NC1C)C(OC)=O)c1cc(ccc1)[N+](...   \n",
       "1        A2               C1(\\c2c(CCc3c1cccc3)cccc2)=C\\CCN(C)C   \n",
       "2        A3  c1(c2c(cccc2)oc1CCCC)C(c1cc(c(OCCN(CC)CC)c(c1)...   \n",
       "3        A4  [H][C@H]1CC[C@@H](C#N)C1C(=O)C3CN(C(C)c2ccc(C#...   \n",
       "4        A5                  [nH]1ccnc1-c2ccc(cc2)OCCCN3CCCCC3   \n",
       "...     ...                                                ...   \n",
       "7884  D3532  Clc1cc2c(n(cc2C2CC[NH+](CC2)CCN2CCNC2=O)-c2ccc...   \n",
       "7885  D3533  Clc1ccc2[nH0](cc(c2c1)[C@H](CC[N+](CC1)CCN2CCN...   \n",
       "7886  D3534                          c1(c(cccc1)OC(C)=O)C(O)=O   \n",
       "7887  D3535                    O(C(=O)C1(CCN(CC1)C)c1ccccc1)CC   \n",
       "7888  D3536                                           c1ccccc1   \n",
       "\n",
       "      activity (blockers‘ IC50 ≤ 10 μM   decoys‘ IC50 ＞10 μM)  \\\n",
       "0                                    1                    1.0   \n",
       "1                                    1                    1.0   \n",
       "2                                    1                    1.0   \n",
       "3                                    1                    1.0   \n",
       "4                                    1                    1.0   \n",
       "...                                ...                    ...   \n",
       "7884                                 0                    0.0   \n",
       "7885                                 0                    0.0   \n",
       "7886                                 0                    0.0   \n",
       "7887                                 0                    0.0   \n",
       "7888                                 0                    0.0   \n",
       "\n",
       "      activity (blockers‘ IC50 ≤ 10 μM.1   decoys‘ IC50 ＞20 μM)  \\\n",
       "0                                    1.0                    1.0   \n",
       "1                                    1.0                    1.0   \n",
       "2                                    1.0                    1.0   \n",
       "3                                    1.0                    1.0   \n",
       "4                                    1.0                    1.0   \n",
       "...                                  ...                    ...   \n",
       "7884                                 0.0                    0.0   \n",
       "7885                                 0.0                    0.0   \n",
       "7886                                 0.0                    0.0   \n",
       "7887                                 0.0                    0.0   \n",
       "7888                                 0.0                    0.0   \n",
       "\n",
       "      activity (blockers‘ IC50 ≤ 10 μM.2   decoys‘ IC50 ＞40 μM)  \\\n",
       "0                                    1.0                    1.0   \n",
       "1                                    1.0                    1.0   \n",
       "2                                    1.0                    1.0   \n",
       "3                                    1.0                    1.0   \n",
       "4                                    1.0                    1.0   \n",
       "...                                  ...                    ...   \n",
       "7884                                 0.0                    0.0   \n",
       "7885                                 0.0                    0.0   \n",
       "7886                                 0.0                    0.0   \n",
       "7887                                 0.0                    0.0   \n",
       "7888                                 0.0                    0.0   \n",
       "\n",
       "      activity (blockers‘ IC50 ≤ 10 μM.3   decoys‘ IC50 ＞60 μM)  \\\n",
       "0                                    NaN                    NaN   \n",
       "1                                    NaN                    NaN   \n",
       "2                                    NaN                    NaN   \n",
       "3                                    NaN                    NaN   \n",
       "4                                    NaN                    NaN   \n",
       "...                                  ...                    ...   \n",
       "7884                                 NaN                    NaN   \n",
       "7885                                 NaN                    NaN   \n",
       "7886                                 NaN                    NaN   \n",
       "7887                                 NaN                    NaN   \n",
       "7888                                 NaN                    NaN   \n",
       "\n",
       "      activity (blockers‘ IC50 ≤ 10 μM.4   decoys‘ IC50 ＞80 μM)  \\\n",
       "0                                    NaN                    NaN   \n",
       "1                                    NaN                    NaN   \n",
       "2                                    NaN                    NaN   \n",
       "3                                    NaN                    NaN   \n",
       "4                                    NaN                    NaN   \n",
       "...                                  ...                    ...   \n",
       "7884                                 NaN                    NaN   \n",
       "7885                                 NaN                    NaN   \n",
       "7886                                 NaN                    NaN   \n",
       "7887                                 NaN                    NaN   \n",
       "7888                                 NaN                    NaN   \n",
       "\n",
       "      activity (blockers‘ IC50 ≤ 10 μM.5   decoys‘ IC50 ＞100 μM)  \n",
       "0                                    NaN                     NaN  \n",
       "1                                    NaN                     NaN  \n",
       "2                                    NaN                     NaN  \n",
       "3                                    NaN                     NaN  \n",
       "4                                    NaN                     NaN  \n",
       "...                                  ...                     ...  \n",
       "7884                                 NaN                     NaN  \n",
       "7885                                 NaN                     NaN  \n",
       "7886                                 NaN                     NaN  \n",
       "7887                                 NaN                     NaN  \n",
       "7888                                 NaN                     NaN  \n",
       "\n",
       "[7889 rows x 14 columns]"
      ]
     },
     "execution_count": 74,
     "metadata": {},
     "output_type": "execute_result"
    }
   ],
   "source": [
    "# Load Data\n",
    "data = pd.read_csv('../../Public_Data/Table_S3.csv')\n",
    "mols = [Chem.MolFromSmiles(smiles) for smiles in data['SMILES'] if Chem.MolFromSmiles(smiles) != None]\n",
    "\n",
    "data\n",
    "\n"
   ]
  },
  {
   "cell_type": "code",
   "execution_count": 75,
   "metadata": {},
   "outputs": [
    {
     "data": {
      "text/plain": [
       "7858"
      ]
     },
     "execution_count": 75,
     "metadata": {},
     "output_type": "execute_result"
    }
   ],
   "source": [
    "len(mols)"
   ]
  },
  {
   "cell_type": "code",
   "execution_count": 112,
   "metadata": {},
   "outputs": [
    {
     "name": "stderr",
     "output_type": "stream",
     "text": [
      "RDKit ERROR: [17:20:14] non-ring atom 10 marked aromatic\n",
      "RDKit ERROR: [17:20:14] non-ring atom 10 marked aromatic\n",
      "RDKit ERROR: [17:20:14] non-ring atom 10 marked aromatic\n",
      "RDKit ERROR: [17:20:14] non-ring atom 12 marked aromatic\n",
      "RDKit ERROR: [17:20:14] non-ring atom 11 marked aromatic\n",
      "RDKit ERROR: [17:20:14] non-ring atom 10 marked aromatic\n",
      "RDKit ERROR: [17:20:14] non-ring atom 14 marked aromatic\n",
      "RDKit ERROR: [17:20:14] non-ring atom 10 marked aromatic\n",
      "RDKit ERROR: [17:20:14] non-ring atom 10 marked aromatic\n",
      "RDKit ERROR: [17:20:14] non-ring atom 10 marked aromatic\n",
      "RDKit ERROR: [17:20:14] non-ring atom 10 marked aromatic\n",
      "RDKit ERROR: [17:20:14] non-ring atom 13 marked aromatic\n",
      "RDKit ERROR: [17:20:14] non-ring atom 9 marked aromatic\n",
      "RDKit ERROR: [17:20:14] non-ring atom 10 marked aromatic\n",
      "RDKit ERROR: [17:20:14] non-ring atom 10 marked aromatic\n",
      "RDKit ERROR: [17:20:14] non-ring atom 21 marked aromatic\n",
      "RDKit ERROR: [17:20:14] non-ring atom 21 marked aromatic\n",
      "RDKit ERROR: [17:20:14] non-ring atom 10 marked aromatic\n",
      "RDKit ERROR: [17:20:14] non-ring atom 10 marked aromatic\n",
      "RDKit ERROR: [17:20:14] non-ring atom 10 marked aromatic\n",
      "RDKit ERROR: [17:20:14] non-ring atom 10 marked aromatic\n",
      "RDKit ERROR: [17:20:14] non-ring atom 12 marked aromatic\n",
      "RDKit ERROR: [17:20:14] non-ring atom 12 marked aromatic\n",
      "RDKit ERROR: [17:20:14] non-ring atom 11 marked aromatic\n",
      "RDKit ERROR: [17:20:14] non-ring atom 13 marked aromatic\n",
      "RDKit ERROR: [17:20:14] Explicit valence for atom # 0 N, 4, is greater than permitted\n",
      "RDKit ERROR: [17:20:15] Explicit valence for atom # 0 N, 4, is greater than permitted\n",
      "RDKit ERROR: [17:20:15] Explicit valence for atom # 0 N, 4, is greater than permitted\n",
      "RDKit ERROR: [17:20:15] Explicit valence for atom # 0 N, 4, is greater than permitted\n",
      "RDKit ERROR: [17:20:15] Explicit valence for atom # 0 N, 4, is greater than permitted\n",
      "RDKit ERROR: [17:20:15] Explicit valence for atom # 0 N, 5, is greater than permitted\n"
     ]
    },
    {
     "name": "stdout",
     "output_type": "stream",
     "text": [
      "7858\n"
     ]
    }
   ],
   "source": [
    "# Store Smiles\n",
    "data_smiles = [smiles for smiles in data['SMILES'] if Chem.MolFromSmiles(smiles) != None]\n",
    "print(len(data_smiles))\n",
    "data_smiles = pd.DataFrame({'smiles': data_smiles})\n",
    "data_smiles.to_csv('../../Public_Data/Smiles/prep_data_smiles.csv')"
   ]
  },
  {
   "cell_type": "code",
   "execution_count": 111,
   "metadata": {},
   "outputs": [
    {
     "data": {
      "text/plain": [
       "7858"
      ]
     },
     "execution_count": 111,
     "metadata": {},
     "output_type": "execute_result"
    }
   ],
   "source": [
    "len(data_smiles)"
   ]
  },
  {
   "cell_type": "code",
   "execution_count": null,
   "metadata": {},
   "outputs": [],
   "source": []
  },
  {
   "cell_type": "code",
   "execution_count": 71,
   "metadata": {},
   "outputs": [
    {
     "data": {
      "text/plain": [
       "7858"
      ]
     },
     "execution_count": 71,
     "metadata": {},
     "output_type": "execute_result"
    }
   ],
   "source": [
    "# Load Splits\n",
    "with open('../../Public_Data/split/split.pkl', 'rb') as fp:\n",
    "    splits = pickle.load(fp)[0]\n",
    "len(splits)"
   ]
  },
  {
   "cell_type": "code",
   "execution_count": 89,
   "metadata": {},
   "outputs": [],
   "source": [
    "hergo_list = list()\n",
    "hergo_group_list = list()\n",
    "\n",
    "for hergo_group in hergo_groups:\n",
    "    hergos = list(pd.read_csv(f'../{hergo_group}', header=None).iloc[:,0])\n",
    "    for hergo in hergos:\n",
    "        hergo_list.append(hergo)\n",
    "        hergo_group_list.append(hergo_group)"
   ]
  },
  {
   "cell_type": "code",
   "execution_count": 85,
   "metadata": {},
   "outputs": [
    {
     "data": {
      "text/plain": [
       "24"
      ]
     },
     "execution_count": 85,
     "metadata": {},
     "output_type": "execute_result"
    }
   ],
   "source": [
    "len(hergo_list)"
   ]
  },
  {
   "cell_type": "code",
   "execution_count": 88,
   "metadata": {},
   "outputs": [
    {
     "data": {
      "text/plain": [
       "(array(['CCNCc1ccccc1', 'CCOc1ccccc1', 'CCc1ccccc1', 'COc1ccccc1',\n",
       "        'Cc1ccccc1', 'NCCc1ccccc1', 'Oc1ccccc1', 'c1cc(C)ccc1C',\n",
       "        'c1ccccc1C(F)(F)F', 'c1ccccc1CCNC', 'c1ccccc1CN2CCCCC2',\n",
       "        'c1ccccc1CNCC', 'c1ccccc1Cc1ccccc1', 'n1ccccc1', 'n1ccccc1C'],\n",
       "       dtype='<U17'), array([1, 1, 3, 1, 1, 4, 2, 1, 2, 1, 1, 1, 1, 2, 2]))"
      ]
     },
     "execution_count": 88,
     "metadata": {},
     "output_type": "execute_result"
    }
   ],
   "source": [
    "np.unique(hergo_list,return_counts = True)"
   ]
  },
  {
   "cell_type": "code",
   "execution_count": 92,
   "metadata": {},
   "outputs": [],
   "source": [
    "hergophores =  pd.DataFrame({'hergo':hergo_list, 'group':hergo_group_list})"
   ]
  },
  {
   "cell_type": "code",
   "execution_count": 94,
   "metadata": {},
   "outputs": [
    {
     "data": {
      "text/html": [
       "<div>\n",
       "<style scoped>\n",
       "    .dataframe tbody tr th:only-of-type {\n",
       "        vertical-align: middle;\n",
       "    }\n",
       "\n",
       "    .dataframe tbody tr th {\n",
       "        vertical-align: top;\n",
       "    }\n",
       "\n",
       "    .dataframe thead th {\n",
       "        text-align: right;\n",
       "    }\n",
       "</style>\n",
       "<table border=\"1\" class=\"dataframe\">\n",
       "  <thead>\n",
       "    <tr style=\"text-align: right;\">\n",
       "      <th></th>\n",
       "      <th>hergo</th>\n",
       "      <th>group</th>\n",
       "    </tr>\n",
       "  </thead>\n",
       "  <tbody>\n",
       "    <tr>\n",
       "      <th>1</th>\n",
       "      <td>CCc1ccccc1</td>\n",
       "      <td>substructures_inactive_functional_1um.txt</td>\n",
       "    </tr>\n",
       "    <tr>\n",
       "      <th>2</th>\n",
       "      <td>CCc1ccccc1</td>\n",
       "      <td>substructures_active_functional_10um.txt</td>\n",
       "    </tr>\n",
       "    <tr>\n",
       "      <th>11</th>\n",
       "      <td>CCc1ccccc1</td>\n",
       "      <td>substructures_inactive_functional_10um.txt</td>\n",
       "    </tr>\n",
       "  </tbody>\n",
       "</table>\n",
       "</div>"
      ],
      "text/plain": [
       "         hergo                                       group\n",
       "1   CCc1ccccc1   substructures_inactive_functional_1um.txt\n",
       "2   CCc1ccccc1    substructures_active_functional_10um.txt\n",
       "11  CCc1ccccc1  substructures_inactive_functional_10um.txt"
      ]
     },
     "execution_count": 94,
     "metadata": {},
     "output_type": "execute_result"
    }
   ],
   "source": [
    "hergophores[hergophores['hergo'] == 'CCc1ccccc1']"
   ]
  },
  {
   "cell_type": "code",
   "execution_count": 95,
   "metadata": {},
   "outputs": [
    {
     "data": {
      "text/html": [
       "<div>\n",
       "<style scoped>\n",
       "    .dataframe tbody tr th:only-of-type {\n",
       "        vertical-align: middle;\n",
       "    }\n",
       "\n",
       "    .dataframe tbody tr th {\n",
       "        vertical-align: top;\n",
       "    }\n",
       "\n",
       "    .dataframe thead th {\n",
       "        text-align: right;\n",
       "    }\n",
       "</style>\n",
       "<table border=\"1\" class=\"dataframe\">\n",
       "  <thead>\n",
       "    <tr style=\"text-align: right;\">\n",
       "      <th></th>\n",
       "      <th>hergo</th>\n",
       "      <th>group</th>\n",
       "    </tr>\n",
       "  </thead>\n",
       "  <tbody>\n",
       "    <tr>\n",
       "      <th>4</th>\n",
       "      <td>NCCc1ccccc1</td>\n",
       "      <td>substructures_active_functional_10um.txt</td>\n",
       "    </tr>\n",
       "    <tr>\n",
       "      <th>8</th>\n",
       "      <td>NCCc1ccccc1</td>\n",
       "      <td>substructures_inactive_binding_10um.txt</td>\n",
       "    </tr>\n",
       "    <tr>\n",
       "      <th>18</th>\n",
       "      <td>NCCc1ccccc1</td>\n",
       "      <td>substructures_active_functional_1um.txt</td>\n",
       "    </tr>\n",
       "    <tr>\n",
       "      <th>22</th>\n",
       "      <td>NCCc1ccccc1</td>\n",
       "      <td>substructures_inactive_binding_1um.txt</td>\n",
       "    </tr>\n",
       "  </tbody>\n",
       "</table>\n",
       "</div>"
      ],
      "text/plain": [
       "          hergo                                     group\n",
       "4   NCCc1ccccc1  substructures_active_functional_10um.txt\n",
       "8   NCCc1ccccc1   substructures_inactive_binding_10um.txt\n",
       "18  NCCc1ccccc1   substructures_active_functional_1um.txt\n",
       "22  NCCc1ccccc1    substructures_inactive_binding_1um.txt"
      ]
     },
     "execution_count": 95,
     "metadata": {},
     "output_type": "execute_result"
    }
   ],
   "source": [
    "hergophores[hergophores['hergo'] == 'NCCc1ccccc1']"
   ]
  },
  {
   "cell_type": "code",
   "execution_count": 96,
   "metadata": {},
   "outputs": [
    {
     "data": {
      "text/html": [
       "<div>\n",
       "<style scoped>\n",
       "    .dataframe tbody tr th:only-of-type {\n",
       "        vertical-align: middle;\n",
       "    }\n",
       "\n",
       "    .dataframe tbody tr th {\n",
       "        vertical-align: top;\n",
       "    }\n",
       "\n",
       "    .dataframe thead th {\n",
       "        text-align: right;\n",
       "    }\n",
       "</style>\n",
       "<table border=\"1\" class=\"dataframe\">\n",
       "  <thead>\n",
       "    <tr style=\"text-align: right;\">\n",
       "      <th></th>\n",
       "      <th>hergo</th>\n",
       "      <th>group</th>\n",
       "    </tr>\n",
       "  </thead>\n",
       "  <tbody>\n",
       "    <tr>\n",
       "      <th>0</th>\n",
       "      <td>Oc1ccccc1</td>\n",
       "      <td>substructures_inactive_functional_1um.txt</td>\n",
       "    </tr>\n",
       "    <tr>\n",
       "      <th>3</th>\n",
       "      <td>Oc1ccccc1</td>\n",
       "      <td>substructures_active_functional_10um.txt</td>\n",
       "    </tr>\n",
       "  </tbody>\n",
       "</table>\n",
       "</div>"
      ],
      "text/plain": [
       "       hergo                                      group\n",
       "0  Oc1ccccc1  substructures_inactive_functional_1um.txt\n",
       "3  Oc1ccccc1   substructures_active_functional_10um.txt"
      ]
     },
     "execution_count": 96,
     "metadata": {},
     "output_type": "execute_result"
    }
   ],
   "source": [
    "hergophores[hergophores['hergo'] == 'Oc1ccccc1']"
   ]
  },
  {
   "cell_type": "code",
   "execution_count": 97,
   "metadata": {},
   "outputs": [
    {
     "data": {
      "text/html": [
       "<div>\n",
       "<style scoped>\n",
       "    .dataframe tbody tr th:only-of-type {\n",
       "        vertical-align: middle;\n",
       "    }\n",
       "\n",
       "    .dataframe tbody tr th {\n",
       "        vertical-align: top;\n",
       "    }\n",
       "\n",
       "    .dataframe thead th {\n",
       "        text-align: right;\n",
       "    }\n",
       "</style>\n",
       "<table border=\"1\" class=\"dataframe\">\n",
       "  <thead>\n",
       "    <tr style=\"text-align: right;\">\n",
       "      <th></th>\n",
       "      <th>hergo</th>\n",
       "      <th>group</th>\n",
       "    </tr>\n",
       "  </thead>\n",
       "  <tbody>\n",
       "    <tr>\n",
       "      <th>16</th>\n",
       "      <td>c1ccccc1C(F)(F)F</td>\n",
       "      <td>substructures_active_binding_1um.txt</td>\n",
       "    </tr>\n",
       "    <tr>\n",
       "      <th>23</th>\n",
       "      <td>c1ccccc1C(F)(F)F</td>\n",
       "      <td>substructures_inactive_binding_1um.txt</td>\n",
       "    </tr>\n",
       "  </tbody>\n",
       "</table>\n",
       "</div>"
      ],
      "text/plain": [
       "               hergo                                   group\n",
       "16  c1ccccc1C(F)(F)F    substructures_active_binding_1um.txt\n",
       "23  c1ccccc1C(F)(F)F  substructures_inactive_binding_1um.txt"
      ]
     },
     "execution_count": 97,
     "metadata": {},
     "output_type": "execute_result"
    }
   ],
   "source": [
    "hergophores[hergophores['hergo'] == 'c1ccccc1C(F)(F)F']"
   ]
  },
  {
   "cell_type": "code",
   "execution_count": 99,
   "metadata": {},
   "outputs": [
    {
     "data": {
      "text/html": [
       "<div>\n",
       "<style scoped>\n",
       "    .dataframe tbody tr th:only-of-type {\n",
       "        vertical-align: middle;\n",
       "    }\n",
       "\n",
       "    .dataframe tbody tr th {\n",
       "        vertical-align: top;\n",
       "    }\n",
       "\n",
       "    .dataframe thead th {\n",
       "        text-align: right;\n",
       "    }\n",
       "</style>\n",
       "<table border=\"1\" class=\"dataframe\">\n",
       "  <thead>\n",
       "    <tr style=\"text-align: right;\">\n",
       "      <th></th>\n",
       "      <th>hergo</th>\n",
       "      <th>group</th>\n",
       "    </tr>\n",
       "  </thead>\n",
       "  <tbody>\n",
       "    <tr>\n",
       "      <th>5</th>\n",
       "      <td>n1ccccc1</td>\n",
       "      <td>substructures_inactive_binding_10um.txt</td>\n",
       "    </tr>\n",
       "    <tr>\n",
       "      <th>19</th>\n",
       "      <td>n1ccccc1</td>\n",
       "      <td>substructures_inactive_binding_1um.txt</td>\n",
       "    </tr>\n",
       "  </tbody>\n",
       "</table>\n",
       "</div>"
      ],
      "text/plain": [
       "       hergo                                    group\n",
       "5   n1ccccc1  substructures_inactive_binding_10um.txt\n",
       "19  n1ccccc1   substructures_inactive_binding_1um.txt"
      ]
     },
     "execution_count": 99,
     "metadata": {},
     "output_type": "execute_result"
    }
   ],
   "source": [
    "hergophores[hergophores['hergo'] == 'n1ccccc1']"
   ]
  },
  {
   "cell_type": "code",
   "execution_count": 100,
   "metadata": {},
   "outputs": [
    {
     "data": {
      "text/html": [
       "<div>\n",
       "<style scoped>\n",
       "    .dataframe tbody tr th:only-of-type {\n",
       "        vertical-align: middle;\n",
       "    }\n",
       "\n",
       "    .dataframe tbody tr th {\n",
       "        vertical-align: top;\n",
       "    }\n",
       "\n",
       "    .dataframe thead th {\n",
       "        text-align: right;\n",
       "    }\n",
       "</style>\n",
       "<table border=\"1\" class=\"dataframe\">\n",
       "  <thead>\n",
       "    <tr style=\"text-align: right;\">\n",
       "      <th></th>\n",
       "      <th>hergo</th>\n",
       "      <th>group</th>\n",
       "    </tr>\n",
       "  </thead>\n",
       "  <tbody>\n",
       "    <tr>\n",
       "      <th>6</th>\n",
       "      <td>n1ccccc1C</td>\n",
       "      <td>substructures_inactive_binding_10um.txt</td>\n",
       "    </tr>\n",
       "    <tr>\n",
       "      <th>21</th>\n",
       "      <td>n1ccccc1C</td>\n",
       "      <td>substructures_inactive_binding_1um.txt</td>\n",
       "    </tr>\n",
       "  </tbody>\n",
       "</table>\n",
       "</div>"
      ],
      "text/plain": [
       "        hergo                                    group\n",
       "6   n1ccccc1C  substructures_inactive_binding_10um.txt\n",
       "21  n1ccccc1C   substructures_inactive_binding_1um.txt"
      ]
     },
     "execution_count": 100,
     "metadata": {},
     "output_type": "execute_result"
    }
   ],
   "source": [
    "hergophores[hergophores['hergo'] == 'n1ccccc1C']"
   ]
  },
  {
   "cell_type": "code",
   "execution_count": 101,
   "metadata": {},
   "outputs": [
    {
     "data": {
      "text/html": [
       "<div>\n",
       "<style scoped>\n",
       "    .dataframe tbody tr th:only-of-type {\n",
       "        vertical-align: middle;\n",
       "    }\n",
       "\n",
       "    .dataframe tbody tr th {\n",
       "        vertical-align: top;\n",
       "    }\n",
       "\n",
       "    .dataframe thead th {\n",
       "        text-align: right;\n",
       "    }\n",
       "</style>\n",
       "<table border=\"1\" class=\"dataframe\">\n",
       "  <thead>\n",
       "    <tr style=\"text-align: right;\">\n",
       "      <th></th>\n",
       "      <th>hergo</th>\n",
       "      <th>group</th>\n",
       "    </tr>\n",
       "  </thead>\n",
       "  <tbody>\n",
       "    <tr>\n",
       "      <th>14</th>\n",
       "      <td>c1ccccc1CCNC</td>\n",
       "      <td>substructures_active_binding_1um.txt</td>\n",
       "    </tr>\n",
       "  </tbody>\n",
       "</table>\n",
       "</div>"
      ],
      "text/plain": [
       "           hergo                                 group\n",
       "14  c1ccccc1CCNC  substructures_active_binding_1um.txt"
      ]
     },
     "execution_count": 101,
     "metadata": {},
     "output_type": "execute_result"
    }
   ],
   "source": [
    "hergophores[hergophores['hergo'] =='c1ccccc1CCNC']"
   ]
  },
  {
   "cell_type": "code",
   "execution_count": 106,
   "metadata": {},
   "outputs": [],
   "source": [
    "hergo_list = list()\n",
    "hergo_group_list = list()\n",
    "\n",
    "for hergo_group in hergo_groups:\n",
    "    hergos = list(pd.read_csv(f'../{hergo_group}', header=None).iloc[:,0])\n",
    "    for hergo in hergos:\n",
    "        if hergo not in ['CCc1ccccc1', 'NCCc1ccccc1', 'Oc1ccccc1', 'c1ccccc1C(F)(F)F']:\n",
    "            hergo_list.append(hergo)\n",
    "            hergo_group_list.append(hergo_group)\n",
    "hergophores =  pd.DataFrame({'hergo':hergo_list, 'group':hergo_group_list})\n",
    "hergophores.to_csv('hergophores.csv')"
   ]
  },
  {
   "cell_type": "code",
   "execution_count": 105,
   "metadata": {},
   "outputs": [
    {
     "data": {
      "text/plain": [
       "['n1ccccc1',\n",
       " 'n1ccccc1C',\n",
       " 'c1cc(C)ccc1C',\n",
       " 'CCNCc1ccccc1',\n",
       " 'Cc1ccccc1',\n",
       " 'CCOc1ccccc1',\n",
       " 'c1ccccc1CNCC',\n",
       " 'c1ccccc1CCNC',\n",
       " 'c1ccccc1CN2CCCCC2',\n",
       " 'c1ccccc1Cc1ccccc1',\n",
       " 'n1ccccc1',\n",
       " 'COc1ccccc1',\n",
       " 'n1ccccc1C']"
      ]
     },
     "execution_count": 105,
     "metadata": {},
     "output_type": "execute_result"
    }
   ],
   "source": [
    "hergo_list"
   ]
  },
  {
   "cell_type": "code",
   "execution_count": 108,
   "metadata": {},
   "outputs": [],
   "source": [
    "row = 0\n",
    "for hergo in hergo_list:\n",
    "    hergo_mol = Chem.MolFromSmiles(hergo)\n",
    "\n",
    "    mol_idx = list()\n",
    "\n",
    "    for idx, m in enumerate(mols):\n",
    "        if m.HasSubstructMatch(hergo_mol) == True:\n",
    "            mol_idx.append(idx)\n",
    "    mol_idx = pd.DataFrame({'idx': mol_idx})\n",
    "\n",
    "    mol_idx.to_csv(f'idx_row_hergophores_{row}.csv')\n",
    "    row += 1"
   ]
  },
  {
   "cell_type": "code",
   "execution_count": null,
   "metadata": {},
   "outputs": [],
   "source": []
  }
 ],
 "metadata": {
  "kernelspec": {
   "display_name": "Python 3",
   "language": "python",
   "name": "python3"
  },
  "language_info": {
   "codemirror_mode": {
    "name": "ipython",
    "version": 3
   },
   "file_extension": ".py",
   "mimetype": "text/x-python",
   "name": "python",
   "nbconvert_exporter": "python",
   "pygments_lexer": "ipython3",
   "version": "3.7.4"
  }
 },
 "nbformat": 4,
 "nbformat_minor": 2
}
