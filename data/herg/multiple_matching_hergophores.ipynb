{
 "cells": [
  {
   "cell_type": "code",
   "execution_count": 31,
   "outputs": [],
   "source": [
    "import pandas as pd\n",
    "from rdkit import Chem\n",
    "from tqdm import tqdm\n",
    "\n",
    "import numpy as np\n",
    "\n",
    "from datasets import Hergophores"
   ],
   "metadata": {
    "collapsed": false,
    "pycharm": {
     "name": "#%%\n"
    }
   }
  },
  {
   "cell_type": "code",
   "execution_count": 32,
   "metadata": {
    "collapsed": true
   },
   "outputs": [],
   "source": [
    "DATA = \"data_filtered.tsv\"\n",
    "\n",
    "df = pd.read_csv(DATA, sep=\"\\t\", dtype=str)\n"
   ]
  },
  {
   "cell_type": "code",
   "execution_count": 33,
   "outputs": [
    {
     "name": "stderr",
     "output_type": "stream",
     "text": [
      "7858it [00:06, 1198.83it/s]\n"
     ]
    }
   ],
   "source": [
    "unique_hergophores, _ = Hergophores.get()\n",
    "\n",
    "matches = np.zeros((len(df), len(unique_hergophores)))\n",
    "atom_match_counts = []\n",
    "\n",
    "for i, smile in tqdm(enumerate(df[\"smiles\"].tolist())):\n",
    "    mol = Chem.MolFromSmiles(smile)\n",
    "    num_atoms = mol.GetNumAtoms()\n",
    "\n",
    "    atom_match_count = np.zeros(num_atoms)\n",
    "\n",
    "    for j, hergophore in enumerate(unique_hergophores):\n",
    "        mol_hergophore = Chem.MolFromSmiles(hergophore)\n",
    "\n",
    "        match = mol.GetSubstructMatch(mol_hergophore)\n",
    "\n",
    "        if match:\n",
    "            matches[i, j] = 1\n",
    "\n",
    "            atom_match = np.array([1 if i in match else 0 for i in range(num_atoms)])\n",
    "            atom_match_count += atom_match\n",
    "\n",
    "    atom_match_counts.append(atom_match_count)\n",
    "\n",
    "N_matches = np.sum(matches, axis=1)\n",
    "df[\"N_matches\"] = N_matches\n",
    "df[\"atom_match_count\"] = atom_match_counts\n",
    "\n",
    "for j, hergophore in enumerate(unique_hergophores):\n",
    "    df[hergophore] = matches[:, j]\n"
   ],
   "metadata": {
    "collapsed": false,
    "pycharm": {
     "name": "#%%\n"
    }
   }
  },
  {
   "cell_type": "code",
   "execution_count": 34,
   "outputs": [],
   "source": [
    "df.to_csv(\"data_filtered_matches.tsv\", index=False, sep=\"\\t\")"
   ],
   "metadata": {
    "collapsed": false,
    "pycharm": {
     "name": "#%%\n"
    }
   }
  },
  {
   "cell_type": "code",
   "execution_count": 35,
   "outputs": [
    {
     "name": "stdout",
     "output_type": "stream",
     "text": [
      "6426\n"
     ]
    }
   ],
   "source": [
    "more_than_one = len(np.where(N_matches > 1)[0])\n",
    "\n",
    "print(more_than_one)\n",
    "\n",
    "\n",
    "\n",
    "\n"
   ],
   "metadata": {
    "collapsed": false,
    "pycharm": {
     "name": "#%%\n"
    }
   }
  }
 ],
 "metadata": {
  "kernelspec": {
   "display_name": "Python 3",
   "language": "python",
   "name": "python3"
  },
  "language_info": {
   "codemirror_mode": {
    "name": "ipython",
    "version": 2
   },
   "file_extension": ".py",
   "mimetype": "text/x-python",
   "name": "python",
   "nbconvert_exporter": "python",
   "pygments_lexer": "ipython2",
   "version": "2.7.6"
  }
 },
 "nbformat": 4,
 "nbformat_minor": 0
}