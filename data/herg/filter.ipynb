{
 "cells": [
  {
   "cell_type": "code",
   "execution_count": 3,
   "metadata": {
    "collapsed": true
   },
   "outputs": [],
   "source": [
    "from rdkit import Chem\n",
    "import pandas as pd"
   ]
  },
  {
   "cell_type": "code",
   "execution_count": 4,
   "outputs": [],
   "source": [
    "DATA = \"data.tsv\"\n",
    "\n",
    "df = pd.read_csv(DATA, sep=\"\\t\", dtype=str)\n"
   ],
   "metadata": {
    "collapsed": false,
    "pycharm": {
     "name": "#%%\n"
    }
   }
  },
  {
   "cell_type": "code",
   "execution_count": 5,
   "outputs": [
    {
     "name": "stderr",
     "output_type": "stream",
     "text": [
      "RDKit ERROR: [16:05:12] non-ring atom 10 marked aromatic\n",
      "RDKit ERROR: [16:05:12] non-ring atom 10 marked aromatic\n",
      "RDKit ERROR: [16:05:12] non-ring atom 10 marked aromatic\n",
      "RDKit ERROR: [16:05:12] non-ring atom 12 marked aromatic\n",
      "RDKit ERROR: [16:05:12] non-ring atom 11 marked aromatic\n",
      "RDKit ERROR: [16:05:12] non-ring atom 10 marked aromatic\n",
      "RDKit ERROR: [16:05:12] non-ring atom 14 marked aromatic\n",
      "RDKit ERROR: [16:05:12] non-ring atom 10 marked aromatic\n",
      "RDKit ERROR: [16:05:12] non-ring atom 10 marked aromatic\n",
      "RDKit ERROR: [16:05:12] non-ring atom 10 marked aromatic\n",
      "RDKit ERROR: [16:05:12] non-ring atom 10 marked aromatic\n",
      "RDKit ERROR: [16:05:12] non-ring atom 13 marked aromatic\n",
      "RDKit ERROR: [16:05:12] non-ring atom 9 marked aromatic\n",
      "RDKit ERROR: [16:05:12] non-ring atom 10 marked aromatic\n",
      "RDKit ERROR: [16:05:12] non-ring atom 10 marked aromatic\n"
     ]
    },
    {
     "name": "stdout",
     "output_type": "stream",
     "text": [
      "could not parse smile Cc1ncoc1c5nnc([s]CCCN4CCc3ccc2nc(C(C)(F)F)oc2c3CC4)n5C\n",
      "could not parse smile Cc1ncoc1c5nnc([s]CCCN4CCc3ccc2nc(C(F)(F)F)oc2c3CC4)n5C\n",
      "could not parse smile Cc6ccc5c(c4nnc([s]CCCN3CCc2nc1ccc(C(F)(F)F)cn1c2CC3)n4C)cccc5n6\n",
      "could not parse smile CCc5nc4c3CCN(CCC[s]c2nnc(c1ocnc1C)n2C)CCc3ccc4o5\n",
      "could not parse smile Cc1ncccc1c5nnc([s]CCCN4CCc3ccc2oc(C(F)(F)F)nc2c3CC4)n5C\n",
      "could not parse smile Cc6ccc5c(c4nnc([s]CCCN3CCc2ccc1nc(C)sc1c2CC3)n4C)cccc5n6\n",
      "could not parse smile CCc5nc4ccc3CCN(CCC[s]c2nnc(c1ocnc1C)n2C)CCc3c4s5\n",
      "could not parse smile Cc1ncoc1c5nnc([s]CCCN4CCc3ccc2oc(C(C)(F)F)nc2c3CC4)n5C\n",
      "could not parse smile Cc6ccc5c(c4nnc([s]CCCN3CCc2ccc1nc(C(C)(F)F)oc1c2CC3)n4C)cccc5n6\n",
      "could not parse smile Cc6ccc5c(c4nnc([s]CCCN3CCc2ccc1oc(C)nc1c2CC3)n4C)cccc5n6\n",
      "could not parse smile Cc6ccc5c(c4nnc([s]CCCN3CCc2nc1ccccn1c2CC3)n4C)cccc5n6\n",
      "could not parse smile Cc6ccc5nc4CCN(CCC[s]c3nnc(c1cccc2nc(C)ccc12)n3C)CCc4n5c6\n",
      "could not parse smile Cc5ccc(c4nnc([s]CCCN3CCc2ccc1oc(C(F)(F)F)nc1c2CC3)n4C)cn5\n",
      "could not parse smile Cc6ccc5c(c4nnc([s]CCCN3CCc2c(Cl)cc1oc(C)nc1c2CC3)n4C)cccc5n6\n",
      "could not parse smile Cc6ccc5c(c4nnc([s]CCCN3CCc2nc1ccc(Cl)cn1c2CC3)n4C)cccc5n6\n"
     ]
    },
    {
     "name": "stderr",
     "output_type": "stream",
     "text": [
      "RDKit ERROR: [16:05:13] non-ring atom 21 marked aromatic\n",
      "RDKit ERROR: [16:05:13] non-ring atom 21 marked aromatic\n",
      "RDKit ERROR: [16:05:13] non-ring atom 10 marked aromatic\n",
      "RDKit ERROR: [16:05:13] non-ring atom 10 marked aromatic\n",
      "RDKit ERROR: [16:05:13] non-ring atom 10 marked aromatic\n",
      "RDKit ERROR: [16:05:13] non-ring atom 10 marked aromatic\n",
      "RDKit ERROR: [16:05:13] non-ring atom 12 marked aromatic\n",
      "RDKit ERROR: [16:05:13] non-ring atom 12 marked aromatic\n"
     ]
    },
    {
     "name": "stdout",
     "output_type": "stream",
     "text": [
      "could not parse smile [H]c5cc2oc(c1cc(C)nn1C)nc2c6CCN(CCC[s]c4nnc(c3ocnc3C)n4C)CCc56\n",
      "could not parse smile [H]c6cc2oc(c1cc(C)nn1C)nc2c7CCN(CCC[s]c5nnc(c3cccc4nc(C)ccc34)n5C)CCc67\n",
      "could not parse smile Cc1ncoc1c5nnc([s]CCCN4CCc3nc2cc(C(F)(F)F)ccn2c3CC4)n5C\n",
      "could not parse smile Cc5nc(C)c(c4nnc([s]CCCN3CCc2ccc1oc(C(F)(F)F)nc1c2CC3)n4C)s5\n",
      "could not parse smile Cc6ccc5c(c4nnc([s]CCCN3CCc2ccc1oc(C(F)(F)C(F)(F)F)nc1c2CC3)n4C)cccc5n6\n",
      "could not parse smile Cc6ccc5c(c4nnc([s]CCCN3CCc2nc1cc(C(F)(F)F)ccn1c2CC3)n4C)cccc5n6\n",
      "could not parse smile Cc6ccn5c4CCN(CCC[s]c3nnc(c1cccc2nc(C)ccc12)n3C)CCc4nc5c6\n",
      "could not parse smile Cn2c(c1ccccc1)nnc2[s]CCCN5CCc4ccc3oc(C(F)(F)F)nc3c4CC5\n"
     ]
    },
    {
     "name": "stderr",
     "output_type": "stream",
     "text": [
      "RDKit ERROR: [16:05:13] non-ring atom 11 marked aromatic\n",
      "RDKit ERROR: [16:05:13] non-ring atom 13 marked aromatic\n",
      "RDKit ERROR: [16:05:13] Explicit valence for atom # 0 N, 4, is greater than permitted\n"
     ]
    },
    {
     "name": "stdout",
     "output_type": "stream",
     "text": [
      "could not parse smile Cc5nc4c3CCN(CCC[s]c2nnc(c1ocnc1C)n2C)CCc3ccc4o5\n",
      "could not parse smile Cc5nc4ccc3CCN(CCC[s]c2nnc(c1ocnc1C)n2C)CCc3c4s5\n",
      "could not parse smile [H][N@]([H])([H])C3CN(c2ccc1nnc(C)n1n2)CCC3c4cc(F)c(F)cc4F\n",
      "could not parse smile [H][N@@]([H])([H])C3CN(c2ccc1nc(C)cc(=O)n1n2)CCC3c4cc(F)c(F)cc4F\n",
      "could not parse smile [H][N@]([H])([H])C(CC(=O)N1CCC[C@H]1C(=O)NCc2ccc(O[C@H](C(=O)O)C(C)C)cc2)Cc3cc(F)ccc3F\n",
      "could not parse smile [H][N@@]([H])([H])C3CN(c2ccn1cnnc1n2)CCC3c4cc(F)c(F)cc4F\n",
      "could not parse smile [H][N@]([H])([H])C3CN(c2ccc1nc(=O)ccn1n2)CCC3c4cc(F)c(F)cc4F\n",
      "could not parse smile [H][N-]([H])([H])[C@H](C(=O)C1CC[C@H](F)C1)[C@@H](C)C3CCC(N(C)C(=O)C2CC2)CC3\n"
     ]
    },
    {
     "name": "stderr",
     "output_type": "stream",
     "text": [
      "RDKit ERROR: [16:05:13] Explicit valence for atom # 0 N, 4, is greater than permitted\n",
      "RDKit ERROR: [16:05:13] Explicit valence for atom # 0 N, 4, is greater than permitted\n",
      "RDKit ERROR: [16:05:13] Explicit valence for atom # 0 N, 4, is greater than permitted\n",
      "RDKit ERROR: [16:05:13] Explicit valence for atom # 0 N, 4, is greater than permitted\n",
      "RDKit ERROR: [16:05:13] Explicit valence for atom # 0 N, 5, is greater than permitted\n"
     ]
    }
   ],
   "source": [
    "def _filter(row) -> bool:\n",
    "\n",
    "    mol = Chem.MolFromSmiles(row[\"smiles\"])\n",
    "\n",
    "    if mol is None:\n",
    "        print(f\"could not parse smile {row['smiles']}\")\n",
    "\n",
    "        return False\n",
    "    else:\n",
    "        return True\n",
    "\n",
    "\n",
    "mask = df.apply(_filter, axis=1)\n",
    "df_filtered = df[mask]"
   ],
   "metadata": {
    "collapsed": false,
    "pycharm": {
     "name": "#%%\n"
    }
   }
  },
  {
   "cell_type": "code",
   "execution_count": 6,
   "outputs": [],
   "source": [
    "df_filtered.to_csv(\"data_filtered.tsv\", index=False, sep=\"\\t\")\n"
   ],
   "metadata": {
    "collapsed": false,
    "pycharm": {
     "name": "#%%\n"
    }
   }
  }
 ],
 "metadata": {
  "kernelspec": {
   "display_name": "Python 3",
   "language": "python",
   "name": "python3"
  },
  "language_info": {
   "codemirror_mode": {
    "name": "ipython",
    "version": 2
   },
   "file_extension": ".py",
   "mimetype": "text/x-python",
   "name": "python",
   "nbconvert_exporter": "python",
   "pygments_lexer": "ipython2",
   "version": "2.7.6"
  }
 },
 "nbformat": 4,
 "nbformat_minor": 0
}